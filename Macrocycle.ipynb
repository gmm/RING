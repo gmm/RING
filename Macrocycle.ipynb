{
 "cells": [
  {
   "cell_type": "code",
   "execution_count": 178,
   "metadata": {},
   "outputs": [],
   "source": [
    "import numpy as np\n",
    "import pandas as pd\n",
    "import matplotlib.pyplot as plt\n",
    "import seaborn as sns\n",
    "from rdkit import Chem\n",
    "from rdkit.Chem import AllChem\n",
    "from rdkit.Chem import rdMolDescriptors\n",
    "from rdkit.Chem import Descriptors\n",
    "import py_rdl\n",
    "import RA"
   ]
  },
  {
   "cell_type": "markdown",
   "metadata": {},
   "source": [
    "# Cremer Pople Puckering Parameter"
   ]
  },
  {
   "cell_type": "code",
   "execution_count": 84,
   "metadata": {},
   "outputs": [],
   "source": [
    "# Five\n",
    "five = pd.read_csv(\"five.csv\")"
   ]
  },
  {
   "cell_type": "code",
   "execution_count": 168,
   "metadata": {},
   "outputs": [],
   "source": [
    "mol = Chem.MolFromSmiles(\"C1CCCCC12CCCCCC2\")"
   ]
  },
  {
   "cell_type": "code",
   "execution_count": 129,
   "metadata": {},
   "outputs": [
    {
     "data": {
      "text/plain": [
       "[(5, 6), (4, 6), (3, 6), (2, 6), (1, 6)]"
      ]
     },
     "execution_count": 129,
     "metadata": {},
     "output_type": "execute_result"
    }
   ],
   "source": [
    "RA.GetRingElement(mol, [5,4,3,2,1])"
   ]
  },
  {
   "cell_type": "code",
   "execution_count": 150,
   "metadata": {},
   "outputs": [],
   "source": [
    "ringatom = Chem.MolFromSmarts(\"[r]\")"
   ]
  },
  {
   "cell_type": "code",
   "execution_count": 176,
   "metadata": {},
   "outputs": [],
   "source": [
    "def GetRingAtomType(mol, ringidx):\n",
    "    \"\"\"\n",
    "    Input:\n",
    "    \n",
    "    mol: rdMol\n",
    "    \n",
    "    ringidx: list\n",
    "    \n",
    "    Return:\n",
    "    \n",
    "    outcome: list\n",
    "    \n",
    "    \"\"\"\n",
    "    ringatom = Chem.MolFromSmarts(\"[R]\")\n",
    "    monocyclicatom = Chem.MolFromSmarts(\"[R1]\")\n",
    "    bicyclicatom = Chem.MolFromSmarts(\"[R2]\")\n",
    "    ringatom_match = [a for x in mol.GetSubstructMatches(ringatom) for a in x]\n",
    "    monocyclic_match = [a for x in mol.GetSubstructMatches(monocyclicatom) for a in x]\n",
    "    bicyclic_match = [a for x in mol.GetSubstructMatches(bicyclicatom) for a in x]\n",
    "    outcome = []\n",
    "    for i in ringidx:\n",
    "        if (i in ringatom_match) and (i in monocyclic_match):\n",
    "            outcome.append(\"M\")\n",
    "        elif (i in ringatom_match) and (i in bicyclic_match):\n",
    "            outcome.append(\"B\")\n",
    "        elif (i in ringatom_match) and (i not in monocyclic_match) and (i not in bicyclic_match):\n",
    "            outcome.append(\"P\")\n",
    "        else:\n",
    "            outcome.append(\"NA\")\n",
    "    return outcome"
   ]
  },
  {
   "cell_type": "code",
   "execution_count": 181,
   "metadata": {},
   "outputs": [
    {
     "data": {
      "text/plain": [
       "[]"
      ]
     },
     "execution_count": 181,
     "metadata": {},
     "output_type": "execute_result"
    }
   ],
   "source": [
    "list(range(2,2))"
   ]
  },
  {
   "cell_type": "code",
   "execution_count": 180,
   "metadata": {},
   "outputs": [
    {
     "data": {
      "text/plain": [
       "[1.0, 1.0, 1.0, 1.0, 1.0, 1.0]"
      ]
     },
     "execution_count": 180,
     "metadata": {},
     "output_type": "execute_result"
    }
   ],
   "source": [
    "[item[1] for item in RA.GetRingBonds(mol, range(6))]"
   ]
  },
  {
   "cell_type": "code",
   "execution_count": 177,
   "metadata": {},
   "outputs": [
    {
     "data": {
      "text/plain": [
       "['M', 'M', 'M', 'M', 'M', 'B', 'M', 'M']"
      ]
     },
     "execution_count": 177,
     "metadata": {},
     "output_type": "execute_result"
    }
   ],
   "source": [
    "GetRingAtomType(mol, list(range(8)))"
   ]
  },
  {
   "cell_type": "code",
   "execution_count": 159,
   "metadata": {},
   "outputs": [
    {
     "data": {
      "text/plain": [
       "((0,), (1,), (2,), (3,), (4,), (5,), (6,), (7,), (8,), (9,), (10,), (11,))"
      ]
     },
     "execution_count": 159,
     "metadata": {},
     "output_type": "execute_result"
    }
   ],
   "source": [
    "mol.GetSubstructMatches(ringatom)"
   ]
  },
  {
   "cell_type": "code",
   "execution_count": 160,
   "metadata": {},
   "outputs": [
    {
     "data": {
      "text/plain": [
       "((0,), (1,), (2,), (3,), (4,), (6,), (7,), (8,), (9,), (10,), (11,))"
      ]
     },
     "execution_count": 160,
     "metadata": {},
     "output_type": "execute_result"
    }
   ],
   "source": [
    "mol.GetSubstructMatches(monocyclicatom)"
   ]
  },
  {
   "cell_type": "code",
   "execution_count": 165,
   "metadata": {},
   "outputs": [
    {
     "data": {
      "text/plain": [
       "((5,),)"
      ]
     },
     "execution_count": 165,
     "metadata": {},
     "output_type": "execute_result"
    }
   ],
   "source": [
    "mol.GetSubstructMatches(bicyclicatom)"
   ]
  },
  {
   "cell_type": "code",
   "execution_count": null,
   "metadata": {},
   "outputs": [],
   "source": []
  },
  {
   "cell_type": "code",
   "execution_count": 87,
   "metadata": {},
   "outputs": [],
   "source": [
    "aromatic = []\n",
    "aliphatic = []\n",
    "for row in five.iterrows():\n",
    "    check = [x==1.5 for x in eval(row[1][2])]\n",
    "    if all(check):\n",
    "        aromatic.append(row[1])\n",
    "    else:\n",
    "        aliphatic.append(row[1])"
   ]
  },
  {
   "cell_type": "code",
   "execution_count": 113,
   "metadata": {},
   "outputs": [],
   "source": [
    "s1 = []\n",
    "s2 = []\n",
    "s3 = []\n",
    "for item in aliphatic:\n",
    "    check = sum(eval(item[2]))\n",
    "    if check==5.5:\n",
    "        tmp = eval(item[1])\n",
    "        s1.append((tmp[0][0],tmp[1][0]))\n",
    "    elif check==6:\n",
    "        tmp = eval(item[1])\n",
    "        s2.append((tmp[0][0],tmp[1][0]))\n",
    "    elif check==5:\n",
    "        tmp = eval(item[1])\n",
    "        s3.append((tmp[0][0],tmp[1][0]))"
   ]
  },
  {
   "cell_type": "code",
   "execution_count": 116,
   "metadata": {},
   "outputs": [
    {
     "data": {
      "text/plain": [
       "<matplotlib.axes._subplots.AxesSubplot at 0x7f705ff0c748>"
      ]
     },
     "execution_count": 116,
     "metadata": {},
     "output_type": "execute_result"
    },
    {
     "data": {
      "image/png": "[encoded data removed]",
      "text/plain": [
       "<Figure size 432x288 with 1 Axes>"
      ]
     },
     "metadata": {
      "needs_background": "light"
     },
     "output_type": "display_data"
    }
   ],
   "source": [
    "pd.DataFrame(s1)[0].hist(bins=50)\n",
    "pd.DataFrame(s2)[0].hist(bins=50)\n",
    "pd.DataFrame(s3)[0].hist(bins=50,alpha=.2)"
   ]
  },
  {
   "cell_type": "code",
   "execution_count": 122,
   "metadata": {},
   "outputs": [
    {
     "data": {
      "text/plain": [
       "<matplotlib.axes._subplots.AxesSubplot at 0x7f705f7a3240>"
      ]
     },
     "execution_count": 122,
     "metadata": {},
     "output_type": "execute_result"
    },
    {
     "data": {
      "image/png": "[encoded data removed]",
      "text/plain": [
       "<Figure size 432x288 with 1 Axes>"
      ]
     },
     "metadata": {
      "needs_background": "light"
     },
     "output_type": "display_data"
    }
   ],
   "source": [
    "#pd.DataFrame(s1)[1].hist(bins=50)\n",
    "#pd.DataFrame(s2)[1].hist(bins=50)\n",
    "pd.DataFrame(s3)[0].hist(bins=100)"
   ]
  },
  {
   "cell_type": "code",
   "execution_count": 101,
   "metadata": {},
   "outputs": [
    {
     "data": {
      "text/plain": [
       "<seaborn.axisgrid.PairGrid at 0x7f7061148940>"
      ]
     },
     "execution_count": 101,
     "metadata": {},
     "output_type": "execute_result"
    },
    {
     "data": {
      "image/png": "[encoded data removed]",
      "text/plain": [
       "<Figure size 360x360 with 6 Axes>"
      ]
     },
     "metadata": {
      "needs_background": "light"
     },
     "output_type": "display_data"
    }
   ],
   "source": [
    "sns.pairplot(pd.DataFrame(s1),plot_kws=dict(s=5), diag_kws=dict(bins=50))"
   ]
  },
  {
   "cell_type": "code",
   "execution_count": 97,
   "metadata": {},
   "outputs": [
    {
     "data": {
      "text/plain": [
       "<seaborn.axisgrid.PairGrid at 0x7f70615cdac8>"
      ]
     },
     "execution_count": 97,
     "metadata": {},
     "output_type": "execute_result"
    },
    {
     "data": {
      "image/png": "[encoded data removed]",
      "text/plain": [
       "<Figure size 360x360 with 6 Axes>"
      ]
     },
     "metadata": {
      "needs_background": "light"
     },
     "output_type": "display_data"
    }
   ],
   "source": [
    "sns.pairplot(pd.DataFrame(single),plot_kws=dict(s=5), diag_kws=dict(bins=50))"
   ]
  },
  {
   "cell_type": "code",
   "execution_count": 94,
   "metadata": {},
   "outputs": [
    {
     "data": {
      "text/plain": [
       "[(0.2848034915079273, -2.292798693308324),\n",
       " (0.33553064266867805, -1.8217251036889979),\n",
       " (0.27776909439803155, 1.8458247392098635),\n",
       " (0.37571555559391645, 0.11763257807879782),\n",
       " (0.1174073027109944, 1.3270958959529875),\n",
       " (0.07458436708832693, -2.0775128595232095),\n",
       " (0.5938530386214393, -2.53960504032057),\n",
       " (0.5115211923585276, -2.381198437802945),\n",
       " (0.3783492850366892, 1.4177473646159897),\n",
       " (0.06881102675687506, 1.942985472342124),\n",
       " (0.3002756847771072, -1.459293226648983),\n",
       " (0.2641582585320819, -0.6629209309091586),\n",
       " (0.365686280496495, -1.4500313166622876),\n",
       " (0.37635153479686656, 1.7359058796004823),\n",
       " (0.37663356587784147, -1.4035115854298885),\n",
       " (0.2646142001413494, 1.2789332469959565),\n",
       " (0.4503804622833438, -1.817537192653416),\n",
       " (0.3776184266989478, -1.0038994231507743),\n",
       " (0.47561121419019936, 0.7926304172378709),\n",
       " (0.15805767585074124, 1.4243156238195593),\n",
       " (0.3005059646122033, 0.8668840749811332),\n",
       " (0.5278201301331735, 0.4310851023023268),\n",
       " (0.08818013426540926, 1.894324380426187),\n",
       " (0.48054581564890414, -0.42814168447066026),\n",
       " (0.14002732034924814, 0.7416625434066446),\n",
       " (0.39322647227757174, -1.3048829464552059),\n",
       " (0.607139235441273, -2.517222955512772),\n",
       " (0.567074809125925, -0.6641061145912722),\n",
       " (0.510626829795035, -2.5212566844887188),\n",
       " (0.20894077295630245, -0.0684680395485499),\n",
       " (0.39499514750069115, -0.6387715373981729),\n",
       " (0.42244724342185996, -3.032211893020283),\n",
       " (0.42190347197811745, -1.3088938791301132),\n",
       " (0.0718138917995626, 0.8445155917286936),\n",
       " (0.4020691876249053, -2.2344884822679103),\n",
       " (0.3866912539965832, -2.626759720933874),\n",
       " (0.31618921835988095, 2.2775403848047864),\n",
       " (0.026207051908154186, -1.4950417518221102),\n",
       " (0.03628874179873827, 2.041795650687482),\n",
       " (0.3696143516791729, -1.1412764675745979),\n",
       " (0.357639146972662, 2.3465171151474404),\n",
       " (0.3561067669550236, 2.6005887191236954),\n",
       " (0.24548295280755741, 3.003507485542947),\n",
       " (0.41664472226164956, -1.9294842646842096),\n",
       " (0.33713734370460346, -1.6452860281180521),\n",
       " (0.36651648976564116, -0.6524956380376984),\n",
       " (0.32263206683888035, 1.2893232646072632),\n",
       " (0.24177348276601385, 1.9561150211229936),\n",
       " (0.04750381666319083, 0.6696960637590441),\n",
       " (0.2752975158097206, -1.0895535731709862),\n",
       " (0.5871260645030861, 1.2921259666043217),\n",
       " (0.590759418273941, 0.6131660312268343),\n",
       " (0.6164531338210342, 1.2924300701894371),\n",
       " (0.6203238218588728, -1.919901874885456),\n",
       " (0.5865888085804131, 1.2928545159759708),\n",
       " (0.5900312812098554, 0.6138330464596278),\n",
       " (0.4468725718047638, 2.3361915683490704),\n",
       " (0.3769320283490125, 2.5218601535682237),\n",
       " (0.317861625962705, 1.9126490299082968),\n",
       " (0.28394553526951, -0.7061682431983713),\n",
       " (0.4068484609538586, 1.6784688893050723),\n",
       " (0.4080699236930477, -0.8787299017579269),\n",
       " (0.40714319344340005, 1.8109467790998932),\n",
       " (0.374482579061351, -2.2082877866156694),\n",
       " (0.04776903545424196, 0.10930792692094421),\n",
       " (0.42724439403768577, 1.1644895621777127),\n",
       " (0.330352584153375, 1.0584794771966974),\n",
       " (0.13708585192480038, 2.5298787378327026),\n",
       " (0.35135343732415486, -2.781377029075485),\n",
       " (0.005986808979780615, 1.9322211189631453),\n",
       " (0.10163382078796279, 1.5092874539456163),\n",
       " (0.21260678087535728, -2.135670391303766),\n",
       " (0.5949993371938251, -2.342003433080204),\n",
       " (0.6099965605349764, 0.509217335124118),\n",
       " (0.2566120779145908, -1.9487037150388766),\n",
       " (0.5918220349393881, -2.367784276385263),\n",
       " (0.610070102712486, 0.5244842335139436),\n",
       " (0.16012730027229685, 1.6575521747243942),\n",
       " (0.06346394407051163, 2.410678030137207),\n",
       " (0.09767411818896483, 2.4581850183075775),\n",
       " (0.39263603624249177, -0.7001250819470901),\n",
       " (0.34507204335120795, 1.025528485289144),\n",
       " (0.4420070100564769, 3.1328844843008636),\n",
       " (0.3873176085522932, -2.214188277852685),\n",
       " (0.3612905621463435, -1.2780623815546706),\n",
       " (0.3677056820007882, -1.7742325076979444),\n",
       " (0.31425268031154635, -1.0628880952254232),\n",
       " (0.3001014162091344, 1.9546581889223529),\n",
       " (0.05446619331213706, 2.5148824903028615),\n",
       " (0.21941580964757976, -1.257004172568705),\n",
       " (0.40450626103909726, 2.0855865524438544),\n",
       " (0.33070848299955535, -1.1713184420672629),\n",
       " (0.5679426478736201, 1.2522202144002157),\n",
       " (0.6038196943132033, -2.5602038714300983),\n",
       " (0.22349545292212775, -1.8056041094745632),\n",
       " (0.27839801628185573, -1.613871138677553),\n",
       " (0.3530006185449785, 0.21565221554167827),\n",
       " (0.3744344102283668, -1.3217128358576333),\n",
       " (0.1537926256808801, -1.8557152183582686),\n",
       " (0.033810800811994376, 2.9802560378731453),\n",
       " (0.5968806537888826, -0.5824391420335924),\n",
       " (0.2657294479064227, 2.2440197223297003),\n",
       " (0.2086438112231765, 1.571231866763179),\n",
       " (0.4409890208505766, -2.7753664533678384),\n",
       " (0.26907423921322676, -0.32528035867623206),\n",
       " (0.22838591634543293, -0.6564719635136759),\n",
       " (0.033834732805809335, -1.2531642405185883),\n",
       " (0.6109347910853631, 2.5275934427385707),\n",
       " (0.5671992089622655, 2.5207843907205247),\n",
       " (0.6227712319717054, 1.8426240766775874),\n",
       " (0.5728388216203527, 2.522654990387759),\n",
       " (0.0584035213601002, -2.8414709415860018),\n",
       " (0.17428510239464154, -1.0286281827261468),\n",
       " (0.36401910161463813, 1.4833002280578536),\n",
       " (0.4030311211645153, 0.07759509714390168),\n",
       " (0.35811790580871283, 2.755502736781683),\n",
       " (0.2011272724812028, -1.3101431389804106),\n",
       " (0.2931291723073444, 0.5834980767452869),\n",
       " (0.29308281117395907, 0.04507287238801893),\n",
       " (0.3045331414991468, -1.9466344906025264),\n",
       " (0.4197212945411594, -3.0314183716802656),\n",
       " (0.10419301551970854, 0.6341349942424556),\n",
       " (0.5051648312394265, -2.076554612412284),\n",
       " (0.4177574746497792, 0.03594960212527537),\n",
       " (0.3645834935949237, -0.2729826693502806),\n",
       " (0.5298108119347741, -2.3848185980851033),\n",
       " (0.5385712646990487, -2.3519474365639264),\n",
       " (0.40683972750962577, -3.1407231554918256),\n",
       " (0.29801983107895275, 1.1004833128433285),\n",
       " (0.37693596406773416, -2.7932013353809775),\n",
       " (0.40703359057654354, 3.0765554285438084),\n",
       " (0.4339036133302089, 1.479913082241603),\n",
       " (0.37480341324263894, -0.5900810821018453),\n",
       " (0.21142282830987186, 1.6697828532948857),\n",
       " (0.3460597246546585, 2.4363073183663944),\n",
       " (0.6255577407984803, 1.8792451250140647),\n",
       " (0.4118436730682489, 2.8755800548986916),\n",
       " (0.2984221511553509, 1.2267851856538305),\n",
       " (0.1975181974862384, -1.7688635397596264),\n",
       " (0.18380984691894, 0.3021827614943826),\n",
       " (0.03375714770056174, 0.29642646040663206),\n",
       " (0.38057267300416364, -0.6374969734449697),\n",
       " (0.2265520996243543, 1.2849449873062584),\n",
       " (0.6631959916898932, -2.936107398287279),\n",
       " (0.5575213831855397, 0.802872110465042),\n",
       " (0.6504896121928293, 1.0210989212639994),\n",
       " (0.3133080809392233, 1.9032016716801696),\n",
       " (0.5557458475591031, -0.09339531906041275),\n",
       " (0.4439861682641203, 1.031406847540529),\n",
       " (0.12326491801410853, 2.067786883232241),\n",
       " (0.13821592039686184, 1.7051951150929845),\n",
       " (0.41731099123368, 0.7523033828181775),\n",
       " (0.4591281054205759, 1.881095856574667),\n",
       " (0.3592829567982522, -2.589281934188864),\n",
       " (0.37566716102810627, -0.5760893438441138),\n",
       " (0.08919227322659243, -1.283428642785229),\n",
       " (0.3747857444631876, 1.5328270203288559),\n",
       " (0.37042783915762084, -0.9258186860768611),\n",
       " (0.23708395861080017, 2.4827048562773695),\n",
       " (0.006419117390170317, -1.5365118497641927),\n",
       " (0.2778850997523815, 1.2694580045404606),\n",
       " (0.31397592230048726, 1.92260929801785),\n",
       " (0.29939339709723034, -1.1840836628842384),\n",
       " (0.2833641046080308, -2.0116515334788754),\n",
       " (0.4139503860058409, 1.8698013237758055),\n",
       " (0.4139640173646808, -1.8626019590659701),\n",
       " (0.41211387216216694, 3.1413142480045746),\n",
       " (0.41265582806696355, -2.533814447359579),\n",
       " (0.4115339326480924, -0.044169530034904946),\n",
       " (0.4140514886002485, -1.8708196676513695),\n",
       " (0.4121683250101487, -0.024755246518793926),\n",
       " (0.41427412775889116, 1.2532073137221063),\n",
       " (0.10717055646393202, 1.4073894376632698),\n",
       " (0.28105013631791, -1.2562448122840142),\n",
       " (0.2501086228570146, -1.3051037708715112),\n",
       " (0.027356633048544434, 1.7025545887470377),\n",
       " (0.3821673700075316, -3.053709591306967),\n",
       " (0.14976415476397686, -3.0870516420179),\n",
       " (0.26591798282297385, 1.2259688033505756),\n",
       " (0.4187608675640955, -3.0620441641254956),\n",
       " (0.34523759992162284, -0.4133018705872148),\n",
       " (0.4326047102050589, -0.2871561294382944),\n",
       " (0.44415995010600023, 3.1176153387900456),\n",
       " (0.16785361771721743, 1.972710312981822),\n",
       " (0.11901071838015226, -1.7361193692068424),\n",
       " (0.3056681092319376, -0.9812429265642851),\n",
       " (0.3357617452430957, 0.7920942132945613),\n",
       " (0.3056414573175484, 0.06286087919609232),\n",
       " (0.4528664230096209, -0.6946270832184951),\n",
       " (0.29866595388698886, -1.3832281768618981),\n",
       " (0.3570502687257715, -1.3682794468532582),\n",
       " (0.3034692759706971, 1.8661925238658514),\n",
       " (0.06691099172154912, 1.8643950688747746),\n",
       " (0.29066602319586343, -1.4689070210249089),\n",
       " (0.23743841717054928, -1.9902817682353322),\n",
       " (0.16641586459743393, 1.7458290372337),\n",
       " (0.3042417332344742, 0.3996802628654285),\n",
       " (0.24439115269435913, 2.898480416994002),\n",
       " (0.3288774236191808, -0.07006956228260824),\n",
       " (0.32894284967934706, -0.9300585188487565),\n",
       " (0.3793895855386008, 0.028861247481338618),\n",
       " (0.40174363006353525, -1.1803726470286147),\n",
       " (0.6221534347848611, 1.9157858609064098),\n",
       " (0.38153340803908176, -3.119209009210915),\n",
       " (0.3744884288861098, -3.083321496505202),\n",
       " (0.2505699818948093, 1.816913960617161),\n",
       " (0.23878355325939038, -1.971574795569377),\n",
       " (0.284279126230111, -1.0321495095725128),\n",
       " (0.44863687219895837, -2.6687192520709506),\n",
       " (0.3807245838818275, -1.229778704768634),\n",
       " (0.45613032649893426, 2.7054962627992762),\n",
       " (0.5837348070051298, 3.0324109524917033),\n",
       " (0.5935210706663656, 0.6137632683283544),\n",
       " (0.24176905445654395, 1.8719400685006298),\n",
       " (0.32020182810011594, -2.5757128085561707),\n",
       " (0.4221717961137159, 0.9702360478129455),\n",
       " (0.30721432135669746, -1.4079355315008282),\n",
       " (0.39723963179024746, 0.4506837491922192),\n",
       " (0.1928410301107947, 1.3492833371874733),\n",
       " (0.4859830212321158, -0.3167636315124467),\n",
       " (0.5136446756738393, -3.0900695920868944),\n",
       " (0.4006677540143193, -0.9908714033482541),\n",
       " (0.37367547477469004, 1.700736303576997),\n",
       " (0.43521474680986005, 2.0562872731527624),\n",
       " (0.424493763730744, -1.583882892866717),\n",
       " (0.1485501033804418, 2.7159802746893984),\n",
       " (0.36993926563163226, -1.7579346237534892),\n",
       " (0.469260697872882, 0.3968098007847123),\n",
       " (0.38876783340942084, -1.6786426089558406),\n",
       " (0.2135312024794933, -1.3460650488176265),\n",
       " (0.41464402390797905, -0.3954830326263306),\n",
       " (0.45854646667664345, 0.8998213468039782),\n",
       " (0.18262072776154648, -1.9745671136889098),\n",
       " (0.3836370966804898, -0.2940185425805475),\n",
       " (0.20331364361283027, -2.4947904872978106),\n",
       " (0.3928498804534926, -0.14631219540999482),\n",
       " (0.28133906075048853, -1.5730841461975495),\n",
       " (0.2876825733417925, 1.475087736151231),\n",
       " (0.5721849527273142, 3.1203347229478733),\n",
       " (0.5865851815922098, 0.6106349972802735),\n",
       " (0.29619300941399407, -0.3374135369533409),\n",
       " (0.48139592662226466, 1.1904465147534082),\n",
       " (0.5821349679579803, 3.0970521846938306),\n",
       " (0.5882964453770166, 0.6281530072439712),\n",
       " (0.323421642592324, -0.6396282272420364),\n",
       " (0.46219750217050143, 0.5022754983576663),\n",
       " (0.21028845901381257, -2.8465232941881142),\n",
       " (0.3535584256515552, 3.1158793404738345),\n",
       " (0.21428612741955783, 2.1412773985023863),\n",
       " (0.054903130023082336, 1.4719392905264377),\n",
       " (0.4671382093492723, 0.38878208713025325),\n",
       " (0.4671532934489824, -2.7521970064991836),\n",
       " (0.4703739676340009, -2.749281478019827),\n",
       " (0.3427345504442724, 1.4918923967051487),\n",
       " (0.38404489101008, -0.23167583784055482),\n",
       " (0.38567600323375, 1.2223372957313612),\n",
       " (0.09548048876316778, -0.8358581547419747),\n",
       " (0.18316274547322334, 2.161891141938375),\n",
       " (0.16195512906949566, -0.014861393139207734),\n",
       " (0.31488547458067423, 1.862025380605493),\n",
       " (0.35229935154739855, -1.512072908353464),\n",
       " (0.2028725359530066, 1.513442700624313),\n",
       " (0.3638447418101292, -0.3189978243286751),\n",
       " (0.33007294307818674, -1.8609252830710001),\n",
       " (0.2226204482921112, -2.824375343790201),\n",
       " (0.2228154010080506, 0.32411206514288693),\n",
       " (0.2287711559458881, -1.4510705576608258),\n",
       " (0.5640758781169659, 2.4994142838260753),\n",
       " (0.5213585820967065, 2.501499929101354),\n",
       " (0.5213926383853897, -0.6398653437585362),\n",
       " (0.5640817933516513, -1.2426941827677156),\n",
       " (0.5978544773184997, -0.6659006583803798),\n",
       " (0.040612005881371205, -0.1395310509387254),\n",
       " (0.5978014166030946, 2.475854650838319),\n",
       " (0.04062243591070541, 1.392951227690492),\n",
       " (0.298058915806685, -1.0532064276165933),\n",
       " (0.31450970486726965, 2.8999969340225733),\n",
       " (0.36693544175465626, -0.6174868454335493),\n",
       " (0.36715750801507374, -0.6154750302153452),\n",
       " (0.1582569556497502, 0.12445383319571547),\n",
       " (0.6291492965112765, 2.500499521290712),\n",
       " (0.22939229051336016, 3.0639373427507834),\n",
       " (0.3204253378617431, 2.7121188785839383),\n",
       " (0.3272644639507458, -1.7127226566341998),\n",
       " (0.2782720618808501, 1.458548243639176),\n",
       " (0.39971586794418623, 1.398180908074171),\n",
       " (0.33843065875216, -1.8068480632821662),\n",
       " (0.03316051542378368, 1.8943421814052448),\n",
       " (0.3363717420269872, 2.0167603080461034),\n",
       " (0.3114675924200873, -1.1449489530449048),\n",
       " (0.3088554205838132, -0.5669461033352082),\n",
       " (0.22461571723479085, -3.095040706797424),\n",
       " (0.3702215491197103, 1.2860201689256952),\n",
       " (0.4628200078473823, -2.153050286633085),\n",
       " (0.38320930805765574, -1.5872432536526226),\n",
       " (0.03833830777717811, 2.1932002134758775),\n",
       " (0.30689680192292706, 2.911418377371278),\n",
       " (0.41502382653930175, 2.5093348191328153),\n",
       " (0.1961876722835782, 1.4728926408162115),\n",
       " (0.34924811333608663, -2.757852758731321),\n",
       " (0.2486861384757125, 1.836179247302509),\n",
       " (0.38737128542139193, 1.4845539308473055),\n",
       " (0.4783848266439147, -0.1274830205851086),\n",
       " (0.47817810027191904, 3.013435034914991),\n",
       " (0.4134154888350602, -2.924281574938521),\n",
       " (0.4052703354108898, -1.1743683435825667),\n",
       " (0.5497577116519958, -2.5029192430166676),\n",
       " (0.11153705478711694, 1.2009282978284945),\n",
       " (0.26280935631029884, -1.5925654783786687),\n",
       " (0.0526062084913258, -2.7902657534777084),\n",
       " (0.2601632826744164, 1.0705213664034416),\n",
       " (0.5069820875090087, 2.4860635289682387),\n",
       " (0.02040018113522724, 0.4507788372470425),\n",
       " (0.2176295841327878, 1.387709537335879),\n",
       " (0.3791282117713969, 0.6814449758452131),\n",
       " (0.2995712866503139, -2.000319175866734),\n",
       " (0.5772098386256511, -0.6787784683312015),\n",
       " (0.08303018370041208, -1.0665623808023392),\n",
       " (0.008394447514117654, -1.508626065132318),\n",
       " (0.33205075738138956, -1.2893912417634539),\n",
       " (0.3052468791635956, 2.141198813562325),\n",
       " (0.4696735517939786, -2.6631084017880777),\n",
       " (0.28628474258781483, -0.42851843265799733),\n",
       " (0.24838023762255956, -1.8834813026704114),\n",
       " (0.28995420419834866, -1.265022177284811),\n",
       " (0.3946309448474199, -1.604722387287105),\n",
       " (0.09599690815294945, -0.7183421385467319),\n",
       " (0.40317254464172303, 1.2001070512177363),\n",
       " (0.4583430858911718, 1.752392323964057),\n",
       " (0.09070442305823438, 0.8199975286813154),\n",
       " (0.2612683844712366, 2.336660860271158),\n",
       " (0.27477017131159315, -0.10692898056538772),\n",
       " (0.4403936465297018, -0.9075830214471444),\n",
       " (0.2922551359408033, -2.0262875619199194),\n",
       " (0.2049259637928679, 1.2102926819944162),\n",
       " (0.32804642058380806, -1.1719932513110858),\n",
       " (0.33585113631222163, -1.0050411146799132),\n",
       " (0.36366413799146335, -1.5662381861995693),\n",
       " (0.41283323456829724, 1.5267101104248781),\n",
       " (0.6389220861218428, -0.00024756079749315693),\n",
       " (0.3881081976471477, -0.5622619483131446),\n",
       " (0.4503130707008207, 0.48839156479310997),\n",
       " (0.23492227441331606, 2.160893027455667),\n",
       " (0.36814416196790367, -0.6018801071607831),\n",
       " (0.529081995875253, 2.480494190973031),\n",
       " (0.5288586956644923, -1.8517044162086056),\n",
       " (0.47658194278386024, -2.792906538981795),\n",
       " (0.3470774712407318, -0.6205092594618346),\n",
       " (0.612027297041759, -1.5947418128172688),\n",
       " (0.596291310456338, -2.6901263519922556),\n",
       " (0.5630690962299167, 1.8720474594402032),\n",
       " (0.5872251212646739, -1.8809953545396119),\n",
       " (0.16866183697019838, 1.602381423647707),\n",
       " (0.3604040119823922, -1.3750382723961985),\n",
       " (0.2957908974514055, -2.4430192514460796),\n",
       " (0.41626562837380965, 0.654062881532543),\n",
       " (0.4561823375832113, 0.5088792118052425),\n",
       " (0.3732128179773557, -2.8313448809425736),\n",
       " (0.4137839489020864, 1.5120935778343119),\n",
       " (0.28879494397104105, 1.2202275408304848),\n",
       " (0.22533752468791718, -1.577963079281728),\n",
       " (0.513760304015818, 1.0328873142656132),\n",
       " (0.14177649748857157, 1.9396879569580505),\n",
       " (0.6210709273108221, -1.2959494344504117),\n",
       " (0.015547224514709555, -2.082522991826589),\n",
       " (0.17398034067279514, -2.7912587106977336),\n",
       " (0.7391917070172244, -1.2739200683215215),\n",
       " (0.48708007094582795, 2.379632246470124),\n",
       " (0.6999527615729343, 1.9375762230172793),\n",
       " (0.6714864991054121, 0.00974727903948433),\n",
       " (0.67473464973721, 0.038386956515587815),\n",
       " (0.1883020819188746, -1.6683571743541017),\n",
       " (0.2749210072055574, 1.378653870451588),\n",
       " (0.6229164394682737, -2.530643984988458),\n",
       " (0.40570479593728165, -1.4909092286841854),\n",
       " (0.13160981679236725, -1.7187590033894842),\n",
       " (0.2733077536554887, 2.589991124592175),\n",
       " (0.39411927301458044, -1.2979652447327752),\n",
       " (0.15791136240626424, -2.3785975482906174),\n",
       " (0.1578893681642108, -2.3793582659587313),\n",
       " (0.08843936393923615, -0.8953620361925625),\n",
       " (0.0022819059910537034, 1.5927912421503094),\n",
       " (0.09696137742564459, 2.236803280101919),\n",
       " (0.021580394010229688, -2.9058379381587742),\n",
       " (0.4335268552045288, 0.08947254155723601),\n",
       " (0.4102475637179421, 2.9469293150112303),\n",
       " (0.5196989776153925, 2.5214775258233324),\n",
       " (0.3371276848408294, 1.4374467129067448),\n",
       " (0.3316671475766609, 2.988239295869112),\n",
       " (0.09972533775305349, 1.5494872968653128),\n",
       " (0.32769151405101216, -1.564041674411282),\n",
       " (0.34241204641879985, 1.2458046446336088),\n",
       " (0.21976755890022873, 1.2137842310022624),\n",
       " (0.01866516683186459, 1.9502061215473672),\n",
       " (0.24566369473161523, 3.1111214392549824),\n",
       " (0.2455463745053127, 3.108954543831449),\n",
       " (0.2475125864959175, 0.004948963934269843),\n",
       " (0.24785610102035163, -0.007929104201077786),\n",
       " (0.42044341452859724, 2.0370246489451787),\n",
       " (0.3025869439601476, -0.9271478762048349),\n",
       " (0.42672188625900237, 0.441039028430174),\n",
       " (0.29955338136653326, -1.4236179660227635),\n",
       " (0.3489877154147574, 1.8921360222326424),\n",
       " (0.38917805548802525, -3.0142755192200776),\n",
       " (0.46684188825384854, 0.8537501506831415),\n",
       " (0.375202027665763, -0.5898630808760279),\n",
       " (0.37418000932571, -0.816897258389711),\n",
       " (0.39094519621462637, -1.0500532126939097),\n",
       " (0.30815937834548673, -0.39299670140088877),\n",
       " (0.097215919334097, -1.5006872613145399),\n",
       " (0.3889358027141919, -3.0705130773387572),\n",
       " (0.5024280836879476, 1.592601883443114),\n",
       " (0.36095941936088033, 1.7482880759676867),\n",
       " (0.35137008526336877, 1.703487793582999),\n",
       " (0.447512114821912, 0.9446866361379963),\n",
       " (0.3562779833722086, -1.3060000041831437),\n",
       " (0.43256291737271707, -2.9994975514647275),\n",
       " (0.3080541307767484, -2.3000448776642695),\n",
       " (0.09756159750246247, -0.766673435985277),\n",
       " (0.3176936025158874, 1.8191907769903326),\n",
       " (0.17437799648172725, -0.4925478859581007),\n",
       " (0.2570636698301742, 2.9359007921064384),\n",
       " (0.3222788878232526, 2.6430900698524047),\n",
       " (0.21235818130527376, -2.93881219756763),\n",
       " (0.19639942848997677, -2.8087904635050083),\n",
       " (0.30691257913700976, 2.46053412377688),\n",
       " (0.3433165908110356, 1.4648394017703608),\n",
       " (0.3794059198265265, 0.7822988211087137),\n",
       " (0.36936383260520766, 1.4359317698238119),\n",
       " (0.287833931379779, 0.9756709928000716),\n",
       " (0.34208956772115645, 2.3477275810802567),\n",
       " (0.07436271684488911, 1.6237681730193765),\n",
       " (0.5008014810549893, -1.8239653653720924),\n",
       " (0.2518453793955514, 2.069020802706028),\n",
       " (0.38985462627584777, 2.361960617651157),\n",
       " (0.2565836345689503, -1.7250680786605546),\n",
       " (0.3839312867661736, -1.8193034388925864),\n",
       " (0.39669456534688563, -0.5727023058974233),\n",
       " (0.4118084800569065, -0.8287157803094856),\n",
       " (0.462272165317795, -2.981328417714526),\n",
       " (0.20962506784340468, 3.0721804417700396),\n",
       " (0.4304829265468731, 0.622653452672825),\n",
       " (0.22633863549943606, -1.2960706666025792),\n",
       " (0.2979440373332193, -2.1250954483481452),\n",
       " (0.2963462629814669, -3.0909874126547843),\n",
       " (0.43412365122011254, -0.5180950060649493),\n",
       " (0.5445580987362552, 1.899980411218837),\n",
       " (0.4540434589570979, 2.6581290681592806),\n",
       " (0.4360110108847659, -1.1929239798309272),\n",
       " (0.5539014904558506, -0.6252973793668241),\n",
       " (0.3798060107924356, 2.933654998720913),\n",
       " (0.2273166760003565, 0.06867278889151837),\n",
       " (0.12082409689304688, -2.9055152041833985),\n",
       " (0.12139838992871153, 0.23474598634034818),\n",
       " (0.4297674617808968, 0.9445624306621643),\n",
       " (0.3856861293004812, -2.3702416896053426),\n",
       " (0.29302471458202206, 1.7518139256073118),\n",
       " (0.02804656455876986, -1.254802685789992),\n",
       " (0.37254145533627986, 1.0687490611995036),\n",
       " (0.3855247612599011, -3.082760683721855),\n",
       " (0.1834329296053762, -2.9957262549802235),\n",
       " (0.32092241479792094, -2.3159184842872143),\n",
       " (0.05497855788312824, 1.8485088329265265),\n",
       " (0.4022101434490157, 2.235819975946265),\n",
       " (0.3437526686886718, 3.1310469594272097),\n",
       " (0.11482023178591168, 2.847198104917071),\n",
       " (0.20825700457124705, 3.0592823721871265),\n",
       " (0.41177916026775013, -1.6416516042116187),\n",
       " (0.40187587535246766, 2.4173358798205467),\n",
       " (0.42636590374055783, -0.9434358157931276),\n",
       " (0.3782102332794929, 1.2367864157686597),\n",
       " (0.15881852060364332, 2.2414711837216243),\n",
       " (0.0402618123328204, 0.3664132382193442),\n",
       " (0.24114613771282586, -1.4692301325985164),\n",
       " (0.18923373259132023, 0.31461573089993017),\n",
       " (0.19110392362024936, 0.33708418749309516),\n",
       " (0.19229018190781774, 0.3138600977793644),\n",
       " (0.19018931961548666, 0.3409494482938037),\n",
       " (0.1823966655005271, -1.1896292700621143),\n",
       " (0.42440090153057947, 1.893904441339438),\n",
       " (0.48328837212749737, 2.244324931928458),\n",
       " (0.24956101559157517, 1.2423767863448023),\n",
       " (0.3694685176043323, -1.8691350800455497),\n",
       " (0.38585103160689876, -1.39847443586131),\n",
       " (0.3859810936054393, 1.744064964878806),\n",
       " (0.2825038112547109, 2.4962228114184795),\n",
       " (0.2342600109945173, -1.9500321089475594),\n",
       " (0.5959410342176396, -2.4899847259865404),\n",
       " (0.48993535241897873, 1.3926403820250202),\n",
       " (0.37209531069874996, 0.2809717712349302),\n",
       " (0.4796575017081218, 1.5451318126501428),\n",
       " (0.5678491126961303, -0.6521290182979516),\n",
       " (0.5811710951345628, 2.4356954957005907),\n",
       " (0.2879850876960159, -2.0334504177110824),\n",
       " (0.5679456240296612, -0.7032919449230469),\n",
       " (0.13772629324763852, -1.6590664885470272),\n",
       " (0.3990286999181308, 1.379447641161614),\n",
       " (0.3151718857174489, -1.7573359426499913),\n",
       " (0.22682369811343323, 1.9186590661267047),\n",
       " (0.02513319981727334, -0.08449194801931457),\n",
       " (0.402404624304747, -0.9445396372017363),\n",
       " (0.18177084740931715, -1.7543058805126142),\n",
       " (0.08350099091164984, -1.4182885782649357),\n",
       " (0.5599578296126012, -2.5163056535551562),\n",
       " (0.3280200288730706, 1.902152896288079),\n",
       " (0.6154656610504463, -1.7276235305634857),\n",
       " (0.5385928721824403, 1.1304996222685593),\n",
       " (0.3435567603133911, -3.016289207382087),\n",
       " (0.14510526691544895, 0.4834034054877142),\n",
       " (0.33719505298379915, -1.3058395413749595),\n",
       " (0.026832835241606526, -0.7189009162199146),\n",
       " (0.15196982391986813, 0.6414844388278608),\n",
       " (0.15208069992640422, 0.6353662340498215),\n",
       " (0.1554975633586025, 0.028215045805493378),\n",
       " (0.0071668469652021545, -1.9105668886851075),\n",
       " (0.47151586867888917, 1.6210603227782645),\n",
       " (0.48616257549232444, 0.3136434775687469),\n",
       " (0.7132515845846172, 0.613681075554262),\n",
       " (0.7226799931310094, 1.3139402605953174),\n",
       " (0.7249460306072215, -2.4925296007211823),\n",
       " (0.7209669260767232, -0.6890715457095974),\n",
       " (0.7267815444671318, -2.4897405497448646),\n",
       " (0.718028099751661, -0.6922802911025598),\n",
       " (0.7195196551327447, -2.525451928815992),\n",
       " (0.7189346250124634, -0.6560831257767195),\n",
       " (0.46480212413461347, -2.770124467446529),\n",
       " (0.3819962153439331, 1.7556383900515344),\n",
       " (0.5742569526689297, -1.3228810725807427),\n",
       " (0.30015040521883796, 2.3803945660109296),\n",
       " (0.2996365073588363, -0.7600208590487556),\n",
       " (0.08890121421245688, -1.394100695169924),\n",
       " (0.3099817732649864, 1.3804708072561795),\n",
       " (0.03336806749558701, -0.7144515714773316),\n",
       " (0.31641028125886916, -0.1659335355245036),\n",
       " (0.0005652220056023214, 2.812694691042884),\n",
       " (0.21123433439504813, -1.3954385088103392),\n",
       " (0.22278457885395206, 1.8599492500813475),\n",
       " (0.3847709723123686, 2.0399278795505187),\n",
       " (0.3399450598035774, -0.7462397258027365),\n",
       " (0.4163130251522464, -1.6855717445704057),\n",
       " (0.06854765864419074, 1.2426340363783959),\n",
       " (0.3701752582609692, -1.030689369761062),\n",
       " (0.31170227338648687, -0.5848824342041233),\n",
       " (0.108536679282113, 2.2415488892327113),\n",
       " (0.059562835491904706, 1.3698399603161353),\n",
       " (0.37117044321181153, 1.8282636943726824),\n",
       " (0.3717748257877104, -0.36178487457205194),\n",
       " (0.3830196815187201, -1.5917239563961632),\n",
       " (0.5575805552639, 1.758281373938207),\n",
       " (0.391931758971035, 1.7001395188379638),\n",
       " (0.5717004093755851, -2.529324937608709),\n",
       " (0.007611619975511775, 0.48335487769503876),\n",
       " (0.16528391221117514, -2.4887216586517185),\n",
       " (0.6285658788507652, 0.6955498770299453),\n",
       " (0.5729263316020201, 1.2519998381396789),\n",
       " (0.3815177474798424, -1.4861893493188538),\n",
       " (0.03438087745709046, 0.2162451211624388),\n",
       " (0.31399374748191405, -2.064443143781144),\n",
       " (0.2329853014885757, 0.00011223885430902866),\n",
       " (0.2905908830339103, -1.9996703149823898),\n",
       " (0.3819515728713517, 1.1048061505924047),\n",
       " (0.2971750589590372, -1.635770922577459),\n",
       " (0.4418354044185401, 0.7757828170971122),\n",
       " (0.2029999681128296, 1.1737494544602145),\n",
       " (0.47743545704030754, 2.300383637145816),\n",
       " (0.5655668932064241, 2.6360629127270405),\n",
       " (0.3326259800927009, 0.0684962377470405),\n",
       " (0.5719364888739781, -0.585394053966062),\n",
       " (0.4313926180909704, -0.8321344212516595),\n",
       " (0.3977530817936531, 0.4851334784531897),\n",
       " (0.05207530401060803, -1.6432827619035755),\n",
       " (0.32491129840592065, -2.0444893121530954),\n",
       " (0.3546769248325239, 1.8019375290696114),\n",
       " (0.20343626143138313, -1.7449491085681401),\n",
       " (0.42025952844082565, 1.3145589667158728),\n",
       " (0.4178383215324073, 1.6304944257288838),\n",
       " (0.3107007419069334, -0.6036842030094911),\n",
       " (0.3210627097046856, 2.643836311130452),\n",
       " (0.4408852834836737, -0.6775758786734812),\n",
       " (0.37401284463846585, 3.0818558100663096),\n",
       " (0.3735357707997872, -2.4516171994070675),\n",
       " (0.410591832102001, -1.2084759242619465),\n",
       " (0.3098917939020569, -1.251725060519666),\n",
       " (0.375799617994072, 1.7857356244148097),\n",
       " (0.24327130662195043, 2.5711991134633254),\n",
       " (0.12011157976177972, -0.252236032816521),\n",
       " (0.05430282231780454, 1.5888735746154432),\n",
       " (0.5287843036227067, -0.6338381768573031),\n",
       " (0.4598957526037187, -1.765560597546112),\n",
       " (0.4514730167194514, -0.9768753604457876),\n",
       " (0.38957626353958885, -0.9485149879442791),\n",
       " (0.3911961916156571, 1.9026964989656114),\n",
       " (0.3672334882748181, 2.4228438287982685),\n",
       " (0.5743425428224602, 2.4979183048011593),\n",
       " (0.5889803479820991, -2.4999133422572943),\n",
       " (0.4092757438170865, -3.0217169494243845),\n",
       " (0.4788878765230657, 0.6282810992554154),\n",
       " (0.3689203379719708, 2.9612466793789762),\n",
       " (0.44126980183777215, 2.011943536322487),\n",
       " (0.4158565782645684, -2.6380255514448736),\n",
       " (0.4304570904841703, 1.9300634601601316),\n",
       " (0.3318448679472945, -0.5511972536574338),\n",
       " (0.4493806455665039, -1.9374927791131606),\n",
       " (0.36812222011263923, -0.6607169251339887),\n",
       " (0.4998145290461911, -2.652600850058628),\n",
       " (0.43615041251667674, -1.9877212471124737),\n",
       " (0.4362785917317465, -1.9885033617617132),\n",
       " (0.2192880503808187, -1.2775325343173363),\n",
       " (0.33224216669456214, 1.7067069008966054),\n",
       " (0.40946164616601843, 1.399755478039483),\n",
       " (0.0012619338216633205, 2.508602736149856),\n",
       " (0.35172448838197373, 0.8211923388604188),\n",
       " (0.46698583216680745, 0.6276545434997876),\n",
       " (0.5935662528167163, -0.32635778774087504),\n",
       " (0.46498289119790126, -2.1603966577715132),\n",
       " (0.48184850850967675, 0.29575808617184896),\n",
       " (0.4848038271626015, 0.6577815158663222),\n",
       " (0.3479707794144119, -2.1155784672157405),\n",
       " (0.13510986379173762, 1.361537295736339),\n",
       " (0.08993804869304872, 1.0642449622588568),\n",
       " (0.3551751919532727, -1.480672812295751),\n",
       " (0.2466317433143891, -2.038971587235783),\n",
       " (0.04244164897341038, 2.0605972260450494),\n",
       " (0.3899887644998987, -2.2444143073711627),\n",
       " (0.5685473099753201, 2.627056511022034),\n",
       " (0.5961821072401007, -2.4296336564369563),\n",
       " (0.4534364573263465, -0.4686710248742307),\n",
       " (0.30673188832211123, -2.38652176101845),\n",
       " (0.3683995371209239, -1.7831919212489125),\n",
       " (0.3707403671998778, -0.8668880035852524),\n",
       " (0.3884307469419559, -0.8791137709328117),\n",
       " (0.2908099304740167, -2.0794248040391308),\n",
       " (0.30089072173913406, 0.9183512987741083),\n",
       " (0.42101866964334517, 1.1732672317915247),\n",
       " (0.30733367907512193, 1.9389609239426098),\n",
       " (0.3051915073735753, -0.2894965684850579),\n",
       " (0.31507993297737724, -0.5429502456060654),\n",
       " (0.40038099658862064, 2.713179801940562),\n",
       " (0.05912528437825619, -0.29521196416749296),\n",
       " (0.37824771255072204, 1.8207890681266004),\n",
       " (0.08831798152040389, 1.7475347145457962),\n",
       " (0.3961508878696507, -1.4866417863101857),\n",
       " (0.3778578497602791, 1.6490315618180793),\n",
       " (0.3038967068111003, 2.0630105604156372),\n",
       " (0.5890315829917371, -2.376371034716158),\n",
       " (0.5942583154866655, 0.5550297230518151),\n",
       " (0.35660275891901116, 1.071783751546552),\n",
       " (0.5885102108400185, -2.470156704344005),\n",
       " (0.5887775737882721, 0.625484135382867),\n",
       " (0.27205562961415497, -1.5074915913637283),\n",
       " (0.5854515541703637, 0.7488632212303088),\n",
       " (0.5936376608815873, -2.5767039149889666),\n",
       " (0.3582511716489874, -2.5396777665860366),\n",
       " (0.37874164040902575, 2.3089189427971433),\n",
       " (0.14334833590915022, -1.0678505658591564),\n",
       " (0.5046962823360057, 1.718537422569154),\n",
       " (0.4311288401543015, -0.9865631252028548),\n",
       " (0.0896421140114887, -2.6961171329944307),\n",
       " (0.3796670053472742, 0.9427596764396924),\n",
       " (0.3823560746751924, 1.6482811778765538),\n",
       " (0.38206254875752027, -1.0204265984939573),\n",
       " (0.3659398111641019, 1.9583257129953593),\n",
       " (0.20166808992335347, 1.364698999088154),\n",
       " (0.6132417664930644, 3.0961426237088125),\n",
       " (0.5836629542972106, 0.06326609880389907),\n",
       " (0.03375482088062251, -2.278070553367579),\n",
       " (0.37982608008312096, 2.1989484749781636),\n",
       " (0.42141509814588823, 1.1779316013518961),\n",
       " (0.04322491529253453, 0.7682771106828554),\n",
       " (0.40614105550203955, 1.0349745210923273),\n",
       " (0.402842120560231, -2.1782745902716623),\n",
       " (0.3516390348206517, 2.2327750989747166),\n",
       " (0.57216663015508, 0.7357921910580196),\n",
       " (0.576400648506624, 1.2767242924082767),\n",
       " (0.3948810391004651, 2.822441073961651),\n",
       " (0.29345728629486023, 1.7489579349534572),\n",
       " (0.35559521082049067, 2.140861444309556),\n",
       " (0.1499922757426474, 1.683540853940286),\n",
       " (0.343219028867394, -1.4073107964584417),\n",
       " (0.03684222380545723, -2.220348909686944),\n",
       " (0.3856224279713645, 1.228821716802994),\n",
       " (0.43502619074721594, 0.7473281230545332),\n",
       " (0.3593239845799208, 2.201322667090916),\n",
       " (0.3814848302056235, 2.4376316471764534),\n",
       " (0.3806566796761096, 0.3192165964718773),\n",
       " (0.4224089002611778, -2.72112822659101),\n",
       " (0.35878228808693546, -0.10859110777523835),\n",
       " (0.3754489254195878, -1.1675489866343776),\n",
       " (0.1581382753384455, -0.5286672534197036),\n",
       " (0.2902467518414889, 1.7201069913308884),\n",
       " (0.4207025510358996, -2.5073859189383705),\n",
       " (0.3436153916520602, 1.0259377996684027),\n",
       " (0.3508277429089293, 1.8966415266318315),\n",
       " (0.39855915960112237, 1.9000886641858041),\n",
       " (0.1643882837580217, -2.827727942109839),\n",
       " (0.1647145138040505, 0.31504604383623624),\n",
       " (0.3414755267501702, 2.8374934071888758),\n",
       " (0.0026938081398765593, 1.0101248340988311),\n",
       " (0.23249797946469333, -1.3242792454610999),\n",
       " (0.20364259476637267, -0.6808321755815812),\n",
       " (0.24098294666721976, 0.600253191694065),\n",
       " (0.40806191988289486, 0.7620236785269839),\n",
       " (0.5119526924555673, 3.0097677720971574),\n",
       " (0.4190182416657481, -2.3822613103169816),\n",
       " (0.34950655132720826, 1.9547246675551033),\n",
       " (0.34723193514567263, 2.118783574996221),\n",
       " (0.29433243171333, -2.1032991891768447),\n",
       " (0.47157225362625, 0.851918786938781),\n",
       " (0.18045576055309456, -1.57759854006311),\n",
       " (0.4772934647684165, 1.876727498384389),\n",
       " (0.16581874391521215, 1.992200471777111),\n",
       " (0.35814140293437813, -1.8180466536252784),\n",
       " (0.15318377284817244, 2.2504269649165747),\n",
       " (0.12338279096092548, 1.3136434238189245),\n",
       " (0.045660059166606676, 1.0588399268168212),\n",
       " (0.20087590739446046, -2.0370251929590193),\n",
       " (0.46713078805490943, 0.9454127486047134),\n",
       " (0.47433330474370183, 1.9468490063256356),\n",
       " (0.04679763631692086, -0.0026541206596010086),\n",
       " (0.3731507358823609, -0.8883486840709433),\n",
       " (0.1663812638248309, -1.758142758484036),\n",
       " (0.11992289387846955, -1.0402562499227377),\n",
       " (0.21463341023400298, -1.3892745540923002),\n",
       " (0.15291205101284996, 1.5033413067855463),\n",
       " (0.3055282405528691, 0.05647677585043708),\n",
       " (0.30958217159494955, 1.299838811722332),\n",
       " (0.23793440402995658, -1.744812776654647),\n",
       " (0.053710346830384975, -0.9911708557214266),\n",
       " (0.16089180663475697, -3.1212395813329596),\n",
       " (0.3741142328531063, 1.8456752859358456),\n",
       " (0.2900902177416107, 0.15170203908557098),\n",
       " (0.5911181862463166, -1.2653961395259135),\n",
       " (0.2796720364100022, 1.7327587276570988),\n",
       " (0.0765541683564618, -1.6656759648401884),\n",
       " (0.3593052014446741, -1.0340429123446349),\n",
       " (0.3022491902675156, 0.3535162276238318),\n",
       " (0.23075996434311047, 2.180598335086364),\n",
       " (0.39874172082986137, -2.0328971876344193),\n",
       " (0.4615459572467374, -1.7275702791016154),\n",
       " (0.5569404664040638, 1.257180913825911),\n",
       " (0.5543333040454393, 0.5998138317688004),\n",
       " (0.5535989041447965, 1.2284262161291286),\n",
       " (0.555762787757315, 0.6177218206939405),\n",
       " (0.11153068196871861, -2.7696927756484575),\n",
       " (0.11149933848216999, -2.7696927501625597),\n",
       " (0.5239221473474224, 0.3128280361837381),\n",
       " (0.46327871278216665, -2.369852731119448),\n",
       " (0.2094336914728118, -1.7456863519416408),\n",
       " (0.4158562817911336, 0.7553509545744057),\n",
       " (0.38554678627783306, 2.10419866364739),\n",
       " (0.37182139591257296, 2.102677371303313),\n",
       " (0.1672483575644003, -2.7738975328717435),\n",
       " (0.37196945849578783, -0.9479037431617721),\n",
       " (0.35313187087448655, 2.2329477676448843),\n",
       " (0.3134506644458195, -0.6998883500544627),\n",
       " (0.30482620700354424, -3.059067214282346),\n",
       " (0.36224886991548894, 2.425006987052208),\n",
       " (0.36046893280514414, 1.922371261351421),\n",
       " (0.37433997806345376, 2.212349062654132),\n",
       " (0.38914933537349716, -1.3803346576702884),\n",
       " (0.33086227149869374, 1.47723546149213),\n",
       " (0.3937998469961238, 2.997705025894031),\n",
       " (0.4571990157072612, 0.5426128306506661),\n",
       " (0.40857854761465334, 2.1422568866922385),\n",
       " (0.49206355421655285, 2.3561167995164674),\n",
       " (0.2973244482027246, -0.5745615109718197),\n",
       " (0.2971686919947357, -0.5710191967641285),\n",
       " (0.342716719912851, 2.1630700217209036),\n",
       " (0.1291904476499278, 2.022094065916278),\n",
       " (0.5641814734685864, 2.504115388487953),\n",
       " (0.28468593629434946, 1.7367051542923135),\n",
       " (0.033443061579796075, 0.5475550916616996),\n",
       " (0.35334100546729347, 0.9165868829974549),\n",
       " (0.03276162079318298, 1.7719702162082418),\n",
       " (0.4258971105437043, 0.8403735978306793),\n",
       " (0.010465045774404488, -1.1956932930176838),\n",
       " (0.31642291684635043, -1.7438636109914014),\n",
       " (0.05238717241509499, 1.2946923509214507),\n",
       " (0.3911219340147522, -2.702063335879877),\n",
       " (0.3550427144304257, -0.7318369424979945),\n",
       " (0.07972597007876923, -1.5709212285140228),\n",
       " (0.6203839893291174, -0.6800701427380247),\n",
       " (0.33408985234101984, -1.315920753463696),\n",
       " (0.19645637908171493, -1.139560145791571),\n",
       " (0.2958208735299468, -1.3810372931246595),\n",
       " (0.32042535731334315, -1.0941196007432765),\n",
       " (0.5850847177739187, 3.071331264204323),\n",
       " (0.5845816934866944, 0.5995775747125683),\n",
       " (0.17221901924348224, -0.9451124910611648),\n",
       " (0.3477085585173887, 2.1258993968835815),\n",
       " (0.3378999107391966, -1.6490661467373942),\n",
       " (0.33370646040947644, 2.198933286122855),\n",
       " (0.4040310394401439, -2.544644053145934),\n",
       " (0.3758428552900451, 1.6095012550142518),\n",
       " (0.06978876530762129, -2.2969058831239892),\n",
       " (0.42878566338703, -0.38478024615797934),\n",
       " (0.3221678656093022, -0.6926713068297073),\n",
       " (0.31066143672243085, 2.5737773246967492),\n",
       " (0.40148424806460553, 2.569618553835989),\n",
       " (0.39608600956232687, 2.1563002858139337),\n",
       " (0.5859341508667739, 0.7193577334654849),\n",
       " (0.5950613419478319, -2.5350686804508227),\n",
       " (0.43792419035963276, 1.4977191210579512),\n",
       " (0.47312135813728967, 0.5671765722673364),\n",
       " (0.3894351702426939, 2.4992064831612715),\n",
       " (0.36548422638351447, -1.5491380305327922),\n",
       " (0.4717816723265561, -1.4430518779040247),\n",
       " (0.4062533532827617, 2.3518785743787864),\n",
       " (0.43118184664248616, 1.8743863752291412),\n",
       " (0.20601817162128747, -1.5272368670341732),\n",
       " (0.369979554543974, -1.170428064566183),\n",
       " (0.35152477523294745, -0.17285168418007935),\n",
       " (0.4480943963021329, 0.10413807902177157),\n",
       " (0.35502159750541773, 0.48738191959337474),\n",
       " (0.4423122174486458, 0.6592408645120031),\n",
       " (0.3299145102225738, -1.9481217250391925),\n",
       " (0.06342920235231038, -1.1062714987538345),\n",
       " (0.03593933932692817, 2.5355080527886957),\n",
       " (0.4468481526271418, 0.7414661266110862),\n",
       " (0.22957888153170378, -1.457842257139232),\n",
       " (0.28407046949124953, -1.3259834923108027),\n",
       " (0.3346623760855454, -0.1271834437384138),\n",
       " (0.4086206526696754, -2.960729925587894),\n",
       " (0.8430831416956334, 0.6271961788274525),\n",
       " (0.463025940993878, -2.1506665380708667),\n",
       " (0.3310315140559506, -2.991162960933985),\n",
       " (0.338487055997224, 2.8578986464935627),\n",
       " (0.3004953179379231, -1.8636661116776758),\n",
       " (0.3314956171006581, -2.253606573802771),\n",
       " (0.580315295501128, -2.342149505197273),\n",
       " (0.5968174898914412, 0.5360412520393094),\n",
       " (0.3714068876955517, -1.3850529130098312),\n",
       " (0.28734860183436245, 0.6274019543257133),\n",
       " (0.3361376596829451, 1.8987913293235925),\n",
       " (0.4093426872905891, -1.8399714546796753),\n",
       " (0.26920489560857663, -2.259311226878352),\n",
       " (0.5899462879911889, -2.5209324293144575),\n",
       " (0.6039829167738852, 0.5856763709815931),\n",
       " (0.32983399844844163, 1.8123334061724707),\n",
       " (0.3081939102266907, -2.525962263374379),\n",
       " (0.00042325751995361913, 2.3756146049613704),\n",
       " (0.5008411000441091, 2.022889300053666),\n",
       " (0.5144136744453993, -1.1092134261640652),\n",
       " (0.3543288950124083, -1.8867254491497525),\n",
       " (0.33840046337236135, -1.3024155601598095),\n",
       " (0.4693988224897286, 0.8994996177351268),\n",
       " (0.4423459166456208, 2.3269024576395525),\n",
       " (0.1142849740299599, -0.8548973427418057),\n",
       " (0.16538476217576645, -0.9633809964959874),\n",
       " (0.4087552043143365, -0.045695160718268034),\n",
       " (0.11332762071527333, -0.04960138183651838),\n",
       " (0.3321246186143918, -1.96322157443606),\n",
       " (0.3834079472843695, 0.9025483699232894),\n",
       " (0.5447315209311441, -2.4946049846194285),\n",
       " (0.6222828357005108, -0.6992515849618038),\n",
       " (0.34851006787687, -1.520956089145885),\n",
       " (0.06282765360365775, 1.218359752167929),\n",
       " (0.06342111836565961, 1.1343910772741015),\n",
       " (0.3011916195688122, -1.252858734852523),\n",
       " (0.007311897400115997, 1.045003739541632),\n",
       " (0.3936536444802088, 0.40745307404160436),\n",
       " (0.45082193120823516, -1.4823508026897911),\n",
       " (0.11929906239185485, 2.4059673901613565),\n",
       " (0.20266141884902694, 2.246264922274488),\n",
       " (0.33310032508964443, 1.2731419309800835),\n",
       " (0.09040813202005091, -1.036371154378809),\n",
       " (0.41768703694887926, -1.455705144262437),\n",
       " (0.12646104246860052, -0.8917189470348345),\n",
       " (0.3481068569018581, -2.958182442041197),\n",
       " (0.2426605229194486, 1.9522360753014658),\n",
       " (0.33153977335683604, -2.874386826590962),\n",
       " (0.023623328929547636, 1.502906135094727),\n",
       " (0.16745869270350464, 1.5133322079244946),\n",
       " (0.28804246116612947, 0.11963159316515255),\n",
       " (0.3691720900105134, -0.8005198417500186),\n",
       " (0.5812886403901396, 0.7426728167003445),\n",
       " (0.5920961629097363, 1.1696679463733115),\n",
       " (0.7126016732989674, 2.57262400637963),\n",
       " (0.7639553017178315, -0.7236044336302653),\n",
       " (0.06428028124471416, -0.5612312078085997),\n",
       " (0.32813301257897426, 1.1174676522311942),\n",
       " (0.10519816121051521, 1.4488587642577637),\n",
       " (0.05004744174482084, -2.2161967314535964),\n",
       " (0.3596848378351003, 0.018654279102302097),\n",
       " (0.1996054721023296, 3.0753242784686203),\n",
       " (0.3796462627391621, 1.5458765539011998),\n",
       " (0.6036418499624845, 1.3243563281732582),\n",
       " (0.5255866334080869, -2.480823548720044),\n",
       " (0.07261540793719408, -1.3397759176999111),\n",
       " (0.28145747099459845, 1.8439433388979016),\n",
       " (0.29615780014051246, 1.390050768852736),\n",
       " (0.6135419449366603, -1.2236697700975034),\n",
       " (0.38640630729364667, 1.4676134059171801),\n",
       " (0.37502716948913506, 1.8642858526256125),\n",
       " (0.14277859154191044, -2.827262514761977),\n",
       " (0.3963041055673859, -0.16221571745033567),\n",
       " (0.5657537094890625, -0.6155013414243902),\n",
       " (0.5656746805766428, -0.6152173489656815),\n",
       " (0.20995853307597465, 1.7873761457507191),\n",
       " (0.2575228532715474, -0.38243269292875537),\n",
       " (0.44343088271916076, 2.3751667394178155),\n",
       " (0.16077227756601675, 1.2388908849796403),\n",
       " (0.35156612657792374, -2.3539116253168872),\n",
       " (0.48686432184799056, 1.8658825146525801),\n",
       " (0.5371382605131342, 0.14483969396951832),\n",
       " (0.4033728676522745, -2.6014189475907825),\n",
       " (0.49343543722454997, 0.03412035073873909),\n",
       " (0.5275098829627805, 2.991292215145104),\n",
       " (0.39889548684437587, 0.7568441018297477),\n",
       " (0.00042532180905265965, -0.6006588353305367),\n",
       " (0.38547617986334526, -1.95256038765731),\n",
       " (0.273784774000522, -0.430116755827818),\n",
       " (0.30885561969871794, 2.40732378824721),\n",
       " (0.22381872252067908, -0.08297208663447057),\n",
       " (0.300161401691927, -1.9709289837169897),\n",
       " (0.10849958597902275, 2.3034355848479118),\n",
       " (0.22003113271101132, -1.4665821790128726),\n",
       " (0.4563279617458803, -1.2867255136536084),\n",
       " (0.27354412562058456, -0.8531083872843204),\n",
       " (0.5662512313466213, 1.2440203765295097),\n",
       " (0.6023788429138605, -2.550839208556057),\n",
       " (0.37137863592357856, 1.208362974795416),\n",
       " (0.3731970733222645, -2.818300550892738),\n",
       " (0.6295965206119636, -2.3912575993307423),\n",
       " (0.3365984528650951, -1.225930230575428),\n",
       " (0.2710713493944587, 1.2541768845161603),\n",
       " (0.07802188176520336, -1.6590452468716408),\n",
       " (0.36259839968727975, 2.4556945014792673),\n",
       " (0.43580227553164724, 2.803836148620997),\n",
       " (0.26827631635760163, -1.9179946023125658),\n",
       " (0.44696735420713885, 3.0723471474978146),\n",
       " (0.4010785027302122, 2.8218633536068776),\n",
       " (0.08573220243251839, -0.8122403339746035),\n",
       " (0.3617716917782341, -1.095262993470865),\n",
       " (0.395084481000391, -0.9519799332022756),\n",
       " (0.36090207252331996, -1.3999885589212102),\n",
       " (0.19331749928655187, 0.3114125508562498),\n",
       " (0.4381585789436651, 0.3304337104865197),\n",
       " (0.3800912786565652, -2.1348856555096813),\n",
       " (0.2812115886158497, -1.9289931600570305),\n",
       " (0.14128777666454823, 2.600411979146389),\n",
       " (0.3261660782186797, -0.8692493714383341),\n",
       " (0.0005480751755879151, 2.6899439776668075),\n",
       " (0.2945171732777199, 2.389347651073355),\n",
       " (0.185267745849215, 1.3002431466177473),\n",
       " (0.018637889841511348, -0.45232551438092966),\n",
       " (0.403763161709749, -1.5681479013948723),\n",
       " (0.4209149123886506, -1.7392005173591816),\n",
       " (0.3342187875200631, 1.7013413411133378),\n",
       " (0.42465768725067043, 1.1517388833480269),\n",
       " (0.33665544891612764, -0.0837149229926422),\n",
       " (0.41672891974519866, -1.7073009284056444),\n",
       " (0.5893354342055297, -2.5466035783414798),\n",
       " (0.5892206148295345, -2.54665760866109),\n",
       " (0.32196992981728156, 2.2914505413025545),\n",
       " (0.3017491477961577, 2.0209275864280425),\n",
       " (0.311949592382681, -1.4126964241153757),\n",
       " (0.3057206146603813, -2.388657368323794),\n",
       " (0.04553643753640446, -3.0659066046589962),\n",
       " (0.43327747570715985, 1.261519935700642),\n",
       " (0.6161520712611281, -2.4758085821418194),\n",
       " (0.573359280841087, 0.5602685622498017),\n",
       " (0.4324468144191741, -2.832586573591707),\n",
       " (0.34931143783405694, 1.729656466494024),\n",
       " (0.11027026243165658, -1.584034085017479),\n",
       " (0.19141817306555586, -2.8283168994351167),\n",
       " (0.19200461340581532, -2.8288483453798756),\n",
       " (0.2650564840943889, -1.1956343252957375),\n",
       " (0.08978395400101889, -0.20459137524408302),\n",
       " (0.3645424796276271, -1.2932674765615382),\n",
       " (0.5860188787782954, 1.5829363940535623),\n",
       " (0.5578006467641997, -1.1987417186907654),\n",
       " (0.578074736244161, 1.7841037183611557),\n",
       " (0.21886788516873534, -0.8596973859959566),\n",
       " (0.32231355041556764, 2.9984726810846025),\n",
       " (0.24792176743354302, -3.0672166661855393),\n",
       " (0.42924154717229107, 2.521196418971076),\n",
       " (0.02762646685402528, -2.4320065853021005),\n",
       " (0.3594808517235261, -1.9660444760667335),\n",
       " (0.3342143728022057, -1.990883711652152),\n",
       " (0.4153219557330682, 1.2440418190676132),\n",
       " (0.26360583158552975, 1.2260506331304213),\n",
       " (0.20787259953026732, 2.703875003938188),\n",
       " (0.25493261467792017, 1.4873167209502223),\n",
       " (0.6074694211945288, 0.5199565648306831),\n",
       " (0.5987431263621358, 2.99478948362106),\n",
       " (0.4124313816229578, -1.5123352610502119),\n",
       " (0.34652776085593984, -2.374424223598982),\n",
       " (0.4157849095516051, -0.5359062033716198),\n",
       " (0.46011467486925356, 0.22564972262514438),\n",
       " (0.3085784335766729, -2.805374373542794),\n",
       " (0.3688805028898823, 1.7189884437103384),\n",
       " (0.18693883965715968, -1.6626831069816177),\n",
       " (0.28652168747182233, -1.2713121481828042),\n",
       " (0.492697854233172, 0.6046558707334254),\n",
       " (0.2744495383232756, -1.5243917163011742),\n",
       " (0.40574323861056927, 2.365624125768845),\n",
       " (0.32338554365619354, 3.081437295775844),\n",
       " (0.25958975219882074, -1.3869653990302773),\n",
       " (0.016788159203163844, -1.6519271847440933),\n",
       " ...]"
      ]
     },
     "execution_count": 94,
     "metadata": {},
     "output_type": "execute_result"
    }
   ],
   "source": [
    "single"
   ]
  },
  {
   "cell_type": "markdown",
   "metadata": {},
   "source": [
    "# Substituents Orientation"
   ]
  },
  {
   "cell_type": "code",
   "execution_count": null,
   "metadata": {},
   "outputs": [],
   "source": []
  },
  {
   "cell_type": "code",
   "execution_count": 15,
   "metadata": {},
   "outputs": [],
   "source": [
    "fluorine = pd.read_csv(\"data/halogen_f.csv\")\n",
    "chlorine = pd.read_csv(\"data/halogen_cl.csv\")\n",
    "bromine = pd.read_csv(\"data/halogen_br.csv\")\n",
    "iodine = pd.read_csv(\"data/halogen_i.csv\")\n",
    "amine0 = pd.read_csv(\"data/amine_0.csv\")\n",
    "amine1 = pd.read_csv(\"data/amine_1.csv\")\n",
    "amine2 = pd.read_csv(\"data/amine_2.csv\")\n",
    "alkoxy = pd.read_csv(\"data/alkoxy.csv\")\n",
    "hydroxyl = pd.read_csv(\"data/hydroxyl.csv\")\n",
    "methyl = pd.read_csv(\"data/methyl.csv\")\n",
    "ketone = pd.read_csv(\"data/ketone.csv\")\n",
    "carboxylicacid_0 = pd.read_csv(\"data/carboxylicacid_0.csv\")\n",
    "carboxylicacid_1 = pd.read_csv(\"data/carboxylicacid_1.csv\")\n",
    "carboxylicacid_2 = pd.read_csv(\"data/carboxylicacid_2.csv\")\n",
    "carbonyl = pd.read_csv(\"data/carbonyl.csv\")"
   ]
  },
  {
   "cell_type": "code",
   "execution_count": 31,
   "metadata": {},
   "outputs": [
    {
     "data": {
      "image/png": "[encoded data removed]",
      "text/plain": [
       "<Figure size 432x288 with 1 Axes>"
      ]
     },
     "metadata": {
      "needs_background": "light"
     },
     "output_type": "display_data"
    }
   ],
   "source": [
    "# Substituents\n",
    "aliphatic = [len(aliphatic_fluorine),len(aliphatic_chlorine),len(aliphatic_bromine), len(aliphatic_iodine), \n",
    "             len(aliphatic_alkoxy), len(aliphatic_hydroxyl), len(aliphatic_amine0),len(aliphatic_amine1)\n",
    "             ,len(aliphatic_amine2), len(aliphatic_methyl), len(aliphatic_ketone), len(aliphatic_carbonyl), len(aliphatic_carboxylicacid0),\n",
    "            len(aliphatic_carboxylicacid1)]\n",
    "aromatic = [len(aromatic_fluorine),len(aromatic_chlorine),len(aromatic_bromine), len(aromatic_iodine), \n",
    "           len(aromatic_alkoxy), len(aromatic_hydroxyl), len(aromatic_amine0), len(aromatic_amine1),\n",
    "            len(aromatic_amine2), len(aromatic_methyl), len(aromatic_ketone), len(aromatic_carbonyl), len(aromatic_carboxylicacid0),\n",
    "           len(aromatic_carboxylicacid1)]\n",
    "types = [\"aliphatic\"]*len(aliphatic) + [\"aromatic\"]*len(aromatic)\n",
    "name = [\"Fluorine\",\"Chlorine\",\"Bromine\",\"Iodine\",\"Alkoxy\",\"Hydroxyl\",\"Tertiary Amine\",\"Secondary Amine\",\"Primary Amine\", \n",
    "        \"Methyl\", \"Ketone\", \"Carbonyl\",\"Carboxylic Acid\", \"Carboxylic\"]\n",
    "\n",
    "dataframe = pd.DataFrame({\"Types\":types,\"Count\":aliphatic+aromatic, \"Name\":name*2})\n",
    "\n",
    "sns.barplot(x=\"Name\",y=\"Count\", data=dataframe, hue=\"Types\")\n",
    "plt.yscale(\"log\")\n",
    "plt.xticks(range(len(name)), name, rotation='vertical')\n",
    "plt.xlabel(\"Substituents\",size=15)\n",
    "plt.ylabel(\"Count\",size=15)\n",
    "plt.legend()\n",
    "plt.show()"
   ]
  },
  {
   "cell_type": "code",
   "execution_count": 27,
   "metadata": {},
   "outputs": [],
   "source": [
    "aromatic_fluorine = fluorine[fluorine[\"aromatic\"]==True]\n",
    "aliphatic_fluorine = fluorine[fluorine[\"aromatic\"]==False]\n",
    "\n",
    "aromatic_chlorine = chlorine[chlorine[\"aromatic\"]==True]\n",
    "aliphatic_chlorine = chlorine[chlorine[\"aromatic\"]==False]\n",
    "\n",
    "aromatic_bromine = bromine[bromine[\"aromatic\"]==True]\n",
    "aliphatic_bromine = bromine[bromine[\"aromatic\"]==False]\n",
    "\n",
    "aromatic_iodine = iodine[iodine[\"aromatic\"]==True]\n",
    "aliphatic_iodine = iodine[iodine[\"aromatic\"]==False]\n",
    "\n",
    "aromatic_methyl = methyl[methyl[\"aromatic\"]==True]\n",
    "aliphatic_methyl = methyl[methyl[\"aromatic\"]==False]\n",
    "\n",
    "aromatic_alkoxy = alkoxy[alkoxy[\"aromatic\"]==True]\n",
    "aliphatic_alkoxy = alkoxy[alkoxy[\"aromatic\"]==False]\n",
    "\n",
    "aromatic_hydroxyl = hydroxyl[hydroxyl[\"aromatic\"]==True]\n",
    "aliphatic_hydroxyl = hydroxyl[hydroxyl[\"aromatic\"]==False]\n",
    "\n",
    "aromatic_amine0 = amine0[amine0[\"aromatic\"]==True]\n",
    "aliphatic_amine0 = amine0[amine0[\"aromatic\"]==False]\n",
    "\n",
    "aromatic_amine1 = amine1[amine1[\"aromatic\"]==True]\n",
    "aliphatic_amine1 = amine1[amine1[\"aromatic\"]==False]\n",
    "\n",
    "aromatic_amine2 = amine2[amine2[\"aromatic\"]==True]\n",
    "aliphatic_amine2 = amine2[amine2[\"aromatic\"]==False]\n",
    "\n",
    "aromatic_ketone = ketone[ketone[\"aromatic\"]==True]\n",
    "aliphatic_ketone = ketone[ketone[\"aromatic\"]==False]\n",
    "\n",
    "aromatic_carbonyl = carbonyl[carbonyl[\"aromatic\"]==True]\n",
    "aliphatic_carbonyl = carbonyl[carbonyl[\"aromatic\"]==False]\n",
    "\n",
    "aromatic_carboxylicacid0 = carboxylicacid_0[carboxylicacid_0[\"aromatic\"]==True]\n",
    "aliphatic_carboxylicacid0 = carboxylicacid_0[carboxylicacid_0[\"aromatic\"]==False]\n",
    "\n",
    "aromatic_carboxylicacid1 = carboxylicacid_1[carboxylicacid_1[\"aromatic\"]==True]\n",
    "aliphatic_carboxylicacid1 = carboxylicacid_1[carboxylicacid_1[\"aromatic\"]==False]"
   ]
  },
  {
   "cell_type": "code",
   "execution_count": 129,
   "metadata": {},
   "outputs": [
    {
     "data": {
      "image/png": "[encoded data removed]",
      "text/plain": [
       "<Figure size 432x288 with 1 Axes>"
      ]
     },
     "metadata": {
      "needs_background": "light"
     },
     "output_type": "display_data"
    },
    {
     "data": {
      "image/png": "[encoded data removed]",
      "text/plain": [
       "<Figure size 432x288 with 1 Axes>"
      ]
     },
     "metadata": {
      "needs_background": "light"
     },
     "output_type": "display_data"
    },
    {
     "data": {
      "image/png": "[encoded data removed]",
      "text/plain": [
       "<Figure size 432x288 with 1 Axes>"
      ]
     },
     "metadata": {
      "needs_background": "light"
     },
     "output_type": "display_data"
    },
    {
     "data": {
      "image/png": "[encoded data removed]",
      "text/plain": [
       "<Figure size 432x288 with 1 Axes>"
      ]
     },
     "metadata": {
      "needs_background": "light"
     },
     "output_type": "display_data"
    }
   ],
   "source": [
    "plt.hist(aromatic_fluorine[\"alpha\"],bins=50)\n",
    "plt.xlim(0,np.pi)\n",
    "plt.xticks([0,np.pi/4, np.pi/2, 3*np.pi/4,np.pi],labels=[r\"0\",r\"$\\pi/4$\",r\"$\\pi/2$\",r\"$3\\pi/4$\",r\"$\\pi$\"])\n",
    "plt.ylim(0,1800)\n",
    "plt.xlabel(r\"$\\alpha$\",size=15)\n",
    "plt.ylabel(\"Count\",size=15)\n",
    "plt.savefig(\"aromatic_flurine_alpha.pdf\",dpi=150,bbox_inches=\"tight\")\n",
    "plt.show()\n",
    "\n",
    "plt.hist(aromatic_chlorine[\"alpha\"],bins=50)\n",
    "plt.xlim(0,np.pi)\n",
    "plt.xticks([0,np.pi/4, np.pi/2, 3*np.pi/4,np.pi],labels=[r\"0\",r\"$\\pi/4$\",r\"$\\pi/2$\",r\"$3\\pi/4$\",r\"$\\pi$\"])\n",
    "plt.ylim(0,6000)\n",
    "plt.xlabel(r\"$\\alpha$\",size=15)\n",
    "plt.ylabel(\"Count\",size=15)\n",
    "plt.savefig(\"aromatic_chlorine_alpha.pdf\",dpi=150,bbox_inches=\"tight\")\n",
    "plt.show()\n",
    "\n",
    "plt.hist(aromatic_bromine[\"alpha\"],bins=50)\n",
    "plt.xlim(0,np.pi)\n",
    "plt.xticks([0,np.pi/4, np.pi/2, 3*np.pi/4,np.pi],labels=[r\"0\",r\"$\\pi/4$\",r\"$\\pi/2$\",r\"$3\\pi/4$\",r\"$\\pi$\"])\n",
    "plt.ylim(0,3000)\n",
    "plt.xlabel(r\"$\\alpha$\",size=15)\n",
    "plt.ylabel(\"Count\",size=15)\n",
    "plt.savefig(\"aromatic_bromine_alpha.pdf\",dpi=150,bbox_inches=\"tight\")\n",
    "plt.show()\n",
    "\n",
    "plt.hist(aromatic_iodine[\"alpha\"],bins=50)\n",
    "plt.xlim(0,np.pi)\n",
    "plt.xticks([0,np.pi/4, np.pi/2, 3*np.pi/4,np.pi],labels=[r\"0\",r\"$\\pi/4$\",r\"$\\pi/2$\",r\"$3\\pi/4$\",r\"$\\pi$\"])\n",
    "plt.ylim(0,600)\n",
    "plt.xlabel(r\"$\\alpha$\",size=15)\n",
    "plt.ylabel(\"Count\",size=15)\n",
    "plt.savefig(\"aromatic_iodine_alpha.pdf\",dpi=150,bbox_inches=\"tight\")\n",
    "plt.show()"
   ]
  },
  {
   "cell_type": "code",
   "execution_count": 131,
   "metadata": {},
   "outputs": [
    {
     "data": {
      "image/png": "[encoded data removed]",
      "text/plain": [
       "<Figure size 432x288 with 1 Axes>"
      ]
     },
     "metadata": {
      "needs_background": "light"
     },
     "output_type": "display_data"
    },
    {
     "data": {
      "image/png": "[encoded data removed]",
      "text/plain": [
       "<Figure size 432x288 with 1 Axes>"
      ]
     },
     "metadata": {
      "needs_background": "light"
     },
     "output_type": "display_data"
    },
    {
     "data": {
      "image/png": "[encoded data removed]",
      "text/plain": [
       "<Figure size 432x288 with 1 Axes>"
      ]
     },
     "metadata": {
      "needs_background": "light"
     },
     "output_type": "display_data"
    },
    {
     "data": {
      "image/png": "[encoded data removed]",
      "text/plain": [
       "<Figure size 432x288 with 1 Axes>"
      ]
     },
     "metadata": {
      "needs_background": "light"
     },
     "output_type": "display_data"
    }
   ],
   "source": [
    "plt.hist(aromatic_fluorine[\"beta\"],bins=30)\n",
    "plt.xlim(-np.pi,np.pi)\n",
    "plt.xticks([-np.pi, -np.pi/2, 0, np.pi/2, np.pi],labels=[r\"$-\\pi$\",r\"$-\\pi/2$\",r\"$0$\",r\"$\\pi/2$\",r\"$\\pi$\"])\n",
    "plt.ylim(0,1250)\n",
    "plt.xlabel(r\"$\\beta$\",size=15)\n",
    "plt.ylabel(\"Count\",size=15)\n",
    "plt.savefig(\"aromatic_fluorine_beta.pdf\",dpi=150,bbox_inches=\"tight\")\n",
    "plt.show()\n",
    "\n",
    "plt.hist(aromatic_chlorine[\"beta\"],bins=30)\n",
    "plt.xlim(-np.pi,np.pi)\n",
    "plt.xticks([-np.pi, -np.pi/2, 0, np.pi/2, np.pi],labels=[r\"$-\\pi$\",r\"$-\\pi/2$\",r\"$0$\",r\"$\\pi/2$\",r\"$\\pi$\"])\n",
    "plt.ylim(0,1200)\n",
    "plt.xlabel(r\"$\\beta$\",size=15)\n",
    "plt.ylabel(\"Count\",size=15)\n",
    "plt.savefig(\"aromatic_chlorine_beta.pdf\",dpi=150,bbox_inches=\"tight\")\n",
    "plt.show()\n",
    "\n",
    "plt.hist(aromatic_bromine[\"beta\"],bins=30)\n",
    "plt.xlim(-np.pi,np.pi)\n",
    "plt.xticks([-np.pi, -np.pi/2, 0, np.pi/2, np.pi],labels=[r\"$-\\pi$\",r\"$-\\pi/2$\",r\"$0$\",r\"$\\pi/2$\",r\"$\\pi$\"])\n",
    "plt.ylim(0,1200)\n",
    "plt.xlabel(r\"$\\beta$\",size=15)\n",
    "plt.ylabel(\"Count\",size=15)\n",
    "plt.savefig(\"aromatic_bromine_beta.pdf\",dpi=150,bbox_inches=\"tight\")\n",
    "plt.show()\n",
    "\n",
    "plt.hist(aromatic_iodine[\"beta\"],bins=30)\n",
    "plt.xlim(-np.pi,np.pi)\n",
    "plt.xticks([-np.pi, -np.pi/2, 0, np.pi/2, np.pi],labels=[r\"$-\\pi$\",r\"$-\\pi/2$\",r\"$0$\",r\"$\\pi/2$\",r\"$\\pi$\"])\n",
    "plt.ylim(0,500)\n",
    "plt.xlabel(r\"$\\beta$\",size=15)\n",
    "plt.ylabel(\"Count\",size=15)\n",
    "plt.savefig(\"aromatic_iodine_beta.pdf\",dpi=150,bbox_inches=\"tight\")\n",
    "plt.show()"
   ]
  },
  {
   "cell_type": "code",
   "execution_count": 135,
   "metadata": {},
   "outputs": [
    {
     "data": {
      "image/png": "[encoded data removed]",
      "text/plain": [
       "<Figure size 432x288 with 1 Axes>"
      ]
     },
     "metadata": {
      "needs_background": "light"
     },
     "output_type": "display_data"
    },
    {
     "data": {
      "image/png": "[encoded data removed]",
      "text/plain": [
       "<Figure size 432x288 with 1 Axes>"
      ]
     },
     "metadata": {
      "needs_background": "light"
     },
     "output_type": "display_data"
    },
    {
     "data": {
      "image/png": "[encoded data removed]",
      "text/plain": [
       "<Figure size 432x288 with 1 Axes>"
      ]
     },
     "metadata": {
      "needs_background": "light"
     },
     "output_type": "display_data"
    },
    {
     "data": {
      "image/png": "[encoded data removed]",
      "text/plain": [
       "<Figure size 432x288 with 1 Axes>"
      ]
     },
     "metadata": {
      "needs_background": "light"
     },
     "output_type": "display_data"
    }
   ],
   "source": [
    "plt.hist(aliphatic_fluorine[\"alpha\"],bins=50)\n",
    "plt.xlim(0,np.pi)\n",
    "plt.xticks([0,np.pi/4, np.pi/2, 3*np.pi/4,np.pi],labels=[r\"0\",r\"$\\pi/4$\",r\"$\\pi/2$\",r\"$3\\pi/4$\",r\"$\\pi$\"])\n",
    "plt.ylim(0,100)\n",
    "plt.xlabel(r\"$\\alpha$\",size=15)\n",
    "plt.ylabel(\"Count\",size=15)\n",
    "plt.savefig(\"aliphatic_fluorine_alpha.pdf\",dpi=150,bbox_inches=\"tight\")\n",
    "plt.show()\n",
    "\n",
    "plt.hist(aliphatic_chlorine[\"alpha\"],bins=50)\n",
    "plt.xlim(0,np.pi)\n",
    "plt.xticks([0,np.pi/4, np.pi/2, 3*np.pi/4,np.pi],labels=[r\"0\",r\"$\\pi/4$\",r\"$\\pi/2$\",r\"$3\\pi/4$\",r\"$\\pi$\"])\n",
    "plt.ylim(0,200)\n",
    "plt.xlabel(r\"$\\alpha$\",size=15)\n",
    "plt.ylabel(\"Count\",size=15)\n",
    "plt.savefig(\"aliphatic_chlorine_alpha.pdf\",dpi=150,bbox_inches=\"tight\")\n",
    "plt.show()\n",
    "\n",
    "plt.hist(aliphatic_bromine[\"alpha\"],bins=50)\n",
    "plt.xlim(0,np.pi)\n",
    "plt.xticks([0,np.pi/4, np.pi/2, 3*np.pi/4,np.pi],labels=[r\"0\",r\"$\\pi/4$\",r\"$\\pi/2$\",r\"$3\\pi/4$\",r\"$\\pi$\"])\n",
    "plt.ylim(0,100)\n",
    "plt.xlabel(r\"$\\alpha$\",size=15)\n",
    "plt.ylabel(\"Count\",size=15)\n",
    "plt.savefig(\"aliphatic_bromine_alpha.pdf\",dpi=150,bbox_inches=\"tight\")\n",
    "plt.show()\n",
    "\n",
    "plt.hist(aliphatic_iodine[\"alpha\"],bins=50)\n",
    "plt.xlim(0,np.pi)\n",
    "plt.xticks([0,np.pi/4, np.pi/2, 3*np.pi/4,np.pi],labels=[r\"0\",r\"$\\pi/4$\",r\"$\\pi/2$\",r\"$3\\pi/4$\",r\"$\\pi$\"])\n",
    "plt.ylim(0,50)\n",
    "plt.xlabel(r\"$\\alpha$\",size=15)\n",
    "plt.ylabel(\"Count\",size=15)\n",
    "plt.savefig(\"aliphatic_iodine_alpha.pdf\",dpi=150,bbox_inches=\"tight\")\n",
    "plt.show()"
   ]
  },
  {
   "cell_type": "code",
   "execution_count": 132,
   "metadata": {},
   "outputs": [
    {
     "data": {
      "image/png": "[encoded data removed]",
      "text/plain": [
       "<Figure size 432x288 with 1 Axes>"
      ]
     },
     "metadata": {
      "needs_background": "light"
     },
     "output_type": "display_data"
    },
    {
     "data": {
      "image/png": "[encoded data removed]",
      "text/plain": [
       "<Figure size 432x288 with 1 Axes>"
      ]
     },
     "metadata": {
      "needs_background": "light"
     },
     "output_type": "display_data"
    },
    {
     "data": {
      "image/png": "[encoded data removed]",
      "text/plain": [
       "<Figure size 432x288 with 1 Axes>"
      ]
     },
     "metadata": {
      "needs_background": "light"
     },
     "output_type": "display_data"
    },
    {
     "data": {
      "image/png": "[encoded data removed]",
      "text/plain": [
       "<Figure size 432x288 with 1 Axes>"
      ]
     },
     "metadata": {
      "needs_background": "light"
     },
     "output_type": "display_data"
    }
   ],
   "source": [
    "plt.hist(aliphatic_fluorine[\"beta\"],bins=100)\n",
    "plt.xlim(-np.pi,np.pi)\n",
    "plt.xticks([-np.pi, -np.pi/2, 0, np.pi/2, np.pi],labels=[r\"$-\\pi$\",r\"$-\\pi/2$\",r\"$0$\",r\"$\\pi/2$\",r\"$\\pi$\"])\n",
    "plt.ylim(0,500)\n",
    "plt.xlabel(r\"$\\beta$\",size=15)\n",
    "plt.ylabel(\"Count\",size=15)\n",
    "plt.savefig(\"aliphatic_fluorine_beta.pdf\",dpi=150,bbox_inches=\"tight\")\n",
    "plt.show()\n",
    "\n",
    "plt.hist(aliphatic_chlorine[\"beta\"],bins=100)\n",
    "plt.xlim(-np.pi,np.pi)\n",
    "plt.xticks([-np.pi, -np.pi/2, 0, np.pi/2, np.pi],labels=[r\"$-\\pi$\",r\"$-\\pi/2$\",r\"$0$\",r\"$\\pi/2$\",r\"$\\pi$\"])\n",
    "plt.ylim(0,400)\n",
    "plt.xlabel(r\"$\\beta$\",size=15)\n",
    "plt.ylabel(\"Count\",size=15)\n",
    "plt.savefig(\"aliphatic_chlorine_beta.pdf\",dpi=150,bbox_inches=\"tight\")\n",
    "plt.show()\n",
    "\n",
    "plt.hist(aliphatic_bromine[\"beta\"],bins=100)\n",
    "plt.xlim(-np.pi,np.pi)\n",
    "plt.xticks([-np.pi, -np.pi/2, 0, np.pi/2, np.pi],labels=[r\"-$\\pi$\",r\"$-\\pi/2$\",r\"$0$\",r\"$\\pi/2$\",r\"$\\pi$\"])\n",
    "plt.ylim(0,200)\n",
    "plt.xlabel(r\"$\\beta$\",size=15)\n",
    "plt.ylabel(\"Count\",size=15)\n",
    "plt.savefig(\"aliphatic_bromine_beta.pdf\",dpi=150,bbox_inches=\"tight\")\n",
    "plt.show()\n",
    "\n",
    "plt.hist(aliphatic_iodine[\"beta\"],bins=100)\n",
    "plt.xlim(-np.pi,np.pi)\n",
    "plt.xticks([-np.pi, -np.pi/2, 0, np.pi/2, np.pi],labels=[r\"-$\\pi$\",r\"$-\\pi/2$\",r\"$0$\",r\"$\\pi/2$\",r\"$\\pi$\"])\n",
    "plt.ylim(0,50)\n",
    "plt.xlabel(r\"$\\beta$\",size=15)\n",
    "plt.ylabel(\"Count\",size=15)\n",
    "plt.savefig(\"aliphatic_iodine_beta.pdf\",dpi=150,bbox_inches=\"tight\")\n",
    "plt.show()"
   ]
  },
  {
   "cell_type": "markdown",
   "metadata": {},
   "source": [
    "# Methyl"
   ]
  },
  {
   "cell_type": "code",
   "execution_count": 44,
   "metadata": {
    "scrolled": false
   },
   "outputs": [
    {
     "data": {
      "image/png": "[encoded data removed]",
      "text/plain": [
       "<Figure size 432x288 with 1 Axes>"
      ]
     },
     "metadata": {
      "needs_background": "light"
     },
     "output_type": "display_data"
    },
    {
     "data": {
      "image/png": "[encoded data removed]",
      "text/plain": [
       "<Figure size 432x288 with 1 Axes>"
      ]
     },
     "metadata": {
      "needs_background": "light"
     },
     "output_type": "display_data"
    },
    {
     "data": {
      "image/png": "[encoded data removed]",
      "text/plain": [
       "<Figure size 432x288 with 1 Axes>"
      ]
     },
     "metadata": {
      "needs_background": "light"
     },
     "output_type": "display_data"
    },
    {
     "data": {
      "image/png": "[encoded data removed]",
      "text/plain": [
       "<Figure size 432x288 with 1 Axes>"
      ]
     },
     "metadata": {
      "needs_background": "light"
     },
     "output_type": "display_data"
    }
   ],
   "source": [
    "plt.hist(aliphatic_methyl[\"alpha\"],bins=100)\n",
    "plt.xlim(0,np.pi)\n",
    "plt.xticks([0,np.pi/4, np.pi/2, 3*np.pi/4,np.pi],labels=[r\"0\",r\"$\\pi/4$\",r\"$\\pi/2$\",r\"$3\\pi/4$\",r\"$\\pi$\"])\n",
    "plt.ylim(0,5000)\n",
    "plt.xlabel(r\"$\\alpha$\",size=15)\n",
    "plt.ylabel(\"Count\",size=15)\n",
    "plt.savefig(\"aliphatic_methyl_alpha.pdf\",dpi=150,bbox_inches=\"tight\")\n",
    "plt.show()\n",
    "\n",
    "plt.hist(aromatic_methyl[\"alpha\"],bins=100)\n",
    "plt.xlim(0,np.pi)\n",
    "plt.xticks([0,np.pi/4, np.pi/2, 3*np.pi/4,np.pi],labels=[r\"0\",r\"$\\pi/4$\",r\"$\\pi/2$\",r\"$3\\pi/4$\",r\"$\\pi$\"])\n",
    "plt.ylim(0,25000)\n",
    "plt.xlabel(r\"$\\alpha$\",size=15)\n",
    "plt.ylabel(\"Count\",size=15)\n",
    "plt.savefig(\"aromatic_methyl_alpha.pdf\",dpi=150,bbox_inches=\"tight\")\n",
    "plt.show()\n",
    "\n",
    "plt.hist(aliphatic_methyl[\"beta\"],bins=100)\n",
    "plt.xlim(-np.pi,np.pi)\n",
    "plt.xticks([-np.pi, -np.pi/2, 0, np.pi/2, np.pi],labels=[r\"$-\\pi$\",r\"$-\\pi/2$\",r\"$0$\",r\"$\\pi/2$\",r\"$\\pi$\"])\n",
    "plt.ylim(0,18000)\n",
    "plt.xlabel(r\"$\\beta$\",size=15)\n",
    "plt.ylabel(\"Count\",size=15)\n",
    "plt.savefig(\"aliphatic_methyl_beta.pdf\",dpi=150,bbox_inches=\"tight\")\n",
    "plt.show()\n",
    "\n",
    "plt.hist(aromatic_methyl[\"beta\"],bins=100)\n",
    "plt.xlim(-np.pi,np.pi)\n",
    "plt.xticks([-np.pi, -np.pi/2, 0, np.pi/2, np.pi],labels=[r\"$-\\pi$\",r\"$-\\pi/2$\",r\"$0$\",r\"$\\pi/2$\",r\"$\\pi$\"])\n",
    "plt.ylim(0,4000)\n",
    "plt.xlabel(r\"$\\beta$\",size=15)\n",
    "plt.ylabel(\"Count\",size=15)\n",
    "plt.savefig(\"aromatic_methyl_beta.pdf\",dpi=150,bbox_inches=\"tight\")\n",
    "plt.show()"
   ]
  },
  {
   "cell_type": "markdown",
   "metadata": {},
   "source": [
    "# Alkoxy and Hydroxyl"
   ]
  },
  {
   "cell_type": "code",
   "execution_count": 47,
   "metadata": {},
   "outputs": [
    {
     "data": {
      "image/png": "[encoded data removed]",
      "text/plain": [
       "<Figure size 432x288 with 1 Axes>"
      ]
     },
     "metadata": {
      "needs_background": "light"
     },
     "output_type": "display_data"
    },
    {
     "data": {
      "image/png": "[encoded data removed]",
      "text/plain": [
       "<Figure size 432x288 with 1 Axes>"
      ]
     },
     "metadata": {
      "needs_background": "light"
     },
     "output_type": "display_data"
    },
    {
     "data": {
      "image/png": "[encoded data removed]",
      "text/plain": [
       "<Figure size 432x288 with 1 Axes>"
      ]
     },
     "metadata": {
      "needs_background": "light"
     },
     "output_type": "display_data"
    },
    {
     "data": {
      "image/png": "[encoded data removed]",
      "text/plain": [
       "<Figure size 432x288 with 1 Axes>"
      ]
     },
     "metadata": {
      "needs_background": "light"
     },
     "output_type": "display_data"
    }
   ],
   "source": [
    "plt.hist(aliphatic_alkoxy[\"alpha\"],bins=100)\n",
    "plt.xlim(0,np.pi)\n",
    "plt.xticks([0,np.pi/4, np.pi/2, 3*np.pi/4,np.pi],labels=[r\"0\",r\"$\\pi/4$\",r\"$\\pi/2$\",r\"$3\\pi/4$\",r\"$\\pi$\"])\n",
    "plt.ylim(0,800)\n",
    "plt.xlabel(r\"$\\alpha$\",size=15)\n",
    "plt.ylabel(\"Count\",size=15)\n",
    "plt.savefig(\"aliphatic_alkoxy_alpha.pdf\",dpi=150,bbox_inches=\"tight\")\n",
    "plt.show()\n",
    "\n",
    "plt.hist(aromatic_alkoxy[\"alpha\"],bins=100)\n",
    "plt.xlim(0,np.pi)\n",
    "plt.xticks([0,np.pi/4, np.pi/2, 3*np.pi/4,np.pi],labels=[r\"0\",r\"$\\pi/4$\",r\"$\\pi/2$\",r\"$3\\pi/4$\",r\"$\\pi$\"])\n",
    "plt.ylim(0,14000)\n",
    "plt.xlabel(r\"$\\alpha$\",size=15)\n",
    "plt.ylabel(\"Count\",size=15)\n",
    "plt.savefig(\"aromatic_alkoxy_alpha.pdf\",dpi=150,bbox_inches=\"tight\")\n",
    "plt.show()\n",
    "\n",
    "plt.hist(aliphatic_hydroxyl[\"alpha\"],bins=100)\n",
    "plt.xlim(0,np.pi)\n",
    "plt.xticks([0,np.pi/4, np.pi/2, 3*np.pi/4,np.pi],labels=[r\"0\",r\"$\\pi/4$\",r\"$\\pi/2$\",r\"$3\\pi/4$\",r\"$\\pi$\"])\n",
    "plt.ylim(0,2000)\n",
    "plt.xlabel(r\"$\\alpha$\",size=15)\n",
    "plt.ylabel(\"Count\",size=15)\n",
    "plt.savefig(\"aliphatic_hydroxyl_alpha.pdf\",dpi=150,bbox_inches=\"tight\")\n",
    "plt.show()\n",
    "\n",
    "plt.hist(aromatic_hydroxyl[\"alpha\"],bins=100)\n",
    "plt.xlim(0,np.pi)\n",
    "plt.xticks([0,np.pi/4, np.pi/2, 3*np.pi/4,np.pi],labels=[r\"0\",r\"$\\pi/4$\",r\"$\\pi/2$\",r\"$3\\pi/4$\",r\"$\\pi$\"])\n",
    "plt.ylim(0,8000)\n",
    "plt.xlabel(r\"$\\alpha$\",size=15)\n",
    "plt.ylabel(\"Count\",size=15)\n",
    "plt.savefig(\"aromatic_hydroxyl_alpha.pdf\",dpi=150,bbox_inches=\"tight\")\n",
    "plt.show()\n"
   ]
  },
  {
   "cell_type": "code",
   "execution_count": 48,
   "metadata": {
    "scrolled": false
   },
   "outputs": [
    {
     "data": {
      "image/png": "[encoded data removed]",
      "text/plain": [
       "<Figure size 432x288 with 1 Axes>"
      ]
     },
     "metadata": {
      "needs_background": "light"
     },
     "output_type": "display_data"
    },
    {
     "data": {
      "image/png": "[encoded data removed]",
      "text/plain": [
       "<Figure size 432x288 with 1 Axes>"
      ]
     },
     "metadata": {
      "needs_background": "light"
     },
     "output_type": "display_data"
    },
    {
     "data": {
      "image/png": "[encoded data removed]",
      "text/plain": [
       "<Figure size 432x288 with 1 Axes>"
      ]
     },
     "metadata": {
      "needs_background": "light"
     },
     "output_type": "display_data"
    },
    {
     "data": {
      "image/png": "[encoded data removed]",
      "text/plain": [
       "<Figure size 432x288 with 1 Axes>"
      ]
     },
     "metadata": {
      "needs_background": "light"
     },
     "output_type": "display_data"
    }
   ],
   "source": [
    "plt.hist(aliphatic_alkoxy[\"beta\"],bins=100)\n",
    "plt.xlim(-np.pi,np.pi)\n",
    "plt.xticks([-np.pi, -np.pi/2, 0, np.pi/2, np.pi],labels=[r\"$-\\pi$\",r\"$-\\pi/2$\",r\"$0$\",r\"$\\pi/2$\",r\"$\\pi$\"])\n",
    "plt.ylim(0,2500)\n",
    "plt.xlabel(r\"$\\beta$\",size=15)\n",
    "plt.ylabel(\"Count\",size=15)\n",
    "plt.savefig(\"aliphatic_alkoxy_beta.pdf\",dpi=150,bbox_inches=\"tight\")\n",
    "plt.show()\n",
    "\n",
    "plt.hist(aromatic_alkoxy[\"beta\"],bins=100)\n",
    "plt.xlim(-np.pi,np.pi)\n",
    "plt.xticks([-np.pi, -np.pi/2, 0, np.pi/2, np.pi],labels=[r\"$-\\pi$\",r\"$-\\pi/2$\",r\"$0$\",r\"$\\pi/2$\",r\"$\\pi$\"])\n",
    "plt.ylim(0,4500)\n",
    "plt.xlabel(r\"$\\beta$\",size=15)\n",
    "plt.ylabel(\"Count\",size=15)\n",
    "plt.savefig(\"aromatic_alkoxy_beta.pdf\",dpi=150,bbox_inches=\"tight\")\n",
    "plt.show()\n",
    "\n",
    "plt.hist(aliphatic_hydroxyl[\"beta\"],bins=100)\n",
    "plt.xlim(-np.pi,np.pi)\n",
    "plt.xticks([-np.pi, -np.pi/2, 0, np.pi/2, np.pi],labels=[r\"$-\\pi$\",r\"$-\\pi/2$\",r\"$0$\",r\"$\\pi/2$\",r\"$\\pi$\"])\n",
    "plt.ylim(0,13000)\n",
    "plt.xlabel(r\"$\\beta$\",size=15)\n",
    "plt.ylabel(\"Count\",size=15)\n",
    "plt.savefig(\"aliphatic_hydroxyl_beta.pdf\",dpi=150,bbox_inches=\"tight\")\n",
    "plt.show()\n",
    "\n",
    "plt.hist(aromatic_hydroxyl[\"beta\"],bins=100)\n",
    "plt.xlim(-np.pi,np.pi)\n",
    "plt.xticks([-np.pi, -np.pi/2, 0, np.pi/2, np.pi],labels=[r\"$-\\pi$\",r\"$-\\pi/2$\",r\"$0$\",r\"$\\pi/2$\",r\"$\\pi$\"])\n",
    "plt.ylim(0,1500)\n",
    "plt.xlabel(r\"$\\beta$\",size=15)\n",
    "plt.ylabel(\"Count\",size=15)\n",
    "plt.savefig(\"aromatic_hydroxyl_beta.pdf\",dpi=150,bbox_inches=\"tight\")\n",
    "plt.show()"
   ]
  },
  {
   "cell_type": "markdown",
   "metadata": {},
   "source": [
    "# Amine"
   ]
  },
  {
   "cell_type": "code",
   "execution_count": 40,
   "metadata": {
    "scrolled": false
   },
   "outputs": [
    {
     "data": {
      "image/png": "[encoded data removed]",
      "text/plain": [
       "<Figure size 432x288 with 1 Axes>"
      ]
     },
     "metadata": {
      "needs_background": "light"
     },
     "output_type": "display_data"
    },
    {
     "data": {
      "image/png": "[encoded data removed]",
      "text/plain": [
       "<Figure size 432x288 with 1 Axes>"
      ]
     },
     "metadata": {
      "needs_background": "light"
     },
     "output_type": "display_data"
    },
    {
     "data": {
      "image/png": "[encoded data removed]",
      "text/plain": [
       "<Figure size 432x288 with 1 Axes>"
      ]
     },
     "metadata": {
      "needs_background": "light"
     },
     "output_type": "display_data"
    },
    {
     "data": {
      "image/png": "[encoded data removed]",
      "text/plain": [
       "<Figure size 432x288 with 1 Axes>"
      ]
     },
     "metadata": {
      "needs_background": "light"
     },
     "output_type": "display_data"
    },
    {
     "data": {
      "image/png": "[encoded data removed]",
      "text/plain": [
       "<Figure size 432x288 with 1 Axes>"
      ]
     },
     "metadata": {
      "needs_background": "light"
     },
     "output_type": "display_data"
    },
    {
     "data": {
      "image/png": "[encoded data removed]",
      "text/plain": [
       "<Figure size 432x288 with 1 Axes>"
      ]
     },
     "metadata": {
      "needs_background": "light"
     },
     "output_type": "display_data"
    }
   ],
   "source": [
    "## Aromatic\n",
    "plt.hist(aromatic_amine0[\"alpha\"],bins=100)\n",
    "plt.xlim(0,np.pi)\n",
    "plt.xticks([0,np.pi/4, np.pi/2, 3*np.pi/4,np.pi],labels=[r\"0\",r\"$\\pi/4$\",r\"$\\pi/2$\",r\"$3\\pi/4$\",r\"$\\pi$\"])\n",
    "plt.ylim(0,7000)\n",
    "plt.xlabel(r\"$\\alpha$\",size=15)\n",
    "plt.ylabel(\"Count\",size=15)\n",
    "plt.savefig(\"aromatic_amine0_alpha.pdf\",dpi=150,bbox_inches=\"tight\")\n",
    "plt.show()\n",
    "\n",
    "plt.hist(aromatic_amine1[\"alpha\"],bins=100)\n",
    "plt.xlim(0,np.pi)\n",
    "plt.xticks([0,np.pi/4, np.pi/2, 3*np.pi/4,np.pi],labels=[r\"0\",r\"$\\pi/4$\",r\"$\\pi/2$\",r\"$3\\pi/4$\",r\"$\\pi$\"])\n",
    "plt.ylim(0,2000)\n",
    "plt.xlabel(r\"$\\alpha$\",size=15)\n",
    "plt.ylabel(\"Count\",size=15)\n",
    "plt.savefig(\"aromatic_amine1_alpha.pdf\",dpi=150,bbox_inches=\"tight\")\n",
    "plt.show()\n",
    "\n",
    "plt.hist(aromatic_amine2[\"alpha\"],bins=100)\n",
    "plt.xlim(0,np.pi)\n",
    "plt.xticks([0,np.pi/4, np.pi/2, 3*np.pi/4,np.pi],labels=[r\"0\",r\"$\\pi/4$\",r\"$\\pi/2$\",r\"$3\\pi/4$\",r\"$\\pi$\"])\n",
    "plt.ylim(0,150)\n",
    "plt.xlabel(r\"$\\alpha$\",size=15)\n",
    "plt.ylabel(\"Count\",size=15)\n",
    "plt.savefig(\"aromatic_amine2_alpha.pdf\",dpi=150,bbox_inches=\"tight\")\n",
    "plt.show()\n",
    "\n",
    "\n",
    "plt.hist(aliphatic_amine0[\"alpha\"],bins=100)\n",
    "plt.xlim(0,np.pi)\n",
    "plt.xticks([0,np.pi/4, np.pi/2, 3*np.pi/4,np.pi],labels=[r\"0\",r\"$\\pi/4$\",r\"$\\pi/2$\",r\"$3\\pi/4$\",r\"$\\pi$\"])\n",
    "plt.ylim(0,100)\n",
    "plt.xlabel(r\"$\\alpha$\",size=15)\n",
    "plt.ylabel(\"Count\",size=15)\n",
    "plt.savefig(\"aliphatic_amine0_alpha.pdf\",dpi=150,bbox_inches=\"tight\")\n",
    "plt.show()\n",
    "\n",
    "plt.hist(aliphatic_amine1[\"alpha\"],bins=100)\n",
    "plt.xlim(0,np.pi)\n",
    "plt.xticks([0,np.pi/4, np.pi/2, 3*np.pi/4,np.pi],labels=[r\"0\",r\"$\\pi/4$\",r\"$\\pi/2$\",r\"$3\\pi/4$\",r\"$\\pi$\"])\n",
    "plt.ylim(0,250)\n",
    "plt.xlabel(r\"$\\alpha$\",size=15)\n",
    "plt.ylabel(\"Count\",size=15)\n",
    "plt.savefig(\"aliphatic_amine1_alpha.pdf\",dpi=150,bbox_inches=\"tight\")\n",
    "plt.show()\n",
    "\n",
    "plt.hist(aliphatic_amine2[\"alpha\"],bins=100)\n",
    "plt.xlim(0,np.pi)\n",
    "plt.xticks([0,np.pi/4, np.pi/2, 3*np.pi/4,np.pi],labels=[r\"0\",r\"$\\pi/4$\",r\"$\\pi/2$\",r\"$3\\pi/4$\",r\"$\\pi$\"])\n",
    "plt.ylim(0,150)\n",
    "plt.xlabel(r\"$\\alpha$\",size=15)\n",
    "plt.ylabel(\"Count\",size=15)\n",
    "plt.savefig(\"aliphatic_amine2_alpha.pdf\",dpi=150,bbox_inches=\"tight\")\n",
    "plt.show()\n",
    "\n"
   ]
  },
  {
   "cell_type": "code",
   "execution_count": 41,
   "metadata": {
    "scrolled": true
   },
   "outputs": [
    {
     "data": {
      "image/png": "[encoded data removed]",
      "text/plain": [
       "<Figure size 432x288 with 1 Axes>"
      ]
     },
     "metadata": {
      "needs_background": "light"
     },
     "output_type": "display_data"
    },
    {
     "data": {
      "image/png": "[encoded data removed]",
      "text/plain": [
       "<Figure size 432x288 with 1 Axes>"
      ]
     },
     "metadata": {
      "needs_background": "light"
     },
     "output_type": "display_data"
    },
    {
     "data": {
      "image/png": "[encoded data removed]",
      "text/plain": [
       "<Figure size 432x288 with 1 Axes>"
      ]
     },
     "metadata": {
      "needs_background": "light"
     },
     "output_type": "display_data"
    },
    {
     "data": {
      "image/png": "[encoded data removed]",
      "text/plain": [
       "<Figure size 432x288 with 1 Axes>"
      ]
     },
     "metadata": {
      "needs_background": "light"
     },
     "output_type": "display_data"
    },
    {
     "data": {
      "image/png": "[encoded data removed]",
      "text/plain": [
       "<Figure size 432x288 with 1 Axes>"
      ]
     },
     "metadata": {
      "needs_background": "light"
     },
     "output_type": "display_data"
    },
    {
     "data": {
      "image/png": "[encoded data removed]",
      "text/plain": [
       "<Figure size 432x288 with 1 Axes>"
      ]
     },
     "metadata": {
      "needs_background": "light"
     },
     "output_type": "display_data"
    }
   ],
   "source": [
    "## Aromatic\n",
    "plt.hist(aromatic_amine0[\"beta\"],bins=100)\n",
    "plt.xlim(-np.pi,np.pi)\n",
    "plt.xticks([-np.pi, -np.pi/2, 0, np.pi/2, np.pi],labels=[r\"$-\\pi$\",r\"$-\\pi/2$\",r\"$0$\",r\"$\\pi/2$\",r\"$\\pi$\"])\n",
    "plt.ylim(0,5500)\n",
    "plt.xlabel(r\"$\\beta$\",size=15)\n",
    "plt.ylabel(\"Count\",size=15)\n",
    "plt.savefig(\"aromatic_amine0_beta.pdf\",dpi=150,bbox_inches=\"tight\")\n",
    "plt.show()\n",
    "\n",
    "plt.hist(aromatic_amine1[\"beta\"],bins=100)\n",
    "plt.xlim(-np.pi,np.pi)\n",
    "plt.xticks([-np.pi, -np.pi/2, 0, np.pi/2, np.pi],labels=[r\"$-\\pi$\",r\"$-\\pi/2$\",r\"$0$\",r\"$\\pi/2$\",r\"$\\pi$\"])\n",
    "plt.ylim(0,600)\n",
    "plt.xlabel(r\"$\\beta$\",size=15)\n",
    "plt.ylabel(\"Count\",size=15)\n",
    "plt.savefig(\"aromatic_amine1_beta.pdf\",dpi=150,bbox_inches=\"tight\")\n",
    "plt.show()\n",
    "\n",
    "plt.hist(aromatic_amine2[\"beta\"],bins=100)\n",
    "plt.xlim(-np.pi,np.pi)\n",
    "plt.xticks([-np.pi, -np.pi/2, 0, np.pi/2, np.pi],labels=[r\"$-\\pi$\",r\"$-\\pi/2$\",r\"$0$\",r\"$\\pi/2$\",r\"$\\pi$\"])\n",
    "plt.ylim(0,300)\n",
    "plt.xlabel(r\"$\\beta$\",size=15)\n",
    "plt.ylabel(\"Count\",size=15)\n",
    "plt.savefig(\"aromatic_amine2_beta.pdf\",dpi=150,bbox_inches=\"tight\")\n",
    "plt.show()\n",
    "\n",
    "## Aliphatic\n",
    "plt.hist(aliphatic_amine0[\"beta\"],bins=100)\n",
    "plt.xlim(-np.pi,np.pi)\n",
    "plt.xticks([-np.pi, -np.pi/2, 0, np.pi/2, np.pi],labels=[r\"$-\\pi$\",r\"$-\\pi/2$\",r\"$0$\",r\"$\\pi/2$\",r\"$\\pi$\"])\n",
    "plt.ylim(0,600)\n",
    "plt.xlabel(r\"$\\beta$\",size=15)\n",
    "plt.ylabel(\"Count\",size=15)\n",
    "plt.savefig(\"aliphatic_amine0_beta.pdf\",dpi=150,bbox_inches=\"tight\")\n",
    "plt.show()\n",
    "\n",
    "plt.hist(aliphatic_amine1[\"beta\"],bins=100)\n",
    "plt.xlim(-np.pi,np.pi)\n",
    "plt.xticks([-np.pi, -np.pi/2, 0, np.pi/2, np.pi],labels=[r\"$-\\pi$\",r\"$-\\pi/2$\",r\"$0$\",r\"$\\pi/2$\",r\"$\\pi$\"])\n",
    "plt.ylim(0,1500)\n",
    "plt.xlabel(r\"$\\beta$\",size=15)\n",
    "plt.ylabel(\"Count\",size=15)\n",
    "plt.savefig(\"aliphatic_amine1_beta.pdf\",dpi=150,bbox_inches=\"tight\")\n",
    "plt.show()\n",
    "\n",
    "plt.hist(aliphatic_amine2[\"beta\"],bins=100)\n",
    "plt.xlim(-np.pi,np.pi)\n",
    "plt.xticks([-np.pi, -np.pi/2, 0, np.pi/2, np.pi],labels=[r\"$-\\pi$\",r\"$-\\pi/2$\",r\"$0$\",r\"$\\pi/2$\",r\"$\\pi$\"])\n",
    "plt.ylim(0,300)\n",
    "plt.xlabel(r\"$\\beta$\",size=15)\n",
    "plt.ylabel(\"Count\",size=15)\n",
    "plt.savefig(\"aliphatic_amine2_beta.pdf\",dpi=150,bbox_inches=\"tight\")\n",
    "plt.show()"
   ]
  },
  {
   "cell_type": "markdown",
   "metadata": {},
   "source": [
    "# Ketone"
   ]
  },
  {
   "cell_type": "code",
   "execution_count": null,
   "metadata": {},
   "outputs": [],
   "source": [
    "plt.hist(aliphatic_ketone[\"alpha\"],bins=100)\n",
    "plt.xlim(0,np.pi)\n",
    "plt.xticks([0,np.pi/4, np.pi/2, 3*np.pi/4,np.pi],labels=[r\"0\",r\"$\\pi/4$\",r\"$\\pi/2$\",r\"$3\\pi/4$\",r\"$\\pi$\"])\n",
    "plt.ylim(0,800)\n",
    "plt.xlabel(r\"$\\alpha$\",size=15)\n",
    "plt.ylabel(\"Count\",size=15)\n",
    "plt.savefig(\"aliphatic_ketone_alpha.pdf\",dpi=150,bbox_inches=\"tight\")\n",
    "plt.show()\n",
    "\n",
    "plt.hist(aromatic_ketone[\"alpha\"],bins=100)\n",
    "plt.xlim(0,np.pi)\n",
    "plt.xticks([0,np.pi/4, np.pi/2, 3*np.pi/4,np.pi],labels=[r\"0\",r\"$\\pi/4$\",r\"$\\pi/2$\",r\"$3\\pi/4$\",r\"$\\pi$\"])\n",
    "plt.ylim(0,9000)\n",
    "plt.xlabel(r\"$\\alpha$\",size=15)\n",
    "plt.ylabel(\"Count\",size=15)\n",
    "plt.savefig(\"aromatic_ketone_alpha.pdf\",dpi=150,bbox_inches=\"tight\")\n",
    "plt.show()"
   ]
  },
  {
   "cell_type": "code",
   "execution_count": 51,
   "metadata": {
    "scrolled": true
   },
   "outputs": [
    {
     "data": {
      "image/png": "[encoded data removed]",
      "text/plain": [
       "<Figure size 432x288 with 1 Axes>"
      ]
     },
     "metadata": {
      "needs_background": "light"
     },
     "output_type": "display_data"
    },
    {
     "data": {
      "image/png": "[encoded data removed]",
      "text/plain": [
       "<Figure size 432x288 with 1 Axes>"
      ]
     },
     "metadata": {
      "needs_background": "light"
     },
     "output_type": "display_data"
    }
   ],
   "source": [
    "plt.hist(aliphatic_ketone[\"beta\"],bins=100)\n",
    "plt.xlim(-np.pi,np.pi)\n",
    "plt.xticks([-np.pi, -np.pi/2, 0, np.pi/2, np.pi],labels=[r\"$-\\pi$\",r\"$-\\pi/2$\",r\"$0$\",r\"$\\pi/2$\",r\"$\\pi$\"])\n",
    "plt.ylim(0,5500)\n",
    "plt.xlabel(r\"$\\beta$\",size=15)\n",
    "plt.ylabel(\"Count\",size=15)\n",
    "plt.savefig(\"aliphatic_ketone_beta.pdf\",dpi=150,bbox_inches=\"tight\")\n",
    "plt.show()\n",
    "\n",
    "plt.hist(aromatic_ketone[\"beta\"],bins=100)\n",
    "plt.xlim(-np.pi,np.pi)\n",
    "plt.xticks([-np.pi, -np.pi/2, 0, np.pi/2, np.pi],labels=[r\"$-\\pi$\",r\"$-\\pi/2$\",r\"$0$\",r\"$\\pi/2$\",r\"$\\pi$\"])\n",
    "plt.ylim(0,1500)\n",
    "plt.xlabel(r\"$\\beta$\",size=15)\n",
    "plt.ylabel(\"Count\",size=15)\n",
    "plt.savefig(\"aromatic_ketone_beta.pdf\",dpi=150,bbox_inches=\"tight\")\n",
    "plt.show()"
   ]
  },
  {
   "cell_type": "markdown",
   "metadata": {},
   "source": [
    "# Carbonyl"
   ]
  },
  {
   "cell_type": "code",
   "execution_count": 54,
   "metadata": {},
   "outputs": [
    {
     "data": {
      "image/png": "[encoded data removed]",
      "text/plain": [
       "<Figure size 432x288 with 1 Axes>"
      ]
     },
     "metadata": {
      "needs_background": "light"
     },
     "output_type": "display_data"
    }
   ],
   "source": [
    "plt.hist(aliphatic_carbonyl[\"alpha\"],bins=100)\n",
    "plt.xlim(0,np.pi)\n",
    "plt.xticks([0,np.pi/4, np.pi/2, 3*np.pi/4,np.pi],labels=[r\"0\",r\"$\\pi/4$\",r\"$\\pi/2$\",r\"$3\\pi/4$\",r\"$\\pi$\"])\n",
    "plt.ylim(0,10000)\n",
    "plt.xlabel(r\"$\\alpha$\",size=15)\n",
    "plt.ylabel(\"Count\",size=15)\n",
    "plt.savefig(\"aliphatic_carbonyl_alpha.pdf\",dpi=150,bbox_inches=\"tight\")\n",
    "plt.show()"
   ]
  },
  {
   "cell_type": "code",
   "execution_count": 61,
   "metadata": {},
   "outputs": [
    {
     "data": {
      "image/png": "[encoded data removed]",
      "text/plain": [
       "<Figure size 432x288 with 1 Axes>"
      ]
     },
     "metadata": {
      "needs_background": "light"
     },
     "output_type": "display_data"
    }
   ],
   "source": [
    "plt.hist(aliphatic_carbonyl[\"beta\"],bins=100)\n",
    "plt.xlim(-np.pi,np.pi)\n",
    "plt.xticks([-np.pi, -np.pi/2, 0, np.pi/2, np.pi],labels=[r\"$-\\pi$\",r\"$-\\pi/2$\",r\"$0$\",r\"$\\pi/2$\",r\"$\\pi$\"])\n",
    "plt.ylim(0,35000)\n",
    "plt.xlabel(r\"$\\beta$\",size=15)\n",
    "plt.ylabel(\"Count\",size=15)\n",
    "#plt.savefig(\"aliphatic_carbonyl_beta.pdf\",dpi=150,bbox_inches=\"tight\")\n",
    "plt.show()\n"
   ]
  },
  {
   "cell_type": "code",
   "execution_count": 3,
   "metadata": {},
   "outputs": [],
   "source": [
    "alkoxy = Chem.SDMolSupplier(\"molecule/f.sdf\")\n",
    "alkoxy_smarts = \"[R][F&!R]\"\n",
    "c1 = []\n",
    "for idx, mol in enumerate(alkoxy):\n",
    "    bonds = []\n",
    "    for bond in mol.GetBonds():\n",
    "        bonds.append((bond.GetBeginAtom().GetIdx(),bond.GetEndAtom().GetIdx()))\n",
    "    data = py_rdl.Calculator.get_calculated_result(bonds)\n",
    "    for urf in data.urfs:\n",
    "        rcs = data.get_relevant_cycles_for_urf(urf)\n",
    "        for rc in rcs:\n",
    "            if (len(list(rc.nodes))<20) and (len(list(rc.nodes))>4):\n",
    "                ringloop = RA.Rearrangement(mol, list(rc.nodes))\n",
    "                coord = np.array([mol.GetConformer().GetAtomPosition(atom) for atom in ringloop])\n",
    "                ox = RA.GetSubstituent(mol, list(rc.nodes), alkoxy_smarts)\n",
    "                if any(ox):\n",
    "                    for i in ox:\n",
    "                        ccoord = RA.Translate(coord)\n",
    "                        cptmp = RA.GetRingPuckerCoords(ccoord)\n",
    "                        ohpos = RA.GetRingSubstituentPosition(mol, ringloop, i)\n",
    "                        b = RA.GetRingBonds(mol, ringloop)\n",
    "                        c1.append((idx,cptmp,ohpos,b))\n"
   ]
  },
  {
   "cell_type": "code",
   "execution_count": 62,
   "metadata": {},
   "outputs": [
    {
     "ename": "NameError",
     "evalue": "name 'mol' is not defined",
     "output_type": "error",
     "traceback": [
      "\u001b[0;31m---------------------------------------------------------------------------\u001b[0m",
      "\u001b[0;31mNameError\u001b[0m                                 Traceback (most recent call last)",
      "\u001b[0;32m<ipython-input-62-2c8ed3d4dcdd>\u001b[0m in \u001b[0;36m<module>\u001b[0;34m()\u001b[0m\n\u001b[0;32m----> 1\u001b[0;31m \u001b[0mRA\u001b[0m\u001b[0;34m.\u001b[0m\u001b[0mGetRingBonds\u001b[0m\u001b[0;34m(\u001b[0m\u001b[0mmol\u001b[0m\u001b[0;34m)\u001b[0m\u001b[0;34m\u001b[0m\u001b[0m\n\u001b[0m",
      "\u001b[0;31mNameError\u001b[0m: name 'mol' is not defined"
     ]
    }
   ],
   "source": [
    "RA.GetRingBonds(mol)"
   ]
  },
  {
   "cell_type": "code",
   "execution_count": 63,
   "metadata": {},
   "outputs": [],
   "source": [
    "mol = Chem.MolFromSmiles(\"c1ccccc1\")"
   ]
  },
  {
   "cell_type": "code",
   "execution_count": 64,
   "metadata": {},
   "outputs": [
    {
     "data": {
      "text/plain": [
       "[((0, 1), 1.5),\n",
       " ((1, 2), 1.5),\n",
       " ((2, 3), 1.5),\n",
       " ((3, 4), 1.5),\n",
       " ((4, 5), 1.5),\n",
       " ((0, 5), 1.5)]"
      ]
     },
     "execution_count": 64,
     "metadata": {},
     "output_type": "execute_result"
    }
   ],
   "source": [
    "RA.GetRingBonds(mol,list(range(6)))"
   ]
  },
  {
   "cell_type": "code",
   "execution_count": null,
   "metadata": {},
   "outputs": [],
   "source": []
  }
 ],
 "metadata": {
  "kernelspec": {
   "display_name": "Python 3",
   "language": "python",
   "name": "python3"
  },
  "language_info": {
   "codemirror_mode": {
    "name": "ipython",
    "version": 3
   },
   "file_extension": ".py",
   "mimetype": "text/x-python",
   "name": "python",
   "nbconvert_exporter": "python",
   "pygments_lexer": "ipython3",
   "version": "3.5.6"
  }
 },
 "nbformat": 4,
 "nbformat_minor": 2
}
