{
 "cells": [
  {
   "cell_type": "code",
   "execution_count": 1,
   "metadata": {},
   "outputs": [],
   "source": [
    "%load_ext autoreload\n",
    "%autoreload 2\n",
    "import numpy as np\n",
    "import pandas as pd\n",
    "import matplotlib.pyplot as plt\n",
    "import matplotlib.colors as colors\n",
    "import matplotlib.gridspec as gridspec\n",
    "import seaborn as sns\n",
    "from rdkit import Chem\n",
    "from rdkit.Chem import AllChem\n",
    "from rdkit.Chem import rdMolDescriptors\n",
    "from rdkit.Chem import Descriptors\n",
    "from rdkit.Chem import rdMolTransforms\n",
    "import py_rdl\n",
    "import RA"
   ]
  },
  {
   "cell_type": "markdown",
   "metadata": {},
   "source": [
    "# Cremer Pople Puckering Parameter"
   ]
  },
  {
   "cell_type": "code",
   "execution_count": 2,
   "metadata": {},
   "outputs": [],
   "source": [
    "# Five\n",
    "five = pd.read_csv(\"five.csv\")"
   ]
  },
  {
   "cell_type": "code",
   "execution_count": 4,
   "metadata": {},
   "outputs": [],
   "source": [
    "monocyclic = []\n",
    "polycyclic = []\n",
    "for idx, item in enumerate(five[[\"A0\",\"A1\",\"A2\",\"A3\",\"A4\"]].values):\n",
    "    if list(item)==[\"M\",\"M\",\"M\",\"M\",\"M\"]:\n",
    "        monocyclic.append(idx)\n",
    "    else:\n",
    "        polycyclic.append(idx)\n",
    "        \n",
    "mono_five = five.iloc[monocyclic].reset_index(drop=True)\n",
    "poly_five = five.iloc[polycyclic].reset_index(drop=True)\n",
    "\n",
    "mono_single = []\n",
    "mono_one = []\n",
    "mono_two = []\n",
    "for idx, item in enumerate(mono_five[[\"B0\",\"B1\",\"B2\",\"B3\",\"B4\"]].values):\n",
    "    check = [x==1.5 or x==2.0 for x in item]\n",
    "    if sum(check)==0:\n",
    "        mono_single.append(idx)\n",
    "    elif sum(check)==1:\n",
    "        mono_one.append(idx)\n",
    "    else:\n",
    "        mono_two.append(idx)\n",
    "\n",
    "poly_single = []\n",
    "poly_one = []\n",
    "poly_two = []\n",
    "for idx, item in enumerate(poly_five[[\"B0\",\"B1\",\"B2\",\"B3\",\"B4\"]].values):\n",
    "    check = [x==1.5 or x==2.0 for x in list(item)]\n",
    "    if sum(check)==0:\n",
    "        poly_single.append(idx)\n",
    "    elif sum(check)==1:\n",
    "        poly_one.append(idx)\n",
    "    else:\n",
    "        poly_two.append(idx)"
   ]
  },
  {
   "cell_type": "code",
   "execution_count": 23,
   "metadata": {},
   "outputs": [],
   "source": [
    "molecule = Chem.SDMolSupplier(\"molecule/unique.sdf\",removeHs=False)"
   ]
  },
  {
   "cell_type": "code",
   "execution_count": 24,
   "metadata": {},
   "outputs": [],
   "source": [
    "keep = []\n",
    "inchis = []\n",
    "for idx, mol in enumerate(molecule):\n",
    "    inchi = Chem.MolToInchiKey(mol)\n",
    "    bonds = []\n",
    "    for bond in mol.GetBonds():\n",
    "        bonds.append((bond.GetBeginAtom().GetIdx(),bond.GetEndAtom().GetIdx()))\n",
    "    data = py_rdl.Calculator.get_calculated_result(bonds)\n",
    "    for urf in data.urfs:\n",
    "        rcs = data.get_relevant_cycles_for_urf(urf)\n",
    "        for rc in rcs:\n",
    "            if len(list(rc.nodes))==7:\n",
    "                ringloop = RA.Rearrangement(mol, list(rc.nodes))\n",
    "                atomtype = RA.GetRingAtomType(mol, ringloop)\n",
    "                if inchi not in inchis:\n",
    "                #if all([x==\"M\" for x in atomtype]) and (inchi not in inchis):\n",
    "                    inchis.append(inchi)\n",
    "                    keep.append(mol)"
   ]
  },
  {
   "cell_type": "code",
   "execution_count": 25,
   "metadata": {},
   "outputs": [
    {
     "data": {
      "text/plain": [
       "5135"
      ]
     },
     "execution_count": 25,
     "metadata": {},
     "output_type": "execute_result"
    }
   ],
   "source": [
    "len(keep)"
   ]
  },
  {
   "cell_type": "code",
   "execution_count": 8,
   "metadata": {},
   "outputs": [
    {
     "data": {
      "text/plain": [
       "5135"
      ]
     },
     "execution_count": 8,
     "metadata": {},
     "output_type": "execute_result"
    }
   ],
   "source": [
    "len(keep)"
   ]
  },
  {
   "cell_type": "code",
   "execution_count": null,
   "metadata": {},
   "outputs": [],
   "source": []
  },
  {
   "cell_type": "code",
   "execution_count": 26,
   "metadata": {},
   "outputs": [],
   "source": [
    "seven = Chem.SDWriter(\"seven_all.sdf\")\n",
    "for mol in keep:\n",
    "    seven.write(mol)\n",
    "seven.close()"
   ]
  },
  {
   "cell_type": "code",
   "execution_count": 5,
   "metadata": {},
   "outputs": [],
   "source": [
    "molecule = Chem.SDMolSupplier(\"mono_five.sdf\")"
   ]
  },
  {
   "cell_type": "code",
   "execution_count": 100,
   "metadata": {},
   "outputs": [
    {
     "ename": "NameError",
     "evalue": "name 'molecule' is not defined",
     "output_type": "error",
     "traceback": [
      "\u001b[0;31m---------------------------------------------------------------------------\u001b[0m",
      "\u001b[0;31mNameError\u001b[0m                                 Traceback (most recent call last)",
      "\u001b[0;32m<ipython-input-100-9853c2c0d1b3>\u001b[0m in \u001b[0;36m<module>\u001b[0;34m()\u001b[0m\n\u001b[1;32m      3\u001b[0m \u001b[0;31m#dsmarts = Chem.MolFromSmarts(\"[C;R1](=[O])@[!#1;R1]@[!#1;R1]\")\u001b[0m\u001b[0;34m\u001b[0m\u001b[0;34m\u001b[0m\u001b[0m\n\u001b[1;32m      4\u001b[0m \u001b[0mstorsions\u001b[0m \u001b[0;34m=\u001b[0m \u001b[0;34m[\u001b[0m\u001b[0;34m]\u001b[0m\u001b[0;34m\u001b[0m\u001b[0m\n\u001b[0;32m----> 5\u001b[0;31m \u001b[0;32mfor\u001b[0m \u001b[0midx\u001b[0m\u001b[0;34m,\u001b[0m \u001b[0mmol\u001b[0m \u001b[0;32min\u001b[0m \u001b[0menumerate\u001b[0m\u001b[0;34m(\u001b[0m\u001b[0mmolecule\u001b[0m\u001b[0;34m)\u001b[0m\u001b[0;34m:\u001b[0m\u001b[0;34m\u001b[0m\u001b[0m\n\u001b[0m\u001b[1;32m      6\u001b[0m     \u001b[0mbonds\u001b[0m \u001b[0;34m=\u001b[0m \u001b[0;34m[\u001b[0m\u001b[0;34m]\u001b[0m\u001b[0;34m\u001b[0m\u001b[0m\n\u001b[1;32m      7\u001b[0m     \u001b[0msmatches\u001b[0m \u001b[0;34m=\u001b[0m \u001b[0mmol\u001b[0m\u001b[0;34m.\u001b[0m\u001b[0mGetSubstructMatches\u001b[0m\u001b[0;34m(\u001b[0m\u001b[0msmarts\u001b[0m\u001b[0;34m)\u001b[0m\u001b[0;34m\u001b[0m\u001b[0m\n",
      "\u001b[0;31mNameError\u001b[0m: name 'molecule' is not defined"
     ]
    }
   ],
   "source": [
    "result = []\n",
    "smarts = Chem.MolFromSmarts(\"[r5]!@-[!#1]\")\n",
    "#dsmarts = Chem.MolFromSmarts(\"[C;R1](=[O])@[!#1;R1]@[!#1;R1]\")\n",
    "storsions = []\n",
    "for idx, mol in enumerate(molecule):\n",
    "    bonds = []\n",
    "    smatches = mol.GetSubstructMatches(smarts)\n",
    "    for bond in mol.GetBonds():\n",
    "        bonds.append((bond.GetBeginAtom().GetIdx(),bond.GetEndAtom().GetIdx()))\n",
    "    data = py_rdl.Calculator.get_calculated_result(bonds)\n",
    "    for urf in data.urfs:\n",
    "        rcs = data.get_relevant_cycles_for_urf(urf)\n",
    "        for rc in rcs:\n",
    "            if len(list(rc.nodes))==5:\n",
    "                ringloop = RA.Rearrangement(mol, list(rc.nodes))\n",
    "                coord = np.array([mol.GetConformer().GetAtomPosition(atom) for atom in ringloop])\n",
    "                ccoord = RA.Translate(coord)\n",
    "                cptmp = RA.GetRingPuckerCoords(ccoord)\n",
    "                bond = RA.GetRingBonds(mol, ringloop)\n",
    "                bondtype = [item[1] for item in bond]\n",
    "                atomtype = RA.GetRingAtomType(mol, ringloop)\n",
    "                torsion = [rdMolTransforms.GetDihedralRad(mol.GetConformer(),*[ringloop[x] for x in [i%5,(i+1)%5,(i+2)%5,(i+3)%5]]) for i in range(5) ]\n",
    "                for m in smatches:\n",
    "                    if m[0] in ringloop:\n",
    "                        storsions.append((idx,bondtype,atomtype,ringloop.index(m[0]),cptmp[0][0],cptmp[1][0], *RA.GetRingSubstituentPosition(mol, ringloop, [m[0],m[1]])))\n",
    "                #dtorsions = []\n",
    "                #for m in dmatches:\n",
    "                #    dtorsions.append([(ni, rdMolTransforms.GetDihedralRad(mol.GetConformer(),m[1], ringloop[ni],ringloop[(ni+1)%5],ringloop[(ni+2)%5]))])\n",
    "                result.append((idx,*cptmp[0],*cptmp[1],*bondtype,*atomtype,*torsion, dtorsions, storsions))\n"
   ]
  },
  {
   "cell_type": "code",
   "execution_count": 228,
   "metadata": {},
   "outputs": [],
   "source": [
    "t = pd.DataFrame(storsions)"
   ]
  },
  {
   "cell_type": "code",
   "execution_count": 229,
   "metadata": {},
   "outputs": [],
   "source": [
    "kidx = []\n",
    "for idx in range(len(t)):\n",
    "    check1 = [x==1.0 for x in t.iloc[idx,1]]\n",
    "    check2 = [x==\"M\" for x in t.iloc[idx,2]]\n",
    "    if all(check1) and all(check2):\n",
    "        kidx.append(idx)"
   ]
  },
  {
   "cell_type": "code",
   "execution_count": 295,
   "metadata": {},
   "outputs": [],
   "source": [
    "fil = t.iloc[kidx,:][t.iloc[kidx,3]==1]"
   ]
  },
  {
   "cell_type": "code",
   "execution_count": 359,
   "metadata": {},
   "outputs": [],
   "source": [
    "fil1 = fil[fil.iloc[:,6]<0.8]"
   ]
  },
  {
   "cell_type": "code",
   "execution_count": 360,
   "metadata": {},
   "outputs": [],
   "source": [
    "c1, c2 = fil1.iloc[:,4],fil1.iloc[:,5]\n",
    "Y = fil1.iloc[:,6]"
   ]
  },
  {
   "cell_type": "code",
   "execution_count": 361,
   "metadata": {},
   "outputs": [],
   "source": [
    "X = np.column_stack([np.ones(len(c1)), (c1**2)*np.cos(2*c2),(c1**2)*np.sin(2*c2), c1*np.cos(c2), c1*np.sin(c2)])"
   ]
  },
  {
   "cell_type": "code",
   "execution_count": 362,
   "metadata": {},
   "outputs": [],
   "source": [
    "fil2 = fil[fil.iloc[:,6]>1.5]"
   ]
  },
  {
   "cell_type": "code",
   "execution_count": null,
   "metadata": {},
   "outputs": [],
   "source": []
  },
  {
   "cell_type": "code",
   "execution_count": null,
   "metadata": {},
   "outputs": [],
   "source": []
  },
  {
   "cell_type": "code",
   "execution_count": 364,
   "metadata": {},
   "outputs": [],
   "source": [
    "xtx = np.linalg.inv(np.matmul(np.transpose(X),X))\n",
    "xty = np.matmul(np.transpose(X),Y)\n",
    "beta = np.matmul(xtx,xty)\n",
    "xb = np.matmul(X,beta)"
   ]
  },
  {
   "cell_type": "code",
   "execution_count": 365,
   "metadata": {},
   "outputs": [
    {
     "data": {
      "text/plain": [
       "array([ 0.61718693,  0.15071282, -0.21828034,  1.01143493,  0.59868938])"
      ]
     },
     "execution_count": 365,
     "metadata": {},
     "output_type": "execute_result"
    }
   ],
   "source": [
    "beta"
   ]
  },
  {
   "cell_type": "code",
   "execution_count": 366,
   "metadata": {},
   "outputs": [
    {
     "data": {
      "text/plain": [
       "<matplotlib.collections.PathCollection at 0x7fd9b6af3908>"
      ]
     },
     "execution_count": 366,
     "metadata": {},
     "output_type": "execute_result"
    },
    {
     "data": {
      "image/png": "[encoded data removed]",
      "text/plain": [
       "<Figure size 432x288 with 1 Axes>"
      ]
     },
     "metadata": {
      "needs_background": "light"
     },
     "output_type": "display_data"
    }
   ],
   "source": [
    "plt.scatter(xb,Y)"
   ]
  },
  {
   "cell_type": "code",
   "execution_count": 367,
   "metadata": {},
   "outputs": [
    {
     "data": {
      "text/plain": [
       "array([[1.        , 0.94478294],\n",
       "       [0.94478294, 1.        ]])"
      ]
     },
     "execution_count": 367,
     "metadata": {},
     "output_type": "execute_result"
    }
   ],
   "source": [
    "np.corrcoef(xb,Y)"
   ]
  },
  {
   "cell_type": "code",
   "execution_count": null,
   "metadata": {},
   "outputs": [],
   "source": []
  },
  {
   "cell_type": "code",
   "execution_count": 270,
   "metadata": {},
   "outputs": [
    {
     "ename": "KeyboardInterrupt",
     "evalue": "",
     "output_type": "error",
     "traceback": [
      "\u001b[0;31m---------------------------------------------------------------------------\u001b[0m",
      "\u001b[0;31mKeyboardInterrupt\u001b[0m                         Traceback (most recent call last)",
      "\u001b[0;32m<ipython-input-270-b915e6188fd4>\u001b[0m in \u001b[0;36m<module>\u001b[0;34m()\u001b[0m\n\u001b[1;32m     14\u001b[0m             \u001b[0;32mif\u001b[0m \u001b[0mlen\u001b[0m\u001b[0;34m(\u001b[0m\u001b[0mlist\u001b[0m\u001b[0;34m(\u001b[0m\u001b[0mrc\u001b[0m\u001b[0;34m.\u001b[0m\u001b[0mnodes\u001b[0m\u001b[0;34m)\u001b[0m\u001b[0;34m)\u001b[0m\u001b[0;34m==\u001b[0m\u001b[0;36m5\u001b[0m\u001b[0;34m:\u001b[0m\u001b[0;34m\u001b[0m\u001b[0m\n\u001b[1;32m     15\u001b[0m                 \u001b[0mringloop\u001b[0m \u001b[0;34m=\u001b[0m \u001b[0mRA\u001b[0m\u001b[0;34m.\u001b[0m\u001b[0mRearrangement\u001b[0m\u001b[0;34m(\u001b[0m\u001b[0mmol\u001b[0m\u001b[0;34m,\u001b[0m \u001b[0mlist\u001b[0m\u001b[0;34m(\u001b[0m\u001b[0mrc\u001b[0m\u001b[0;34m.\u001b[0m\u001b[0mnodes\u001b[0m\u001b[0;34m)\u001b[0m\u001b[0;34m)\u001b[0m\u001b[0;34m\u001b[0m\u001b[0m\n\u001b[0;32m---> 16\u001b[0;31m                 \u001b[0mcoord\u001b[0m \u001b[0;34m=\u001b[0m \u001b[0mnp\u001b[0m\u001b[0;34m.\u001b[0m\u001b[0marray\u001b[0m\u001b[0;34m(\u001b[0m\u001b[0;34m[\u001b[0m\u001b[0mmol\u001b[0m\u001b[0;34m.\u001b[0m\u001b[0mGetConformer\u001b[0m\u001b[0;34m(\u001b[0m\u001b[0;34m)\u001b[0m\u001b[0;34m.\u001b[0m\u001b[0mGetAtomPosition\u001b[0m\u001b[0;34m(\u001b[0m\u001b[0matom\u001b[0m\u001b[0;34m)\u001b[0m \u001b[0;32mfor\u001b[0m \u001b[0matom\u001b[0m \u001b[0;32min\u001b[0m \u001b[0mringloop\u001b[0m\u001b[0;34m]\u001b[0m\u001b[0;34m)\u001b[0m\u001b[0;34m\u001b[0m\u001b[0m\n\u001b[0m\u001b[1;32m     17\u001b[0m                 \u001b[0mccoord\u001b[0m \u001b[0;34m=\u001b[0m \u001b[0mRA\u001b[0m\u001b[0;34m.\u001b[0m\u001b[0mTranslate\u001b[0m\u001b[0;34m(\u001b[0m\u001b[0mcoord\u001b[0m\u001b[0;34m)\u001b[0m\u001b[0;34m\u001b[0m\u001b[0m\n\u001b[1;32m     18\u001b[0m                 \u001b[0mcptmp\u001b[0m \u001b[0;34m=\u001b[0m \u001b[0mRA\u001b[0m\u001b[0;34m.\u001b[0m\u001b[0mGetRingPuckerCoords\u001b[0m\u001b[0;34m(\u001b[0m\u001b[0mccoord\u001b[0m\u001b[0;34m)\u001b[0m\u001b[0;34m\u001b[0m\u001b[0m\n",
      "\u001b[0;31mKeyboardInterrupt\u001b[0m: "
     ]
    }
   ],
   "source": [
    "result = []\n",
    "smarts = Chem.MolFromSmarts(\"[r5]([!#1])@[r5]@[r5]\")\n",
    "dsmarts = Chem.MolFromSmarts(\"[C;R1](=[O])@[!#1;R1]@[!#1;R1]\")\n",
    "for idx, mol in enumerate(molecule):\n",
    "    bonds = []\n",
    "    smatches = mol.GetSubstructMatches(smarts)\n",
    "    dmatches = mol.GetSubstructMatches(dsmarts)\n",
    "    for bond in mol.GetBonds():\n",
    "        bonds.append((bond.GetBeginAtom().GetIdx(),bond.GetEndAtom().GetIdx()))\n",
    "    data = py_rdl.Calculator.get_calculated_result(bonds)\n",
    "    for urf in data.urfs:\n",
    "        rcs = data.get_relevant_cycles_for_urf(urf)\n",
    "        for rc in rcs:\n",
    "            if len(list(rc.nodes))==5:\n",
    "                ringloop = RA.Rearrangement(mol, list(rc.nodes))\n",
    "                coord = np.array([mol.GetConformer().GetAtomPosition(atom) for atom in ringloop])\n",
    "                ccoord = RA.Translate(coord)\n",
    "                cptmp = RA.GetRingPuckerCoords(ccoord)\n",
    "                bond = RA.GetRingBonds(mol, ringloop)\n",
    "                bondtype = [item[1] for item in bond]\n",
    "                atomtype = RA.GetRingAtomType(mol, ringloop)\n",
    "                torsion = [rdMolTransforms.GetDihedralRad(mol.GetConformer(),*[ringloop[x] for x in [i%5,(i+1)%5,(i+2)%5,(i+3)%5]]) for i in range(5) ]\n",
    "                storsions = []\n",
    "                for m in smatches:\n",
    "                    if (m[0] in ringloop) and (m[2] in ringloop) and (m[3] in ringloop):\n",
    "                        if (ringloop.index(m[0])<ringloop.index(m[2])) and (ringloop.index(m[2])<ringloop.index(m[3])):\n",
    "                            ni = ringloop.index(m[0])\n",
    "                            storsions.append([(ni, rdMolTransforms.GetDihedralRad(mol.GetConformer(),m[1], ringloop[ni],ringloop[(ni+1)%5],ringloop[(ni+2)%5]))])\n",
    "                dtorsions = []\n",
    "                for m in dmatches:\n",
    "                    if (m[0] in ringloop) and (m[2] in ringloop) and (m[3] in ringloop):\n",
    "                        if (ringloop.index(m[0])<ringloop.index(m[2])) and (ringloop.index(m[2])<ringloop.index(m[3])):\n",
    "                            ni = ringloop.index(m[0])\n",
    "                            dtorsions.append([(ni, rdMolTransforms.GetDihedralRad(mol.GetConformer(),m[1], ringloop[ni],ringloop[(ni+1)%5],ringloop[(ni+2)%5]))])\n",
    "                #tmp =[]\n",
    "                #for m in match:\n",
    "                #    if (m[0] in ringloop) and (m[1] in ringloop) and (m[2] in ringloop) and (ringloop.index(m[2])>ringloop.index(m[1])):\n",
    "                #         tmp.append((ringloop.index(m[2]), rdMolTransforms.GetDihedralRad(mol.GetConformer(), *m)))\n",
    "                result.append((idx,*cptmp[0],*cptmp[1],*bondtype,*atomtype,*torsion, dtorsions, storsions))\n"
   ]
  },
  {
   "cell_type": "code",
   "execution_count": null,
   "metadata": {},
   "outputs": [],
   "source": [
    "dtorsions"
   ]
  },
  {
   "cell_type": "code",
   "execution_count": null,
   "metadata": {},
   "outputs": [],
   "source": []
  },
  {
   "cell_type": "code",
   "execution_count": null,
   "metadata": {},
   "outputs": [],
   "source": []
  },
  {
   "cell_type": "code",
   "execution_count": 183,
   "metadata": {},
   "outputs": [],
   "source": [
    "f = pd.DataFrame(result)"
   ]
  },
  {
   "cell_type": "code",
   "execution_count": 184,
   "metadata": {},
   "outputs": [],
   "source": [
    "si = []\n",
    "for idx, item in enumerate(f.iloc[:,8:13].values):\n",
    "    check = [x==\"M\" for x in item]\n",
    "    if all(check):\n",
    "        si.append(idx)\n",
    "\n",
    "g = f.iloc[si,:].reset_index(drop=True)\n",
    "gi = []\n",
    "for idx, item in enumerate(g.iloc[:,3:8].values):\n",
    "    check = [x==1.0 for x in item]\n",
    "    if all(check):\n",
    "        gi.append(idx)\n",
    "final = g.iloc[gi,:].reset_index(drop=True)"
   ]
  },
  {
   "cell_type": "code",
   "execution_count": null,
   "metadata": {},
   "outputs": [],
   "source": []
  },
  {
   "cell_type": "code",
   "execution_count": 185,
   "metadata": {},
   "outputs": [],
   "source": [
    "f1,f2,f3 = np.ones(len(final)), final.iloc[:,1]*np.cos(final.iloc[:,2]).values,final.iloc[:,1]*np.sin(final.iloc[:,2]).values\n",
    "X = np.column_stack([f1,f2,f3])\n",
    "Y = final.iloc[:,13].values"
   ]
  },
  {
   "cell_type": "code",
   "execution_count": null,
   "metadata": {},
   "outputs": [],
   "source": []
  },
  {
   "cell_type": "code",
   "execution_count": 186,
   "metadata": {},
   "outputs": [],
   "source": [
    "xtx = np.linalg.inv(np.matmul(np.transpose(X),X))\n",
    "xty = np.matmul(np.transpose(X),Y)\n",
    "beta = np.matmul(xtx,xty)"
   ]
  },
  {
   "cell_type": "code",
   "execution_count": 187,
   "metadata": {},
   "outputs": [
    {
     "data": {
      "text/plain": [
       "<matplotlib.collections.PathCollection at 0x7fd9c091b748>"
      ]
     },
     "execution_count": 187,
     "metadata": {},
     "output_type": "execute_result"
    },
    {
     "data": {
      "image/png": "[encoded data removed]",
      "text/plain": [
       "<Figure size 432x288 with 1 Axes>"
      ]
     },
     "metadata": {
      "needs_background": "light"
     },
     "output_type": "display_data"
    }
   ],
   "source": [
    "plt.scatter(np.matmul(X,beta),Y)"
   ]
  },
  {
   "cell_type": "code",
   "execution_count": 192,
   "metadata": {},
   "outputs": [],
   "source": [
    "qi = []\n",
    "for idx, item in enumerate(final.iloc[:,19].values):\n",
    "    for x in item:\n",
    "        if x[0][0]==1:\n",
    "            qi.append((final.iloc[idx,0],x[0][1],*final.iloc[idx,13:18].values.tolist()))\n",
    "            \n",
    "    "
   ]
  },
  {
   "cell_type": "code",
   "execution_count": null,
   "metadata": {},
   "outputs": [],
   "source": []
  },
  {
   "cell_type": "code",
   "execution_count": 17,
   "metadata": {
    "scrolled": false
   },
   "outputs": [],
   "source": [
    "a = pd.DataFrame(result)\n",
    "\n",
    "k = []\n",
    "for idx, i in enumerate(a.iloc[:,8:13].values):\n",
    "    if list(i)==[\"M\",\"M\",\"M\",\"M\",\"M\"]:\n",
    "        k.append(idx)\n",
    "        \n",
    "b = a.iloc[k,:].reset_index(drop=True)\n",
    "\n",
    "k1 = []\n",
    "k0 = []\n",
    "for idx, item in enumerate(b.iloc[:,3:7].values):\n",
    "    check = [x==1.5 or x==2.0 for x in item]\n",
    "    if sum(check)==0:\n",
    "        k0.append(idx)\n",
    "    elif sum(check)==1:\n",
    "        k1.append(idx)"
   ]
  },
  {
   "cell_type": "code",
   "execution_count": null,
   "metadata": {},
   "outputs": [],
   "source": []
  },
  {
   "cell_type": "code",
   "execution_count": null,
   "metadata": {},
   "outputs": [],
   "source": []
  },
  {
   "cell_type": "code",
   "execution_count": 18,
   "metadata": {},
   "outputs": [],
   "source": [
    "qq = b.iloc[k0,:].reset_index(drop=True)"
   ]
  },
  {
   "cell_type": "code",
   "execution_count": 19,
   "metadata": {},
   "outputs": [],
   "source": [
    "qqcp = qq.iloc[:,1:3]\n",
    "qqt = qq.iloc[:,13:18]"
   ]
  },
  {
   "cell_type": "code",
   "execution_count": null,
   "metadata": {},
   "outputs": [],
   "source": []
  },
  {
   "cell_type": "code",
   "execution_count": 20,
   "metadata": {},
   "outputs": [],
   "source": [
    "Y = qqt.iloc[:,0]\n",
    "X1 = np.array(qqcp.iloc[:,0]*np.cos(qqcp.iloc[:,1]))\n",
    "X2 = np.array(qqcp.iloc[:,0]*np.sin(qqcp.iloc[:,1])) "
   ]
  },
  {
   "cell_type": "code",
   "execution_count": 21,
   "metadata": {},
   "outputs": [],
   "source": [
    "X = np.array([np.ones(len(X1)),X1,X2]).transpose()"
   ]
  },
  {
   "cell_type": "code",
   "execution_count": 22,
   "metadata": {},
   "outputs": [],
   "source": [
    "xtx = np.linalg.inv(np.matmul(np.transpose(X),X))\n",
    "xty = np.matmul(np.transpose(X),Y)\n",
    "\n",
    "r = np.matmul(xtx,xty)"
   ]
  },
  {
   "cell_type": "code",
   "execution_count": 23,
   "metadata": {},
   "outputs": [
    {
     "data": {
      "text/plain": [
       "array([-7.67584045e-04,  1.06556925e+00,  1.45228565e+00])"
      ]
     },
     "execution_count": 23,
     "metadata": {},
     "output_type": "execute_result"
    }
   ],
   "source": [
    "r"
   ]
  },
  {
   "cell_type": "code",
   "execution_count": 24,
   "metadata": {},
   "outputs": [
    {
     "data": {
      "text/plain": [
       "<matplotlib.collections.PathCollection at 0x7f7add955ac8>"
      ]
     },
     "execution_count": 24,
     "metadata": {},
     "output_type": "execute_result"
    },
    {
     "data": {
      "image/png": "[encoded data removed]",
      "text/plain": [
       "<Figure size 432x288 with 1 Axes>"
      ]
     },
     "metadata": {
      "needs_background": "light"
     },
     "output_type": "display_data"
    }
   ],
   "source": [
    "plt.scatter(np.matmul(X,np.transpose(np.matmul(xtx,xty))),Y)"
   ]
  },
  {
   "cell_type": "code",
   "execution_count": 25,
   "metadata": {},
   "outputs": [],
   "source": [
    "Y2 = np.matmul(X,np.transpose(np.matmul(xtx,xty)))"
   ]
  },
  {
   "cell_type": "code",
   "execution_count": 26,
   "metadata": {},
   "outputs": [],
   "source": [
    "k = []\n",
    "w = []\n",
    "for idx, item in enumerate(qq.iloc[:,18].values):\n",
    "    for x in item:\n",
    "        if x[0]==1:\n",
    "            k.append(idx)\n",
    "            w.append(x[1])"
   ]
  },
  {
   "cell_type": "code",
   "execution_count": 329,
   "metadata": {},
   "outputs": [],
   "source": [
    "def EnumerateRingBond(mol, idxlist):\n",
    "    \"\"\"\n",
    "    Enumerate bonds in a cycle\n",
    "\n",
    "    Input:\n",
    "\n",
    "    mol: rdMol\n",
    "\n",
    "    idxlist: list (ring atoms)\n",
    "\n",
    "    Return:\n",
    "\n",
    "    ringbond: list of tuples [(atom_1, atom_2)]\n",
    "    \n",
    "    \"\"\"\n",
    "    ringbond = []\n",
    "    size = len(idxlist)\n",
    "    ringbond = [(idxlist[i%size],idxlist[(i+1)%size]) for i in range(size)]\n",
    "    return ringbond"
   ]
  },
  {
   "cell_type": "code",
   "execution_count": null,
   "metadata": {},
   "outputs": [],
   "source": [
    "def GetShareSingleBondAtomsInRing(mol):\n",
    "    \"\"\"\n",
    "    Identify single bond shared by multiple ring systems\n",
    "\n",
    "    Return:\n",
    "\n",
    "    \"\"\"\n",
    "    edgelist = []\n",
    "    for bond in mol.GetBonds():\n",
    "        edgelist.append((bond.GetBeginAtomIdx(), bond.GetEndAtomIdx()))\n",
    "    data = py_rdl.Calculator.get_calculated_result(edgelist)\n",
    "    rings = []\n",
    "    for urf in data.urfs:\n",
    "        rcs = data.get_relevant_cycles_for_urf(urf)\n",
    "        for rc in rcs:\n",
    "            rcs = data.get_relevant_cycles_for_urf(urf)\n",
    "            ringatoms = Rearrangement(mol,list(rc.nodes))\n",
    "            rings.append([str(rc.urf),ringatoms])\n",
    "    NumRCs = len(rings)\n",
    "    # identify the atoms/single bonds that share in fused ring\n",
    "    bridgehead_atoms = []\n",
    "    bridgehead_set = list(set(bridgehead_atoms))\n",
    "    # Check for Fused Ring/Bridge Ring Atoms\n",
    "    for i in itertools.combinations(range(NumRCs),2):\n",
    "        if rings[i[0]][0]!=rings[i[1]][0]:  # only consider unpaired URFs\n",
    "            bondsetA = EnumerateRingBond(mol,rings[i[0]][1])\n",
    "            bondsetB = EnumerateRingBond(mol,rings[i[1]][1])\n",
    "            sorted_bondsetA = [tuple(sorted(ebond)) for ebond in bondsetA]\n",
    "            sorted_bondsetB = [tuple(sorted(ebond)) for ebond in bondsetB]\n",
    "            intersections = list(set(sorted_bondsetA).intersection(sorted_bondsetB))\n",
    "            intersectionelement = [x for bondpair in intersections for x in bondpair]\n",
    "            if any(intersections):\n",
    "                if len(intersections)>1:\n",
    "                    bridgering_element = list(set(intersectionelement))\n",
    "                    for node in bridgering_element:\n",
    "                        if intersectionelement.count(node)==1:\n",
    "                            bridgehead_atoms.append(node)\n",
    "            ringsintersection = list(set(rings[i[0]][1]).intersection(set(rings[i[1]][1])))\n",
    "            if len(ringsintersection)==1:\n",
    "                spiro_atoms.append(ringsintersection[0])\n",
    "    bridgehead_set = list(set(bridgehead_atoms))\n",
    "    return bridgehead_set\n",
    "\n"
   ]
  },
  {
   "cell_type": "markdown",
   "metadata": {},
   "source": [
    "# Seven-membered Ring "
   ]
  },
  {
   "cell_type": "code",
   "execution_count": 32,
   "metadata": {},
   "outputs": [],
   "source": [
    "seven = Chem.SDMolSupplier(\"seven_all.sdf\")"
   ]
  },
  {
   "cell_type": "code",
   "execution_count": 76,
   "metadata": {},
   "outputs": [],
   "source": [
    "result1 = []\n",
    "smarts_1 = Chem.MolFromSmarts(\"[R][O;R][C;R](=O)\")\n",
    "for idx, mol in enumerate(seven):\n",
    "    bonds = []\n",
    "    mat1 = mol.GetSubstructMatches(smarts_1)\n",
    "    for bond in mol.GetBonds():\n",
    "        bonds.append((bond.GetBeginAtom().GetIdx(),bond.GetEndAtom().GetIdx()))\n",
    "    data = py_rdl.Calculator.get_calculated_result(bonds)\n",
    "    for urf in data.urfs:\n",
    "        rcs = data.get_relevant_cycles_for_urf(urf)\n",
    "        for rc in rcs:\n",
    "            if len(list(rc.nodes))==7:\n",
    "                ringloop = RA.Rearrangement(mol, list(rc.nodes))\n",
    "                coord = np.array([mol.GetConformer().GetAtomPosition(atom) for atom in ringloop])\n",
    "                ccoord = RA.Translate(coord)\n",
    "                cptmp = RA.GetRingPuckerCoords(ccoord)\n",
    "                bond = RA.GetRingBonds(mol, ringloop)\n",
    "                bondtype = [item[1] for item in bond]\n",
    "                atomtype = RA.GetRingAtomType(mol, ringloop)\n",
    "                check1 = [mat[0] in ringloop for mat in mat1]\n",
    "                result1.append((idx,*cptmp[0],*cptmp[1],*bondtype,*atomtype, any(check1)))\n"
   ]
  },
  {
   "cell_type": "code",
   "execution_count": 33,
   "metadata": {},
   "outputs": [],
   "source": [
    "result = []\n",
    "smarts_1 = Chem.MolFromSmarts(\"[C;R](=O)[O,N;R]\")\n",
    "smarts_2 = Chem.MolFromSmarts(\"[R]1@[R]@[R]1\")\n",
    "smarts_3 = Chem.MolFromSmarts(\"[O;R][C,S;R][O;R]\")\n",
    "smarts_4 = Chem.MolFromSmarts(\"[S;R][S;R]\")\n",
    "smarts_5 = Chem.MolFromSmarts(\"[P,Si;R]\")\n",
    "smarts_6 = Chem.MolFromSmarts(\"[R][O;R][C;R](=O)\")\n",
    "for idx, mol in enumerate(seven):\n",
    "    bonds = []\n",
    "    mat1 = mol.GetSubstructMatches(smarts_1)\n",
    "    mat2 = mol.GetSubstructMatches(smarts_2)\n",
    "    mat3 = mol.GetSubstructMatches(smarts_3)\n",
    "    mat4 = mol.GetSubstructMatches(smarts_4)\n",
    "    mat5 = mol.GetSubstructMatches(smarts_5)\n",
    "    mat6 = mol.GetSubstructMatches(smarts_6)\n",
    "    for bond in mol.GetBonds():\n",
    "        bonds.append((bond.GetBeginAtom().GetIdx(),bond.GetEndAtom().GetIdx()))\n",
    "    data = py_rdl.Calculator.get_calculated_result(bonds)\n",
    "    for urf in data.urfs:\n",
    "        rcs = data.get_relevant_cycles_for_urf(urf)\n",
    "        for rc in rcs:\n",
    "            if len(list(rc.nodes))==7:\n",
    "                ringloop = RA.Rearrangement(mol, list(rc.nodes))\n",
    "                coord = np.array([mol.GetConformer().GetAtomPosition(atom) for atom in ringloop])\n",
    "                ccoord = RA.Translate(coord)\n",
    "                cptmp = RA.GetRingPuckerCoords(ccoord)\n",
    "                bond = RA.GetRingBonds(mol, ringloop)\n",
    "                bondtype = [item[1] for item in bond]\n",
    "                atomtype = RA.GetRingAtomType(mol, ringloop)\n",
    "                check1 = [set(ringloop).intersection(set(mat)) for mat in mat1]\n",
    "                check2 = [set(ringloop).intersection(set(mat)) for mat in mat2]\n",
    "                check3 = [set(ringloop).intersection(set(mat)) for mat in mat3]\n",
    "                check4 = [set(ringloop).intersection(set(mat)) for mat in mat4]\n",
    "                check5 = [set(ringloop).intersection(set(mat)) for mat in mat5]\n",
    "                check6 = [set(ringloop).intersection(set(mat)) for mat in mat6]\n",
    "                check7 = [mat[0] in ringloop for mat in mat7]\n",
    "                check8 = [mat[0] in ringloop for mat in mat8]\n",
    "                result.append((idx,*cptmp[0],*cptmp[1],*bondtype,*atomtype, any(check1), any(check2), any(check3),\n",
    "                               any(check4),any(check5), any(check6)))\n"
   ]
  },
  {
   "cell_type": "code",
   "execution_count": 4,
   "metadata": {},
   "outputs": [],
   "source": [
    "seven_frame = pd.DataFrame(result)\n",
    "mono = []\n",
    "poly = []\n",
    "for idx in range(5686):\n",
    "    check1 = [x==1.0 for x in seven_frame.iloc[idx,5:12].values]\n",
    "    check2 = [x==\"M\" for x in seven_frame.iloc[idx,12:19].values]\n",
    "    if all(check1) and all(check2):\n",
    "        mono.append(idx)\n",
    "    elif all(check1) and not all(check2):\n",
    "        poly.append(idx)\n",
    "    else:\n",
    "        continue"
   ]
  },
  {
   "cell_type": "code",
   "execution_count": 35,
   "metadata": {},
   "outputs": [],
   "source": [
    "alls = mono+poly"
   ]
  },
  {
   "cell_type": "code",
   "execution_count": 43,
   "metadata": {},
   "outputs": [],
   "source": [
    "unconstrained_seven = seven_frame.iloc[alls,:]\n",
    "stf = unconstrained_seven.iloc[:,19:26].sum(axis=1)==0\n",
    "filtered_seven = unconstrained_seven[stf]"
   ]
  },
  {
   "cell_type": "code",
   "execution_count": 38,
   "metadata": {},
   "outputs": [
    {
     "data": {
      "text/plain": [
       "<seaborn.axisgrid.PairGrid at 0x7f776128ecf8>"
      ]
     },
     "execution_count": 38,
     "metadata": {},
     "output_type": "execute_result"
    },
    {
     "data": {
      "image/png": "[encoded data removed]",
      "text/plain": [
       "<Figure size 360x360 with 6 Axes>"
      ]
     },
     "metadata": {
      "needs_background": "light"
     },
     "output_type": "display_data"
    }
   ],
   "source": [
    "sns.pairplot(seven_frame.iloc[alls,:][seven_frame.iloc[alls,19:25].sum(axis=1)==0].iloc[:,3:5])"
   ]
  },
  {
   "cell_type": "code",
   "execution_count": 7,
   "metadata": {},
   "outputs": [],
   "source": [
    "a = seven_frame.iloc[alls,:][seven_frame.iloc[alls,19:].values.sum(axis=1)==0]"
   ]
  },
  {
   "cell_type": "code",
   "execution_count": 8,
   "metadata": {},
   "outputs": [
    {
     "data": {
      "text/plain": [
       "<seaborn.axisgrid.PairGrid at 0x7f77606402e8>"
      ]
     },
     "execution_count": 8,
     "metadata": {},
     "output_type": "execute_result"
    },
    {
     "data": {
      "image/png": "[encoded data removed]",
      "text/plain": [
       "<Figure size 360x360 with 6 Axes>"
      ]
     },
     "metadata": {
      "needs_background": "light"
     },
     "output_type": "display_data"
    }
   ],
   "source": [
    "sns.pairplot(a.iloc[:,3:5])"
   ]
  },
  {
   "cell_type": "code",
   "execution_count": 9,
   "metadata": {},
   "outputs": [],
   "source": [
    "a = seven_frame.iloc[poly]"
   ]
  },
  {
   "cell_type": "code",
   "execution_count": 10,
   "metadata": {},
   "outputs": [],
   "source": [
    "x = np.arange(-np.pi,np.pi,0.02)\n",
    "y1 = -np.pi+x/3\n",
    "y2 = -np.pi/3+x/3\n",
    "y3 = np.pi/3+x/3\n",
    "y4 = np.pi+x/3"
   ]
  },
  {
   "cell_type": "code",
   "execution_count": 11,
   "metadata": {},
   "outputs": [
    {
     "data": {
      "text/plain": [
       "<matplotlib.collections.PathCollection at 0x7f77605382e8>"
      ]
     },
     "execution_count": 11,
     "metadata": {},
     "output_type": "execute_result"
    },
    {
     "data": {
      "image/png": "[encoded data removed]",
      "text/plain": [
       "<Figure size 432x288 with 1 Axes>"
      ]
     },
     "metadata": {
      "needs_background": "light"
     },
     "output_type": "display_data"
    }
   ],
   "source": [
    "plt.scatter(a.iloc[:,3],a.iloc[:,4])\n",
    "plt.scatter(x,y1)\n",
    "plt.scatter(x,y2)\n",
    "plt.scatter(x,y3)\n",
    "plt.scatter(x,y4)"
   ]
  },
  {
   "cell_type": "code",
   "execution_count": 54,
   "metadata": {},
   "outputs": [],
   "source": [
    "a = a.reset_index(drop=True)\n",
    "t = pd.concat([a.iloc[:,4]-(a.iloc[:,3]/3-np.pi),a.iloc[:,4]-(a.iloc[:,3]/3-np.pi/3),a.iloc[:,4]-(a.iloc[:,3]/3+np.pi/3),a.iloc[:,4]-(a.iloc[:,3]/3+np.pi)],axis=1)\n",
    "b = a[(np.abs(t)<0.5).apply(any,axis=1)]"
   ]
  },
  {
   "cell_type": "code",
   "execution_count": 55,
   "metadata": {},
   "outputs": [],
   "source": [
    "notin = [i for i in range(1222) if i not in b.index ]"
   ]
  },
  {
   "cell_type": "code",
   "execution_count": null,
   "metadata": {},
   "outputs": [],
   "source": []
  },
  {
   "cell_type": "code",
   "execution_count": null,
   "metadata": {},
   "outputs": [],
   "source": []
  },
  {
   "cell_type": "code",
   "execution_count": null,
   "metadata": {},
   "outputs": [],
   "source": []
  },
  {
   "cell_type": "code",
   "execution_count": null,
   "metadata": {},
   "outputs": [],
   "source": []
  },
  {
   "cell_type": "code",
   "execution_count": 98,
   "metadata": {
    "scrolled": true
   },
   "outputs": [],
   "source": [
    "x1 = np.array([-np.pi/3,np.pi/3])\n",
    "y1a = 3*x1\n",
    "y1b = np.pi/3+x1\n",
    "\n",
    "x2 = np.array([-np.pi/3,0])\n",
    "y2a = 3*x2\n",
    "y2b = np.pi+x2\n",
    "\n",
    "x3 = np.array([-np.pi/3,np.pi/3])\n",
    "y3a = 3*x1\n",
    "y3b = -np.pi/3+x1\n",
    "\n",
    "x4 = np.array([0,np.pi/3])\n",
    "y4a = 3*x4\n",
    "y4b = -np.pi+x4\n",
    "\n"
   ]
  },
  {
   "cell_type": "code",
   "execution_count": 101,
   "metadata": {
    "scrolled": false
   },
   "outputs": [
    {
     "data": {
      "image/png": "[encoded data removed]",
      "text/plain": [
       "<Figure size 360x360 with 3 Axes>"
      ]
     },
     "metadata": {
      "needs_background": "light"
     },
     "output_type": "display_data"
    }
   ],
   "source": [
    "fig = plt.figure(figsize=(5,5))\n",
    "gs = gridspec.GridSpec(nrows=3, ncols=3, wspace=0.1, hspace=0.1)\n",
    "x,y, = np.linspace(-np.pi,np.pi,100),np.linspace(-np.pi,np.pi,100)\n",
    "X,Y  = np.meshgrid(x,y)\n",
    "ax0_joint = fig.add_subplot(gs[1:3,0:2])\n",
    "ax0_marg_x = fig.add_subplot(gs[0,0:2])\n",
    "ax0_marg_y = fig.add_subplot(gs[1:3,2])\n",
    "\n",
    "ax0_joint.scatter(unconstrained_seven.iloc[:,3],unconstrained_seven.iloc[:,4],s=10)\n",
    "ax0_joint.plot(y1a,y1b,color=\"red\",lw=2)\n",
    "ax0_joint.plot(y2a,y2b,color=\"red\",lw=2)\n",
    "ax0_joint.plot(y3a,y3b,color=\"red\",lw=2)\n",
    "ax0_joint.plot(y4a,y4b,color=\"red\",lw=2)\n",
    "ax0_marg_x.hist(unconstrained_seven.iloc[:,3], bins=50, color=\"grey\")\n",
    "ax0_marg_y.hist(unconstrained_seven.iloc[:,4],orientation=\"horizontal\", bins=50, color=\"grey\")\n",
    "ax0_marg_x.set_xticks([-np.pi,-np.pi/2,0,np.pi/2,np.pi])\n",
    "ax0_marg_y.set_xticks([-np.pi,-np.pi/2,0,np.pi/2,np.pi])\n",
    "ax0_marg_x.set_axis_off()\n",
    "ax0_marg_y.set_axis_off()\n",
    "ax0_joint.set_xlabel(r\"$\\phi_{2}$ (Rad)\", fontsize=16)\n",
    "ax0_joint.set_ylabel(r\"$\\phi_{3}$ (Rad)\", fontsize=16)\n",
    "ax0_joint.set_xticks([-np.pi,-np.pi/2,0,np.pi/2,np.pi])\n",
    "ax0_joint.set_yticks([-np.pi,-np.pi/2,0,np.pi/2,np.pi])\n",
    "ax0_joint.set_xticklabels([r\"-$\\pi$\", r\"-$\\frac{\\pi}{2}$\", 0, r\"$\\frac{\\pi}{2}$\", r\"$\\pi$\"], fontsize=16)\n",
    "ax0_joint.set_yticklabels([r\"-$\\pi$\", r\"-$\\frac{\\pi}{2}$\", 0, r\"$\\frac{\\pi}{2}$\", r\"$\\pi$\"], fontsize=16)\n",
    "plt.savefig(\"Fig/Macrocycle/seven_phis_all.pdf\",dpi=150, bbox_inches=\"tight\")\n",
    "plt.show()\n"
   ]
  },
  {
   "cell_type": "code",
   "execution_count": 524,
   "metadata": {},
   "outputs": [
    {
     "data": {
      "image/png": "[encoded data removed]",
      "text/plain": [
       "<Figure size 432x288 with 1 Axes>"
      ]
     },
     "metadata": {
      "needs_background": "light"
     },
     "output_type": "display_data"
    }
   ],
   "source": [
    "x1 = np.arange(-np.pi,np.pi,0.02)\n",
    "y1a = np.mod(3*x1,np.pi*2)-np.pi\n",
    "y1b = np.mod(3*x1+3*np.pi/7,np.pi*2)-np.pi\n",
    "y2a = np.mod(x1+np.pi,np.pi*2)-np.pi\n",
    "y2b = np.mod(x1+np.pi+np.pi/7,np.pi*2)-np.pi\n",
    "#plt.scatter(y1a,y2a)\n",
    "plt.xlim(-np.pi,np.pi)\n",
    "plt.scatter(b.iloc[:,3],b.iloc[:,4])\n",
    "plt.show()\n",
    "#plt.scatter(b.iloc[:,3],b.iloc[:,4])"
   ]
  },
  {
   "cell_type": "code",
   "execution_count": null,
   "metadata": {},
   "outputs": [],
   "source": []
  },
  {
   "cell_type": "code",
   "execution_count": null,
   "metadata": {},
   "outputs": [],
   "source": []
  },
  {
   "cell_type": "code",
   "execution_count": null,
   "metadata": {},
   "outputs": [],
   "source": []
  },
  {
   "cell_type": "code",
   "execution_count": 267,
   "metadata": {},
   "outputs": [
    {
     "data": {
      "text/plain": [
       "<matplotlib.collections.PathCollection at 0x7fed472899b0>"
      ]
     },
     "execution_count": 267,
     "metadata": {},
     "output_type": "execute_result"
    },
    {
     "data": {
      "image/png": "[encoded data removed]",
      "text/plain": [
       "<Figure size 432x288 with 1 Axes>"
      ]
     },
     "metadata": {
      "needs_background": "light"
     },
     "output_type": "display_data"
    }
   ],
   "source": [
    "x1 = np.arange(-np.pi,np.pi,0.02)\n",
    "y1a = np.mod(3*x1,np.pi*2)-np.pi\n",
    "y1b = np.mod(3*x1+3*np.pi/7,np.pi*2)-np.pi\n",
    "y2a = np.mod(x1+np.pi,np.pi*2)-np.pi\n",
    "y2b = np.mod(x1+np.pi+np.pi/7,np.pi*2)-np.pi\n",
    "plt.scatter(y1a,y2a)\n",
    "#plt.scatter(y1b,y2b)\n",
    "plt.scatter(b.iloc[:,3],b.iloc[:,4])\n",
    "#plt.scatter(y2a,y2b)"
   ]
  },
  {
   "cell_type": "markdown",
   "metadata": {},
   "source": [
    "# Eight-membered Ring"
   ]
  },
  {
   "cell_type": "code",
   "execution_count": 102,
   "metadata": {},
   "outputs": [],
   "source": [
    "eight = Chem.SDMolSupplier(\"eight_all.sdf\")"
   ]
  },
  {
   "cell_type": "code",
   "execution_count": 103,
   "metadata": {},
   "outputs": [],
   "source": [
    "result = []\n",
    "smarts_1 = Chem.MolFromSmarts(\"[C;R](=O)[O,N;R]\") \n",
    "smarts_2 = Chem.MolFromSmarts(\"[Si;R][O;R]\")\n",
    "for idx, mol in enumerate(eight):\n",
    "    bonds = []\n",
    "    mat1 = mol.GetSubstructMatches(smarts_1)\n",
    "    mat2 = mol.GetSubstructMatches(smarts_2)\n",
    "    mat3 = mol.GetSubstructMatches(smarts_3)\n",
    "    mat4 = mol.GetSubstructMatches(smarts_4)\n",
    "    for bond in mol.GetBonds():\n",
    "        bonds.append((bond.GetBeginAtom().GetIdx(),bond.GetEndAtom().GetIdx()))\n",
    "    data = py_rdl.Calculator.get_calculated_result(bonds)\n",
    "    for urf in data.urfs:\n",
    "        rcs = data.get_relevant_cycles_for_urf(urf)\n",
    "        for rc in rcs:\n",
    "            if len(list(rc.nodes))==8:\n",
    "                ringloop = RA.Rearrangement(mol, list(rc.nodes))\n",
    "                coord = np.array([mol.GetConformer().GetAtomPosition(atom) for atom in ringloop])\n",
    "                ccoord = RA.Translate(coord)\n",
    "                cptmp = RA.GetRingPuckerCoords(ccoord)\n",
    "                bond = RA.GetRingBonds(mol, ringloop)\n",
    "                bondtype = [item[1] for item in bond]\n",
    "                ringatom = [item[1] for item in RA.GetRingElement(mol, ringloop)]\n",
    "                atomtype = RA.GetRingAtomType(mol, ringloop)\n",
    "                check1 = [set(ringloop).intersection(set(mat)) for mat in mat1]\n",
    "                check2 = [set(ringloop).intersection(set(mat)) for mat in mat2]\n",
    "                result.append((idx,*cptmp[0],*cptmp[1],*bondtype,*atomtype, *ringatom, any(check1),any(check2)))\n"
   ]
  },
  {
   "cell_type": "code",
   "execution_count": 104,
   "metadata": {},
   "outputs": [],
   "source": [
    "eight_frame = pd.DataFrame(result)\n",
    "mono = []\n",
    "poly = []\n",
    "for idx in range(1007):\n",
    "    check1 = [x==1.0 for x in eight_frame.iloc[idx,6:14].values]\n",
    "    check2 = [x==\"M\" for x in eight_frame.iloc[idx,14:22].values]\n",
    "    if all(check1) and all(check2):\n",
    "        mono.append(idx)\n",
    "    elif all(check1) and not all(check2):\n",
    "        poly.append(idx)\n",
    "    else:\n",
    "        continue"
   ]
  },
  {
   "cell_type": "code",
   "execution_count": 105,
   "metadata": {},
   "outputs": [],
   "source": [
    "alls = mono+poly"
   ]
  },
  {
   "cell_type": "code",
   "execution_count": null,
   "metadata": {},
   "outputs": [],
   "source": []
  },
  {
   "cell_type": "code",
   "execution_count": 114,
   "metadata": {},
   "outputs": [],
   "source": [
    "sel = eight_frame.iloc[alls,:][eight_frame.iloc[alls,30:32].values.sum(axis=1)==0]"
   ]
  },
  {
   "cell_type": "code",
   "execution_count": 115,
   "metadata": {},
   "outputs": [],
   "source": [
    "x1 = np.array([-np.pi/2,np.pi/2])\n",
    "y1a = 2*x1\n",
    "y1b = np.pi/2+x1\n",
    "\n",
    "x2 = np.array([-np.pi/2,0])\n",
    "y2a = 2*x2\n",
    "y2b = np.pi+x2\n",
    "\n",
    "x3 = np.array([-np.pi/2,np.pi/2])\n",
    "y3a = 2*x1\n",
    "y3b = -np.pi/2+x1\n",
    "\n",
    "x4 = np.array([-np.pi/2,np.pi/2])\n",
    "y4a = 2*x4\n",
    "y4b = x4\n",
    "\n",
    "x5 = np.array([0,np.pi/2])\n",
    "y5a = 2*x5\n",
    "y5b = -np.pi+x5"
   ]
  },
  {
   "cell_type": "code",
   "execution_count": 119,
   "metadata": {},
   "outputs": [
    {
     "data": {
      "image/png": "[encoded data removed]",
      "text/plain": [
       "<Figure size 360x360 with 3 Axes>"
      ]
     },
     "metadata": {
      "needs_background": "light"
     },
     "output_type": "display_data"
    }
   ],
   "source": [
    "fig = plt.figure(figsize=(5,5))\n",
    "gs = gridspec.GridSpec(nrows=3, ncols=3, wspace=0.1, hspace=0.1)\n",
    "x,y, = np.linspace(-np.pi,np.pi,100),np.linspace(-np.pi,np.pi,100)\n",
    "X,Y  = np.meshgrid(x,y)\n",
    "ax0_joint = fig.add_subplot(gs[1:3,0:2])\n",
    "ax0_marg_x = fig.add_subplot(gs[0,0:2])\n",
    "ax0_marg_y = fig.add_subplot(gs[1:3,2])\n",
    "\n",
    "ax0_joint.scatter(sel.iloc[:,4],sel.iloc[:,5],s=7)\n",
    "#ax0_joint.plot(y1a,y1b,lw=2, color=\"red\")\n",
    "#ax0_joint.plot(y2a,y2b,lw=2, color=\"red\")\n",
    "#ax0_joint.plot(y3a,y3b,lw=2, color=\"red\")\n",
    "#ax0_joint.plot(y4a,y4b,lw=2, color=\"red\")\n",
    "#ax0_joint.plot(y5a,y5b,lw=2, color=\"red\")\n",
    "ax0_joint.scatter(sel.iloc[30,4],sel.iloc[30,5], color=\"black\", s=150)\n",
    "ax0_marg_x.hist(sel.iloc[:,4], bins=40, color=\"grey\")\n",
    "ax0_marg_y.hist(sel.iloc[:,5],orientation=\"horizontal\", bins=50, color=\"grey\")\n",
    "ax0_marg_x.set_xticks([-np.pi,-np.pi/2,0,np.pi/2,np.pi])\n",
    "ax0_marg_y.set_xticks([-np.pi,-np.pi/2,0,np.pi/2,np.pi])\n",
    "ax0_marg_x.set_axis_off()\n",
    "ax0_marg_y.set_axis_off()\n",
    "ax0_joint.set_xlabel(r\"$\\phi_{2}$ (Rad)\", fontsize=16)\n",
    "ax0_joint.set_ylabel(r\"$\\phi_{3}$ (Rad)\", fontsize=16)\n",
    "ax0_joint.set_xticks([-np.pi,-np.pi/2,0,np.pi/2,np.pi])\n",
    "ax0_joint.set_yticks([-np.pi,-np.pi/2,0,np.pi/2,np.pi])\n",
    "ax0_joint.set_xticklabels([r\"-$\\pi$\", r\"-$\\frac{\\pi}{2}$\", 0, r\"$\\frac{\\pi}{2}$\", r\"$\\pi$\"], fontsize=16)\n",
    "ax0_joint.set_yticklabels([r\"-$\\pi$\", r\"-$\\frac{\\pi}{2}$\", 0, r\"$\\frac{\\pi}{2}$\", r\"$\\pi$\"], fontsize=16)\n",
    "#plt.savefig(\"Fig/Macrocycle/eight_phis.pdf\",dpi=150, bbox_inches=\"tight\")\n",
    "plt.show()"
   ]
  },
  {
   "cell_type": "code",
   "execution_count": 123,
   "metadata": {},
   "outputs": [
    {
     "data": {
      "text/plain": [
       "(array([13.,  4.,  3.,  2.,  3.,  3.,  8., 17., 12., 12.,  5.,  2.,  3.,\n",
       "         5., 52., 61.,  6.,  8.,  3.,  7.,  7.,  6., 43., 11.,  4.,  2.,\n",
       "         2.,  1.,  8.,  8.]),\n",
       " array([1.24950397e-04, 1.04439034e-01, 2.08753118e-01, 3.13067201e-01,\n",
       "        4.17381285e-01, 5.21695369e-01, 6.26009452e-01, 7.30323536e-01,\n",
       "        8.34637620e-01, 9.38951703e-01, 1.04326579e+00, 1.14757987e+00,\n",
       "        1.25189395e+00, 1.35620804e+00, 1.46052212e+00, 1.56483621e+00,\n",
       "        1.66915029e+00, 1.77346437e+00, 1.87777846e+00, 1.98209254e+00,\n",
       "        2.08640662e+00, 2.19072071e+00, 2.29503479e+00, 2.39934887e+00,\n",
       "        2.50366296e+00, 2.60797704e+00, 2.71229113e+00, 2.81660521e+00,\n",
       "        2.92091929e+00, 3.02523338e+00, 3.12954746e+00]),\n",
       " <a list of 30 Patch objects>)"
      ]
     },
     "execution_count": 123,
     "metadata": {},
     "output_type": "execute_result"
    },
    {
     "data": {
      "image/png": "[encoded data removed]",
      "text/plain": [
       "<Figure size 432x288 with 1 Axes>"
      ]
     },
     "metadata": {
      "needs_background": "light"
     },
     "output_type": "display_data"
    }
   ],
   "source": [
    "plt.hist(np.mod(sel.iloc[:,4]-sel.iloc[:,5],np.pi),bins=30)"
   ]
  },
  {
   "cell_type": "code",
   "execution_count": 134,
   "metadata": {},
   "outputs": [],
   "source": [
    "x = np.arange(-np.pi,np.pi,0.05)\n",
    "y = x+np.random.uniform(-0.01,0.01)"
   ]
  },
  {
   "cell_type": "code",
   "execution_count": 136,
   "metadata": {},
   "outputs": [
    {
     "data": {
      "text/plain": [
       "(1.5894701365441688, 2.3562830576963867)"
      ]
     },
     "execution_count": 136,
     "metadata": {},
     "output_type": "execute_result"
    }
   ],
   "source": [
    "\n",
    "sel.iloc[30,4],sel.iloc[30,5]\n"
   ]
  },
  {
   "cell_type": "code",
   "execution_count": 138,
   "metadata": {},
   "outputs": [
    {
     "data": {
      "text/plain": [
       "0.7480282325319081"
      ]
     },
     "execution_count": 138,
     "metadata": {},
     "output_type": "execute_result"
    }
   ],
   "source": []
  },
  {
   "cell_type": "code",
   "execution_count": 8,
   "metadata": {},
   "outputs": [
    {
     "data": {
      "text/plain": [
       "455"
      ]
     },
     "execution_count": 8,
     "metadata": {},
     "output_type": "execute_result"
    }
   ],
   "source": [
    "len(alls)"
   ]
  },
  {
   "cell_type": "code",
   "execution_count": 9,
   "metadata": {},
   "outputs": [
    {
     "data": {
      "text/plain": [
       "317"
      ]
     },
     "execution_count": 9,
     "metadata": {},
     "output_type": "execute_result"
    }
   ],
   "source": [
    "len(sel)"
   ]
  },
  {
   "cell_type": "code",
   "execution_count": null,
   "metadata": {},
   "outputs": [],
   "source": []
  },
  {
   "cell_type": "code",
   "execution_count": null,
   "metadata": {},
   "outputs": [],
   "source": []
  },
  {
   "cell_type": "code",
   "execution_count": null,
   "metadata": {
    "scrolled": true
   },
   "outputs": [],
   "source": []
  },
  {
   "cell_type": "code",
   "execution_count": 58,
   "metadata": {},
   "outputs": [
    {
     "data": {
      "text/plain": [
       "<seaborn.axisgrid.PairGrid at 0x7f3beeaa0940>"
      ]
     },
     "execution_count": 58,
     "metadata": {},
     "output_type": "execute_result"
    },
    {
     "data": {
      "image/png": "[encoded data removed]",
      "text/plain": [
       "<Figure size 360x360 with 6 Axes>"
      ]
     },
     "metadata": {
      "needs_background": "light"
     },
     "output_type": "display_data"
    }
   ],
   "source": [
    "sns.pairplot(sel.iloc[:,4:6])"
   ]
  },
  {
   "cell_type": "code",
   "execution_count": null,
   "metadata": {},
   "outputs": [],
   "source": []
  },
  {
   "cell_type": "code",
   "execution_count": 59,
   "metadata": {},
   "outputs": [],
   "source": [
    "x = np.arange(-np.pi,np.pi,0.02)\n",
    "y1 = -np.pi/2+x/2\n",
    "y2 = x/2\n",
    "y3 = np.pi+x/2\n",
    "y4 = np.pi/2+x/2\n",
    "y5 = -np.pi+x/2"
   ]
  },
  {
   "cell_type": "code",
   "execution_count": 60,
   "metadata": {},
   "outputs": [],
   "source": [
    "sel = sel.reset_index(drop=True)\n",
    "t1 = pd.concat([sel.iloc[:,4]-(sel.iloc[:,3]/2-np.pi/2),\n",
    "                sel.iloc[:,4]-(sel.iloc[:,3]/2-np.pi),\n",
    "                sel.iloc[:,4]-(sel.iloc[:,3]/2+np.pi/2),\n",
    "                sel.iloc[:,4]-(sel.iloc[:,3]/2+np.pi),\n",
    "               sel.iloc[:,4]-(sel.iloc[:,3]/2)],axis=1)"
   ]
  },
  {
   "cell_type": "code",
   "execution_count": 89,
   "metadata": {},
   "outputs": [],
   "source": [
    "b = sel[(np.abs(t1)<0.7).apply(any,axis=1)]"
   ]
  },
  {
   "cell_type": "code",
   "execution_count": 90,
   "metadata": {},
   "outputs": [
    {
     "data": {
      "text/plain": [
       "303"
      ]
     },
     "execution_count": 90,
     "metadata": {},
     "output_type": "execute_result"
    }
   ],
   "source": [
    "len(b)"
   ]
  },
  {
   "cell_type": "code",
   "execution_count": 91,
   "metadata": {},
   "outputs": [
    {
     "data": {
      "text/plain": [
       "455"
      ]
     },
     "execution_count": 91,
     "metadata": {},
     "output_type": "execute_result"
    }
   ],
   "source": [
    "len(alls)"
   ]
  },
  {
   "cell_type": "code",
   "execution_count": 120,
   "metadata": {},
   "outputs": [
    {
     "data": {
      "image/png": "[encoded data removed]",
      "text/plain": [
       "<Figure size 432x288 with 1 Axes>"
      ]
     },
     "metadata": {
      "needs_background": "light"
     },
     "output_type": "display_data"
    }
   ],
   "source": [
    "plt.scatter(sel.iloc[:,4],sel.iloc[:,5])\n",
    "# plt.scatter(x,y1)\n",
    "# plt.scatter(x,y2)\n",
    "# plt.scatter(x,y3)\n",
    "# plt.scatter(x,y4)\n",
    "# plt.scatter(x,y5)\n",
    "plt.show()"
   ]
  },
  {
   "cell_type": "code",
   "execution_count": 119,
   "metadata": {},
   "outputs": [
    {
     "ename": "SyntaxError",
     "evalue": "invalid syntax (<ipython-input-119-c27b21ddcccb>, line 1)",
     "output_type": "error",
     "traceback": [
      "\u001b[0;36m  File \u001b[0;32m\"<ipython-input-119-c27b21ddcccb>\"\u001b[0;36m, line \u001b[0;32m1\u001b[0m\n\u001b[0;31m    b[(b.iloc[:,4]<0.5) & (b.iloc[:,4]>-0)  & (b.iloc[:,5]>-0.5)  & (b.iloc[:,5]<)]\u001b[0m\n\u001b[0m                                                                                 ^\u001b[0m\n\u001b[0;31mSyntaxError\u001b[0m\u001b[0;31m:\u001b[0m invalid syntax\n"
     ]
    }
   ],
   "source": [
    "b[(b.iloc[:,4]<0.5) & (b.iloc[:,4]>-0)  & (b.iloc[:,5]>-0.5)  & (b.iloc[:,5]<)]"
   ]
  },
  {
   "cell_type": "code",
   "execution_count": 99,
   "metadata": {},
   "outputs": [
    {
     "data": {
      "text/plain": [
       "(array([10.,  2.,  0.,  2.,  1.,  8.,  9., 12.,  3.,  2.,  2., 11., 41.,\n",
       "         3.,  4.,  4.,  3.,  4., 16.,  4.,  0.,  0.,  0.,  2.,  3.,  3.,\n",
       "         2.,  1.,  2.,  2.,  3., 13.,  2.,  1.,  0.,  0.,  4., 45., 16.,\n",
       "         4.,  0.,  2.,  1., 25., 12.,  4.,  2.,  1.,  7.,  5.]),\n",
       " array([1.24950397e-04, 1.25545254e-01, 2.50965557e-01, 3.76385860e-01,\n",
       "        5.01806163e-01, 6.27226467e-01, 7.52646770e-01, 8.78067073e-01,\n",
       "        1.00348738e+00, 1.12890768e+00, 1.25432798e+00, 1.37974829e+00,\n",
       "        1.50516859e+00, 1.63058889e+00, 1.75600920e+00, 1.88142950e+00,\n",
       "        2.00684980e+00, 2.13227011e+00, 2.25769041e+00, 2.38311071e+00,\n",
       "        2.50853102e+00, 2.63395132e+00, 2.75937162e+00, 2.88479193e+00,\n",
       "        3.01021223e+00, 3.13563253e+00, 3.26105284e+00, 3.38647314e+00,\n",
       "        3.51189344e+00, 3.63731374e+00, 3.76273405e+00, 3.88815435e+00,\n",
       "        4.01357465e+00, 4.13899496e+00, 4.26441526e+00, 4.38983556e+00,\n",
       "        4.51525587e+00, 4.64067617e+00, 4.76609647e+00, 4.89151678e+00,\n",
       "        5.01693708e+00, 5.14235738e+00, 5.26777769e+00, 5.39319799e+00,\n",
       "        5.51861829e+00, 5.64403860e+00, 5.76945890e+00, 5.89487920e+00,\n",
       "        6.02029951e+00, 6.14571981e+00, 6.27114011e+00]),\n",
       " <a list of 50 Patch objects>)"
      ]
     },
     "execution_count": 99,
     "metadata": {},
     "output_type": "execute_result"
    },
    {
     "data": {
      "image/png": "[encoded data removed]",
      "text/plain": [
       "<Figure size 432x288 with 1 Axes>"
      ]
     },
     "metadata": {
      "needs_background": "light"
     },
     "output_type": "display_data"
    }
   ],
   "source": [
    "plt.hist(np.mod(b.iloc[:,4]-b.iloc[:,5],2*np.pi),bins=50)"
   ]
  },
  {
   "cell_type": "code",
   "execution_count": null,
   "metadata": {},
   "outputs": [],
   "source": []
  },
  {
   "cell_type": "code",
   "execution_count": 494,
   "metadata": {},
   "outputs": [
    {
     "data": {
      "text/plain": [
       "Int64Index([  0,   1,   3,   4,   5,   6,   7,   8,   9,  10,\n",
       "            ...\n",
       "            306, 307, 308, 309, 310, 311, 313, 314, 315, 316],\n",
       "           dtype='int64', length=292)"
      ]
     },
     "execution_count": 494,
     "metadata": {},
     "output_type": "execute_result"
    }
   ],
   "source": [
    "b.index"
   ]
  },
  {
   "cell_type": "code",
   "execution_count": 495,
   "metadata": {},
   "outputs": [],
   "source": [
    "notin = [x for x in range(317) if x not in b.index]"
   ]
  },
  {
   "cell_type": "code",
   "execution_count": 496,
   "metadata": {},
   "outputs": [
    {
     "data": {
      "text/plain": [
       "11"
      ]
     },
     "execution_count": 496,
     "metadata": {},
     "output_type": "execute_result"
    }
   ],
   "source": [
    "sum(sel.iloc[notin,-1])"
   ]
  },
  {
   "cell_type": "code",
   "execution_count": 497,
   "metadata": {},
   "outputs": [
    {
     "data": {
      "text/plain": [
       "25"
      ]
     },
     "execution_count": 497,
     "metadata": {},
     "output_type": "execute_result"
    }
   ],
   "source": [
    "len(notin)"
   ]
  },
  {
   "cell_type": "code",
   "execution_count": 499,
   "metadata": {},
   "outputs": [
    {
     "data": {
      "text/html": [
       "<div>\n",
       "<style scoped>\n",
       "    .dataframe tbody tr th:only-of-type {\n",
       "        vertical-align: middle;\n",
       "    }\n",
       "\n",
       "    .dataframe tbody tr th {\n",
       "        vertical-align: top;\n",
       "    }\n",
       "\n",
       "    .dataframe thead th {\n",
       "        text-align: right;\n",
       "    }\n",
       "</style>\n",
       "<table border=\"1\" class=\"dataframe\">\n",
       "  <thead>\n",
       "    <tr style=\"text-align: right;\">\n",
       "      <th></th>\n",
       "      <th>0</th>\n",
       "      <th>1</th>\n",
       "      <th>2</th>\n",
       "      <th>3</th>\n",
       "      <th>4</th>\n",
       "      <th>5</th>\n",
       "      <th>6</th>\n",
       "      <th>7</th>\n",
       "      <th>8</th>\n",
       "      <th>9</th>\n",
       "      <th>...</th>\n",
       "      <th>24</th>\n",
       "      <th>25</th>\n",
       "      <th>26</th>\n",
       "      <th>27</th>\n",
       "      <th>28</th>\n",
       "      <th>29</th>\n",
       "      <th>30</th>\n",
       "      <th>31</th>\n",
       "      <th>32</th>\n",
       "      <th>33</th>\n",
       "    </tr>\n",
       "  </thead>\n",
       "  <tbody>\n",
       "    <tr>\n",
       "      <th>2</th>\n",
       "      <td>22</td>\n",
       "      <td>1.030972</td>\n",
       "      <td>0.606745</td>\n",
       "      <td>-0.354678</td>\n",
       "      <td>-1.561143</td>\n",
       "      <td>-0.786009</td>\n",
       "      <td>1.0</td>\n",
       "      <td>1.0</td>\n",
       "      <td>1.0</td>\n",
       "      <td>1.0</td>\n",
       "      <td>...</td>\n",
       "      <td>6</td>\n",
       "      <td>6</td>\n",
       "      <td>6</td>\n",
       "      <td>6</td>\n",
       "      <td>6</td>\n",
       "      <td>6</td>\n",
       "      <td>False</td>\n",
       "      <td>False</td>\n",
       "      <td>False</td>\n",
       "      <td>True</td>\n",
       "    </tr>\n",
       "    <tr>\n",
       "      <th>11</th>\n",
       "      <td>85</td>\n",
       "      <td>1.029861</td>\n",
       "      <td>0.604945</td>\n",
       "      <td>-0.346062</td>\n",
       "      <td>-3.051039</td>\n",
       "      <td>1.670560</td>\n",
       "      <td>1.0</td>\n",
       "      <td>1.0</td>\n",
       "      <td>1.0</td>\n",
       "      <td>1.0</td>\n",
       "      <td>...</td>\n",
       "      <td>6</td>\n",
       "      <td>6</td>\n",
       "      <td>8</td>\n",
       "      <td>6</td>\n",
       "      <td>6</td>\n",
       "      <td>6</td>\n",
       "      <td>False</td>\n",
       "      <td>False</td>\n",
       "      <td>False</td>\n",
       "      <td>True</td>\n",
       "    </tr>\n",
       "    <tr>\n",
       "      <th>13</th>\n",
       "      <td>100</td>\n",
       "      <td>1.017723</td>\n",
       "      <td>0.616109</td>\n",
       "      <td>0.355868</td>\n",
       "      <td>-0.078564</td>\n",
       "      <td>-1.613239</td>\n",
       "      <td>1.0</td>\n",
       "      <td>1.0</td>\n",
       "      <td>1.0</td>\n",
       "      <td>1.0</td>\n",
       "      <td>...</td>\n",
       "      <td>6</td>\n",
       "      <td>6</td>\n",
       "      <td>6</td>\n",
       "      <td>6</td>\n",
       "      <td>6</td>\n",
       "      <td>6</td>\n",
       "      <td>False</td>\n",
       "      <td>False</td>\n",
       "      <td>False</td>\n",
       "      <td>False</td>\n",
       "    </tr>\n",
       "    <tr>\n",
       "      <th>14</th>\n",
       "      <td>102</td>\n",
       "      <td>0.460122</td>\n",
       "      <td>0.000160</td>\n",
       "      <td>0.807551</td>\n",
       "      <td>-0.865011</td>\n",
       "      <td>0.847788</td>\n",
       "      <td>1.0</td>\n",
       "      <td>1.0</td>\n",
       "      <td>1.0</td>\n",
       "      <td>1.0</td>\n",
       "      <td>...</td>\n",
       "      <td>6</td>\n",
       "      <td>6</td>\n",
       "      <td>6</td>\n",
       "      <td>6</td>\n",
       "      <td>6</td>\n",
       "      <td>6</td>\n",
       "      <td>False</td>\n",
       "      <td>False</td>\n",
       "      <td>False</td>\n",
       "      <td>True</td>\n",
       "    </tr>\n",
       "    <tr>\n",
       "      <th>20</th>\n",
       "      <td>152</td>\n",
       "      <td>1.036046</td>\n",
       "      <td>0.613874</td>\n",
       "      <td>-0.356977</td>\n",
       "      <td>3.139140</td>\n",
       "      <td>-1.594516</td>\n",
       "      <td>1.0</td>\n",
       "      <td>1.0</td>\n",
       "      <td>1.0</td>\n",
       "      <td>1.0</td>\n",
       "      <td>...</td>\n",
       "      <td>6</td>\n",
       "      <td>6</td>\n",
       "      <td>6</td>\n",
       "      <td>6</td>\n",
       "      <td>6</td>\n",
       "      <td>6</td>\n",
       "      <td>False</td>\n",
       "      <td>False</td>\n",
       "      <td>False</td>\n",
       "      <td>False</td>\n",
       "    </tr>\n",
       "    <tr>\n",
       "      <th>25</th>\n",
       "      <td>184</td>\n",
       "      <td>1.058369</td>\n",
       "      <td>0.593838</td>\n",
       "      <td>0.332129</td>\n",
       "      <td>-1.606773</td>\n",
       "      <td>-2.454773</td>\n",
       "      <td>1.0</td>\n",
       "      <td>1.0</td>\n",
       "      <td>1.0</td>\n",
       "      <td>1.0</td>\n",
       "      <td>...</td>\n",
       "      <td>6</td>\n",
       "      <td>6</td>\n",
       "      <td>6</td>\n",
       "      <td>6</td>\n",
       "      <td>6</td>\n",
       "      <td>8</td>\n",
       "      <td>False</td>\n",
       "      <td>False</td>\n",
       "      <td>False</td>\n",
       "      <td>False</td>\n",
       "    </tr>\n",
       "    <tr>\n",
       "      <th>30</th>\n",
       "      <td>259</td>\n",
       "      <td>1.032222</td>\n",
       "      <td>0.610774</td>\n",
       "      <td>0.357816</td>\n",
       "      <td>1.589470</td>\n",
       "      <td>2.356283</td>\n",
       "      <td>1.0</td>\n",
       "      <td>1.0</td>\n",
       "      <td>1.0</td>\n",
       "      <td>1.0</td>\n",
       "      <td>...</td>\n",
       "      <td>6</td>\n",
       "      <td>6</td>\n",
       "      <td>6</td>\n",
       "      <td>6</td>\n",
       "      <td>6</td>\n",
       "      <td>6</td>\n",
       "      <td>False</td>\n",
       "      <td>False</td>\n",
       "      <td>False</td>\n",
       "      <td>False</td>\n",
       "    </tr>\n",
       "    <tr>\n",
       "      <th>32</th>\n",
       "      <td>336</td>\n",
       "      <td>1.034376</td>\n",
       "      <td>0.603652</td>\n",
       "      <td>0.368392</td>\n",
       "      <td>-0.051981</td>\n",
       "      <td>-1.579348</td>\n",
       "      <td>1.0</td>\n",
       "      <td>1.0</td>\n",
       "      <td>1.0</td>\n",
       "      <td>1.0</td>\n",
       "      <td>...</td>\n",
       "      <td>6</td>\n",
       "      <td>6</td>\n",
       "      <td>6</td>\n",
       "      <td>6</td>\n",
       "      <td>6</td>\n",
       "      <td>6</td>\n",
       "      <td>False</td>\n",
       "      <td>False</td>\n",
       "      <td>False</td>\n",
       "      <td>False</td>\n",
       "    </tr>\n",
       "    <tr>\n",
       "      <th>76</th>\n",
       "      <td>557</td>\n",
       "      <td>1.037183</td>\n",
       "      <td>0.615648</td>\n",
       "      <td>0.347393</td>\n",
       "      <td>-3.140297</td>\n",
       "      <td>-3.140829</td>\n",
       "      <td>1.0</td>\n",
       "      <td>1.0</td>\n",
       "      <td>1.0</td>\n",
       "      <td>1.0</td>\n",
       "      <td>...</td>\n",
       "      <td>6</td>\n",
       "      <td>6</td>\n",
       "      <td>6</td>\n",
       "      <td>6</td>\n",
       "      <td>6</td>\n",
       "      <td>6</td>\n",
       "      <td>False</td>\n",
       "      <td>False</td>\n",
       "      <td>False</td>\n",
       "      <td>False</td>\n",
       "    </tr>\n",
       "    <tr>\n",
       "      <th>80</th>\n",
       "      <td>564</td>\n",
       "      <td>1.039493</td>\n",
       "      <td>0.610687</td>\n",
       "      <td>0.357032</td>\n",
       "      <td>1.531145</td>\n",
       "      <td>2.312770</td>\n",
       "      <td>1.0</td>\n",
       "      <td>1.0</td>\n",
       "      <td>1.0</td>\n",
       "      <td>1.0</td>\n",
       "      <td>...</td>\n",
       "      <td>6</td>\n",
       "      <td>6</td>\n",
       "      <td>6</td>\n",
       "      <td>6</td>\n",
       "      <td>6</td>\n",
       "      <td>6</td>\n",
       "      <td>False</td>\n",
       "      <td>False</td>\n",
       "      <td>False</td>\n",
       "      <td>False</td>\n",
       "    </tr>\n",
       "    <tr>\n",
       "      <th>91</th>\n",
       "      <td>575</td>\n",
       "      <td>1.029589</td>\n",
       "      <td>0.622332</td>\n",
       "      <td>0.343179</td>\n",
       "      <td>1.595907</td>\n",
       "      <td>2.374675</td>\n",
       "      <td>1.0</td>\n",
       "      <td>1.0</td>\n",
       "      <td>1.0</td>\n",
       "      <td>1.0</td>\n",
       "      <td>...</td>\n",
       "      <td>6</td>\n",
       "      <td>6</td>\n",
       "      <td>6</td>\n",
       "      <td>6</td>\n",
       "      <td>6</td>\n",
       "      <td>6</td>\n",
       "      <td>False</td>\n",
       "      <td>False</td>\n",
       "      <td>False</td>\n",
       "      <td>False</td>\n",
       "    </tr>\n",
       "    <tr>\n",
       "      <th>93</th>\n",
       "      <td>577</td>\n",
       "      <td>1.032187</td>\n",
       "      <td>0.614823</td>\n",
       "      <td>-0.353936</td>\n",
       "      <td>3.129527</td>\n",
       "      <td>1.575185</td>\n",
       "      <td>1.0</td>\n",
       "      <td>1.0</td>\n",
       "      <td>1.0</td>\n",
       "      <td>1.0</td>\n",
       "      <td>...</td>\n",
       "      <td>6</td>\n",
       "      <td>6</td>\n",
       "      <td>6</td>\n",
       "      <td>6</td>\n",
       "      <td>6</td>\n",
       "      <td>6</td>\n",
       "      <td>False</td>\n",
       "      <td>False</td>\n",
       "      <td>False</td>\n",
       "      <td>False</td>\n",
       "    </tr>\n",
       "    <tr>\n",
       "      <th>94</th>\n",
       "      <td>578</td>\n",
       "      <td>1.032374</td>\n",
       "      <td>0.614824</td>\n",
       "      <td>0.354015</td>\n",
       "      <td>0.013131</td>\n",
       "      <td>1.566797</td>\n",
       "      <td>1.0</td>\n",
       "      <td>1.0</td>\n",
       "      <td>1.0</td>\n",
       "      <td>1.0</td>\n",
       "      <td>...</td>\n",
       "      <td>6</td>\n",
       "      <td>6</td>\n",
       "      <td>6</td>\n",
       "      <td>6</td>\n",
       "      <td>6</td>\n",
       "      <td>6</td>\n",
       "      <td>False</td>\n",
       "      <td>False</td>\n",
       "      <td>False</td>\n",
       "      <td>False</td>\n",
       "    </tr>\n",
       "    <tr>\n",
       "      <th>151</th>\n",
       "      <td>185</td>\n",
       "      <td>0.194041</td>\n",
       "      <td>0.984232</td>\n",
       "      <td>-0.080098</td>\n",
       "      <td>2.355847</td>\n",
       "      <td>1.178162</td>\n",
       "      <td>1.0</td>\n",
       "      <td>1.0</td>\n",
       "      <td>1.0</td>\n",
       "      <td>1.0</td>\n",
       "      <td>...</td>\n",
       "      <td>6</td>\n",
       "      <td>6</td>\n",
       "      <td>8</td>\n",
       "      <td>6</td>\n",
       "      <td>6</td>\n",
       "      <td>8</td>\n",
       "      <td>False</td>\n",
       "      <td>False</td>\n",
       "      <td>False</td>\n",
       "      <td>True</td>\n",
       "    </tr>\n",
       "    <tr>\n",
       "      <th>155</th>\n",
       "      <td>229</td>\n",
       "      <td>0.904593</td>\n",
       "      <td>0.719475</td>\n",
       "      <td>0.319109</td>\n",
       "      <td>1.848068</td>\n",
       "      <td>2.617567</td>\n",
       "      <td>1.0</td>\n",
       "      <td>1.0</td>\n",
       "      <td>1.0</td>\n",
       "      <td>1.0</td>\n",
       "      <td>...</td>\n",
       "      <td>6</td>\n",
       "      <td>6</td>\n",
       "      <td>6</td>\n",
       "      <td>6</td>\n",
       "      <td>6</td>\n",
       "      <td>6</td>\n",
       "      <td>False</td>\n",
       "      <td>False</td>\n",
       "      <td>False</td>\n",
       "      <td>False</td>\n",
       "    </tr>\n",
       "    <tr>\n",
       "      <th>162</th>\n",
       "      <td>286</td>\n",
       "      <td>1.042494</td>\n",
       "      <td>0.629072</td>\n",
       "      <td>0.376570</td>\n",
       "      <td>-1.503808</td>\n",
       "      <td>-2.368944</td>\n",
       "      <td>1.0</td>\n",
       "      <td>1.0</td>\n",
       "      <td>1.0</td>\n",
       "      <td>1.0</td>\n",
       "      <td>...</td>\n",
       "      <td>6</td>\n",
       "      <td>6</td>\n",
       "      <td>6</td>\n",
       "      <td>6</td>\n",
       "      <td>6</td>\n",
       "      <td>6</td>\n",
       "      <td>False</td>\n",
       "      <td>False</td>\n",
       "      <td>False</td>\n",
       "      <td>False</td>\n",
       "    </tr>\n",
       "    <tr>\n",
       "      <th>188</th>\n",
       "      <td>404</td>\n",
       "      <td>1.019179</td>\n",
       "      <td>0.614371</td>\n",
       "      <td>0.323301</td>\n",
       "      <td>-3.139187</td>\n",
       "      <td>-0.069419</td>\n",
       "      <td>1.0</td>\n",
       "      <td>1.0</td>\n",
       "      <td>1.0</td>\n",
       "      <td>1.0</td>\n",
       "      <td>...</td>\n",
       "      <td>8</td>\n",
       "      <td>6</td>\n",
       "      <td>6</td>\n",
       "      <td>6</td>\n",
       "      <td>6</td>\n",
       "      <td>8</td>\n",
       "      <td>False</td>\n",
       "      <td>False</td>\n",
       "      <td>False</td>\n",
       "      <td>True</td>\n",
       "    </tr>\n",
       "    <tr>\n",
       "      <th>208</th>\n",
       "      <td>518</td>\n",
       "      <td>0.979616</td>\n",
       "      <td>0.573834</td>\n",
       "      <td>-0.405332</td>\n",
       "      <td>1.826212</td>\n",
       "      <td>0.838723</td>\n",
       "      <td>1.0</td>\n",
       "      <td>1.0</td>\n",
       "      <td>1.0</td>\n",
       "      <td>1.0</td>\n",
       "      <td>...</td>\n",
       "      <td>6</td>\n",
       "      <td>6</td>\n",
       "      <td>6</td>\n",
       "      <td>6</td>\n",
       "      <td>6</td>\n",
       "      <td>6</td>\n",
       "      <td>False</td>\n",
       "      <td>False</td>\n",
       "      <td>False</td>\n",
       "      <td>True</td>\n",
       "    </tr>\n",
       "    <tr>\n",
       "      <th>209</th>\n",
       "      <td>551</td>\n",
       "      <td>0.970275</td>\n",
       "      <td>0.568145</td>\n",
       "      <td>-0.413409</td>\n",
       "      <td>1.790443</td>\n",
       "      <td>0.822912</td>\n",
       "      <td>1.0</td>\n",
       "      <td>1.0</td>\n",
       "      <td>1.0</td>\n",
       "      <td>1.0</td>\n",
       "      <td>...</td>\n",
       "      <td>6</td>\n",
       "      <td>6</td>\n",
       "      <td>6</td>\n",
       "      <td>6</td>\n",
       "      <td>6</td>\n",
       "      <td>6</td>\n",
       "      <td>False</td>\n",
       "      <td>False</td>\n",
       "      <td>False</td>\n",
       "      <td>True</td>\n",
       "    </tr>\n",
       "    <tr>\n",
       "      <th>241</th>\n",
       "      <td>706</td>\n",
       "      <td>0.962004</td>\n",
       "      <td>0.610667</td>\n",
       "      <td>-0.376868</td>\n",
       "      <td>1.639004</td>\n",
       "      <td>-2.332877</td>\n",
       "      <td>1.0</td>\n",
       "      <td>1.0</td>\n",
       "      <td>1.0</td>\n",
       "      <td>1.0</td>\n",
       "      <td>...</td>\n",
       "      <td>6</td>\n",
       "      <td>6</td>\n",
       "      <td>6</td>\n",
       "      <td>6</td>\n",
       "      <td>6</td>\n",
       "      <td>6</td>\n",
       "      <td>False</td>\n",
       "      <td>False</td>\n",
       "      <td>False</td>\n",
       "      <td>True</td>\n",
       "    </tr>\n",
       "    <tr>\n",
       "      <th>278</th>\n",
       "      <td>788</td>\n",
       "      <td>0.948566</td>\n",
       "      <td>0.613275</td>\n",
       "      <td>0.374380</td>\n",
       "      <td>1.500085</td>\n",
       "      <td>-0.823975</td>\n",
       "      <td>1.0</td>\n",
       "      <td>1.0</td>\n",
       "      <td>1.0</td>\n",
       "      <td>1.0</td>\n",
       "      <td>...</td>\n",
       "      <td>6</td>\n",
       "      <td>6</td>\n",
       "      <td>6</td>\n",
       "      <td>6</td>\n",
       "      <td>6</td>\n",
       "      <td>6</td>\n",
       "      <td>False</td>\n",
       "      <td>False</td>\n",
       "      <td>False</td>\n",
       "      <td>True</td>\n",
       "    </tr>\n",
       "    <tr>\n",
       "      <th>286</th>\n",
       "      <td>801</td>\n",
       "      <td>0.956852</td>\n",
       "      <td>0.613125</td>\n",
       "      <td>0.377104</td>\n",
       "      <td>0.066682</td>\n",
       "      <td>1.588220</td>\n",
       "      <td>1.0</td>\n",
       "      <td>1.0</td>\n",
       "      <td>1.0</td>\n",
       "      <td>1.0</td>\n",
       "      <td>...</td>\n",
       "      <td>6</td>\n",
       "      <td>6</td>\n",
       "      <td>6</td>\n",
       "      <td>6</td>\n",
       "      <td>6</td>\n",
       "      <td>6</td>\n",
       "      <td>False</td>\n",
       "      <td>False</td>\n",
       "      <td>False</td>\n",
       "      <td>True</td>\n",
       "    </tr>\n",
       "    <tr>\n",
       "      <th>288</th>\n",
       "      <td>805</td>\n",
       "      <td>0.943996</td>\n",
       "      <td>0.589008</td>\n",
       "      <td>0.390065</td>\n",
       "      <td>0.060335</td>\n",
       "      <td>1.632206</td>\n",
       "      <td>1.0</td>\n",
       "      <td>1.0</td>\n",
       "      <td>1.0</td>\n",
       "      <td>1.0</td>\n",
       "      <td>...</td>\n",
       "      <td>6</td>\n",
       "      <td>6</td>\n",
       "      <td>6</td>\n",
       "      <td>6</td>\n",
       "      <td>6</td>\n",
       "      <td>6</td>\n",
       "      <td>False</td>\n",
       "      <td>False</td>\n",
       "      <td>False</td>\n",
       "      <td>True</td>\n",
       "    </tr>\n",
       "    <tr>\n",
       "      <th>301</th>\n",
       "      <td>818</td>\n",
       "      <td>0.634158</td>\n",
       "      <td>0.889359</td>\n",
       "      <td>-0.212416</td>\n",
       "      <td>2.437283</td>\n",
       "      <td>1.182219</td>\n",
       "      <td>1.0</td>\n",
       "      <td>1.0</td>\n",
       "      <td>1.0</td>\n",
       "      <td>1.0</td>\n",
       "      <td>...</td>\n",
       "      <td>6</td>\n",
       "      <td>6</td>\n",
       "      <td>6</td>\n",
       "      <td>6</td>\n",
       "      <td>6</td>\n",
       "      <td>6</td>\n",
       "      <td>False</td>\n",
       "      <td>False</td>\n",
       "      <td>False</td>\n",
       "      <td>False</td>\n",
       "    </tr>\n",
       "    <tr>\n",
       "      <th>312</th>\n",
       "      <td>833</td>\n",
       "      <td>1.016181</td>\n",
       "      <td>0.579006</td>\n",
       "      <td>-0.420676</td>\n",
       "      <td>-1.429469</td>\n",
       "      <td>-0.816622</td>\n",
       "      <td>1.0</td>\n",
       "      <td>1.0</td>\n",
       "      <td>1.0</td>\n",
       "      <td>1.0</td>\n",
       "      <td>...</td>\n",
       "      <td>6</td>\n",
       "      <td>6</td>\n",
       "      <td>6</td>\n",
       "      <td>6</td>\n",
       "      <td>6</td>\n",
       "      <td>8</td>\n",
       "      <td>False</td>\n",
       "      <td>False</td>\n",
       "      <td>False</td>\n",
       "      <td>False</td>\n",
       "    </tr>\n",
       "  </tbody>\n",
       "</table>\n",
       "<p>25 rows × 34 columns</p>\n",
       "</div>"
      ],
      "text/plain": [
       "      0         1         2         3         4         5    6    7    8   \\\n",
       "2     22  1.030972  0.606745 -0.354678 -1.561143 -0.786009  1.0  1.0  1.0   \n",
       "11    85  1.029861  0.604945 -0.346062 -3.051039  1.670560  1.0  1.0  1.0   \n",
       "13   100  1.017723  0.616109  0.355868 -0.078564 -1.613239  1.0  1.0  1.0   \n",
       "14   102  0.460122  0.000160  0.807551 -0.865011  0.847788  1.0  1.0  1.0   \n",
       "20   152  1.036046  0.613874 -0.356977  3.139140 -1.594516  1.0  1.0  1.0   \n",
       "25   184  1.058369  0.593838  0.332129 -1.606773 -2.454773  1.0  1.0  1.0   \n",
       "30   259  1.032222  0.610774  0.357816  1.589470  2.356283  1.0  1.0  1.0   \n",
       "32   336  1.034376  0.603652  0.368392 -0.051981 -1.579348  1.0  1.0  1.0   \n",
       "76   557  1.037183  0.615648  0.347393 -3.140297 -3.140829  1.0  1.0  1.0   \n",
       "80   564  1.039493  0.610687  0.357032  1.531145  2.312770  1.0  1.0  1.0   \n",
       "91   575  1.029589  0.622332  0.343179  1.595907  2.374675  1.0  1.0  1.0   \n",
       "93   577  1.032187  0.614823 -0.353936  3.129527  1.575185  1.0  1.0  1.0   \n",
       "94   578  1.032374  0.614824  0.354015  0.013131  1.566797  1.0  1.0  1.0   \n",
       "151  185  0.194041  0.984232 -0.080098  2.355847  1.178162  1.0  1.0  1.0   \n",
       "155  229  0.904593  0.719475  0.319109  1.848068  2.617567  1.0  1.0  1.0   \n",
       "162  286  1.042494  0.629072  0.376570 -1.503808 -2.368944  1.0  1.0  1.0   \n",
       "188  404  1.019179  0.614371  0.323301 -3.139187 -0.069419  1.0  1.0  1.0   \n",
       "208  518  0.979616  0.573834 -0.405332  1.826212  0.838723  1.0  1.0  1.0   \n",
       "209  551  0.970275  0.568145 -0.413409  1.790443  0.822912  1.0  1.0  1.0   \n",
       "241  706  0.962004  0.610667 -0.376868  1.639004 -2.332877  1.0  1.0  1.0   \n",
       "278  788  0.948566  0.613275  0.374380  1.500085 -0.823975  1.0  1.0  1.0   \n",
       "286  801  0.956852  0.613125  0.377104  0.066682  1.588220  1.0  1.0  1.0   \n",
       "288  805  0.943996  0.589008  0.390065  0.060335  1.632206  1.0  1.0  1.0   \n",
       "301  818  0.634158  0.889359 -0.212416  2.437283  1.182219  1.0  1.0  1.0   \n",
       "312  833  1.016181  0.579006 -0.420676 -1.429469 -0.816622  1.0  1.0  1.0   \n",
       "\n",
       "      9   ...    24  25  26  27 28 29     30     31     32     33  \n",
       "2    1.0  ...     6   6   6   6  6  6  False  False  False   True  \n",
       "11   1.0  ...     6   6   8   6  6  6  False  False  False   True  \n",
       "13   1.0  ...     6   6   6   6  6  6  False  False  False  False  \n",
       "14   1.0  ...     6   6   6   6  6  6  False  False  False   True  \n",
       "20   1.0  ...     6   6   6   6  6  6  False  False  False  False  \n",
       "25   1.0  ...     6   6   6   6  6  8  False  False  False  False  \n",
       "30   1.0  ...     6   6   6   6  6  6  False  False  False  False  \n",
       "32   1.0  ...     6   6   6   6  6  6  False  False  False  False  \n",
       "76   1.0  ...     6   6   6   6  6  6  False  False  False  False  \n",
       "80   1.0  ...     6   6   6   6  6  6  False  False  False  False  \n",
       "91   1.0  ...     6   6   6   6  6  6  False  False  False  False  \n",
       "93   1.0  ...     6   6   6   6  6  6  False  False  False  False  \n",
       "94   1.0  ...     6   6   6   6  6  6  False  False  False  False  \n",
       "151  1.0  ...     6   6   8   6  6  8  False  False  False   True  \n",
       "155  1.0  ...     6   6   6   6  6  6  False  False  False  False  \n",
       "162  1.0  ...     6   6   6   6  6  6  False  False  False  False  \n",
       "188  1.0  ...     8   6   6   6  6  8  False  False  False   True  \n",
       "208  1.0  ...     6   6   6   6  6  6  False  False  False   True  \n",
       "209  1.0  ...     6   6   6   6  6  6  False  False  False   True  \n",
       "241  1.0  ...     6   6   6   6  6  6  False  False  False   True  \n",
       "278  1.0  ...     6   6   6   6  6  6  False  False  False   True  \n",
       "286  1.0  ...     6   6   6   6  6  6  False  False  False   True  \n",
       "288  1.0  ...     6   6   6   6  6  6  False  False  False   True  \n",
       "301  1.0  ...     6   6   6   6  6  6  False  False  False  False  \n",
       "312  1.0  ...     6   6   6   6  6  8  False  False  False  False  \n",
       "\n",
       "[25 rows x 34 columns]"
      ]
     },
     "execution_count": 499,
     "metadata": {},
     "output_type": "execute_result"
    }
   ],
   "source": [
    "sel.iloc[notin,:]"
   ]
  },
  {
   "cell_type": "code",
   "execution_count": 104,
   "metadata": {
    "scrolled": true
   },
   "outputs": [
    {
     "data": {
      "text/plain": [
       "<matplotlib.collections.PathCollection at 0x7f3bee508c50>"
      ]
     },
     "execution_count": 104,
     "metadata": {},
     "output_type": "execute_result"
    },
    {
     "data": {
      "image/png": "[encoded data removed]",
      "text/plain": [
       "<Figure size 360x360 with 1 Axes>"
      ]
     },
     "metadata": {
      "needs_background": "light"
     },
     "output_type": "display_data"
    }
   ],
   "source": [
    "fig = plt.figure(figsize=(5,5))\n",
    "plt.scatter(b.iloc[:,4],b.iloc[:,5])\n",
    "plt.scatter(sel.iloc[30,4],sel.iloc[30,5])"
   ]
  },
  {
   "cell_type": "code",
   "execution_count": 120,
   "metadata": {},
   "outputs": [
    {
     "data": {
      "text/plain": [
       "<seaborn.axisgrid.PairGrid at 0x7fed4982ccf8>"
      ]
     },
     "execution_count": 120,
     "metadata": {},
     "output_type": "execute_result"
    },
    {
     "data": {
      "image/png": "[encoded data removed]",
      "text/plain": [
       "<Figure size 360x360 with 6 Axes>"
      ]
     },
     "metadata": {
      "needs_background": "light"
     },
     "output_type": "display_data"
    }
   ],
   "source": [
    "sns.pairplot(sele[sele.iloc[:,30:].values.sum(axis=1)==0].iloc[:,4:6],plot_kws=dict(s=15),diag_kws=dict(bins=25))"
   ]
  },
  {
   "cell_type": "code",
   "execution_count": null,
   "metadata": {
    "scrolled": true
   },
   "outputs": [],
   "source": []
  },
  {
   "cell_type": "code",
   "execution_count": 88,
   "metadata": {},
   "outputs": [],
   "source": [
    "mono_8 = mono_eight[mono_eight.iloc[:,30:].values.sum(axis=1)==0]\n",
    "poly_8 = poly_eight[poly_eight.iloc[:,30:].values.sum(axis=1)==0]"
   ]
  },
  {
   "cell_type": "code",
   "execution_count": 116,
   "metadata": {},
   "outputs": [
    {
     "data": {
      "text/plain": [
       "<matplotlib.collections.PathCollection at 0x7fed49b5b160>"
      ]
     },
     "execution_count": 116,
     "metadata": {},
     "output_type": "execute_result"
    },
    {
     "data": {
      "image/png": "[encoded data removed]",
      "text/plain": [
       "<Figure size 360x360 with 1 Axes>"
      ]
     },
     "metadata": {
      "needs_background": "light"
     },
     "output_type": "display_data"
    }
   ],
   "source": [
    "plt.figure(figsize=(5,5))\n",
    "plt.scatter(sele.iloc[:,4],sele.iloc[:,5],s=5)\n",
    "#plt.scatter(mono_8.iloc[:,4],mono_8.iloc[:,5])\n",
    "#plt.scatter(poly_8.iloc[:,4],poly_8.iloc[:,5])"
   ]
  },
  {
   "cell_type": "code",
   "execution_count": null,
   "metadata": {},
   "outputs": [],
   "source": []
  },
  {
   "cell_type": "code",
   "execution_count": 58,
   "metadata": {},
   "outputs": [
    {
     "data": {
      "text/plain": [
       "<seaborn.axisgrid.PairGrid at 0x7fed4aaa00f0>"
      ]
     },
     "execution_count": 58,
     "metadata": {},
     "output_type": "execute_result"
    },
    {
     "data": {
      "image/png": "[encoded data removed]",
      "text/plain": [
       "<Figure size 360x360 with 6 Axes>"
      ]
     },
     "metadata": {
      "needs_background": "light"
     },
     "output_type": "display_data"
    }
   ],
   "source": [
    "sns.pairplot(poly_8[(poly_8.iloc[:,4]<0) &  (poly_8.iloc[:,4]>-2)].iloc[:,4:6])"
   ]
  },
  {
   "cell_type": "code",
   "execution_count": 64,
   "metadata": {},
   "outputs": [
    {
     "data": {
      "text/plain": [
       "<seaborn.axisgrid.PairGrid at 0x7fed4a97f860>"
      ]
     },
     "execution_count": 64,
     "metadata": {},
     "output_type": "execute_result"
    },
    {
     "data": {
      "image/png": "[encoded data removed]",
      "text/plain": [
       "<Figure size 360x360 with 6 Axes>"
      ]
     },
     "metadata": {
      "needs_background": "light"
     },
     "output_type": "display_data"
    }
   ],
   "source": [
    "sns.pairplot(poly_8.iloc[:,4:6])"
   ]
  },
  {
   "cell_type": "code",
   "execution_count": 71,
   "metadata": {},
   "outputs": [
    {
     "data": {
      "text/html": [
       "<div>\n",
       "<style scoped>\n",
       "    .dataframe tbody tr th:only-of-type {\n",
       "        vertical-align: middle;\n",
       "    }\n",
       "\n",
       "    .dataframe tbody tr th {\n",
       "        vertical-align: top;\n",
       "    }\n",
       "\n",
       "    .dataframe thead th {\n",
       "        text-align: right;\n",
       "    }\n",
       "</style>\n",
       "<table border=\"1\" class=\"dataframe\">\n",
       "  <thead>\n",
       "    <tr style=\"text-align: right;\">\n",
       "      <th></th>\n",
       "      <th>0</th>\n",
       "      <th>1</th>\n",
       "      <th>2</th>\n",
       "      <th>3</th>\n",
       "      <th>4</th>\n",
       "      <th>5</th>\n",
       "      <th>6</th>\n",
       "      <th>7</th>\n",
       "      <th>8</th>\n",
       "      <th>9</th>\n",
       "      <th>...</th>\n",
       "      <th>25</th>\n",
       "      <th>26</th>\n",
       "      <th>27</th>\n",
       "      <th>28</th>\n",
       "      <th>29</th>\n",
       "      <th>30</th>\n",
       "      <th>31</th>\n",
       "      <th>32</th>\n",
       "      <th>33</th>\n",
       "      <th>34</th>\n",
       "    </tr>\n",
       "  </thead>\n",
       "  <tbody>\n",
       "    <tr>\n",
       "      <th>70</th>\n",
       "      <td>50</td>\n",
       "      <td>0.058795</td>\n",
       "      <td>0.003681</td>\n",
       "      <td>-0.803640</td>\n",
       "      <td>-0.613120</td>\n",
       "      <td>-2.281065</td>\n",
       "      <td>1.0</td>\n",
       "      <td>1.0</td>\n",
       "      <td>1.0</td>\n",
       "      <td>1.0</td>\n",
       "      <td>...</td>\n",
       "      <td>6</td>\n",
       "      <td>6</td>\n",
       "      <td>6</td>\n",
       "      <td>6</td>\n",
       "      <td>6</td>\n",
       "      <td>False</td>\n",
       "      <td>False</td>\n",
       "      <td>False</td>\n",
       "      <td>False</td>\n",
       "      <td>False</td>\n",
       "    </tr>\n",
       "    <tr>\n",
       "      <th>142</th>\n",
       "      <td>108</td>\n",
       "      <td>0.920167</td>\n",
       "      <td>0.715456</td>\n",
       "      <td>0.299042</td>\n",
       "      <td>-0.303031</td>\n",
       "      <td>-1.810862</td>\n",
       "      <td>1.0</td>\n",
       "      <td>1.0</td>\n",
       "      <td>1.0</td>\n",
       "      <td>1.0</td>\n",
       "      <td>...</td>\n",
       "      <td>6</td>\n",
       "      <td>6</td>\n",
       "      <td>6</td>\n",
       "      <td>6</td>\n",
       "      <td>6</td>\n",
       "      <td>False</td>\n",
       "      <td>False</td>\n",
       "      <td>False</td>\n",
       "      <td>False</td>\n",
       "      <td>False</td>\n",
       "    </tr>\n",
       "    <tr>\n",
       "      <th>277</th>\n",
       "      <td>212</td>\n",
       "      <td>1.004876</td>\n",
       "      <td>0.667724</td>\n",
       "      <td>0.349975</td>\n",
       "      <td>-0.136678</td>\n",
       "      <td>-1.654936</td>\n",
       "      <td>1.0</td>\n",
       "      <td>1.0</td>\n",
       "      <td>1.0</td>\n",
       "      <td>1.0</td>\n",
       "      <td>...</td>\n",
       "      <td>6</td>\n",
       "      <td>6</td>\n",
       "      <td>6</td>\n",
       "      <td>6</td>\n",
       "      <td>6</td>\n",
       "      <td>False</td>\n",
       "      <td>False</td>\n",
       "      <td>False</td>\n",
       "      <td>False</td>\n",
       "      <td>False</td>\n",
       "    </tr>\n",
       "    <tr>\n",
       "      <th>333</th>\n",
       "      <td>257</td>\n",
       "      <td>0.508145</td>\n",
       "      <td>0.920836</td>\n",
       "      <td>0.122587</td>\n",
       "      <td>-1.013852</td>\n",
       "      <td>-1.939134</td>\n",
       "      <td>1.0</td>\n",
       "      <td>1.0</td>\n",
       "      <td>1.0</td>\n",
       "      <td>1.0</td>\n",
       "      <td>...</td>\n",
       "      <td>6</td>\n",
       "      <td>6</td>\n",
       "      <td>6</td>\n",
       "      <td>6</td>\n",
       "      <td>6</td>\n",
       "      <td>False</td>\n",
       "      <td>False</td>\n",
       "      <td>False</td>\n",
       "      <td>False</td>\n",
       "      <td>False</td>\n",
       "    </tr>\n",
       "    <tr>\n",
       "      <th>348</th>\n",
       "      <td>270</td>\n",
       "      <td>1.044641</td>\n",
       "      <td>0.624251</td>\n",
       "      <td>0.372919</td>\n",
       "      <td>-1.519181</td>\n",
       "      <td>-2.365017</td>\n",
       "      <td>1.0</td>\n",
       "      <td>1.0</td>\n",
       "      <td>1.0</td>\n",
       "      <td>1.0</td>\n",
       "      <td>...</td>\n",
       "      <td>6</td>\n",
       "      <td>6</td>\n",
       "      <td>6</td>\n",
       "      <td>6</td>\n",
       "      <td>6</td>\n",
       "      <td>False</td>\n",
       "      <td>False</td>\n",
       "      <td>False</td>\n",
       "      <td>False</td>\n",
       "      <td>False</td>\n",
       "    </tr>\n",
       "    <tr>\n",
       "      <th>370</th>\n",
       "      <td>286</td>\n",
       "      <td>1.042494</td>\n",
       "      <td>0.629072</td>\n",
       "      <td>0.376570</td>\n",
       "      <td>-1.503808</td>\n",
       "      <td>-2.368944</td>\n",
       "      <td>1.0</td>\n",
       "      <td>1.0</td>\n",
       "      <td>1.0</td>\n",
       "      <td>1.0</td>\n",
       "      <td>...</td>\n",
       "      <td>6</td>\n",
       "      <td>6</td>\n",
       "      <td>6</td>\n",
       "      <td>6</td>\n",
       "      <td>6</td>\n",
       "      <td>False</td>\n",
       "      <td>False</td>\n",
       "      <td>False</td>\n",
       "      <td>False</td>\n",
       "      <td>False</td>\n",
       "    </tr>\n",
       "    <tr>\n",
       "      <th>385</th>\n",
       "      <td>298</td>\n",
       "      <td>1.045029</td>\n",
       "      <td>0.623431</td>\n",
       "      <td>0.372479</td>\n",
       "      <td>-1.519941</td>\n",
       "      <td>-2.364112</td>\n",
       "      <td>1.0</td>\n",
       "      <td>1.0</td>\n",
       "      <td>1.0</td>\n",
       "      <td>1.0</td>\n",
       "      <td>...</td>\n",
       "      <td>6</td>\n",
       "      <td>6</td>\n",
       "      <td>6</td>\n",
       "      <td>6</td>\n",
       "      <td>6</td>\n",
       "      <td>False</td>\n",
       "      <td>False</td>\n",
       "      <td>False</td>\n",
       "      <td>False</td>\n",
       "      <td>False</td>\n",
       "    </tr>\n",
       "    <tr>\n",
       "      <th>439</th>\n",
       "      <td>343</td>\n",
       "      <td>1.628814</td>\n",
       "      <td>0.000129</td>\n",
       "      <td>0.078772</td>\n",
       "      <td>-0.987732</td>\n",
       "      <td>-2.805796</td>\n",
       "      <td>1.0</td>\n",
       "      <td>1.0</td>\n",
       "      <td>1.0</td>\n",
       "      <td>1.0</td>\n",
       "      <td>...</td>\n",
       "      <td>6</td>\n",
       "      <td>6</td>\n",
       "      <td>6</td>\n",
       "      <td>6</td>\n",
       "      <td>6</td>\n",
       "      <td>False</td>\n",
       "      <td>False</td>\n",
       "      <td>False</td>\n",
       "      <td>False</td>\n",
       "      <td>False</td>\n",
       "    </tr>\n",
       "    <tr>\n",
       "      <th>506</th>\n",
       "      <td>393</td>\n",
       "      <td>0.691870</td>\n",
       "      <td>0.794388</td>\n",
       "      <td>0.276225</td>\n",
       "      <td>-0.450885</td>\n",
       "      <td>-1.962391</td>\n",
       "      <td>1.0</td>\n",
       "      <td>1.0</td>\n",
       "      <td>1.0</td>\n",
       "      <td>1.0</td>\n",
       "      <td>...</td>\n",
       "      <td>6</td>\n",
       "      <td>6</td>\n",
       "      <td>6</td>\n",
       "      <td>7</td>\n",
       "      <td>6</td>\n",
       "      <td>False</td>\n",
       "      <td>False</td>\n",
       "      <td>False</td>\n",
       "      <td>False</td>\n",
       "      <td>False</td>\n",
       "    </tr>\n",
       "    <tr>\n",
       "      <th>515</th>\n",
       "      <td>402</td>\n",
       "      <td>0.056743</td>\n",
       "      <td>0.010965</td>\n",
       "      <td>-0.804629</td>\n",
       "      <td>-0.655245</td>\n",
       "      <td>-2.419810</td>\n",
       "      <td>1.0</td>\n",
       "      <td>1.0</td>\n",
       "      <td>1.0</td>\n",
       "      <td>1.0</td>\n",
       "      <td>...</td>\n",
       "      <td>6</td>\n",
       "      <td>6</td>\n",
       "      <td>6</td>\n",
       "      <td>6</td>\n",
       "      <td>6</td>\n",
       "      <td>False</td>\n",
       "      <td>False</td>\n",
       "      <td>False</td>\n",
       "      <td>False</td>\n",
       "      <td>False</td>\n",
       "    </tr>\n",
       "    <tr>\n",
       "      <th>531</th>\n",
       "      <td>417</td>\n",
       "      <td>1.011376</td>\n",
       "      <td>0.650058</td>\n",
       "      <td>0.312268</td>\n",
       "      <td>-0.390916</td>\n",
       "      <td>-1.727269</td>\n",
       "      <td>1.0</td>\n",
       "      <td>1.0</td>\n",
       "      <td>1.0</td>\n",
       "      <td>1.0</td>\n",
       "      <td>...</td>\n",
       "      <td>6</td>\n",
       "      <td>6</td>\n",
       "      <td>6</td>\n",
       "      <td>6</td>\n",
       "      <td>6</td>\n",
       "      <td>False</td>\n",
       "      <td>False</td>\n",
       "      <td>False</td>\n",
       "      <td>False</td>\n",
       "      <td>False</td>\n",
       "    </tr>\n",
       "    <tr>\n",
       "      <th>604</th>\n",
       "      <td>476</td>\n",
       "      <td>1.039329</td>\n",
       "      <td>0.608594</td>\n",
       "      <td>0.365635</td>\n",
       "      <td>-0.140610</td>\n",
       "      <td>-1.633865</td>\n",
       "      <td>1.0</td>\n",
       "      <td>1.0</td>\n",
       "      <td>1.0</td>\n",
       "      <td>1.0</td>\n",
       "      <td>...</td>\n",
       "      <td>6</td>\n",
       "      <td>6</td>\n",
       "      <td>6</td>\n",
       "      <td>6</td>\n",
       "      <td>6</td>\n",
       "      <td>False</td>\n",
       "      <td>False</td>\n",
       "      <td>False</td>\n",
       "      <td>False</td>\n",
       "      <td>False</td>\n",
       "    </tr>\n",
       "    <tr>\n",
       "      <th>613</th>\n",
       "      <td>484</td>\n",
       "      <td>1.345160</td>\n",
       "      <td>0.287289</td>\n",
       "      <td>0.135207</td>\n",
       "      <td>-1.471848</td>\n",
       "      <td>-2.256624</td>\n",
       "      <td>1.0</td>\n",
       "      <td>1.0</td>\n",
       "      <td>1.0</td>\n",
       "      <td>1.0</td>\n",
       "      <td>...</td>\n",
       "      <td>6</td>\n",
       "      <td>6</td>\n",
       "      <td>6</td>\n",
       "      <td>6</td>\n",
       "      <td>6</td>\n",
       "      <td>False</td>\n",
       "      <td>False</td>\n",
       "      <td>False</td>\n",
       "      <td>False</td>\n",
       "      <td>False</td>\n",
       "    </tr>\n",
       "    <tr>\n",
       "      <th>871</th>\n",
       "      <td>731</td>\n",
       "      <td>0.740188</td>\n",
       "      <td>0.793830</td>\n",
       "      <td>0.254716</td>\n",
       "      <td>-0.482897</td>\n",
       "      <td>-2.070235</td>\n",
       "      <td>1.0</td>\n",
       "      <td>1.0</td>\n",
       "      <td>1.0</td>\n",
       "      <td>1.0</td>\n",
       "      <td>...</td>\n",
       "      <td>6</td>\n",
       "      <td>6</td>\n",
       "      <td>6</td>\n",
       "      <td>6</td>\n",
       "      <td>6</td>\n",
       "      <td>False</td>\n",
       "      <td>False</td>\n",
       "      <td>False</td>\n",
       "      <td>False</td>\n",
       "      <td>False</td>\n",
       "    </tr>\n",
       "    <tr>\n",
       "      <th>891</th>\n",
       "      <td>751</td>\n",
       "      <td>0.616236</td>\n",
       "      <td>0.087117</td>\n",
       "      <td>0.760997</td>\n",
       "      <td>-1.971705</td>\n",
       "      <td>-3.050372</td>\n",
       "      <td>1.0</td>\n",
       "      <td>1.0</td>\n",
       "      <td>1.0</td>\n",
       "      <td>1.0</td>\n",
       "      <td>...</td>\n",
       "      <td>6</td>\n",
       "      <td>6</td>\n",
       "      <td>6</td>\n",
       "      <td>6</td>\n",
       "      <td>6</td>\n",
       "      <td>False</td>\n",
       "      <td>False</td>\n",
       "      <td>False</td>\n",
       "      <td>False</td>\n",
       "      <td>False</td>\n",
       "    </tr>\n",
       "    <tr>\n",
       "      <th>956</th>\n",
       "      <td>815</td>\n",
       "      <td>0.515437</td>\n",
       "      <td>0.098347</td>\n",
       "      <td>0.813020</td>\n",
       "      <td>-0.905404</td>\n",
       "      <td>-2.919638</td>\n",
       "      <td>1.0</td>\n",
       "      <td>1.0</td>\n",
       "      <td>1.0</td>\n",
       "      <td>1.0</td>\n",
       "      <td>...</td>\n",
       "      <td>6</td>\n",
       "      <td>6</td>\n",
       "      <td>6</td>\n",
       "      <td>6</td>\n",
       "      <td>6</td>\n",
       "      <td>False</td>\n",
       "      <td>False</td>\n",
       "      <td>False</td>\n",
       "      <td>False</td>\n",
       "      <td>False</td>\n",
       "    </tr>\n",
       "    <tr>\n",
       "      <th>975</th>\n",
       "      <td>834</td>\n",
       "      <td>0.765609</td>\n",
       "      <td>0.858221</td>\n",
       "      <td>0.215312</td>\n",
       "      <td>-0.714894</td>\n",
       "      <td>-1.974626</td>\n",
       "      <td>1.0</td>\n",
       "      <td>1.0</td>\n",
       "      <td>1.0</td>\n",
       "      <td>1.0</td>\n",
       "      <td>...</td>\n",
       "      <td>6</td>\n",
       "      <td>6</td>\n",
       "      <td>6</td>\n",
       "      <td>6</td>\n",
       "      <td>8</td>\n",
       "      <td>False</td>\n",
       "      <td>False</td>\n",
       "      <td>False</td>\n",
       "      <td>False</td>\n",
       "      <td>False</td>\n",
       "    </tr>\n",
       "    <tr>\n",
       "      <th>977</th>\n",
       "      <td>836</td>\n",
       "      <td>0.703075</td>\n",
       "      <td>0.853718</td>\n",
       "      <td>0.188231</td>\n",
       "      <td>-0.797479</td>\n",
       "      <td>-1.929821</td>\n",
       "      <td>1.0</td>\n",
       "      <td>1.0</td>\n",
       "      <td>1.0</td>\n",
       "      <td>1.0</td>\n",
       "      <td>...</td>\n",
       "      <td>6</td>\n",
       "      <td>6</td>\n",
       "      <td>6</td>\n",
       "      <td>6</td>\n",
       "      <td>8</td>\n",
       "      <td>False</td>\n",
       "      <td>False</td>\n",
       "      <td>False</td>\n",
       "      <td>False</td>\n",
       "      <td>False</td>\n",
       "    </tr>\n",
       "  </tbody>\n",
       "</table>\n",
       "<p>18 rows × 35 columns</p>\n",
       "</div>"
      ],
      "text/plain": [
       "      0         1         2         3         4         5    6    7    8   \\\n",
       "70    50  0.058795  0.003681 -0.803640 -0.613120 -2.281065  1.0  1.0  1.0   \n",
       "142  108  0.920167  0.715456  0.299042 -0.303031 -1.810862  1.0  1.0  1.0   \n",
       "277  212  1.004876  0.667724  0.349975 -0.136678 -1.654936  1.0  1.0  1.0   \n",
       "333  257  0.508145  0.920836  0.122587 -1.013852 -1.939134  1.0  1.0  1.0   \n",
       "348  270  1.044641  0.624251  0.372919 -1.519181 -2.365017  1.0  1.0  1.0   \n",
       "370  286  1.042494  0.629072  0.376570 -1.503808 -2.368944  1.0  1.0  1.0   \n",
       "385  298  1.045029  0.623431  0.372479 -1.519941 -2.364112  1.0  1.0  1.0   \n",
       "439  343  1.628814  0.000129  0.078772 -0.987732 -2.805796  1.0  1.0  1.0   \n",
       "506  393  0.691870  0.794388  0.276225 -0.450885 -1.962391  1.0  1.0  1.0   \n",
       "515  402  0.056743  0.010965 -0.804629 -0.655245 -2.419810  1.0  1.0  1.0   \n",
       "531  417  1.011376  0.650058  0.312268 -0.390916 -1.727269  1.0  1.0  1.0   \n",
       "604  476  1.039329  0.608594  0.365635 -0.140610 -1.633865  1.0  1.0  1.0   \n",
       "613  484  1.345160  0.287289  0.135207 -1.471848 -2.256624  1.0  1.0  1.0   \n",
       "871  731  0.740188  0.793830  0.254716 -0.482897 -2.070235  1.0  1.0  1.0   \n",
       "891  751  0.616236  0.087117  0.760997 -1.971705 -3.050372  1.0  1.0  1.0   \n",
       "956  815  0.515437  0.098347  0.813020 -0.905404 -2.919638  1.0  1.0  1.0   \n",
       "975  834  0.765609  0.858221  0.215312 -0.714894 -1.974626  1.0  1.0  1.0   \n",
       "977  836  0.703075  0.853718  0.188231 -0.797479 -1.929821  1.0  1.0  1.0   \n",
       "\n",
       "      9   ...    25  26  27  28 29     30     31     32     33     34  \n",
       "70   1.0  ...     6   6   6   6  6  False  False  False  False  False  \n",
       "142  1.0  ...     6   6   6   6  6  False  False  False  False  False  \n",
       "277  1.0  ...     6   6   6   6  6  False  False  False  False  False  \n",
       "333  1.0  ...     6   6   6   6  6  False  False  False  False  False  \n",
       "348  1.0  ...     6   6   6   6  6  False  False  False  False  False  \n",
       "370  1.0  ...     6   6   6   6  6  False  False  False  False  False  \n",
       "385  1.0  ...     6   6   6   6  6  False  False  False  False  False  \n",
       "439  1.0  ...     6   6   6   6  6  False  False  False  False  False  \n",
       "506  1.0  ...     6   6   6   7  6  False  False  False  False  False  \n",
       "515  1.0  ...     6   6   6   6  6  False  False  False  False  False  \n",
       "531  1.0  ...     6   6   6   6  6  False  False  False  False  False  \n",
       "604  1.0  ...     6   6   6   6  6  False  False  False  False  False  \n",
       "613  1.0  ...     6   6   6   6  6  False  False  False  False  False  \n",
       "871  1.0  ...     6   6   6   6  6  False  False  False  False  False  \n",
       "891  1.0  ...     6   6   6   6  6  False  False  False  False  False  \n",
       "956  1.0  ...     6   6   6   6  6  False  False  False  False  False  \n",
       "975  1.0  ...     6   6   6   6  8  False  False  False  False  False  \n",
       "977  1.0  ...     6   6   6   6  8  False  False  False  False  False  \n",
       "\n",
       "[18 rows x 35 columns]"
      ]
     },
     "execution_count": 71,
     "metadata": {},
     "output_type": "execute_result"
    }
   ],
   "source": [
    "poly_8[(poly_8.iloc[:,4]<0) & (poly_8.iloc[:,4]>-2) & (poly_8.iloc[:,5]<-1.5)]"
   ]
  },
  {
   "cell_type": "code",
   "execution_count": null,
   "metadata": {},
   "outputs": [],
   "source": []
  },
  {
   "cell_type": "code",
   "execution_count": 78,
   "metadata": {},
   "outputs": [
    {
     "data": {
      "text/plain": [
       "<matplotlib.collections.PathCollection at 0x7fed4a83bbe0>"
      ]
     },
     "execution_count": 78,
     "metadata": {},
     "output_type": "execute_result"
    },
    {
     "data": {
      "image/png": "[encoded data removed]",
      "text/plain": [
       "<Figure size 432x288 with 1 Axes>"
      ]
     },
     "metadata": {
      "needs_background": "light"
     },
     "output_type": "display_data"
    }
   ],
   "source": [
    "plt.scatter(np.mod(poly_8.iloc[:,4],2*np.pi),np.mod(poly_8.iloc[:,5],2*np.pi))\n",
    "plt.scatter(y1,y2)\n",
    "#plt.scatter(y3,y4)"
   ]
  },
  {
   "cell_type": "code",
   "execution_count": 84,
   "metadata": {},
   "outputs": [
    {
     "data": {
      "text/html": [
       "<div>\n",
       "<style scoped>\n",
       "    .dataframe tbody tr th:only-of-type {\n",
       "        vertical-align: middle;\n",
       "    }\n",
       "\n",
       "    .dataframe tbody tr th {\n",
       "        vertical-align: top;\n",
       "    }\n",
       "\n",
       "    .dataframe thead th {\n",
       "        text-align: right;\n",
       "    }\n",
       "</style>\n",
       "<table border=\"1\" class=\"dataframe\">\n",
       "  <thead>\n",
       "    <tr style=\"text-align: right;\">\n",
       "      <th></th>\n",
       "      <th>0</th>\n",
       "      <th>1</th>\n",
       "      <th>2</th>\n",
       "      <th>3</th>\n",
       "      <th>4</th>\n",
       "      <th>5</th>\n",
       "      <th>6</th>\n",
       "      <th>7</th>\n",
       "      <th>8</th>\n",
       "      <th>9</th>\n",
       "      <th>...</th>\n",
       "      <th>25</th>\n",
       "      <th>26</th>\n",
       "      <th>27</th>\n",
       "      <th>28</th>\n",
       "      <th>29</th>\n",
       "      <th>30</th>\n",
       "      <th>31</th>\n",
       "      <th>32</th>\n",
       "      <th>33</th>\n",
       "      <th>34</th>\n",
       "    </tr>\n",
       "  </thead>\n",
       "  <tbody>\n",
       "    <tr>\n",
       "      <th>439</th>\n",
       "      <td>343</td>\n",
       "      <td>1.628814</td>\n",
       "      <td>0.000129</td>\n",
       "      <td>0.078772</td>\n",
       "      <td>-0.987732</td>\n",
       "      <td>-2.805796</td>\n",
       "      <td>1.0</td>\n",
       "      <td>1.0</td>\n",
       "      <td>1.0</td>\n",
       "      <td>1.0</td>\n",
       "      <td>...</td>\n",
       "      <td>6</td>\n",
       "      <td>6</td>\n",
       "      <td>6</td>\n",
       "      <td>6</td>\n",
       "      <td>6</td>\n",
       "      <td>False</td>\n",
       "      <td>False</td>\n",
       "      <td>False</td>\n",
       "      <td>False</td>\n",
       "      <td>False</td>\n",
       "    </tr>\n",
       "    <tr>\n",
       "      <th>515</th>\n",
       "      <td>402</td>\n",
       "      <td>0.056743</td>\n",
       "      <td>0.010965</td>\n",
       "      <td>-0.804629</td>\n",
       "      <td>-0.655245</td>\n",
       "      <td>-2.419810</td>\n",
       "      <td>1.0</td>\n",
       "      <td>1.0</td>\n",
       "      <td>1.0</td>\n",
       "      <td>1.0</td>\n",
       "      <td>...</td>\n",
       "      <td>6</td>\n",
       "      <td>6</td>\n",
       "      <td>6</td>\n",
       "      <td>6</td>\n",
       "      <td>6</td>\n",
       "      <td>False</td>\n",
       "      <td>False</td>\n",
       "      <td>False</td>\n",
       "      <td>False</td>\n",
       "      <td>False</td>\n",
       "    </tr>\n",
       "    <tr>\n",
       "      <th>822</th>\n",
       "      <td>682</td>\n",
       "      <td>0.981228</td>\n",
       "      <td>0.603214</td>\n",
       "      <td>-0.364158</td>\n",
       "      <td>-0.039856</td>\n",
       "      <td>3.125551</td>\n",
       "      <td>1.0</td>\n",
       "      <td>1.0</td>\n",
       "      <td>1.0</td>\n",
       "      <td>1.0</td>\n",
       "      <td>...</td>\n",
       "      <td>6</td>\n",
       "      <td>6</td>\n",
       "      <td>6</td>\n",
       "      <td>6</td>\n",
       "      <td>6</td>\n",
       "      <td>False</td>\n",
       "      <td>False</td>\n",
       "      <td>False</td>\n",
       "      <td>False</td>\n",
       "      <td>False</td>\n",
       "    </tr>\n",
       "    <tr>\n",
       "      <th>956</th>\n",
       "      <td>815</td>\n",
       "      <td>0.515437</td>\n",
       "      <td>0.098347</td>\n",
       "      <td>0.813020</td>\n",
       "      <td>-0.905404</td>\n",
       "      <td>-2.919638</td>\n",
       "      <td>1.0</td>\n",
       "      <td>1.0</td>\n",
       "      <td>1.0</td>\n",
       "      <td>1.0</td>\n",
       "      <td>...</td>\n",
       "      <td>6</td>\n",
       "      <td>6</td>\n",
       "      <td>6</td>\n",
       "      <td>6</td>\n",
       "      <td>6</td>\n",
       "      <td>False</td>\n",
       "      <td>False</td>\n",
       "      <td>False</td>\n",
       "      <td>False</td>\n",
       "      <td>False</td>\n",
       "    </tr>\n",
       "  </tbody>\n",
       "</table>\n",
       "<p>4 rows × 35 columns</p>\n",
       "</div>"
      ],
      "text/plain": [
       "      0         1         2         3         4         5    6    7    8   \\\n",
       "439  343  1.628814  0.000129  0.078772 -0.987732 -2.805796  1.0  1.0  1.0   \n",
       "515  402  0.056743  0.010965 -0.804629 -0.655245 -2.419810  1.0  1.0  1.0   \n",
       "822  682  0.981228  0.603214 -0.364158 -0.039856  3.125551  1.0  1.0  1.0   \n",
       "956  815  0.515437  0.098347  0.813020 -0.905404 -2.919638  1.0  1.0  1.0   \n",
       "\n",
       "      9   ...    25  26  27  28 29     30     31     32     33     34  \n",
       "439  1.0  ...     6   6   6   6  6  False  False  False  False  False  \n",
       "515  1.0  ...     6   6   6   6  6  False  False  False  False  False  \n",
       "822  1.0  ...     6   6   6   6  6  False  False  False  False  False  \n",
       "956  1.0  ...     6   6   6   6  6  False  False  False  False  False  \n",
       "\n",
       "[4 rows x 35 columns]"
      ]
     },
     "execution_count": 84,
     "metadata": {},
     "output_type": "execute_result"
    }
   ],
   "source": [
    "poly_8[(np.mod(poly_8.iloc[:,4],2*np.pi)>5) & (np.mod(poly_8.iloc[:,5],2*np.pi)>2.5) & (np.mod(poly_8.iloc[:,5],2*np.pi)<4)]"
   ]
  },
  {
   "cell_type": "code",
   "execution_count": 79,
   "metadata": {},
   "outputs": [
    {
     "data": {
      "text/plain": [
       "<matplotlib.collections.PathCollection at 0x7fed4a7628d0>"
      ]
     },
     "execution_count": 79,
     "metadata": {},
     "output_type": "execute_result"
    },
    {
     "data": {
      "image/png": "[encoded data removed]",
      "text/plain": [
       "<Figure size 432x288 with 1 Axes>"
      ]
     },
     "metadata": {
      "needs_background": "light"
     },
     "output_type": "display_data"
    }
   ],
   "source": [
    "plt.scatter(poly_8.iloc[:,4],poly_8.iloc[:,5])"
   ]
  },
  {
   "cell_type": "code",
   "execution_count": 349,
   "metadata": {},
   "outputs": [],
   "source": [
    "remove = [4,32,56,60, 467, 512, 513, 5,10,24,28,31.41,51,55, 27,73,78,109,166,167,187,296,337,339,342,343,347,368,391,491,171,407,478, 23,832,862,789,785,747,748,749]"
   ]
  },
  {
   "cell_type": "code",
   "execution_count": 350,
   "metadata": {},
   "outputs": [],
   "source": [
    "k = []\n",
    "for idx, item in enumerate(qq[0].values):\n",
    "    if item not in remove:\n",
    "        k.append(idx)"
   ]
  },
  {
   "cell_type": "code",
   "execution_count": null,
   "metadata": {},
   "outputs": [],
   "source": []
  },
  {
   "cell_type": "code",
   "execution_count": null,
   "metadata": {},
   "outputs": [],
   "source": []
  },
  {
   "cell_type": "code",
   "execution_count": null,
   "metadata": {},
   "outputs": [],
   "source": []
  },
  {
   "cell_type": "code",
   "execution_count": 76,
   "metadata": {},
   "outputs": [],
   "source": [
    "x = np.arange(-np.pi,np.pi,0.05)\n",
    "y1 = np.mod(2*x,2*np.pi)\n",
    "y2 = np.mod(x+np.pi/2,np.pi*2)\n",
    "y3 = np.mod(2*x+np.pi/2,np.pi*2)\n",
    "y4 = np.mod(x+np.pi*135/180,np.pi*2)"
   ]
  },
  {
   "cell_type": "code",
   "execution_count": null,
   "metadata": {},
   "outputs": [],
   "source": []
  },
  {
   "cell_type": "code",
   "execution_count": 374,
   "metadata": {},
   "outputs": [
    {
     "data": {
      "text/html": [
       "<div>\n",
       "<style scoped>\n",
       "    .dataframe tbody tr th:only-of-type {\n",
       "        vertical-align: middle;\n",
       "    }\n",
       "\n",
       "    .dataframe tbody tr th {\n",
       "        vertical-align: top;\n",
       "    }\n",
       "\n",
       "    .dataframe thead th {\n",
       "        text-align: right;\n",
       "    }\n",
       "</style>\n",
       "<table border=\"1\" class=\"dataframe\">\n",
       "  <thead>\n",
       "    <tr style=\"text-align: right;\">\n",
       "      <th></th>\n",
       "      <th>0</th>\n",
       "      <th>1</th>\n",
       "      <th>2</th>\n",
       "      <th>3</th>\n",
       "      <th>4</th>\n",
       "      <th>5</th>\n",
       "      <th>6</th>\n",
       "      <th>7</th>\n",
       "      <th>8</th>\n",
       "      <th>9</th>\n",
       "      <th>...</th>\n",
       "      <th>12</th>\n",
       "      <th>13</th>\n",
       "      <th>14</th>\n",
       "      <th>15</th>\n",
       "      <th>16</th>\n",
       "      <th>17</th>\n",
       "      <th>18</th>\n",
       "      <th>19</th>\n",
       "      <th>20</th>\n",
       "      <th>21</th>\n",
       "    </tr>\n",
       "  </thead>\n",
       "  <tbody>\n",
       "    <tr>\n",
       "      <th>408</th>\n",
       "      <td>321</td>\n",
       "      <td>0.767415</td>\n",
       "      <td>0.859857</td>\n",
       "      <td>-0.251649</td>\n",
       "      <td>-2.286794</td>\n",
       "      <td>2.012792</td>\n",
       "      <td>1.0</td>\n",
       "      <td>1.0</td>\n",
       "      <td>1.0</td>\n",
       "      <td>1.0</td>\n",
       "      <td>...</td>\n",
       "      <td>1.0</td>\n",
       "      <td>1.0</td>\n",
       "      <td>M</td>\n",
       "      <td>B</td>\n",
       "      <td>P</td>\n",
       "      <td>B</td>\n",
       "      <td>M</td>\n",
       "      <td>M</td>\n",
       "      <td>M</td>\n",
       "      <td>M</td>\n",
       "    </tr>\n",
       "    <tr>\n",
       "      <th>411</th>\n",
       "      <td>324</td>\n",
       "      <td>0.977042</td>\n",
       "      <td>0.588956</td>\n",
       "      <td>0.335027</td>\n",
       "      <td>1.030333</td>\n",
       "      <td>2.139187</td>\n",
       "      <td>1.0</td>\n",
       "      <td>1.0</td>\n",
       "      <td>1.0</td>\n",
       "      <td>1.0</td>\n",
       "      <td>...</td>\n",
       "      <td>1.0</td>\n",
       "      <td>1.0</td>\n",
       "      <td>B</td>\n",
       "      <td>B</td>\n",
       "      <td>M</td>\n",
       "      <td>B</td>\n",
       "      <td>B</td>\n",
       "      <td>B</td>\n",
       "      <td>M</td>\n",
       "      <td>M</td>\n",
       "    </tr>\n",
       "    <tr>\n",
       "      <th>414</th>\n",
       "      <td>327</td>\n",
       "      <td>1.035493</td>\n",
       "      <td>0.647819</td>\n",
       "      <td>-0.320790</td>\n",
       "      <td>0.183754</td>\n",
       "      <td>0.153779</td>\n",
       "      <td>1.0</td>\n",
       "      <td>1.0</td>\n",
       "      <td>1.0</td>\n",
       "      <td>1.0</td>\n",
       "      <td>...</td>\n",
       "      <td>1.0</td>\n",
       "      <td>1.0</td>\n",
       "      <td>M</td>\n",
       "      <td>B</td>\n",
       "      <td>B</td>\n",
       "      <td>M</td>\n",
       "      <td>M</td>\n",
       "      <td>M</td>\n",
       "      <td>M</td>\n",
       "      <td>M</td>\n",
       "    </tr>\n",
       "    <tr>\n",
       "      <th>420</th>\n",
       "      <td>333</td>\n",
       "      <td>0.527716</td>\n",
       "      <td>0.432651</td>\n",
       "      <td>0.399212</td>\n",
       "      <td>-2.938809</td>\n",
       "      <td>-0.216152</td>\n",
       "      <td>1.0</td>\n",
       "      <td>1.0</td>\n",
       "      <td>1.0</td>\n",
       "      <td>1.0</td>\n",
       "      <td>...</td>\n",
       "      <td>1.0</td>\n",
       "      <td>1.0</td>\n",
       "      <td>B</td>\n",
       "      <td>M</td>\n",
       "      <td>M</td>\n",
       "      <td>M</td>\n",
       "      <td>M</td>\n",
       "      <td>M</td>\n",
       "      <td>B</td>\n",
       "      <td>B</td>\n",
       "    </tr>\n",
       "    <tr>\n",
       "      <th>422</th>\n",
       "      <td>335</td>\n",
       "      <td>1.027531</td>\n",
       "      <td>0.629151</td>\n",
       "      <td>0.368446</td>\n",
       "      <td>1.656888</td>\n",
       "      <td>-0.652552</td>\n",
       "      <td>1.0</td>\n",
       "      <td>1.0</td>\n",
       "      <td>1.0</td>\n",
       "      <td>1.0</td>\n",
       "      <td>...</td>\n",
       "      <td>1.0</td>\n",
       "      <td>1.0</td>\n",
       "      <td>B</td>\n",
       "      <td>P</td>\n",
       "      <td>B</td>\n",
       "      <td>M</td>\n",
       "      <td>M</td>\n",
       "      <td>M</td>\n",
       "      <td>M</td>\n",
       "      <td>M</td>\n",
       "    </tr>\n",
       "    <tr>\n",
       "      <th>440</th>\n",
       "      <td>344</td>\n",
       "      <td>1.019909</td>\n",
       "      <td>0.606932</td>\n",
       "      <td>0.348710</td>\n",
       "      <td>-0.066193</td>\n",
       "      <td>1.558436</td>\n",
       "      <td>1.0</td>\n",
       "      <td>1.0</td>\n",
       "      <td>1.0</td>\n",
       "      <td>1.0</td>\n",
       "      <td>...</td>\n",
       "      <td>1.0</td>\n",
       "      <td>1.0</td>\n",
       "      <td>B</td>\n",
       "      <td>B</td>\n",
       "      <td>M</td>\n",
       "      <td>M</td>\n",
       "      <td>M</td>\n",
       "      <td>M</td>\n",
       "      <td>M</td>\n",
       "      <td>M</td>\n",
       "    </tr>\n",
       "    <tr>\n",
       "      <th>452</th>\n",
       "      <td>352</td>\n",
       "      <td>1.553408</td>\n",
       "      <td>0.025258</td>\n",
       "      <td>0.018507</td>\n",
       "      <td>2.980125</td>\n",
       "      <td>1.336102</td>\n",
       "      <td>1.0</td>\n",
       "      <td>1.0</td>\n",
       "      <td>1.0</td>\n",
       "      <td>1.0</td>\n",
       "      <td>...</td>\n",
       "      <td>1.0</td>\n",
       "      <td>1.0</td>\n",
       "      <td>M</td>\n",
       "      <td>M</td>\n",
       "      <td>M</td>\n",
       "      <td>B</td>\n",
       "      <td>B</td>\n",
       "      <td>M</td>\n",
       "      <td>M</td>\n",
       "      <td>M</td>\n",
       "    </tr>\n",
       "    <tr>\n",
       "      <th>453</th>\n",
       "      <td>353</td>\n",
       "      <td>0.000214</td>\n",
       "      <td>0.890176</td>\n",
       "      <td>0.000066</td>\n",
       "      <td>-1.789448</td>\n",
       "      <td>1.992030</td>\n",
       "      <td>1.0</td>\n",
       "      <td>1.0</td>\n",
       "      <td>1.0</td>\n",
       "      <td>1.0</td>\n",
       "      <td>...</td>\n",
       "      <td>1.0</td>\n",
       "      <td>1.0</td>\n",
       "      <td>B</td>\n",
       "      <td>B</td>\n",
       "      <td>M</td>\n",
       "      <td>M</td>\n",
       "      <td>B</td>\n",
       "      <td>B</td>\n",
       "      <td>M</td>\n",
       "      <td>M</td>\n",
       "    </tr>\n",
       "    <tr>\n",
       "      <th>465</th>\n",
       "      <td>362</td>\n",
       "      <td>0.926703</td>\n",
       "      <td>0.001226</td>\n",
       "      <td>0.000990</td>\n",
       "      <td>-1.568315</td>\n",
       "      <td>-1.837461</td>\n",
       "      <td>1.0</td>\n",
       "      <td>1.0</td>\n",
       "      <td>1.0</td>\n",
       "      <td>1.0</td>\n",
       "      <td>...</td>\n",
       "      <td>1.0</td>\n",
       "      <td>1.0</td>\n",
       "      <td>M</td>\n",
       "      <td>M</td>\n",
       "      <td>B</td>\n",
       "      <td>M</td>\n",
       "      <td>M</td>\n",
       "      <td>M</td>\n",
       "      <td>B</td>\n",
       "      <td>M</td>\n",
       "    </tr>\n",
       "    <tr>\n",
       "      <th>480</th>\n",
       "      <td>372</td>\n",
       "      <td>1.000401</td>\n",
       "      <td>0.510248</td>\n",
       "      <td>0.420666</td>\n",
       "      <td>1.290370</td>\n",
       "      <td>-0.880419</td>\n",
       "      <td>1.0</td>\n",
       "      <td>1.0</td>\n",
       "      <td>1.0</td>\n",
       "      <td>1.0</td>\n",
       "      <td>...</td>\n",
       "      <td>1.0</td>\n",
       "      <td>1.0</td>\n",
       "      <td>B</td>\n",
       "      <td>B</td>\n",
       "      <td>M</td>\n",
       "      <td>M</td>\n",
       "      <td>B</td>\n",
       "      <td>P</td>\n",
       "      <td>B</td>\n",
       "      <td>B</td>\n",
       "    </tr>\n",
       "    <tr>\n",
       "      <th>490</th>\n",
       "      <td>381</td>\n",
       "      <td>0.293921</td>\n",
       "      <td>0.020173</td>\n",
       "      <td>-0.797254</td>\n",
       "      <td>0.448497</td>\n",
       "      <td>-1.430867</td>\n",
       "      <td>1.0</td>\n",
       "      <td>1.0</td>\n",
       "      <td>1.0</td>\n",
       "      <td>1.0</td>\n",
       "      <td>...</td>\n",
       "      <td>1.0</td>\n",
       "      <td>1.0</td>\n",
       "      <td>M</td>\n",
       "      <td>B</td>\n",
       "      <td>B</td>\n",
       "      <td>B</td>\n",
       "      <td>M</td>\n",
       "      <td>M</td>\n",
       "      <td>M</td>\n",
       "      <td>M</td>\n",
       "    </tr>\n",
       "    <tr>\n",
       "      <th>491</th>\n",
       "      <td>381</td>\n",
       "      <td>0.389258</td>\n",
       "      <td>0.011924</td>\n",
       "      <td>-0.771972</td>\n",
       "      <td>1.123573</td>\n",
       "      <td>0.387100</td>\n",
       "      <td>1.0</td>\n",
       "      <td>1.0</td>\n",
       "      <td>1.0</td>\n",
       "      <td>1.0</td>\n",
       "      <td>...</td>\n",
       "      <td>1.0</td>\n",
       "      <td>1.0</td>\n",
       "      <td>B</td>\n",
       "      <td>M</td>\n",
       "      <td>M</td>\n",
       "      <td>M</td>\n",
       "      <td>M</td>\n",
       "      <td>M</td>\n",
       "      <td>B</td>\n",
       "      <td>B</td>\n",
       "    </tr>\n",
       "    <tr>\n",
       "      <th>497</th>\n",
       "      <td>387</td>\n",
       "      <td>0.892945</td>\n",
       "      <td>0.652930</td>\n",
       "      <td>0.268987</td>\n",
       "      <td>2.033076</td>\n",
       "      <td>2.576350</td>\n",
       "      <td>1.0</td>\n",
       "      <td>1.0</td>\n",
       "      <td>1.0</td>\n",
       "      <td>1.0</td>\n",
       "      <td>...</td>\n",
       "      <td>1.0</td>\n",
       "      <td>1.0</td>\n",
       "      <td>B</td>\n",
       "      <td>B</td>\n",
       "      <td>M</td>\n",
       "      <td>M</td>\n",
       "      <td>B</td>\n",
       "      <td>B</td>\n",
       "      <td>B</td>\n",
       "      <td>M</td>\n",
       "    </tr>\n",
       "    <tr>\n",
       "      <th>498</th>\n",
       "      <td>388</td>\n",
       "      <td>1.016359</td>\n",
       "      <td>0.629364</td>\n",
       "      <td>0.224855</td>\n",
       "      <td>-1.359461</td>\n",
       "      <td>1.090463</td>\n",
       "      <td>1.0</td>\n",
       "      <td>1.0</td>\n",
       "      <td>1.0</td>\n",
       "      <td>1.0</td>\n",
       "      <td>...</td>\n",
       "      <td>1.0</td>\n",
       "      <td>1.0</td>\n",
       "      <td>B</td>\n",
       "      <td>B</td>\n",
       "      <td>M</td>\n",
       "      <td>M</td>\n",
       "      <td>P</td>\n",
       "      <td>B</td>\n",
       "      <td>B</td>\n",
       "      <td>M</td>\n",
       "    </tr>\n",
       "    <tr>\n",
       "      <th>506</th>\n",
       "      <td>393</td>\n",
       "      <td>0.691870</td>\n",
       "      <td>0.794388</td>\n",
       "      <td>0.276225</td>\n",
       "      <td>-0.450885</td>\n",
       "      <td>-1.962391</td>\n",
       "      <td>1.0</td>\n",
       "      <td>1.0</td>\n",
       "      <td>1.0</td>\n",
       "      <td>1.0</td>\n",
       "      <td>...</td>\n",
       "      <td>1.0</td>\n",
       "      <td>1.0</td>\n",
       "      <td>M</td>\n",
       "      <td>M</td>\n",
       "      <td>M</td>\n",
       "      <td>M</td>\n",
       "      <td>B</td>\n",
       "      <td>M</td>\n",
       "      <td>M</td>\n",
       "      <td>M</td>\n",
       "    </tr>\n",
       "    <tr>\n",
       "      <th>515</th>\n",
       "      <td>402</td>\n",
       "      <td>0.056743</td>\n",
       "      <td>0.010965</td>\n",
       "      <td>-0.804629</td>\n",
       "      <td>-0.655245</td>\n",
       "      <td>-2.419810</td>\n",
       "      <td>1.0</td>\n",
       "      <td>1.0</td>\n",
       "      <td>1.0</td>\n",
       "      <td>1.0</td>\n",
       "      <td>...</td>\n",
       "      <td>1.0</td>\n",
       "      <td>1.0</td>\n",
       "      <td>B</td>\n",
       "      <td>P</td>\n",
       "      <td>P</td>\n",
       "      <td>B</td>\n",
       "      <td>M</td>\n",
       "      <td>M</td>\n",
       "      <td>M</td>\n",
       "      <td>M</td>\n",
       "    </tr>\n",
       "    <tr>\n",
       "      <th>517</th>\n",
       "      <td>404</td>\n",
       "      <td>1.019179</td>\n",
       "      <td>0.614371</td>\n",
       "      <td>0.323301</td>\n",
       "      <td>-3.139187</td>\n",
       "      <td>-0.069419</td>\n",
       "      <td>1.0</td>\n",
       "      <td>1.0</td>\n",
       "      <td>1.0</td>\n",
       "      <td>1.0</td>\n",
       "      <td>...</td>\n",
       "      <td>1.0</td>\n",
       "      <td>1.0</td>\n",
       "      <td>M</td>\n",
       "      <td>M</td>\n",
       "      <td>M</td>\n",
       "      <td>B</td>\n",
       "      <td>M</td>\n",
       "      <td>M</td>\n",
       "      <td>M</td>\n",
       "      <td>M</td>\n",
       "    </tr>\n",
       "    <tr>\n",
       "      <th>519</th>\n",
       "      <td>406</td>\n",
       "      <td>1.265433</td>\n",
       "      <td>0.003957</td>\n",
       "      <td>-0.059285</td>\n",
       "      <td>1.149479</td>\n",
       "      <td>1.100452</td>\n",
       "      <td>1.0</td>\n",
       "      <td>1.0</td>\n",
       "      <td>1.0</td>\n",
       "      <td>1.0</td>\n",
       "      <td>...</td>\n",
       "      <td>1.0</td>\n",
       "      <td>1.0</td>\n",
       "      <td>P</td>\n",
       "      <td>B</td>\n",
       "      <td>B</td>\n",
       "      <td>B</td>\n",
       "      <td>P</td>\n",
       "      <td>B</td>\n",
       "      <td>B</td>\n",
       "      <td>B</td>\n",
       "    </tr>\n",
       "    <tr>\n",
       "      <th>520</th>\n",
       "      <td>406</td>\n",
       "      <td>1.070904</td>\n",
       "      <td>0.074476</td>\n",
       "      <td>-0.082118</td>\n",
       "      <td>0.852044</td>\n",
       "      <td>2.155902</td>\n",
       "      <td>1.0</td>\n",
       "      <td>1.0</td>\n",
       "      <td>1.0</td>\n",
       "      <td>1.0</td>\n",
       "      <td>...</td>\n",
       "      <td>1.0</td>\n",
       "      <td>1.0</td>\n",
       "      <td>P</td>\n",
       "      <td>P</td>\n",
       "      <td>P</td>\n",
       "      <td>P</td>\n",
       "      <td>P</td>\n",
       "      <td>M</td>\n",
       "      <td>M</td>\n",
       "      <td>M</td>\n",
       "    </tr>\n",
       "    <tr>\n",
       "      <th>522</th>\n",
       "      <td>408</td>\n",
       "      <td>1.028182</td>\n",
       "      <td>0.624045</td>\n",
       "      <td>-0.372992</td>\n",
       "      <td>-0.002340</td>\n",
       "      <td>-0.029447</td>\n",
       "      <td>1.0</td>\n",
       "      <td>1.0</td>\n",
       "      <td>1.0</td>\n",
       "      <td>1.0</td>\n",
       "      <td>...</td>\n",
       "      <td>1.0</td>\n",
       "      <td>1.0</td>\n",
       "      <td>M</td>\n",
       "      <td>M</td>\n",
       "      <td>B</td>\n",
       "      <td>B</td>\n",
       "      <td>M</td>\n",
       "      <td>M</td>\n",
       "      <td>M</td>\n",
       "      <td>M</td>\n",
       "    </tr>\n",
       "    <tr>\n",
       "      <th>528</th>\n",
       "      <td>414</td>\n",
       "      <td>0.563971</td>\n",
       "      <td>0.907105</td>\n",
       "      <td>-0.181803</td>\n",
       "      <td>-2.588735</td>\n",
       "      <td>1.867839</td>\n",
       "      <td>1.0</td>\n",
       "      <td>1.0</td>\n",
       "      <td>1.0</td>\n",
       "      <td>1.0</td>\n",
       "      <td>...</td>\n",
       "      <td>1.0</td>\n",
       "      <td>1.0</td>\n",
       "      <td>M</td>\n",
       "      <td>B</td>\n",
       "      <td>B</td>\n",
       "      <td>B</td>\n",
       "      <td>M</td>\n",
       "      <td>M</td>\n",
       "      <td>M</td>\n",
       "      <td>M</td>\n",
       "    </tr>\n",
       "    <tr>\n",
       "      <th>531</th>\n",
       "      <td>417</td>\n",
       "      <td>1.011376</td>\n",
       "      <td>0.650058</td>\n",
       "      <td>0.312268</td>\n",
       "      <td>-0.390916</td>\n",
       "      <td>-1.727269</td>\n",
       "      <td>1.0</td>\n",
       "      <td>1.0</td>\n",
       "      <td>1.0</td>\n",
       "      <td>1.0</td>\n",
       "      <td>...</td>\n",
       "      <td>1.0</td>\n",
       "      <td>1.0</td>\n",
       "      <td>M</td>\n",
       "      <td>M</td>\n",
       "      <td>M</td>\n",
       "      <td>M</td>\n",
       "      <td>B</td>\n",
       "      <td>B</td>\n",
       "      <td>M</td>\n",
       "      <td>M</td>\n",
       "    </tr>\n",
       "    <tr>\n",
       "      <th>532</th>\n",
       "      <td>418</td>\n",
       "      <td>0.996253</td>\n",
       "      <td>0.117435</td>\n",
       "      <td>-0.463570</td>\n",
       "      <td>-0.864262</td>\n",
       "      <td>-0.618073</td>\n",
       "      <td>1.0</td>\n",
       "      <td>1.0</td>\n",
       "      <td>1.0</td>\n",
       "      <td>1.0</td>\n",
       "      <td>...</td>\n",
       "      <td>1.0</td>\n",
       "      <td>1.0</td>\n",
       "      <td>B</td>\n",
       "      <td>M</td>\n",
       "      <td>M</td>\n",
       "      <td>M</td>\n",
       "      <td>M</td>\n",
       "      <td>M</td>\n",
       "      <td>M</td>\n",
       "      <td>B</td>\n",
       "    </tr>\n",
       "    <tr>\n",
       "      <th>537</th>\n",
       "      <td>423</td>\n",
       "      <td>1.047441</td>\n",
       "      <td>0.612069</td>\n",
       "      <td>-0.362121</td>\n",
       "      <td>3.013089</td>\n",
       "      <td>1.512686</td>\n",
       "      <td>1.0</td>\n",
       "      <td>1.0</td>\n",
       "      <td>1.0</td>\n",
       "      <td>1.0</td>\n",
       "      <td>...</td>\n",
       "      <td>1.0</td>\n",
       "      <td>1.0</td>\n",
       "      <td>M</td>\n",
       "      <td>B</td>\n",
       "      <td>M</td>\n",
       "      <td>M</td>\n",
       "      <td>M</td>\n",
       "      <td>M</td>\n",
       "      <td>M</td>\n",
       "      <td>M</td>\n",
       "    </tr>\n",
       "    <tr>\n",
       "      <th>541</th>\n",
       "      <td>427</td>\n",
       "      <td>0.960654</td>\n",
       "      <td>0.616553</td>\n",
       "      <td>-0.357423</td>\n",
       "      <td>1.593142</td>\n",
       "      <td>0.786448</td>\n",
       "      <td>1.0</td>\n",
       "      <td>1.0</td>\n",
       "      <td>1.0</td>\n",
       "      <td>1.0</td>\n",
       "      <td>...</td>\n",
       "      <td>1.0</td>\n",
       "      <td>1.0</td>\n",
       "      <td>B</td>\n",
       "      <td>M</td>\n",
       "      <td>M</td>\n",
       "      <td>B</td>\n",
       "      <td>B</td>\n",
       "      <td>B</td>\n",
       "      <td>M</td>\n",
       "      <td>B</td>\n",
       "    </tr>\n",
       "    <tr>\n",
       "      <th>542</th>\n",
       "      <td>428</td>\n",
       "      <td>0.912944</td>\n",
       "      <td>0.682528</td>\n",
       "      <td>-0.292557</td>\n",
       "      <td>2.891364</td>\n",
       "      <td>1.319966</td>\n",
       "      <td>1.0</td>\n",
       "      <td>1.0</td>\n",
       "      <td>1.0</td>\n",
       "      <td>1.0</td>\n",
       "      <td>...</td>\n",
       "      <td>1.0</td>\n",
       "      <td>1.0</td>\n",
       "      <td>P</td>\n",
       "      <td>P</td>\n",
       "      <td>M</td>\n",
       "      <td>M</td>\n",
       "      <td>M</td>\n",
       "      <td>M</td>\n",
       "      <td>M</td>\n",
       "      <td>M</td>\n",
       "    </tr>\n",
       "    <tr>\n",
       "      <th>543</th>\n",
       "      <td>429</td>\n",
       "      <td>0.324562</td>\n",
       "      <td>0.040273</td>\n",
       "      <td>-0.803790</td>\n",
       "      <td>0.972776</td>\n",
       "      <td>-2.332969</td>\n",
       "      <td>1.0</td>\n",
       "      <td>1.0</td>\n",
       "      <td>1.0</td>\n",
       "      <td>1.0</td>\n",
       "      <td>...</td>\n",
       "      <td>1.0</td>\n",
       "      <td>1.0</td>\n",
       "      <td>B</td>\n",
       "      <td>B</td>\n",
       "      <td>B</td>\n",
       "      <td>M</td>\n",
       "      <td>B</td>\n",
       "      <td>B</td>\n",
       "      <td>M</td>\n",
       "      <td>M</td>\n",
       "    </tr>\n",
       "    <tr>\n",
       "      <th>556</th>\n",
       "      <td>439</td>\n",
       "      <td>0.912494</td>\n",
       "      <td>0.711372</td>\n",
       "      <td>0.311394</td>\n",
       "      <td>-0.294231</td>\n",
       "      <td>1.318992</td>\n",
       "      <td>1.0</td>\n",
       "      <td>1.0</td>\n",
       "      <td>1.0</td>\n",
       "      <td>1.0</td>\n",
       "      <td>...</td>\n",
       "      <td>1.0</td>\n",
       "      <td>1.0</td>\n",
       "      <td>M</td>\n",
       "      <td>M</td>\n",
       "      <td>M</td>\n",
       "      <td>M</td>\n",
       "      <td>B</td>\n",
       "      <td>B</td>\n",
       "      <td>M</td>\n",
       "      <td>M</td>\n",
       "    </tr>\n",
       "    <tr>\n",
       "      <th>560</th>\n",
       "      <td>443</td>\n",
       "      <td>1.599029</td>\n",
       "      <td>0.000109</td>\n",
       "      <td>0.133855</td>\n",
       "      <td>-0.856211</td>\n",
       "      <td>2.665254</td>\n",
       "      <td>1.0</td>\n",
       "      <td>1.0</td>\n",
       "      <td>1.0</td>\n",
       "      <td>1.0</td>\n",
       "      <td>...</td>\n",
       "      <td>1.0</td>\n",
       "      <td>1.0</td>\n",
       "      <td>M</td>\n",
       "      <td>B</td>\n",
       "      <td>B</td>\n",
       "      <td>M</td>\n",
       "      <td>M</td>\n",
       "      <td>B</td>\n",
       "      <td>B</td>\n",
       "      <td>M</td>\n",
       "    </tr>\n",
       "    <tr>\n",
       "      <th>561</th>\n",
       "      <td>444</td>\n",
       "      <td>0.912317</td>\n",
       "      <td>0.702755</td>\n",
       "      <td>0.313307</td>\n",
       "      <td>1.887081</td>\n",
       "      <td>2.609477</td>\n",
       "      <td>1.0</td>\n",
       "      <td>1.0</td>\n",
       "      <td>1.0</td>\n",
       "      <td>1.0</td>\n",
       "      <td>...</td>\n",
       "      <td>1.0</td>\n",
       "      <td>1.0</td>\n",
       "      <td>B</td>\n",
       "      <td>B</td>\n",
       "      <td>M</td>\n",
       "      <td>M</td>\n",
       "      <td>M</td>\n",
       "      <td>M</td>\n",
       "      <td>M</td>\n",
       "      <td>M</td>\n",
       "    </tr>\n",
       "    <tr>\n",
       "      <th>564</th>\n",
       "      <td>447</td>\n",
       "      <td>0.953150</td>\n",
       "      <td>0.000220</td>\n",
       "      <td>0.000318</td>\n",
       "      <td>1.571111</td>\n",
       "      <td>-1.668195</td>\n",
       "      <td>1.0</td>\n",
       "      <td>1.0</td>\n",
       "      <td>1.0</td>\n",
       "      <td>1.0</td>\n",
       "      <td>...</td>\n",
       "      <td>1.0</td>\n",
       "      <td>1.0</td>\n",
       "      <td>M</td>\n",
       "      <td>M</td>\n",
       "      <td>B</td>\n",
       "      <td>M</td>\n",
       "      <td>M</td>\n",
       "      <td>M</td>\n",
       "      <td>B</td>\n",
       "      <td>M</td>\n",
       "    </tr>\n",
       "    <tr>\n",
       "      <th>597</th>\n",
       "      <td>469</td>\n",
       "      <td>1.042792</td>\n",
       "      <td>0.615164</td>\n",
       "      <td>0.365135</td>\n",
       "      <td>1.699246</td>\n",
       "      <td>2.409731</td>\n",
       "      <td>1.0</td>\n",
       "      <td>1.0</td>\n",
       "      <td>1.0</td>\n",
       "      <td>1.0</td>\n",
       "      <td>...</td>\n",
       "      <td>1.0</td>\n",
       "      <td>1.0</td>\n",
       "      <td>B</td>\n",
       "      <td>M</td>\n",
       "      <td>M</td>\n",
       "      <td>M</td>\n",
       "      <td>M</td>\n",
       "      <td>M</td>\n",
       "      <td>M</td>\n",
       "      <td>M</td>\n",
       "    </tr>\n",
       "    <tr>\n",
       "      <th>602</th>\n",
       "      <td>474</td>\n",
       "      <td>0.766217</td>\n",
       "      <td>0.740376</td>\n",
       "      <td>-0.325974</td>\n",
       "      <td>-2.496059</td>\n",
       "      <td>1.922059</td>\n",
       "      <td>1.0</td>\n",
       "      <td>1.0</td>\n",
       "      <td>1.0</td>\n",
       "      <td>1.0</td>\n",
       "      <td>...</td>\n",
       "      <td>1.0</td>\n",
       "      <td>1.0</td>\n",
       "      <td>B</td>\n",
       "      <td>B</td>\n",
       "      <td>M</td>\n",
       "      <td>M</td>\n",
       "      <td>M</td>\n",
       "      <td>M</td>\n",
       "      <td>M</td>\n",
       "      <td>M</td>\n",
       "    </tr>\n",
       "    <tr>\n",
       "      <th>604</th>\n",
       "      <td>476</td>\n",
       "      <td>1.039329</td>\n",
       "      <td>0.608594</td>\n",
       "      <td>0.365635</td>\n",
       "      <td>-0.140610</td>\n",
       "      <td>-1.633865</td>\n",
       "      <td>1.0</td>\n",
       "      <td>1.0</td>\n",
       "      <td>1.0</td>\n",
       "      <td>1.0</td>\n",
       "      <td>...</td>\n",
       "      <td>1.0</td>\n",
       "      <td>1.0</td>\n",
       "      <td>M</td>\n",
       "      <td>B</td>\n",
       "      <td>M</td>\n",
       "      <td>M</td>\n",
       "      <td>M</td>\n",
       "      <td>M</td>\n",
       "      <td>M</td>\n",
       "      <td>M</td>\n",
       "    </tr>\n",
       "    <tr>\n",
       "      <th>611</th>\n",
       "      <td>482</td>\n",
       "      <td>0.478728</td>\n",
       "      <td>0.042789</td>\n",
       "      <td>0.809047</td>\n",
       "      <td>-0.535167</td>\n",
       "      <td>1.545144</td>\n",
       "      <td>1.0</td>\n",
       "      <td>1.0</td>\n",
       "      <td>1.0</td>\n",
       "      <td>1.0</td>\n",
       "      <td>...</td>\n",
       "      <td>1.0</td>\n",
       "      <td>1.0</td>\n",
       "      <td>M</td>\n",
       "      <td>M</td>\n",
       "      <td>B</td>\n",
       "      <td>B</td>\n",
       "      <td>M</td>\n",
       "      <td>M</td>\n",
       "      <td>M</td>\n",
       "      <td>M</td>\n",
       "    </tr>\n",
       "    <tr>\n",
       "      <th>612</th>\n",
       "      <td>483</td>\n",
       "      <td>0.421675</td>\n",
       "      <td>0.017786</td>\n",
       "      <td>-0.827299</td>\n",
       "      <td>-2.366442</td>\n",
       "      <td>-2.781759</td>\n",
       "      <td>1.0</td>\n",
       "      <td>1.0</td>\n",
       "      <td>1.0</td>\n",
       "      <td>1.0</td>\n",
       "      <td>...</td>\n",
       "      <td>1.0</td>\n",
       "      <td>1.0</td>\n",
       "      <td>B</td>\n",
       "      <td>B</td>\n",
       "      <td>M</td>\n",
       "      <td>M</td>\n",
       "      <td>M</td>\n",
       "      <td>M</td>\n",
       "      <td>M</td>\n",
       "      <td>M</td>\n",
       "    </tr>\n",
       "    <tr>\n",
       "      <th>613</th>\n",
       "      <td>484</td>\n",
       "      <td>1.345160</td>\n",
       "      <td>0.287289</td>\n",
       "      <td>0.135207</td>\n",
       "      <td>-1.471848</td>\n",
       "      <td>-2.256624</td>\n",
       "      <td>1.0</td>\n",
       "      <td>1.0</td>\n",
       "      <td>1.0</td>\n",
       "      <td>1.0</td>\n",
       "      <td>...</td>\n",
       "      <td>1.0</td>\n",
       "      <td>1.0</td>\n",
       "      <td>M</td>\n",
       "      <td>M</td>\n",
       "      <td>M</td>\n",
       "      <td>M</td>\n",
       "      <td>M</td>\n",
       "      <td>B</td>\n",
       "      <td>B</td>\n",
       "      <td>M</td>\n",
       "    </tr>\n",
       "    <tr>\n",
       "      <th>614</th>\n",
       "      <td>485</td>\n",
       "      <td>0.566122</td>\n",
       "      <td>0.033167</td>\n",
       "      <td>-0.749430</td>\n",
       "      <td>-2.584258</td>\n",
       "      <td>-0.201663</td>\n",
       "      <td>1.0</td>\n",
       "      <td>1.0</td>\n",
       "      <td>1.0</td>\n",
       "      <td>1.0</td>\n",
       "      <td>...</td>\n",
       "      <td>1.0</td>\n",
       "      <td>1.0</td>\n",
       "      <td>B</td>\n",
       "      <td>B</td>\n",
       "      <td>B</td>\n",
       "      <td>M</td>\n",
       "      <td>M</td>\n",
       "      <td>M</td>\n",
       "      <td>M</td>\n",
       "      <td>M</td>\n",
       "    </tr>\n",
       "    <tr>\n",
       "      <th>617</th>\n",
       "      <td>488</td>\n",
       "      <td>1.047026</td>\n",
       "      <td>0.611780</td>\n",
       "      <td>-0.362960</td>\n",
       "      <td>-1.562815</td>\n",
       "      <td>2.407302</td>\n",
       "      <td>1.0</td>\n",
       "      <td>1.0</td>\n",
       "      <td>1.0</td>\n",
       "      <td>1.0</td>\n",
       "      <td>...</td>\n",
       "      <td>1.0</td>\n",
       "      <td>1.0</td>\n",
       "      <td>B</td>\n",
       "      <td>B</td>\n",
       "      <td>M</td>\n",
       "      <td>M</td>\n",
       "      <td>M</td>\n",
       "      <td>M</td>\n",
       "      <td>M</td>\n",
       "      <td>M</td>\n",
       "    </tr>\n",
       "    <tr>\n",
       "      <th>636</th>\n",
       "      <td>496</td>\n",
       "      <td>0.008499</td>\n",
       "      <td>0.962736</td>\n",
       "      <td>0.000660</td>\n",
       "      <td>1.755849</td>\n",
       "      <td>1.964208</td>\n",
       "      <td>1.0</td>\n",
       "      <td>1.0</td>\n",
       "      <td>1.0</td>\n",
       "      <td>1.0</td>\n",
       "      <td>...</td>\n",
       "      <td>1.0</td>\n",
       "      <td>1.0</td>\n",
       "      <td>B</td>\n",
       "      <td>B</td>\n",
       "      <td>M</td>\n",
       "      <td>M</td>\n",
       "      <td>B</td>\n",
       "      <td>B</td>\n",
       "      <td>M</td>\n",
       "      <td>M</td>\n",
       "    </tr>\n",
       "  </tbody>\n",
       "</table>\n",
       "<p>40 rows × 22 columns</p>\n",
       "</div>"
      ],
      "text/plain": [
       "      0         1         2         3         4         5    6    7    8   \\\n",
       "408  321  0.767415  0.859857 -0.251649 -2.286794  2.012792  1.0  1.0  1.0   \n",
       "411  324  0.977042  0.588956  0.335027  1.030333  2.139187  1.0  1.0  1.0   \n",
       "414  327  1.035493  0.647819 -0.320790  0.183754  0.153779  1.0  1.0  1.0   \n",
       "420  333  0.527716  0.432651  0.399212 -2.938809 -0.216152  1.0  1.0  1.0   \n",
       "422  335  1.027531  0.629151  0.368446  1.656888 -0.652552  1.0  1.0  1.0   \n",
       "440  344  1.019909  0.606932  0.348710 -0.066193  1.558436  1.0  1.0  1.0   \n",
       "452  352  1.553408  0.025258  0.018507  2.980125  1.336102  1.0  1.0  1.0   \n",
       "453  353  0.000214  0.890176  0.000066 -1.789448  1.992030  1.0  1.0  1.0   \n",
       "465  362  0.926703  0.001226  0.000990 -1.568315 -1.837461  1.0  1.0  1.0   \n",
       "480  372  1.000401  0.510248  0.420666  1.290370 -0.880419  1.0  1.0  1.0   \n",
       "490  381  0.293921  0.020173 -0.797254  0.448497 -1.430867  1.0  1.0  1.0   \n",
       "491  381  0.389258  0.011924 -0.771972  1.123573  0.387100  1.0  1.0  1.0   \n",
       "497  387  0.892945  0.652930  0.268987  2.033076  2.576350  1.0  1.0  1.0   \n",
       "498  388  1.016359  0.629364  0.224855 -1.359461  1.090463  1.0  1.0  1.0   \n",
       "506  393  0.691870  0.794388  0.276225 -0.450885 -1.962391  1.0  1.0  1.0   \n",
       "515  402  0.056743  0.010965 -0.804629 -0.655245 -2.419810  1.0  1.0  1.0   \n",
       "517  404  1.019179  0.614371  0.323301 -3.139187 -0.069419  1.0  1.0  1.0   \n",
       "519  406  1.265433  0.003957 -0.059285  1.149479  1.100452  1.0  1.0  1.0   \n",
       "520  406  1.070904  0.074476 -0.082118  0.852044  2.155902  1.0  1.0  1.0   \n",
       "522  408  1.028182  0.624045 -0.372992 -0.002340 -0.029447  1.0  1.0  1.0   \n",
       "528  414  0.563971  0.907105 -0.181803 -2.588735  1.867839  1.0  1.0  1.0   \n",
       "531  417  1.011376  0.650058  0.312268 -0.390916 -1.727269  1.0  1.0  1.0   \n",
       "532  418  0.996253  0.117435 -0.463570 -0.864262 -0.618073  1.0  1.0  1.0   \n",
       "537  423  1.047441  0.612069 -0.362121  3.013089  1.512686  1.0  1.0  1.0   \n",
       "541  427  0.960654  0.616553 -0.357423  1.593142  0.786448  1.0  1.0  1.0   \n",
       "542  428  0.912944  0.682528 -0.292557  2.891364  1.319966  1.0  1.0  1.0   \n",
       "543  429  0.324562  0.040273 -0.803790  0.972776 -2.332969  1.0  1.0  1.0   \n",
       "556  439  0.912494  0.711372  0.311394 -0.294231  1.318992  1.0  1.0  1.0   \n",
       "560  443  1.599029  0.000109  0.133855 -0.856211  2.665254  1.0  1.0  1.0   \n",
       "561  444  0.912317  0.702755  0.313307  1.887081  2.609477  1.0  1.0  1.0   \n",
       "564  447  0.953150  0.000220  0.000318  1.571111 -1.668195  1.0  1.0  1.0   \n",
       "597  469  1.042792  0.615164  0.365135  1.699246  2.409731  1.0  1.0  1.0   \n",
       "602  474  0.766217  0.740376 -0.325974 -2.496059  1.922059  1.0  1.0  1.0   \n",
       "604  476  1.039329  0.608594  0.365635 -0.140610 -1.633865  1.0  1.0  1.0   \n",
       "611  482  0.478728  0.042789  0.809047 -0.535167  1.545144  1.0  1.0  1.0   \n",
       "612  483  0.421675  0.017786 -0.827299 -2.366442 -2.781759  1.0  1.0  1.0   \n",
       "613  484  1.345160  0.287289  0.135207 -1.471848 -2.256624  1.0  1.0  1.0   \n",
       "614  485  0.566122  0.033167 -0.749430 -2.584258 -0.201663  1.0  1.0  1.0   \n",
       "617  488  1.047026  0.611780 -0.362960 -1.562815  2.407302  1.0  1.0  1.0   \n",
       "636  496  0.008499  0.962736  0.000660  1.755849  1.964208  1.0  1.0  1.0   \n",
       "\n",
       "      9  ...   12   13  14  15 16 17 18 19 20 21  \n",
       "408  1.0 ...  1.0  1.0   M   B  P  B  M  M  M  M  \n",
       "411  1.0 ...  1.0  1.0   B   B  M  B  B  B  M  M  \n",
       "414  1.0 ...  1.0  1.0   M   B  B  M  M  M  M  M  \n",
       "420  1.0 ...  1.0  1.0   B   M  M  M  M  M  B  B  \n",
       "422  1.0 ...  1.0  1.0   B   P  B  M  M  M  M  M  \n",
       "440  1.0 ...  1.0  1.0   B   B  M  M  M  M  M  M  \n",
       "452  1.0 ...  1.0  1.0   M   M  M  B  B  M  M  M  \n",
       "453  1.0 ...  1.0  1.0   B   B  M  M  B  B  M  M  \n",
       "465  1.0 ...  1.0  1.0   M   M  B  M  M  M  B  M  \n",
       "480  1.0 ...  1.0  1.0   B   B  M  M  B  P  B  B  \n",
       "490  1.0 ...  1.0  1.0   M   B  B  B  M  M  M  M  \n",
       "491  1.0 ...  1.0  1.0   B   M  M  M  M  M  B  B  \n",
       "497  1.0 ...  1.0  1.0   B   B  M  M  B  B  B  M  \n",
       "498  1.0 ...  1.0  1.0   B   B  M  M  P  B  B  M  \n",
       "506  1.0 ...  1.0  1.0   M   M  M  M  B  M  M  M  \n",
       "515  1.0 ...  1.0  1.0   B   P  P  B  M  M  M  M  \n",
       "517  1.0 ...  1.0  1.0   M   M  M  B  M  M  M  M  \n",
       "519  1.0 ...  1.0  1.0   P   B  B  B  P  B  B  B  \n",
       "520  1.0 ...  1.0  1.0   P   P  P  P  P  M  M  M  \n",
       "522  1.0 ...  1.0  1.0   M   M  B  B  M  M  M  M  \n",
       "528  1.0 ...  1.0  1.0   M   B  B  B  M  M  M  M  \n",
       "531  1.0 ...  1.0  1.0   M   M  M  M  B  B  M  M  \n",
       "532  1.0 ...  1.0  1.0   B   M  M  M  M  M  M  B  \n",
       "537  1.0 ...  1.0  1.0   M   B  M  M  M  M  M  M  \n",
       "541  1.0 ...  1.0  1.0   B   M  M  B  B  B  M  B  \n",
       "542  1.0 ...  1.0  1.0   P   P  M  M  M  M  M  M  \n",
       "543  1.0 ...  1.0  1.0   B   B  B  M  B  B  M  M  \n",
       "556  1.0 ...  1.0  1.0   M   M  M  M  B  B  M  M  \n",
       "560  1.0 ...  1.0  1.0   M   B  B  M  M  B  B  M  \n",
       "561  1.0 ...  1.0  1.0   B   B  M  M  M  M  M  M  \n",
       "564  1.0 ...  1.0  1.0   M   M  B  M  M  M  B  M  \n",
       "597  1.0 ...  1.0  1.0   B   M  M  M  M  M  M  M  \n",
       "602  1.0 ...  1.0  1.0   B   B  M  M  M  M  M  M  \n",
       "604  1.0 ...  1.0  1.0   M   B  M  M  M  M  M  M  \n",
       "611  1.0 ...  1.0  1.0   M   M  B  B  M  M  M  M  \n",
       "612  1.0 ...  1.0  1.0   B   B  M  M  M  M  M  M  \n",
       "613  1.0 ...  1.0  1.0   M   M  M  M  M  B  B  M  \n",
       "614  1.0 ...  1.0  1.0   B   B  B  M  M  M  M  M  \n",
       "617  1.0 ...  1.0  1.0   B   B  M  M  M  M  M  M  \n",
       "636  1.0 ...  1.0  1.0   B   B  M  M  B  B  M  M  \n",
       "\n",
       "[40 rows x 22 columns]"
      ]
     },
     "execution_count": 374,
     "metadata": {},
     "output_type": "execute_result"
    }
   ],
   "source": [
    "qq.iloc[k].iloc[50:90]"
   ]
  },
  {
   "cell_type": "code",
   "execution_count": 362,
   "metadata": {},
   "outputs": [
    {
     "data": {
      "text/plain": [
       "<seaborn.axisgrid.PairGrid at 0x7ff64c549358>"
      ]
     },
     "execution_count": 362,
     "metadata": {},
     "output_type": "execute_result"
    },
    {
     "data": {
      "image/png": "[encoded data removed]",
      "text/plain": [
       "<Figure size 360x360 with 6 Axes>"
      ]
     },
     "metadata": {
      "needs_background": "light"
     },
     "output_type": "display_data"
    }
   ],
   "source": [
    "sns.pairplot(qq.iloc[k,4:6])"
   ]
  },
  {
   "cell_type": "code",
   "execution_count": 268,
   "metadata": {},
   "outputs": [],
   "source": [
    "y3 = 1.06556925*qq.iloc[k,1]*np.cos(qq.iloc[k,2]+4*np.pi/5) + 1.45228565*qq.iloc[k,1]*np.sin(qq.iloc[k,2]+4*np.pi/5) -0.000767584\n",
    "#y3 = 1.06652924*qq.iloc[k,1]*np.cos(qq.iloc[k,2]) + 1.46343720*qq.iloc[k,1]*np.sin(qq.iloc[k,2]) + 2.45539702e-04"
   ]
  },
  {
   "cell_type": "code",
   "execution_count": 315,
   "metadata": {},
   "outputs": [],
   "source": [
    "e = np.column_stack([np.ones(len(y3)),y3])"
   ]
  },
  {
   "cell_type": "code",
   "execution_count": 316,
   "metadata": {},
   "outputs": [],
   "source": [
    "xtx2 = np.linalg.inv(np.matmul(np.transpose(e),e))\n",
    "xty = np.matmul(np.transpose(e),w)\n",
    "r=  np.matmul(xtx2,xty)"
   ]
  },
  {
   "cell_type": "code",
   "execution_count": null,
   "metadata": {},
   "outputs": [],
   "source": []
  },
  {
   "cell_type": "code",
   "execution_count": null,
   "metadata": {},
   "outputs": [],
   "source": []
  },
  {
   "cell_type": "code",
   "execution_count": 281,
   "metadata": {},
   "outputs": [],
   "source": [
    "keep = []\n",
    "for idx, item in enumerate(qq.iloc[:,18].values):\n",
    "    for x in item:\n",
    "        if x[0]==1:\n",
    "            keep.append((idx,*qq.iloc[idx,[1,2]].values.tolist(),x[1]))\n",
    "    "
   ]
  },
  {
   "cell_type": "code",
   "execution_count": 282,
   "metadata": {},
   "outputs": [],
   "source": [
    "w = pd.DataFrame(keep)"
   ]
  },
  {
   "cell_type": "code",
   "execution_count": 109,
   "metadata": {},
   "outputs": [],
   "source": [
    "w1 = -7.67584045e-04 + 1.06556925*w.iloc[:,1]*np.cos(w.iloc[:,2]+4*np.pi/5) + 1.45228565*w.iloc[:,1]*np.sin(w.iloc[:,2]+4*np.pi/5)"
   ]
  },
  {
   "cell_type": "code",
   "execution_count": 110,
   "metadata": {},
   "outputs": [],
   "source": [
    "w2 = np.array([np.ones(len(w1)),w1.values]).transpose()"
   ]
  },
  {
   "cell_type": "code",
   "execution_count": 111,
   "metadata": {},
   "outputs": [],
   "source": [
    "y1 = w.iloc[:,3].values"
   ]
  },
  {
   "cell_type": "code",
   "execution_count": 115,
   "metadata": {},
   "outputs": [
    {
     "data": {
      "text/plain": [
       "array([ 0.0483072 , -0.13607817])"
      ]
     },
     "execution_count": 115,
     "metadata": {},
     "output_type": "execute_result"
    }
   ],
   "source": [
    "xtx = np.linalg.inv(np.matmul(np.transpose(w2),w2))\n",
    "xty = np.matmul(np.transpose(w2),y1)\n",
    "\n",
    "np.matmul(xtx,xty)"
   ]
  },
  {
   "cell_type": "code",
   "execution_count": 119,
   "metadata": {},
   "outputs": [],
   "source": [
    "r =  0.0483072-0.1361*w2"
   ]
  },
  {
   "cell_type": "code",
   "execution_count": null,
   "metadata": {},
   "outputs": [],
   "source": []
  },
  {
   "cell_type": "code",
   "execution_count": null,
   "metadata": {},
   "outputs": [],
   "source": []
  },
  {
   "cell_type": "code",
   "execution_count": null,
   "metadata": {},
   "outputs": [],
   "source": []
  },
  {
   "cell_type": "code",
   "execution_count": 258,
   "metadata": {},
   "outputs": [],
   "source": [
    "result = []\n",
    "for idx, mol in enumerate(peptide):\n",
    "    bonds = []\n",
    "    for bond in mol.GetBonds():\n",
    "        bonds.append((bond.GetBeginAtom().GetIdx(),bond.GetEndAtom().GetIdx()))\n",
    "    data = py_rdl.Calculator.get_calculated_result(bonds)\n",
    "    for urf in data.urfs:\n",
    "        rcs = data.get_relevant_cycles_for_urf(urf)\n",
    "        for rc in rcs:\n",
    "            if len(list(rc.nodes))==12:\n",
    "                ringloop = RA.Rearrangement(mol, list(rc.nodes))\n",
    "                coord = np.array([mol.GetConformer().GetAtomPosition(atom) for atom in ringloop])\n",
    "                ccoord = RA.Translate(coord)\n",
    "                cptmp = RA.GetRingPuckerCoords(ccoord)\n",
    "                bond = RA.GetRingBonds(mol, ringloop)\n",
    "                bondtype = [item[1] for item in bond]\n",
    "                atomtype = RA.GetRingAtomType(mol, ringloop)\n",
    "                torsion = [rdMolTransforms.GetDihedralRad(mol.GetConformer(),*[ringloop[x] for x in [i%12,(i+1)%12,(i+2)%12,(i+3)%12]]) for i in range(12) ]\n",
    "                result.append((idx,*cptmp[0],*cptmp[1],*bondtype,*atomtype,*torsion))\n"
   ]
  },
  {
   "cell_type": "code",
   "execution_count": 282,
   "metadata": {},
   "outputs": [],
   "source": [
    "a = pd.DataFrame(result)\n",
    "\n",
    "k = []\n",
    "for idx, i in enumerate(a.iloc[:,22:34].values):\n",
    "    if list(i)==[\"M\",\"M\",\"M\",\"M\",\"M\",\"M\",\"M\",\"M\",\"M\",\"M\",\"M\",\"M\"]:\n",
    "        k.append(idx)\n",
    "        \n",
    "b = a.iloc[k,:].reset_index(drop=True)"
   ]
  },
  {
   "cell_type": "code",
   "execution_count": 292,
   "metadata": {},
   "outputs": [],
   "source": [
    "k1 = []\n",
    "k0 = []\n",
    "for idx, item in enumerate(b.iloc[:,10:22].values):\n",
    "    check = [x==1.5 or x==2.0 for x in item]\n",
    "    if sum(check)==0:\n",
    "        k0.append(idx)\n",
    "    elif sum(check)==1:\n",
    "        k1.append(idx)"
   ]
  },
  {
   "cell_type": "code",
   "execution_count": 416,
   "metadata": {},
   "outputs": [],
   "source": [
    "pep = pd.read_csv(\"data/cyclic_peptide_2.csv\")"
   ]
  },
  {
   "cell_type": "code",
   "execution_count": 500,
   "metadata": {},
   "outputs": [],
   "source": [
    "cc1 = []\n",
    "cc2 = []\n",
    "for idx, item in enumerate(pep[[\"P1\",\"P2\",\"P3\",\"P4\"]].values):\n",
    "    if list(item)==[\"C\",\"C\",\"C\",\"C\"]:\n",
    "        cc1.append(idx)\n",
    "    elif list(item) in [[\"C\",\"C\",\"C\",\"T\"],[\"C\",\"T\",\"C\",\"C\"],[\"C\",\"C\",\"T\",\"C\"]]:\n",
    "        cc2.append(idx)"
   ]
  },
  {
   "cell_type": "code",
   "execution_count": null,
   "metadata": {},
   "outputs": [],
   "source": [
    "k1 = []\n",
    "k0 = []\n",
    "for idx, item in enumerate(b.iloc[:,3:7].values):\n",
    "    check = [x==1.5 or x==2.0 for x in item]\n",
    "    if sum(check)==0:\n",
    "        k0.append(idx)\n",
    "    elif sum(check)==1:\n",
    "        k1.append(idx)"
   ]
  },
  {
   "cell_type": "code",
   "execution_count": 67,
   "metadata": {},
   "outputs": [],
   "source": [
    "a = pd.DataFrame(result)\n",
    "\n",
    "k = []\n",
    "for idx, i in enumerate(a.iloc[:,8:13].values):\n",
    "    if list(i)==[\"M\",\"M\",\"M\",\"M\",\"M\"]:\n",
    "        k.append(idx)\n",
    "        \n",
    "b = a.iloc[k,:].reset_index(drop=True)\n",
    "\n",
    "k1 = []\n",
    "k0 = []\n",
    "for idx, item in enumerate(b.iloc[:,3:7].values):\n",
    "    check = [x==1.5 or x==2.0 for x in item]\n",
    "    if sum(check)==0:\n",
    "        k0.append(idx)\n",
    "    elif sum(check)==1:\n",
    "        k1.append(idx)"
   ]
  },
  {
   "cell_type": "code",
   "execution_count": null,
   "metadata": {},
   "outputs": [],
   "source": []
  },
  {
   "cell_type": "code",
   "execution_count": null,
   "metadata": {},
   "outputs": [],
   "source": []
  },
  {
   "cell_type": "code",
   "execution_count": 45,
   "metadata": {},
   "outputs": [
    {
     "data": {
      "text/plain": [
       "<matplotlib.collections.PathCollection at 0x7f7bd8580518>"
      ]
     },
     "execution_count": 45,
     "metadata": {},
     "output_type": "execute_result"
    },
    {
     "data": {
      "image/png": "[encoded data removed]",
      "text/plain": [
       "<Figure size 432x288 with 1 Axes>"
      ]
     },
     "metadata": {
      "needs_background": "light"
     },
     "output_type": "display_data"
    }
   ],
   "source": [
    "t1= a.iloc[k0,1]*np.cos(a.iloc[k0,2]) + a.iloc[k0,1]*np.sin(a.iloc[k0,2])\n",
    "t2 = a.iloc[k0,13]\n",
    "plt.scatter(t1,t2)"
   ]
  },
  {
   "cell_type": "code",
   "execution_count": null,
   "metadata": {},
   "outputs": [],
   "source": [
    "t1= a.iloc[k0,1]*np.cos(a.iloc[k0,2]+4*np.pi/5) + a.iloc[k0,1]*np.sin(a.iloc[k0,2]+4*np.pi/5)\n",
    "t2 = a.iloc[k0,14]\n",
    "plt.scatter(t1,t2)\n",
    "plt.show()"
   ]
  },
  {
   "cell_type": "code",
   "execution_count": null,
   "metadata": {},
   "outputs": [],
   "source": [
    "t1= a.iloc[k0,1]*np.cos(a.iloc[k0,2]+8*np.pi/5) + a.iloc[k0,1]*np.sin(a.iloc[k0,2]+8*np.pi/5)\n",
    "t2 = a.iloc[k0,15]\n",
    "plt.scatter(t1,t2)"
   ]
  },
  {
   "cell_type": "code",
   "execution_count": null,
   "metadata": {},
   "outputs": [],
   "source": [
    "t1= a.iloc[k0,1]*np.cos(a.iloc[k0,2]+12*np.pi/5) + a.iloc[k0,1]*np.sin(a.iloc[k0,2]+12*np.pi/5)\n",
    "t2 = a.iloc[k0,16]\n",
    "plt.scatter(t1,t2)\n",
    "plt.show()"
   ]
  },
  {
   "cell_type": "code",
   "execution_count": null,
   "metadata": {},
   "outputs": [],
   "source": [
    "t1= a.iloc[k0,1]*np.cos(a.iloc[k0,2]+16*np.pi/5) + a.iloc[k0,1]*np.sin(a.iloc[k0,2]+16*np.pi/5)\n",
    "t2 = a.iloc[k0,17]\n",
    "plt.scatter(t1,t2)\n",
    "plt.show()"
   ]
  },
  {
   "cell_type": "code",
   "execution_count": null,
   "metadata": {},
   "outputs": [],
   "source": []
  },
  {
   "cell_type": "code",
   "execution_count": 184,
   "metadata": {},
   "outputs": [],
   "source": [
    "a = pd.DataFrame(result)\n",
    "\n",
    "k = []\n",
    "for idx, i in enumerate(a.iloc[:,10:16].values):\n",
    "    if list(i)==[\"M\",\"M\",\"M\",\"M\",\"M\",\"M\"]:\n",
    "        k.append(idx)\n",
    "        \n",
    "b = a.iloc[k,:].reset_index(drop=True)\n",
    "\n",
    "k1 = []\n",
    "k0 = []\n",
    "for idx, item in enumerate(b.iloc[:,4:10].values):\n",
    "    check = [x==1.5 or x==2.0 for x in item]\n",
    "    if sum(check)==0:\n",
    "        k0.append(idx)\n",
    "    elif sum(check)==1:\n",
    "        k1.append(idx)"
   ]
  },
  {
   "cell_type": "code",
   "execution_count": 185,
   "metadata": {},
   "outputs": [
    {
     "data": {
      "text/plain": [
       "(array([  5., 481.,  85.,  47.,  13.,  21.,  24.,  54., 223., 317.]),\n",
       " array([-1.42534239, -1.16060662, -0.89587084, -0.63113506, -0.36639929,\n",
       "        -0.10166351,  0.16307226,  0.42780804,  0.69254382,  0.95727959,\n",
       "         1.22201537]),\n",
       " <a list of 10 Patch objects>)"
      ]
     },
     "execution_count": 185,
     "metadata": {},
     "output_type": "execute_result"
    },
    {
     "data": {
      "image/png": "[encoded data removed]",
      "text/plain": [
       "<Figure size 432x288 with 1 Axes>"
      ]
     },
     "metadata": {
      "needs_background": "light"
     },
     "output_type": "display_data"
    }
   ],
   "source": [
    "plt.hist(b.iloc[k0,:][16])"
   ]
  },
  {
   "cell_type": "code",
   "execution_count": 247,
   "metadata": {},
   "outputs": [
    {
     "data": {
      "text/plain": [
       "<matplotlib.collections.PathCollection at 0x7f7b9ca526a0>"
      ]
     },
     "execution_count": 247,
     "metadata": {},
     "output_type": "execute_result"
    },
    {
     "data": {
      "image/png": "[encoded data removed]",
      "text/plain": [
       "<Figure size 432x288 with 1 Axes>"
      ]
     },
     "metadata": {
      "needs_background": "light"
     },
     "output_type": "display_data"
    }
   ],
   "source": [
    "t1 = -0.047*b.iloc[k0,1]*np.cos(b.iloc[k0,3]+4*np.pi/3) + 1.48*b.iloc[k0,1]*np.sin(b.iloc[k0,3]+4*np.pi/3) + 1.74*b.iloc[k0,2]\n",
    "t2 = b.iloc[k0,18]\n",
    "plt.scatter(t1,t2)"
   ]
  },
  {
   "cell_type": "code",
   "execution_count": 256,
   "metadata": {},
   "outputs": [
    {
     "data": {
      "text/plain": [
       "<matplotlib.collections.PathCollection at 0x7f7b9c8ed4e0>"
      ]
     },
     "execution_count": 256,
     "metadata": {},
     "output_type": "execute_result"
    },
    {
     "data": {
      "image/png": "[encoded data removed]",
      "text/plain": [
       "<Figure size 432x288 with 1 Axes>"
      ]
     },
     "metadata": {
      "needs_background": "light"
     },
     "output_type": "display_data"
    }
   ],
   "source": [
    "t1 = -0.038*b.iloc[k0,1]*np.cos(b.iloc[k0,3]+6*np.pi/3) + 1.587*b.iloc[k0,1]*np.sin(b.iloc[k0,3]+6*np.pi/3) - 1.78*b.iloc[k0,2]\n",
    "t2 = b.iloc[k0,19]\n",
    "plt.scatter(t1,t2,s=1)"
   ]
  },
  {
   "cell_type": "code",
   "execution_count": 396,
   "metadata": {},
   "outputs": [],
   "source": [
    "a1 = b.iloc[k0,1]*np.cos(b.iloc[k0,6]+2*np.pi*2/12)\n",
    "b1 = b.iloc[k0,1]*np.sin(b.iloc[k0,6]+2*np.pi*2/12)\n",
    "c1 = b.iloc[k0,2]*np.cos(b.iloc[k0,7]+2*np.pi*3/12)\n",
    "d1 = b.iloc[k0,2]*np.sin(b.iloc[k0,7]+2*np.pi*3/12)\n",
    "e1 = b.iloc[k0,3]*np.cos(b.iloc[k0,8]+2*np.pi*4/12)\n",
    "f1 = b.iloc[k0,3]*np.sin(b.iloc[k0,8]+2*np.pi*4/12)\n",
    "g1 = b.iloc[k0,4]*np.cos(b.iloc[k0,9]+2*np.pi*5/12)\n",
    "h1 = b.iloc[k0,4]*np.sin(b.iloc[k0,9]+2*np.pi*5/12)\n",
    "i1 = b.iloc[k0,5]\n",
    "Y = np.array(b.iloc[k0,36])"
   ]
  },
  {
   "cell_type": "code",
   "execution_count": 568,
   "metadata": {},
   "outputs": [],
   "source": [
    "a1 = b.iloc[k0,1]*np.cos(b.iloc[k0,6])\n",
    "b1 = b.iloc[k0,1]*np.sin(b.iloc[k0,6])\n",
    "c1 = b.iloc[k0,2]*np.cos(b.iloc[k0,7])\n",
    "d1 = b.iloc[k0,2]*np.sin(b.iloc[k0,7])\n",
    "e1 = b.iloc[k0,3]*np.cos(b.iloc[k0,8])\n",
    "f1 = b.iloc[k0,3]*np.sin(b.iloc[k0,8])\n",
    "g1 = b.iloc[k0,4]*np.cos(b.iloc[k0,9])\n",
    "h1 = b.iloc[k0,4]*np.sin(b.iloc[k0,9])\n",
    "i1 = b.iloc[k0,5]\n",
    "Y = np.array(b.iloc[k0,34])"
   ]
  },
  {
   "cell_type": "code",
   "execution_count": 564,
   "metadata": {},
   "outputs": [],
   "source": [
    "a1 = b.iloc[k0,1]*np.cos(b.iloc[k0,6]+11*2*np.pi*2/12)\n",
    "b1 = b.iloc[k0,1]*np.sin(b.iloc[k0,6]+11*2*np.pi*2/12)\n",
    "c1 = b.iloc[k0,2]*np.cos(b.iloc[k0,7]+11*2*np.pi*3/12)\n",
    "d1 = b.iloc[k0,2]*np.sin(b.iloc[k0,7]+11*2*np.pi*3/12)\n",
    "e1 = b.iloc[k0,3]*np.cos(b.iloc[k0,8]+11*2*np.pi*4/12)\n",
    "f1 = b.iloc[k0,3]*np.sin(b.iloc[k0,8]+11*2*np.pi*4/12)\n",
    "g1 = b.iloc[k0,4]*np.cos(b.iloc[k0,9]+11*2*np.pi*5/12)\n",
    "h1 = b.iloc[k0,4]*np.sin(b.iloc[k0,9]+11*2*np.pi*5/12)\n",
    "i1 = b.iloc[k0,5]\n",
    "Y = np.array(b.iloc[k0,45])"
   ]
  },
  {
   "cell_type": "code",
   "execution_count": null,
   "metadata": {},
   "outputs": [],
   "source": [
    "t1= a.iloc[k0,1]*np.cos(a.iloc[k0,3]+5*np.pi/12) + a.iloc[k0,2]\n",
    "t2 = a.iloc[k0,20]\n",
    "plt.scatter(t1,t2)"
   ]
  },
  {
   "cell_type": "code",
   "execution_count": 93,
   "metadata": {},
   "outputs": [],
   "source": [
    "def fixzero(x):\n",
    "    x_ = np.array([0.0]) if np.allclose(0,x, rtol=1e-06, atol=1e-08) else x\n",
    "    return x_\n",
    "\n",
    "\n",
    "def GetRingPuckerCoords(displacement,N):\n",
    "    \"\"\"\n",
    "    Compute Ring Pucker Parameters\n",
    "    \n",
    "    Input:\n",
    "\n",
    "    coordinates: array\n",
    "    \n",
    "    Return:\n",
    "\n",
    "    qs: puckering amplitude (q_i>=0 for all i)\n",
    "    \n",
    "    angle: angle defined in 0<= phi_i <= 2pi \n",
    "\n",
    "    \"\"\"\n",
    "\n",
    "    z = displacement\n",
    "    if N>4 and N<=20: # In our analysis, we fit it to be smaller than 16.\n",
    "        if (N%2 == 0): # N even\n",
    "            m = range(2,int((N/2)))\n",
    "            cos_component = [np.dot(z,np.cos(2*np.pi*k*np.arange(0,N)/N)) for k in m]\n",
    "            sin_component = [np.dot(z,np.sin(2*np.pi*k*np.arange(0,N)/N)) for k in m]\n",
    "            qcos = fixzero(np.sqrt(2/N)*np.array(cos_component))\n",
    "            qsin = fixzero(-np.sqrt(2/N)*np.array(sin_component))\n",
    "            q = np.sqrt(qsin**2 + qcos**2)\n",
    "            amplitude = np.append(q, (1/np.sqrt(N))*np.dot(z,np.cos(np.arange(0,N)*np.pi)).sum()).tolist()\n",
    "            angle = np.arctan2(qsin,qcos).tolist()\n",
    "        else: # N odd\n",
    "            m = range(2,int((N-1)/2)+1)\n",
    "            cos_component = [np.dot(z,np.cos(2*np.pi*k*np.arange(0,N)/N)) for k in m]\n",
    "            sin_component = [np.dot(z,np.sin(2*np.pi*k*np.arange(0,N)/N)) for k in m]\n",
    "            qcos = fixzero(np.sqrt(2/N)*np.array(cos_component))\n",
    "            qsin = fixzero(-np.sqrt(2/N)*np.array(sin_component))\n",
    "            amplitude = np.sqrt(qsin**2 + qcos**2).tolist()\n",
    "            angle = np.arctan2(qsin,qcos).tolist()\n",
    "    else:\n",
    "        print(\"Ring Size is too big or too small\")\n",
    "    return amplitude, angle\n"
   ]
  },
  {
   "cell_type": "code",
   "execution_count": 94,
   "metadata": {},
   "outputs": [
    {
     "data": {
      "text/plain": [
       "([0.4235599999999999, 0.3622790000000001], [-2.5788809999999995])"
      ]
     },
     "execution_count": 94,
     "metadata": {},
     "output_type": "execute_result"
    }
   ],
   "source": [
    "GetRingPuckerCoords(dis,6)"
   ]
  },
  {
   "cell_type": "code",
   "execution_count": 112,
   "metadata": {},
   "outputs": [
    {
     "data": {
      "text/plain": [
       "([0.4235599999999998, 0.3622790000000002], [1.6099092047863912])"
      ]
     },
     "execution_count": 112,
     "metadata": {},
     "output_type": "execute_result"
    }
   ],
   "source": [
    "GetRingPuckerCoords([dis[x%6] for x in range(2,8)],6)"
   ]
  },
  {
   "cell_type": "code",
   "execution_count": 55,
   "metadata": {},
   "outputs": [
    {
     "data": {
      "text/plain": [
       "2.5132741228718345"
      ]
     },
     "execution_count": 55,
     "metadata": {},
     "output_type": "execute_result"
    }
   ],
   "source": [
    "0.2204751228718341+2.2927990000000005"
   ]
  },
  {
   "cell_type": "code",
   "execution_count": 113,
   "metadata": {},
   "outputs": [
    {
     "data": {
      "text/plain": [
       "1.3333333333333333"
      ]
     },
     "execution_count": 113,
     "metadata": {},
     "output_type": "execute_result"
    }
   ],
   "source": [
    "(1.6099092047863912+2.5788809999999995)/np.pi"
   ]
  },
  {
   "cell_type": "code",
   "execution_count": 99,
   "metadata": {},
   "outputs": [
    {
     "data": {
      "text/plain": [
       "2.0943951023931953"
      ]
     },
     "execution_count": 99,
     "metadata": {},
     "output_type": "execute_result"
    }
   ],
   "source": [
    "2*np.pi/3"
   ]
  },
  {
   "cell_type": "code",
   "execution_count": 38,
   "metadata": {},
   "outputs": [
    {
     "data": {
      "text/plain": [
       "2.5132741228718345"
      ]
     },
     "execution_count": 38,
     "metadata": {},
     "output_type": "execute_result"
    }
   ],
   "source": [
    "np.pi*4/5"
   ]
  },
  {
   "cell_type": "code",
   "execution_count": null,
   "metadata": {},
   "outputs": [],
   "source": []
  },
  {
   "cell_type": "code",
   "execution_count": null,
   "metadata": {},
   "outputs": [],
   "source": []
  },
  {
   "cell_type": "code",
   "execution_count": null,
   "metadata": {},
   "outputs": [],
   "source": []
  },
  {
   "cell_type": "code",
   "execution_count": null,
   "metadata": {},
   "outputs": [],
   "source": [
    "g1 = sns.pairplot(mono_five.iloc[mono_single][[\"q2\",\"phi2\"]],plot_kws=dict(s=10), diag_kws=dict(bins=50))\n",
    "g1.axes[0,0].set_ylabel(r\"$q_{2}$\",size=15, rotation=0)\n",
    "g1.axes[1,0].set_xlabel(r\"$q_{2}$\",rotation=0,size=15)\n",
    "g1.axes[1,0].set_ylabel(r\"$\\phi_{2}$\",rotation=0,size=15)\n",
    "g1.axes[1,1].set_xlabel(r\"$\\phi_{2}$\",rotation=0,size=15)\n",
    "g1.axes[0,0].set_xticks([0,0.5,1])\n",
    "g1.axes[0,0].set_yticks([0,0.5,1])\n",
    "g1.axes[1,0].set_xticks([0,0.5,1])\n",
    "g1.axes[1,0].set_yticks([-np.pi,-np.pi/2,0,np.pi/2,np.pi])\n",
    "g1.axes[1,1].set_xticks([-np.pi,-np.pi/2,0,np.pi/2,np.pi])\n",
    "g1.axes[1,1].set_xticks([-np.pi,-np.pi/2,0,np.pi/2,np.pi])\n",
    "g1.axes[0,0].set_yticklabels([r\"0\",r\"0.5\",\"1\"])\n",
    "g1.axes[1,0].set_yticklabels([r\"-$\\pi$\",r\"-$\\pi/2$\",\"0\",r\"$\\pi/2$\",\"$\\pi$\"])\n",
    "g1.axes[1,0].set_xticklabels([r\"0\",r\"0.5\",\"1\"])\n",
    "g1.axes[1,1].set_xticklabels([r\"-$\\pi$\",r\"-$\\pi/2$\",\"0\",r\"$\\pi/2$\",\"$\\pi$\"])\n",
    "g1.axes[0,1].set_visible(False)\n",
    "plt.savefig(\"Fig/Macrocycle/mono_single_five.pdf\",dpi=150,bbox_inches=\"tight\")\n",
    "plt.show()"
   ]
  },
  {
   "cell_type": "code",
   "execution_count": null,
   "metadata": {
    "scrolled": false
   },
   "outputs": [],
   "source": [
    "g1 = sns.pairplot(poly_five.iloc[poly_single][[\"q2\",\"phi2\"]],plot_kws=dict(s=10), diag_kws=dict(bins=50))\n",
    "g1.axes[0,0].set_ylabel(r\"$q_{2}$\",size=15, rotation=0)\n",
    "g1.axes[1,0].set_xlabel(r\"$q_{2}$\",rotation=0,size=15)\n",
    "g1.axes[1,0].set_ylabel(r\"$\\phi_{2}$\",rotation=0,size=15)\n",
    "g1.axes[1,1].set_xlabel(r\"$\\phi_{2}$\",rotation=0,size=15)\n",
    "g1.axes[0,0].set_xticks([0,0.5,1])\n",
    "g1.axes[0,0].set_yticks([0,0.5,1])\n",
    "g1.axes[1,0].set_xticks([0,0.5,1])\n",
    "g1.axes[1,0].set_yticks([-np.pi,-np.pi/2,0,np.pi/2,np.pi])\n",
    "g1.axes[1,1].set_xticks([-np.pi,-np.pi/2,0,np.pi/2,np.pi])\n",
    "g1.axes[1,1].set_xticks([-np.pi,-np.pi/2,0,np.pi/2,np.pi])\n",
    "g1.axes[0,0].set_yticklabels([r\"0\",r\"0.5\",\"1\"])\n",
    "g1.axes[1,0].set_yticklabels([r\"-$\\pi$\",r\"-$\\pi/2$\",\"0\",r\"$\\pi/2$\",\"$\\pi$\"])\n",
    "g1.axes[1,0].set_xticklabels([r\"0\",r\"0.5\",\"1\"])\n",
    "g1.axes[1,1].set_xticklabels([r\"-$\\pi$\",r\"-$\\pi/2$\",\"0\",r\"$\\pi/2$\",\"$\\pi$\"])\n",
    "g1.axes[0,1].set_visible(False)\n",
    "plt.savefig(\"Fig/Macrocycle/poly_single_five.pdf\",dpi=150,bbox_inches=\"tight\")\n",
    "plt.show()"
   ]
  },
  {
   "cell_type": "code",
   "execution_count": null,
   "metadata": {
    "scrolled": false
   },
   "outputs": [],
   "source": [
    "g1 = sns.pairplot(mono_five.iloc[mono_one][[\"q2\",\"phi2\"]],plot_kws=dict(s=10), diag_kws=dict(bins=50))\n",
    "g1.axes[0,0].set_ylabel(r\"$q_{2}$\",size=15, rotation=0)\n",
    "g1.axes[1,0].set_xlabel(r\"$q_{2}$\",rotation=0,size=15)\n",
    "g1.axes[1,0].set_ylabel(r\"$\\phi_{2}$\",rotation=0,size=15)\n",
    "g1.axes[1,1].set_xlabel(r\"$\\phi_{2}$\",rotation=0,size=15)\n",
    "g1.axes[0,0].set_xticks([0,0.5])\n",
    "g1.axes[0,0].set_yticks([0,0.5])\n",
    "g1.axes[1,0].set_xticks([0,0.5])\n",
    "g1.axes[1,0].set_yticks([-np.pi,-np.pi/2,0,np.pi/2,np.pi])\n",
    "g1.axes[1,1].set_xticks([-np.pi,-np.pi/2,0,np.pi/2,np.pi])\n",
    "g1.axes[1,1].set_xticks([-np.pi,-np.pi/2,0,np.pi/2,np.pi])\n",
    "g1.axes[0,0].set_yticklabels([r\"0\",r\"0.5\"])\n",
    "g1.axes[1,0].set_yticklabels([r\"-$\\pi$\",r\"-$\\pi/2$\",\"0\",r\"$\\pi/2$\",\"$\\pi$\"])\n",
    "g1.axes[1,0].set_xticklabels([r\"0\",r\"0.5\"])\n",
    "g1.axes[1,1].set_xticklabels([r\"-$\\pi$\",r\"-$\\pi/2$\",\"0\",r\"$\\pi/2$\",\"$\\pi$\"])\n",
    "g1.axes[0,1].set_visible(False)\n",
    "plt.savefig(\"Fig/Macrocycle/mono_one_five.pdf\",dpi=150,bbox_inches=\"tight\")\n",
    "plt.show()"
   ]
  },
  {
   "cell_type": "code",
   "execution_count": null,
   "metadata": {},
   "outputs": [],
   "source": [
    "g1 = sns.pairplot(poly_five.iloc[poly_one][[\"q2\",\"phi2\"]],plot_kws=dict(s=10), diag_kws=dict(bins=50))\n",
    "g1.axes[0,0].set_ylabel(r\"$q_{2}$\",size=15, rotation=0)\n",
    "g1.axes[1,0].set_xlabel(r\"$q_{2}$\",rotation=0,size=15)\n",
    "g1.axes[1,0].set_ylabel(r\"$\\phi_{2}$\",rotation=0,size=15)\n",
    "g1.axes[1,1].set_xlabel(r\"$\\phi_{2}$\",rotation=0,size=15)\n",
    "g1.axes[0,0].set_xticks([0,0.5])\n",
    "g1.axes[0,0].set_yticks([0,0.5])\n",
    "g1.axes[1,0].set_xticks([0,0.5])\n",
    "g1.axes[1,0].set_yticks([-np.pi,-np.pi/2,0,np.pi/2,np.pi])\n",
    "g1.axes[1,1].set_xticks([-np.pi,-np.pi/2,0,np.pi/2,np.pi])\n",
    "g1.axes[1,1].set_xticks([-np.pi,-np.pi/2,0,np.pi/2,np.pi])\n",
    "g1.axes[0,0].set_yticklabels([r\"0\",r\"0.5\"])\n",
    "g1.axes[1,0].set_yticklabels([r\"-$\\pi$\",r\"-$\\pi/2$\",\"0\",r\"$\\pi/2$\",\"$\\pi$\"])\n",
    "g1.axes[1,0].set_xticklabels([r\"0\",r\"0.5\"])\n",
    "g1.axes[1,1].set_xticklabels([r\"-$\\pi$\",r\"-$\\pi/2$\",\"0\",r\"$\\pi/2$\",\"$\\pi$\"])\n",
    "g1.axes[0,1].set_visible(False)\n",
    "plt.savefig(\"Fig/Macrocycle/poly_one_five.pdf\",dpi=150,bbox_inches=\"tight\")\n",
    "plt.show()"
   ]
  },
  {
   "cell_type": "code",
   "execution_count": null,
   "metadata": {},
   "outputs": [],
   "source": [
    "g1 = sns.pairplot(mono_five.iloc[mono_two][[\"q2\",\"phi2\"]],plot_kws=dict(s=10), diag_kws=dict(bins=50))\n",
    "g1.axes[0,0].set_ylabel(r\"$q_{2}$\",size=15, rotation=0)\n",
    "g1.axes[1,0].set_xlabel(r\"$q_{2}$\",rotation=0,size=15)\n",
    "g1.axes[1,0].set_ylabel(r\"$\\phi_{2}$\",rotation=0,size=15)\n",
    "g1.axes[1,1].set_xlabel(r\"$\\phi_{2}$\",rotation=0,size=15)\n",
    "g1.axes[0,0].set_xticks([0,0.5,1])\n",
    "g1.axes[0,0].set_yticks([0,0.5,1])\n",
    "g1.axes[1,0].set_xticks([0,0.5,1])\n",
    "g1.axes[1,0].set_yticks([-np.pi,-np.pi/2,0,np.pi/2,np.pi])\n",
    "g1.axes[1,1].set_xticks([-np.pi,-np.pi/2,0,np.pi/2,np.pi])\n",
    "g1.axes[1,1].set_xticks([-np.pi,-np.pi/2,0,np.pi/2,np.pi])\n",
    "g1.axes[0,0].set_yticklabels([r\"0\",r\"0.5\",r\"1\"])\n",
    "g1.axes[1,0].set_yticklabels([r\"-$\\pi$\",r\"-$\\pi/2$\",\"0\",r\"$\\pi/2$\",\"$\\pi$\"])\n",
    "g1.axes[1,0].set_xticklabels([r\"0\",r\"0.5\",r\"1\"])\n",
    "g1.axes[1,1].set_xticklabels([r\"-$\\pi$\",r\"-$\\pi/2$\",\"0\",r\"$\\pi/2$\",\"$\\pi$\"])\n",
    "g1.axes[0,1].set_visible(False)\n",
    "plt.savefig(\"Fig/Macrocycle/mono_two_five.pdf\",dpi=150,bbox_inches=\"tight\")\n",
    "plt.show()"
   ]
  },
  {
   "cell_type": "code",
   "execution_count": null,
   "metadata": {},
   "outputs": [],
   "source": [
    "g1 = sns.pairplot(poly_five.iloc[poly_two][[\"q2\",\"phi2\"]],plot_kws=dict(s=10), diag_kws=dict(bins=50))\n",
    "g1.axes[0,0].set_ylabel(r\"$q_{2}$\",size=15, rotation=0)\n",
    "g1.axes[1,0].set_xlabel(r\"$q_{2}$\",rotation=0,size=15)\n",
    "g1.axes[1,0].set_ylabel(r\"$\\phi_{2}$\",rotation=0,size=15)\n",
    "g1.axes[1,1].set_xlabel(r\"$\\phi_{2}$\",rotation=0,size=15)\n",
    "g1.axes[0,0].set_xticks([0,0.5,1])\n",
    "g1.axes[0,0].set_yticks([0,0.5,1])\n",
    "g1.axes[1,0].set_xticks([0,0.5,1])\n",
    "g1.axes[1,0].set_yticks([-np.pi,-np.pi/2,0,np.pi/2,np.pi])\n",
    "g1.axes[1,1].set_xticks([-np.pi,-np.pi/2,0,np.pi/2,np.pi])\n",
    "g1.axes[1,1].set_xticks([-np.pi,-np.pi/2,0,np.pi/2,np.pi])\n",
    "g1.axes[0,0].set_yticklabels([r\"0\",r\"0.5\",r\"1\"])\n",
    "g1.axes[1,0].set_yticklabels([r\"-$\\pi$\",r\"-$\\pi/2$\",\"0\",r\"$\\pi/2$\",\"$\\pi$\"])\n",
    "g1.axes[1,0].set_xticklabels([r\"0\",r\"0.5\",r\"1\"])\n",
    "g1.axes[1,1].set_xticklabels([r\"-$\\pi$\",r\"-$\\pi/2$\",\"0\",r\"$\\pi/2$\",\"$\\pi$\"])\n",
    "g1.axes[0,1].set_visible(False)\n",
    "plt.savefig(\"Fig/Macrocycle/poly_two_five.pdf\",dpi=150,bbox_inches=\"tight\")\n",
    "plt.show()"
   ]
  },
  {
   "cell_type": "code",
   "execution_count": 63,
   "metadata": {},
   "outputs": [],
   "source": [
    "six = pd.read_csv(\"six.csv\")\n",
    "monocyclic = []\n",
    "polycyclic = []\n",
    "for idx, item in enumerate(six[[\"A0\",\"A1\",\"A2\",\"A3\",\"A4\",\"A5\"]].values):\n",
    "    if list(item)==[\"M\",\"M\",\"M\",\"M\",\"M\",\"M\"]:\n",
    "        monocyclic.append(idx)\n",
    "    else:\n",
    "        polycyclic.append(idx)\n",
    "        \n",
    "mono_six = six.iloc[monocyclic].reset_index(drop=True)\n",
    "poly_six = six.iloc[polycyclic].reset_index(drop=True)\n",
    "\n",
    "mono_single = []\n",
    "mono_one = []\n",
    "mono_two = []\n",
    "for idx, item in enumerate(mono_six[[\"B0\",\"B1\",\"B2\",\"B3\",\"B4\",\"B5\"]].values):\n",
    "    check = [x==1.5 or x==2.0 for x in item]\n",
    "    if sum(check)==0:\n",
    "        mono_single.append(idx)\n",
    "    elif sum(check)==1:\n",
    "        mono_one.append(idx)\n",
    "    else:\n",
    "        mono_two.append(idx)\n",
    "\n",
    "poly_single = []\n",
    "poly_one = []\n",
    "poly_two = []\n",
    "for idx, item in enumerate(poly_six[[\"B0\",\"B1\",\"B2\",\"B3\",\"B4\",\"B5\"]].values):\n",
    "    check = [x==1.5 or x==2.0 for x in list(item)]\n",
    "    if sum(check)==0:\n",
    "        poly_single.append(idx)\n",
    "    elif sum(check)==1:\n",
    "        poly_one.append(idx)\n",
    "    else:\n",
    "        poly_two.append(idx)"
   ]
  },
  {
   "cell_type": "code",
   "execution_count": null,
   "metadata": {
    "scrolled": true
   },
   "outputs": [],
   "source": [
    "g1 = sns.pairplot(mono_six.iloc[mono_single][[\"q2\",\"q3\",\"phi2\"]],plot_kws=dict(s=10), diag_kws=dict(bins=50))\n",
    "g1.axes[0,0].set_ylabel(r\"$q_{2}$\",size=15, rotation=0)\n",
    "g1.axes[1,0].set_ylabel(r\"$q_{3}$\",rotation=0,size=15)\n",
    "g1.axes[2,0].set_ylabel(r\"$\\phi_{2}$\",rotation=0,size=15)\n",
    "g1.axes[2,0].set_xlabel(r\"$q_{2}$\",rotation=0,size=15)\n",
    "g1.axes[2,1].set_xlabel(r\"$q_{3}$\",rotation=0,size=15)\n",
    "g1.axes[2,2].set_xlabel(r\"$\\phi_{2}$\",rotation=0,size=15)\n",
    "g1.axes[0,0].set_xticks([0,0.5,1])\n",
    "g1.axes[0,0].set_yticks([0,0.5,1])\n",
    "g1.axes[1,0].set_xticks([0,0.5,1])\n",
    "g1.axes[1,0].set_yticks([-1,-0.5,0,0.5,1])\n",
    "g1.axes[2,0].set_xticks([0,0.5,1])\n",
    "g1.axes[2,0].set_yticks([-np.pi,-np.pi/2,0,np.pi/2,np.pi])\n",
    "g1.axes[1,1].set_xticks([-1,-0.5,0,0.5,1])\n",
    "g1.axes[1,1].set_yticks([-1,-0.5,0,0.5,1])\n",
    "g1.axes[2,1].set_xticks([-1,-0.5,0,0.5,1])\n",
    "g1.axes[2,1].set_yticks([-np.pi,-np.pi/2,0,np.pi/2,np.pi])\n",
    "g1.axes[2,2].set_xticks([-np.pi,-np.pi/2,0,np.pi/2,np.pi])\n",
    "g1.axes[2,2].set_yticks([-np.pi,-np.pi/2,0,np.pi/2,np.pi])\n",
    "g1.axes[2,0].set_yticklabels([r\"-$\\pi$\",r\"-$\\pi/2$\",\"0\",r\"$\\pi/2$\",\"$\\pi$\"])\n",
    "g1.axes[2,0].set_yticklabels([r\"-$\\pi$\",r\"-$\\pi/2$\",\"0\",r\"$\\pi/2$\",\"$\\pi$\"])\n",
    "g1.axes[2,1].set_xticklabels([r\"0\",r\"0.5\",\"1\"])\n",
    "g1.axes[2,1].set_xticklabels([r\"-1\",r\"-0.5\",\"0\",r\"0.5\",\"1\"])\n",
    "g1.axes[2,2].set_xticklabels([r\"-$\\pi$\",r\"-$\\pi/2$\",\"0\",r\"$\\pi/2$\",\"$\\pi$\"])\n",
    "g1.axes[0,1].set_visible(False)\n",
    "g1.axes[0,2].set_visible(False)\n",
    "g1.axes[1,2].set_visible(False)\n",
    "plt.savefig(\"Fig/Macrocycle/mono_single_six.pdf\",dpi=150,bbox_inches=\"tight\")\n",
    "plt.show()"
   ]
  },
  {
   "cell_type": "code",
   "execution_count": null,
   "metadata": {},
   "outputs": [],
   "source": []
  },
  {
   "cell_type": "code",
   "execution_count": null,
   "metadata": {},
   "outputs": [],
   "source": [
    "g1 = sns.pairplot(poly_six.iloc[poly_single][[\"q2\",\"q3\",\"phi2\"]],plot_kws=dict(s=10), diag_kws=dict(bins=50))\n",
    "g1.axes[0,0].set_ylabel(r\"$q_{2}$\",size=15, rotation=0)\n",
    "g1.axes[1,0].set_ylabel(r\"$q_{3}$\",rotation=0,size=15)\n",
    "g1.axes[2,0].set_ylabel(r\"$\\phi_{2}$\",rotation=0,size=15)\n",
    "g1.axes[2,0].set_xlabel(r\"$q_{2}$\",rotation=0,size=15)\n",
    "g1.axes[2,1].set_xlabel(r\"$q_{3}$\",rotation=0,size=15)\n",
    "g1.axes[2,2].set_xlabel(r\"$\\phi_{2}$\",rotation=0,size=15)\n",
    "g1.axes[0,0].set_xticks([0,0.5,1])\n",
    "g1.axes[0,0].set_yticks([0,0.5,1])\n",
    "g1.axes[1,0].set_xticks([0,0.5,1])\n",
    "g1.axes[1,0].set_yticks([-1,-0.5,0,0.5,1])\n",
    "g1.axes[2,0].set_xticks([0,0.5,1])\n",
    "g1.axes[2,0].set_yticks([-np.pi,-np.pi/2,0,np.pi/2,np.pi])\n",
    "g1.axes[1,1].set_xticks([-1,-0.5,0,0.5,1])\n",
    "g1.axes[1,1].set_yticks([-1,-0.5,0,0.5,1])\n",
    "g1.axes[2,1].set_xticks([-1,-0.5,0,0.5,1])\n",
    "g1.axes[2,1].set_yticks([-np.pi,-np.pi/2,0,np.pi/2,np.pi])\n",
    "g1.axes[2,2].set_xticks([-np.pi,-np.pi/2,0,np.pi/2,np.pi])\n",
    "g1.axes[2,2].set_yticks([-np.pi,-np.pi/2,0,np.pi/2,np.pi])\n",
    "g1.axes[2,0].set_yticklabels([r\"-$\\pi$\",r\"-$\\pi/2$\",\"0\",r\"$\\pi/2$\",\"$\\pi$\"])\n",
    "g1.axes[2,0].set_yticklabels([r\"-$\\pi$\",r\"-$\\pi/2$\",\"0\",r\"$\\pi/2$\",\"$\\pi$\"])\n",
    "g1.axes[2,1].set_xticklabels([r\"0\",r\"0.5\",\"1\"])\n",
    "g1.axes[2,1].set_xticklabels([r\"-1\",r\"-0.5\",\"0\",r\"0.5\",\"1\"])\n",
    "g1.axes[2,2].set_xticklabels([r\"-$\\pi$\",r\"-$\\pi/2$\",\"0\",r\"$\\pi/2$\",\"$\\pi$\"])\n",
    "g1.axes[0,1].set_visible(False)\n",
    "g1.axes[0,2].set_visible(False)\n",
    "g1.axes[1,2].set_visible(False)\n",
    "plt.savefig(\"Fig/Macrocycle/poly_single_six.pdf\",dpi=150,bbox_inches=\"tight\")\n",
    "plt.show()"
   ]
  },
  {
   "cell_type": "code",
   "execution_count": null,
   "metadata": {},
   "outputs": [],
   "source": [
    "g1 = sns.pairplot(mono_six.iloc[mono_one][[\"q2\",\"q3\",\"phi2\"]],plot_kws=dict(s=10), diag_kws=dict(bins=50))\n",
    "g1.axes[0,0].set_ylabel(r\"$q_{2}$\",size=15, rotation=0)\n",
    "g1.axes[1,0].set_ylabel(r\"$q_{3}$\",rotation=0,size=15)\n",
    "g1.axes[2,0].set_ylabel(r\"$\\phi_{2}$\",rotation=0,size=15)\n",
    "g1.axes[2,0].set_xlabel(r\"$q_{2}$\",rotation=0,size=15)\n",
    "g1.axes[2,1].set_xlabel(r\"$q_{3}$\",rotation=0,size=15)\n",
    "g1.axes[2,2].set_xlabel(r\"$\\phi_{2}$\",rotation=0,size=15)\n",
    "g1.axes[0,0].set_xticks([0,0.5,1])\n",
    "g1.axes[0,0].set_yticks([0,0.5,1])\n",
    "g1.axes[1,0].set_xticks([0,0.5,1])\n",
    "g1.axes[1,0].set_yticks([-1,-0.5,0,0.5,1])\n",
    "g1.axes[2,0].set_xticks([0,0.5,1])\n",
    "g1.axes[2,0].set_yticks([-np.pi,-np.pi/2,0,np.pi/2,np.pi])\n",
    "g1.axes[1,1].set_xticks([-1,-0.5,0,0.5,1])\n",
    "g1.axes[1,1].set_yticks([-1,-0.5,0,0.5,1])\n",
    "g1.axes[2,1].set_xticks([-1,-0.5,0,0.5,1])\n",
    "g1.axes[2,1].set_yticks([-np.pi,-np.pi/2,0,np.pi/2,np.pi])\n",
    "g1.axes[2,2].set_xticks([-np.pi,-np.pi/2,0,np.pi/2,np.pi])\n",
    "g1.axes[2,2].set_yticks([-np.pi,-np.pi/2,0,np.pi/2,np.pi])\n",
    "g1.axes[2,0].set_yticklabels([r\"-$\\pi$\",r\"-$\\pi/2$\",\"0\",r\"$\\pi/2$\",\"$\\pi$\"])\n",
    "g1.axes[2,0].set_yticklabels([r\"-$\\pi$\",r\"-$\\pi/2$\",\"0\",r\"$\\pi/2$\",\"$\\pi$\"])\n",
    "g1.axes[2,1].set_xticklabels([r\"0\",r\"0.5\",\"1\"])\n",
    "g1.axes[2,1].set_xticklabels([r\"-1\",r\"-0.5\",\"0\",r\"0.5\",\"1\"])\n",
    "g1.axes[2,2].set_xticklabels([r\"-$\\pi$\",r\"-$\\pi/2$\",\"0\",r\"$\\pi/2$\",\"$\\pi$\"])\n",
    "g1.axes[0,1].set_visible(False)\n",
    "g1.axes[0,2].set_visible(False)\n",
    "g1.axes[1,2].set_visible(False)\n",
    "plt.savefig(\"Fig/Macrocycle/mono_one_six.pdf\",dpi=150,bbox_inches=\"tight\")\n",
    "plt.show()"
   ]
  },
  {
   "cell_type": "code",
   "execution_count": null,
   "metadata": {
    "scrolled": false
   },
   "outputs": [],
   "source": [
    "g1 = sns.pairplot(poly_six.iloc[poly_one][[\"q2\",\"q3\",\"phi2\"]],plot_kws=dict(s=10), diag_kws=dict(bins=50))\n",
    "g1.axes[0,0].set_ylabel(r\"$q_{2}$\",size=15, rotation=0)\n",
    "g1.axes[1,0].set_ylabel(r\"$q_{3}$\",rotation=0,size=15)\n",
    "g1.axes[2,0].set_ylabel(r\"$\\phi_{2}$\",rotation=0,size=15)\n",
    "g1.axes[2,0].set_xlabel(r\"$q_{2}$\",rotation=0,size=15)\n",
    "g1.axes[2,1].set_xlabel(r\"$q_{3}$\",rotation=0,size=15)\n",
    "g1.axes[2,2].set_xlabel(r\"$\\phi_{2}$\",rotation=0,size=15)\n",
    "g1.axes[0,0].set_xticks([0,0.5,1])\n",
    "g1.axes[0,0].set_yticks([0,0.5,1])\n",
    "g1.axes[1,0].set_xticks([0,0.5,1])\n",
    "g1.axes[1,0].set_yticks([-1,-0.5,0,0.5,1])\n",
    "g1.axes[2,0].set_xticks([0,0.5,1])\n",
    "g1.axes[2,0].set_yticks([-np.pi,-np.pi/2,0,np.pi/2,np.pi])\n",
    "g1.axes[1,1].set_xticks([-1,-0.5,0,0.5,1])\n",
    "g1.axes[1,1].set_yticks([-1,-0.5,0,0.5,1])\n",
    "g1.axes[2,1].set_xticks([-1,-0.5,0,0.5,1])\n",
    "g1.axes[2,1].set_yticks([-np.pi,-np.pi/2,0,np.pi/2,np.pi])\n",
    "g1.axes[2,2].set_xticks([-np.pi,-np.pi/2,0,np.pi/2,np.pi])\n",
    "g1.axes[2,2].set_yticks([-np.pi,-np.pi/2,0,np.pi/2,np.pi])\n",
    "g1.axes[2,0].set_yticklabels([r\"-$\\pi$\",r\"-$\\pi/2$\",\"0\",r\"$\\pi/2$\",\"$\\pi$\"])\n",
    "g1.axes[2,0].set_yticklabels([r\"-$\\pi$\",r\"-$\\pi/2$\",\"0\",r\"$\\pi/2$\",\"$\\pi$\"])\n",
    "g1.axes[2,1].set_xticklabels([r\"0\",r\"0.5\",\"1\"])\n",
    "g1.axes[2,1].set_xticklabels([r\"-1\",r\"-0.5\",\"0\",r\"0.5\",\"1\"])\n",
    "g1.axes[2,2].set_xticklabels([r\"-$\\pi$\",r\"-$\\pi/2$\",\"0\",r\"$\\pi/2$\",\"$\\pi$\"])\n",
    "g1.axes[0,1].set_visible(False)\n",
    "g1.axes[0,2].set_visible(False)\n",
    "g1.axes[1,2].set_visible(False)\n",
    "plt.savefig(\"Fig/Macrocycle/poly_one_six.pdf\",dpi=150,bbox_inches=\"tight\")\n",
    "plt.show()"
   ]
  },
  {
   "cell_type": "code",
   "execution_count": null,
   "metadata": {},
   "outputs": [],
   "source": [
    "g1 = sns.pairplot(mono_six.iloc[mono_two][[\"q2\",\"q3\",\"phi2\"]],plot_kws=dict(s=10), diag_kws=dict(bins=50))\n",
    "g1.axes[0,0].set_ylabel(r\"$q_{2}$\",size=15, rotation=0)\n",
    "g1.axes[1,0].set_ylabel(r\"$q_{3}$\",rotation=0,size=15)\n",
    "g1.axes[2,0].set_ylabel(r\"$\\phi_{2}$\",rotation=0,size=15)\n",
    "g1.axes[2,0].set_xlabel(r\"$q_{2}$\",rotation=0,size=15)\n",
    "g1.axes[2,1].set_xlabel(r\"$q_{3}$\",rotation=0,size=15)\n",
    "g1.axes[2,2].set_xlabel(r\"$\\phi_{2}$\",rotation=0,size=15)\n",
    "g1.axes[0,0].set_xticks([0,0.5,1])\n",
    "g1.axes[0,0].set_yticks([0,0.5,1])\n",
    "g1.axes[1,0].set_xticks([0,0.5,1])\n",
    "g1.axes[1,0].set_yticks([-1,-0.5,0,0.5,1])\n",
    "g1.axes[2,0].set_xticks([0,0.5,1])\n",
    "g1.axes[2,0].set_yticks([-np.pi,-np.pi/2,0,np.pi/2,np.pi])\n",
    "g1.axes[1,1].set_xticks([-1,-0.5,0,0.5,1])\n",
    "g1.axes[1,1].set_yticks([-1,-0.5,0,0.5,1])\n",
    "g1.axes[1,1].set_xlim(-1,1)\n",
    "g1.axes[2,1].set_xticks([-1,-0.5,0,0.5,1])\n",
    "g1.axes[2,1].set_yticks([-np.pi,-np.pi/2,0,np.pi/2,np.pi])\n",
    "g1.axes[2,2].set_xticks([-np.pi,-np.pi/2,0,np.pi/2,np.pi])\n",
    "g1.axes[2,2].set_yticks([-np.pi,-np.pi/2,0,np.pi/2,np.pi])\n",
    "g1.axes[2,0].set_yticklabels([r\"-$\\pi$\",r\"-$\\pi/2$\",\"0\",r\"$\\pi/2$\",\"$\\pi$\"])\n",
    "g1.axes[2,0].set_yticklabels([r\"-$\\pi$\",r\"-$\\pi/2$\",\"0\",r\"$\\pi/2$\",\"$\\pi$\"])\n",
    "g1.axes[2,1].set_xticklabels([r\"0\",r\"0.5\",\"1\"])\n",
    "g1.axes[2,1].set_xticklabels([r\"-1\",r\"-0.5\",\"0\",r\"0.5\",\"1\"])\n",
    "g1.axes[2,2].set_xticklabels([r\"-$\\pi$\",r\"-$\\pi/2$\",\"0\",r\"$\\pi/2$\",\"$\\pi$\"])\n",
    "g1.axes[0,1].set_visible(False)\n",
    "g1.axes[0,2].set_visible(False)\n",
    "g1.axes[1,2].set_visible(False)\n",
    "plt.savefig(\"Fig/Macrocycle/mono_two_six.pdf\",dpi=150,bbox_inches=\"tight\")\n",
    "plt.show()"
   ]
  },
  {
   "cell_type": "code",
   "execution_count": null,
   "metadata": {
    "scrolled": false
   },
   "outputs": [],
   "source": [
    "g1 = sns.pairplot(poly_six.iloc[poly_two][[\"q2\",\"q3\",\"phi2\"]],plot_kws=dict(s=10), diag_kws=dict(bins=50))\n",
    "g1.axes[0,0].set_ylabel(r\"$q_{2}$\",size=15, rotation=0)\n",
    "g1.axes[1,0].set_ylabel(r\"$q_{3}$\",rotation=0,size=15)\n",
    "g1.axes[2,0].set_ylabel(r\"$\\phi_{2}$\",rotation=0,size=15)\n",
    "g1.axes[2,0].set_xlabel(r\"$q_{2}$\",rotation=0,size=15)\n",
    "g1.axes[2,1].set_xlabel(r\"$q_{3}$\",rotation=0,size=15)\n",
    "g1.axes[2,2].set_xlabel(r\"$\\phi_{2}$\",rotation=0,size=15)\n",
    "g1.axes[0,0].set_xticks([0,0.5,1])\n",
    "g1.axes[0,0].set_yticks([0,0.5,1])\n",
    "g1.axes[1,0].set_xticks([0,0.5,1])\n",
    "g1.axes[1,0].set_yticks([-1,-0.5,0,0.5,1])\n",
    "g1.axes[2,0].set_xticks([0,0.5,1])\n",
    "g1.axes[2,0].set_yticks([-np.pi,-np.pi/2,0,np.pi/2,np.pi])\n",
    "g1.axes[1,1].set_xticks([-1,-0.5,0,0.5,1])\n",
    "g1.axes[1,1].set_yticks([-1,-0.5,0,0.5,1])\n",
    "g1.axes[2,1].set_xticks([-1,-0.5,0,0.5,1])\n",
    "g1.axes[2,1].set_yticks([-np.pi,-np.pi/2,0,np.pi/2,np.pi])\n",
    "g1.axes[2,2].set_xticks([-np.pi,-np.pi/2,0,np.pi/2,np.pi])\n",
    "g1.axes[2,2].set_yticks([-np.pi,-np.pi/2,0,np.pi/2,np.pi])\n",
    "g1.axes[2,0].set_yticklabels([r\"-$\\pi$\",r\"-$\\pi/2$\",\"0\",r\"$\\pi/2$\",\"$\\pi$\"])\n",
    "g1.axes[2,0].set_yticklabels([r\"-$\\pi$\",r\"-$\\pi/2$\",\"0\",r\"$\\pi/2$\",\"$\\pi$\"])\n",
    "g1.axes[2,1].set_xticklabels([r\"0\",r\"0.5\",\"1\"])\n",
    "g1.axes[2,1].set_xticklabels([r\"-1\",r\"-0.5\",\"0\",r\"0.5\",\"1\"])\n",
    "g1.axes[2,2].set_xticklabels([r\"-$\\pi$\",r\"-$\\pi/2$\",\"0\",r\"$\\pi/2$\",\"$\\pi$\"])\n",
    "g1.axes[0,1].set_visible(False)\n",
    "g1.axes[0,2].set_visible(False)\n",
    "g1.axes[1,2].set_visible(False)\n",
    "plt.savefig(\"Fig/Macrocycle/poly_two_six.pdf\",dpi=150,bbox_inches=\"tight\")\n",
    "plt.show()"
   ]
  },
  {
   "cell_type": "code",
   "execution_count": null,
   "metadata": {},
   "outputs": [],
   "source": [
    "seven = pd.read_csv(\"seven.csv\")"
   ]
  },
  {
   "cell_type": "code",
   "execution_count": null,
   "metadata": {},
   "outputs": [],
   "source": [
    "monocyclic = []\n",
    "polycyclic = []\n",
    "for idx, item in enumerate(seven[[\"A0\",\"A1\",\"A2\",\"A3\",\"A4\",\"A5\",\"A6\"]].values):\n",
    "    if list(item)==[\"M\",\"M\",\"M\",\"M\",\"M\",\"M\",\"M\"]:\n",
    "        monocyclic.append(idx)\n",
    "    else:\n",
    "        polycyclic.append(idx)\n",
    "        \n",
    "mono_seven = seven.iloc[monocyclic].reset_index(drop=True)\n",
    "poly_seven = seven.iloc[polycyclic].reset_index(drop=True)\n",
    "\n",
    "mono_single = []\n",
    "mono_one = []\n",
    "mono_two = []\n",
    "for idx, item in enumerate(mono_seven[[\"B0\",\"B1\",\"B2\",\"B3\",\"B4\",\"B5\",\"B6\"]].values):\n",
    "    check = [x==1.5 or x==2.0 for x in item]\n",
    "    if sum(check)==0:\n",
    "        mono_single.append(idx)\n",
    "    elif sum(check)==1:\n",
    "        mono_one.append(idx)\n",
    "    else:\n",
    "        mono_two.append(idx)\n",
    "\n",
    "poly_single = []\n",
    "poly_one = []\n",
    "poly_two = []\n",
    "for idx, item in enumerate(poly_seven[[\"B0\",\"B1\",\"B2\",\"B3\",\"B4\",\"B5\",\"B6\"]].values):\n",
    "    check = [x==1.5 or x==2.0 for x in list(item)]\n",
    "    if sum(check)==0:\n",
    "        poly_single.append(idx)\n",
    "    elif sum(check)==1:\n",
    "        poly_one.append(idx)\n",
    "    else:\n",
    "        poly_two.append(idx)"
   ]
  },
  {
   "cell_type": "code",
   "execution_count": null,
   "metadata": {},
   "outputs": [],
   "source": [
    "g1 = sns.pairplot(mono_seven.iloc[mono_single][[\"q2\",\"q3\",\"phi2\",\"phi3\"]],plot_kws=dict(s=15),diag_kws=dict(bins=30))\n",
    "g1.axes[0,0].set_ylabel(r\"$q_{2}$\",size=15, rotation=0)\n",
    "g1.axes[1,0].set_ylabel(r\"$q_{3}$\",rotation=0,size=15)\n",
    "g1.axes[2,0].set_ylabel(r\"$\\phi_{2}$\",rotation=0,size=15)\n",
    "g1.axes[3,0].set_ylabel(r\"$\\phi_{3}$\",rotation=0,size=15)\n",
    "g1.axes[3,0].set_xlabel(r\"$q_{2}$\",rotation=0,size=15)\n",
    "g1.axes[3,1].set_xlabel(r\"$q_{3}$\",rotation=0,size=15)\n",
    "g1.axes[3,2].set_xlabel(r\"$\\phi_{2}$\",rotation=0,size=15)\n",
    "g1.axes[3,3].set_xlabel(r\"$\\phi_{3}$\",rotation=0,size=15)\n",
    "g1.axes[0,0].set_xticks([0,0.5,1,1.5])\n",
    "g1.axes[0,0].set_yticks([0,0.5,1,1.5])\n",
    "g1.axes[1,0].set_xticks([0,0.5,1,1.5])\n",
    "g1.axes[1,0].set_yticks([0,0.5,1])\n",
    "g1.axes[2,0].set_yticks([-np.pi,-np.pi/2,0,np.pi/2,np.pi])\n",
    "g1.axes[2,0].set_xticks([0,0.5,1,1.5])\n",
    "g1.axes[3,0].set_yticks([-np.pi,-np.pi/2,0,np.pi/2,np.pi])\n",
    "g1.axes[3,0].set_xticks([0,0.5,1,1.5])\n",
    "g1.axes[1,1].set_xticks([0,0.5,1])\n",
    "g1.axes[1,1].set_yticks([0,0.5,1])\n",
    "g1.axes[2,1].set_xticks([0,0.5,1])\n",
    "g1.axes[2,1].set_yticks([-np.pi,-np.pi/2,0,np.pi/2,np.pi])\n",
    "g1.axes[2,2].set_xticks([-np.pi,-np.pi/2,0,np.pi/2,np.pi])\n",
    "g1.axes[2,2].set_yticks([-np.pi,-np.pi/2,0,np.pi/2,np.pi])\n",
    "g1.axes[3,1].set_xticks([0,0.5,1])\n",
    "g1.axes[3,1].set_yticks([-np.pi,-np.pi/2,0,np.pi/2,np.pi])\n",
    "g1.axes[3,2].set_xticks([-np.pi,-np.pi/2,0,np.pi/2,np.pi])\n",
    "g1.axes[3,2].set_yticks([-np.pi,-np.pi/2,0,np.pi/2,np.pi])\n",
    "g1.axes[3,3].set_xticks([-np.pi,-np.pi/2,0,np.pi/2,np.pi])\n",
    "g1.axes[3,3].set_yticks([-np.pi,-np.pi/2,0,np.pi/2,np.pi])\n",
    "g1.axes[0,0].set_yticklabels([\"0\",\"0.5\",\"1.0\",\"1.5\"])\n",
    "g1.axes[1,0].set_yticklabels([\"0\",\"0.5\",\"1.0\"])\n",
    "g1.axes[2,0].set_yticklabels([r\"-$\\pi$\",r\"-$\\pi/2$\",\"0\",r\"$\\pi/2$\",\"$\\pi$\"])\n",
    "g1.axes[3,0].set_yticklabels([r\"-$\\pi$\",r\"-$\\pi/2$\",\"0\",r\"$\\pi/2$\",\"$\\pi$\"])\n",
    "g1.axes[3,0].set_xticklabels([\"0\",\"0.5\",\"1\",\"1.5\"])\n",
    "g1.axes[3,1].set_xticklabels([\"0\",\"0.5\",\"1\"])\n",
    "g1.axes[3,2].set_xticklabels([r\"-$\\pi$\",r\"-$\\pi/2$\",\"0\",r\"$\\pi/2$\",\"$\\pi$\"])\n",
    "g1.axes[3,3].set_xticklabels([r\"-$\\pi$\",r\"-$\\pi/2$\",\"0\",r\"$\\pi/2$\",\"$\\pi$\"])\n",
    "g1.axes[0,1].set_visible(False)\n",
    "g1.axes[0,2].set_visible(False)\n",
    "g1.axes[0,3].set_visible(False)\n",
    "g1.axes[1,2].set_visible(False)\n",
    "g1.axes[1,3].set_visible(False)\n",
    "g1.axes[2,3].set_visible(False)\n",
    "plt.savefig(\"Fig/Macrocycle/mono_single_seven.pdf\",dpi=150,bbox_inches=\"tight\")\n",
    "plt.show()"
   ]
  },
  {
   "cell_type": "code",
   "execution_count": null,
   "metadata": {
    "scrolled": false
   },
   "outputs": [],
   "source": [
    "g1 = sns.pairplot(poly_seven.iloc[poly_single][[\"q2\",\"q3\",\"phi2\",\"phi3\"]],plot_kws=dict(s=15),diag_kws=dict(bins=30))\n",
    "g1.axes[0,0].set_ylabel(r\"$q_{2}$\",size=15, rotation=0)\n",
    "g1.axes[1,0].set_ylabel(r\"$q_{3}$\",rotation=0,size=15)\n",
    "g1.axes[2,0].set_ylabel(r\"$\\phi_{2}$\",rotation=0,size=15)\n",
    "g1.axes[3,0].set_ylabel(r\"$\\phi_{3}$\",rotation=0,size=15)\n",
    "g1.axes[3,0].set_xlabel(r\"$q_{2}$\",rotation=0,size=15)\n",
    "g1.axes[3,1].set_xlabel(r\"$q_{3}$\",rotation=0,size=15)\n",
    "g1.axes[3,2].set_xlabel(r\"$\\phi_{2}$\",rotation=0,size=15)\n",
    "g1.axes[3,3].set_xlabel(r\"$\\phi_{3}$\",rotation=0,size=15)\n",
    "g1.axes[0,0].set_xticks([0,0.5,1,1.5])\n",
    "g1.axes[0,0].set_yticks([0,0.5,1,1.5])\n",
    "g1.axes[1,0].set_xticks([0,0.5,1,1.5])\n",
    "g1.axes[1,0].set_yticks([0,0.5,1])\n",
    "g1.axes[2,0].set_yticks([-np.pi,-np.pi/2,0,np.pi/2,np.pi])\n",
    "g1.axes[2,0].set_xticks([0,0.5,1,1.5])\n",
    "g1.axes[3,0].set_yticks([-np.pi,-np.pi/2,0,np.pi/2,np.pi])\n",
    "g1.axes[3,0].set_xticks([0,0.5,1,1.5])\n",
    "g1.axes[1,1].set_xticks([0,0.5,1])\n",
    "g1.axes[1,1].set_yticks([0,0.5,1])\n",
    "g1.axes[2,1].set_xticks([0,0.5,1])\n",
    "g1.axes[2,1].set_yticks([-np.pi,-np.pi/2,0,np.pi/2,np.pi])\n",
    "g1.axes[2,2].set_xticks([-np.pi,-np.pi/2,0,np.pi/2,np.pi])\n",
    "g1.axes[2,2].set_yticks([-np.pi,-np.pi/2,0,np.pi/2,np.pi])\n",
    "g1.axes[3,1].set_xticks([0,0.5,1])\n",
    "g1.axes[3,1].set_yticks([-np.pi,-np.pi/2,0,np.pi/2,np.pi])\n",
    "g1.axes[3,2].set_xticks([-np.pi,-np.pi/2,0,np.pi/2,np.pi])\n",
    "g1.axes[3,2].set_yticks([-np.pi,-np.pi/2,0,np.pi/2,np.pi])\n",
    "g1.axes[3,3].set_xticks([-np.pi,-np.pi/2,0,np.pi/2,np.pi])\n",
    "g1.axes[3,3].set_yticks([-np.pi,-np.pi/2,0,np.pi/2,np.pi])\n",
    "g1.axes[0,0].set_yticklabels([\"0\",\"0.5\",\"1.0\",\"1.5\"])\n",
    "g1.axes[1,0].set_yticklabels([\"0\",\"0.5\",\"1.0\"])\n",
    "g1.axes[2,0].set_yticklabels([r\"-$\\pi$\",r\"-$\\pi/2$\",\"0\",r\"$\\pi/2$\",\"$\\pi$\"])\n",
    "g1.axes[3,0].set_yticklabels([r\"-$\\pi$\",r\"-$\\pi/2$\",\"0\",r\"$\\pi/2$\",\"$\\pi$\"])\n",
    "g1.axes[3,0].set_xticklabels([\"0\",\"0.5\",\"1\",\"1.5\"])\n",
    "g1.axes[3,1].set_xticklabels([\"0\",\"0.5\",\"1\"])\n",
    "g1.axes[3,2].set_xticklabels([r\"-$\\pi$\",r\"-$\\pi/2$\",\"0\",r\"$\\pi/2$\",\"$\\pi$\"])\n",
    "g1.axes[3,3].set_xticklabels([r\"-$\\pi$\",r\"-$\\pi/2$\",\"0\",r\"$\\pi/2$\",\"$\\pi$\"])\n",
    "g1.axes[0,1].set_visible(False)\n",
    "g1.axes[0,2].set_visible(False)\n",
    "g1.axes[0,3].set_visible(False)\n",
    "g1.axes[1,2].set_visible(False)\n",
    "g1.axes[1,3].set_visible(False)\n",
    "g1.axes[2,3].set_visible(False)\n",
    "plt.savefig(\"Fig/Macrocycle/poly_single_seven.pdf\",dpi=150,bbox_inches=\"tight\")\n",
    "plt.show()"
   ]
  },
  {
   "cell_type": "code",
   "execution_count": null,
   "metadata": {},
   "outputs": [],
   "source": [
    "g1 = sns.pairplot(mono_seven.iloc[mono_one][[\"q2\",\"q3\",\"phi2\",\"phi3\"]],plot_kws=dict(s=15),diag_kws=dict(bins=10))\n",
    "g1.axes[0,0].set_ylabel(r\"$q_{2}$\",size=15, rotation=0)\n",
    "g1.axes[1,0].set_ylabel(r\"$q_{3}$\",rotation=0,size=15)\n",
    "g1.axes[2,0].set_ylabel(r\"$\\phi_{2}$\",rotation=0,size=15)\n",
    "g1.axes[3,0].set_ylabel(r\"$\\phi_{3}$\",rotation=0,size=15)\n",
    "g1.axes[3,0].set_xlabel(r\"$q_{2}$\",rotation=0,size=15)\n",
    "g1.axes[3,1].set_xlabel(r\"$q_{3}$\",rotation=0,size=15)\n",
    "g1.axes[3,2].set_xlabel(r\"$\\phi_{2}$\",rotation=0,size=15)\n",
    "g1.axes[3,3].set_xlabel(r\"$\\phi_{3}$\",rotation=0,size=15)\n",
    "g1.axes[0,0].set_xticks([0,0.5,1,1.5])\n",
    "g1.axes[0,0].set_yticks([0,0.5,1,1.5])\n",
    "g1.axes[1,0].set_xticks([0,0.5,1,1.5])\n",
    "g1.axes[1,0].set_yticks([0,0.5,1])\n",
    "g1.axes[2,0].set_yticks([-np.pi,-np.pi/2,0,np.pi/2,np.pi])\n",
    "g1.axes[2,0].set_xticks([0,0.5,1,1.5])\n",
    "g1.axes[3,0].set_yticks([-np.pi,-np.pi/2,0,np.pi/2,np.pi])\n",
    "g1.axes[3,0].set_xticks([0,0.5,1,1.5])\n",
    "g1.axes[1,1].set_xticks([0,0.5,1])\n",
    "g1.axes[1,1].set_yticks([0,0.5,1])\n",
    "g1.axes[2,1].set_xticks([0,0.5,1])\n",
    "g1.axes[2,1].set_yticks([-np.pi,-np.pi/2,0,np.pi/2,np.pi])\n",
    "g1.axes[2,2].set_xticks([-np.pi,-np.pi/2,0,np.pi/2,np.pi])\n",
    "g1.axes[2,2].set_yticks([-np.pi,-np.pi/2,0,np.pi/2,np.pi])\n",
    "g1.axes[3,1].set_xticks([0,0.5,1])\n",
    "g1.axes[3,1].set_yticks([-np.pi,-np.pi/2,0,np.pi/2,np.pi])\n",
    "g1.axes[3,2].set_xticks([-np.pi,-np.pi/2,0,np.pi/2,np.pi])\n",
    "g1.axes[3,2].set_yticks([-np.pi,-np.pi/2,0,np.pi/2,np.pi])\n",
    "g1.axes[3,3].set_xticks([-np.pi,-np.pi/2,0,np.pi/2,np.pi])\n",
    "g1.axes[3,3].set_yticks([-np.pi,-np.pi/2,0,np.pi/2,np.pi])\n",
    "g1.axes[0,0].set_yticklabels([\"0\",\"0.5\",\"1.0\",\"1.5\"])\n",
    "g1.axes[1,0].set_yticklabels([\"0\",\"0.5\",\"1.0\"])\n",
    "g1.axes[2,0].set_yticklabels([r\"-$\\pi$\",r\"-$\\pi/2$\",\"0\",r\"$\\pi/2$\",\"$\\pi$\"])\n",
    "g1.axes[3,0].set_yticklabels([r\"-$\\pi$\",r\"-$\\pi/2$\",\"0\",r\"$\\pi/2$\",\"$\\pi$\"])\n",
    "g1.axes[3,0].set_xticklabels([\"0\",\"0.5\",\"1\",\"1.5\"])\n",
    "g1.axes[3,1].set_xticklabels([\"0\",\"0.5\",\"1\"])\n",
    "g1.axes[3,2].set_xticklabels([r\"-$\\pi$\",r\"-$\\pi/2$\",\"0\",r\"$\\pi/2$\",\"$\\pi$\"])\n",
    "g1.axes[3,3].set_xticklabels([r\"-$\\pi$\",r\"-$\\pi/2$\",\"0\",r\"$\\pi/2$\",\"$\\pi$\"])\n",
    "g1.axes[0,1].set_visible(False)\n",
    "g1.axes[0,2].set_visible(False)\n",
    "g1.axes[0,3].set_visible(False)\n",
    "g1.axes[1,2].set_visible(False)\n",
    "g1.axes[1,3].set_visible(False)\n",
    "g1.axes[2,3].set_visible(False)\n",
    "plt.savefig(\"Fig/Macrocycle/mono_one_seven.pdf\",dpi=150, bbox_inches=\"tight\")\n",
    "plt.show()"
   ]
  },
  {
   "cell_type": "code",
   "execution_count": null,
   "metadata": {},
   "outputs": [],
   "source": [
    "g1 = sns.pairplot(poly_seven.iloc[poly_one][[\"q2\",\"q3\",\"phi2\",\"phi3\"]],plot_kws=dict(s=15),diag_kws=dict(bins=30))\n",
    "g1.axes[0,0].set_ylabel(r\"$q_{2}$\",size=15, rotation=0)\n",
    "g1.axes[1,0].set_ylabel(r\"$q_{3}$\",rotation=0,size=15)\n",
    "g1.axes[2,0].set_ylabel(r\"$\\phi_{2}$\",rotation=0,size=15)\n",
    "g1.axes[3,0].set_ylabel(r\"$\\phi_{3}$\",rotation=0,size=15)\n",
    "g1.axes[3,0].set_xlabel(r\"$q_{2}$\",rotation=0,size=15)\n",
    "g1.axes[3,1].set_xlabel(r\"$q_{3}$\",rotation=0,size=15)\n",
    "g1.axes[3,2].set_xlabel(r\"$\\phi_{2}$\",rotation=0,size=15)\n",
    "g1.axes[3,3].set_xlabel(r\"$\\phi_{3}$\",rotation=0,size=15)\n",
    "g1.axes[0,0].set_xticks([0,0.5,1,1.5])\n",
    "g1.axes[0,0].set_yticks([0,0.5,1,1.5])\n",
    "g1.axes[1,0].set_xticks([0,0.5,1,1.5])\n",
    "g1.axes[1,0].set_yticks([0,0.5,1])\n",
    "g1.axes[2,0].set_yticks([-np.pi,-np.pi/2,0,np.pi/2,np.pi])\n",
    "g1.axes[2,0].set_xticks([0,0.5,1,1.5])\n",
    "g1.axes[3,0].set_yticks([-np.pi,-np.pi/2,0,np.pi/2,np.pi])\n",
    "g1.axes[3,0].set_xticks([0,0.5,1,1.5])\n",
    "g1.axes[1,1].set_xticks([0,0.5,1])\n",
    "g1.axes[1,1].set_yticks([0,0.5,1])\n",
    "g1.axes[2,1].set_xticks([0,0.5,1])\n",
    "g1.axes[2,1].set_yticks([-np.pi,-np.pi/2,0,np.pi/2,np.pi])\n",
    "g1.axes[2,2].set_xticks([-np.pi,-np.pi/2,0,np.pi/2,np.pi])\n",
    "g1.axes[2,2].set_yticks([-np.pi,-np.pi/2,0,np.pi/2,np.pi])\n",
    "g1.axes[3,1].set_xticks([0,0.5,1])\n",
    "g1.axes[3,1].set_yticks([-np.pi,-np.pi/2,0,np.pi/2,np.pi])\n",
    "g1.axes[3,2].set_xticks([-np.pi,-np.pi/2,0,np.pi/2,np.pi])\n",
    "g1.axes[3,2].set_yticks([-np.pi,-np.pi/2,0,np.pi/2,np.pi])\n",
    "g1.axes[3,3].set_xticks([-np.pi,-np.pi/2,0,np.pi/2,np.pi])\n",
    "g1.axes[3,3].set_yticks([-np.pi,-np.pi/2,0,np.pi/2,np.pi])\n",
    "g1.axes[0,0].set_yticklabels([\"0\",\"0.5\",\"1.0\",\"1.5\"])\n",
    "g1.axes[1,0].set_yticklabels([\"0\",\"0.5\",\"1.0\"])\n",
    "g1.axes[2,0].set_yticklabels([r\"-$\\pi$\",r\"-$\\pi/2$\",\"0\",r\"$\\pi/2$\",\"$\\pi$\"])\n",
    "g1.axes[3,0].set_yticklabels([r\"-$\\pi$\",r\"-$\\pi/2$\",\"0\",r\"$\\pi/2$\",\"$\\pi$\"])\n",
    "g1.axes[3,0].set_xticklabels([\"0\",\"0.5\",\"1\",\"1.5\"])\n",
    "g1.axes[3,1].set_xticklabels([\"0\",\"0.5\",\"1\"])\n",
    "g1.axes[3,2].set_xticklabels([r\"-$\\pi$\",r\"-$\\pi/2$\",\"0\",r\"$\\pi/2$\",\"$\\pi$\"])\n",
    "g1.axes[3,3].set_xticklabels([r\"-$\\pi$\",r\"-$\\pi/2$\",\"0\",r\"$\\pi/2$\",\"$\\pi$\"])\n",
    "g1.axes[0,1].set_visible(False)\n",
    "g1.axes[0,2].set_visible(False)\n",
    "g1.axes[0,3].set_visible(False)\n",
    "g1.axes[1,2].set_visible(False)\n",
    "g1.axes[1,3].set_visible(False)\n",
    "g1.axes[2,3].set_visible(False)\n",
    "plt.savefig(\"Fig/Macrocycle/poly_one_seven.pdf\",dpi=150, bbox_inches=\"tight\")\n",
    "plt.show()"
   ]
  },
  {
   "cell_type": "code",
   "execution_count": null,
   "metadata": {},
   "outputs": [],
   "source": [
    "g1 = sns.pairplot(mono_seven.iloc[mono_two][[\"q2\",\"q3\",\"phi2\",\"phi3\"]],plot_kws=dict(s=15),diag_kws=dict(bins=20))\n",
    "g1.axes[0,0].set_ylabel(r\"$q_{2}$\",size=15, rotation=0)\n",
    "g1.axes[1,0].set_ylabel(r\"$q_{3}$\",rotation=0,size=15)\n",
    "g1.axes[2,0].set_ylabel(r\"$\\phi_{2}$\",rotation=0,size=15)\n",
    "g1.axes[3,0].set_ylabel(r\"$\\phi_{3}$\",rotation=0,size=15)\n",
    "g1.axes[3,0].set_xlabel(r\"$q_{2}$\",rotation=0,size=15)\n",
    "g1.axes[3,1].set_xlabel(r\"$q_{3}$\",rotation=0,size=15)\n",
    "g1.axes[3,2].set_xlabel(r\"$\\phi_{2}$\",rotation=0,size=15)\n",
    "g1.axes[3,3].set_xlabel(r\"$\\phi_{3}$\",rotation=0,size=15)\n",
    "g1.axes[0,0].set_xticks([0,0.5,1,1.5])\n",
    "g1.axes[0,0].set_yticks([0,0.5,1,1.5])\n",
    "g1.axes[1,0].set_xticks([0,0.5,1,1.5])\n",
    "g1.axes[1,0].set_yticks([0,0.5,1])\n",
    "g1.axes[2,0].set_yticks([-np.pi,-np.pi/2,0,np.pi/2,np.pi])\n",
    "g1.axes[2,0].set_xticks([0,0.5,1,1.5])\n",
    "g1.axes[3,0].set_yticks([-np.pi,-np.pi/2,0,np.pi/2,np.pi])\n",
    "g1.axes[3,0].set_xticks([0,0.5,1,1.5])\n",
    "g1.axes[1,1].set_xticks([0,0.5,1])\n",
    "g1.axes[1,1].set_yticks([0,0.5,1])\n",
    "g1.axes[2,1].set_xticks([0,0.5,1])\n",
    "g1.axes[2,1].set_yticks([-np.pi,-np.pi/2,0,np.pi/2,np.pi])\n",
    "g1.axes[2,2].set_xticks([-np.pi,-np.pi/2,0,np.pi/2,np.pi])\n",
    "g1.axes[2,2].set_yticks([-np.pi,-np.pi/2,0,np.pi/2,np.pi])\n",
    "g1.axes[3,1].set_xticks([0,0.5,1])\n",
    "g1.axes[3,1].set_yticks([-np.pi,-np.pi/2,0,np.pi/2,np.pi])\n",
    "g1.axes[3,2].set_xticks([-np.pi,-np.pi/2,0,np.pi/2,np.pi])\n",
    "g1.axes[3,2].set_yticks([-np.pi,-np.pi/2,0,np.pi/2,np.pi])\n",
    "g1.axes[3,3].set_xticks([-np.pi,-np.pi/2,0,np.pi/2,np.pi])\n",
    "g1.axes[3,3].set_yticks([-np.pi,-np.pi/2,0,np.pi/2,np.pi])\n",
    "g1.axes[0,0].set_yticklabels([\"0\",\"0.5\",\"1.0\",\"1.5\"])\n",
    "g1.axes[1,0].set_yticklabels([\"0\",\"0.5\",\"1.0\"])\n",
    "g1.axes[2,0].set_yticklabels([r\"-$\\pi$\",r\"-$\\pi/2$\",\"0\",r\"$\\pi/2$\",\"$\\pi$\"])\n",
    "g1.axes[3,0].set_yticklabels([r\"-$\\pi$\",r\"-$\\pi/2$\",\"0\",r\"$\\pi/2$\",\"$\\pi$\"])\n",
    "g1.axes[3,0].set_xticklabels([\"0\",\"0.5\",\"1\",\"1.5\"])\n",
    "g1.axes[3,1].set_xticklabels([\"0\",\"0.5\",\"1\"])\n",
    "g1.axes[3,2].set_xticklabels([r\"-$\\pi$\",r\"-$\\pi/2$\",\"0\",r\"$\\pi/2$\",\"$\\pi$\"])\n",
    "g1.axes[3,3].set_xticklabels([r\"-$\\pi$\",r\"-$\\pi/2$\",\"0\",r\"$\\pi/2$\",\"$\\pi$\"])\n",
    "g1.axes[0,1].set_visible(False)\n",
    "g1.axes[0,2].set_visible(False)\n",
    "g1.axes[0,3].set_visible(False)\n",
    "g1.axes[1,2].set_visible(False)\n",
    "g1.axes[1,3].set_visible(False)\n",
    "g1.axes[2,3].set_visible(False)\n",
    "plt.savefig(\"Fig/Macrocycle/mono_two_seven.pdf\",dpi=150, bbox_inches=\"tight\")\n",
    "plt.show()"
   ]
  },
  {
   "cell_type": "code",
   "execution_count": null,
   "metadata": {},
   "outputs": [],
   "source": [
    "g1 = sns.pairplot(poly_seven.iloc[poly_two][[\"q2\",\"q3\",\"phi2\",\"phi3\"]],plot_kws=dict(s=15),diag_kws=dict(bins=50))\n",
    "g1.axes[0,0].set_ylabel(r\"$q_{2}$\",size=15, rotation=0)\n",
    "g1.axes[1,0].set_ylabel(r\"$q_{3}$\",rotation=0,size=15)\n",
    "g1.axes[2,0].set_ylabel(r\"$\\phi_{2}$\",rotation=0,size=15)\n",
    "g1.axes[3,0].set_ylabel(r\"$\\phi_{3}$\",rotation=0,size=15)\n",
    "g1.axes[3,0].set_xlabel(r\"$q_{2}$\",rotation=0,size=15)\n",
    "g1.axes[3,1].set_xlabel(r\"$q_{3}$\",rotation=0,size=15)\n",
    "g1.axes[3,2].set_xlabel(r\"$\\phi_{2}$\",rotation=0,size=15)\n",
    "g1.axes[3,3].set_xlabel(r\"$\\phi_{3}$\",rotation=0,size=15)\n",
    "g1.axes[0,0].set_xticks([0,0.5,1,1.5])\n",
    "g1.axes[0,0].set_yticks([0,0.5,1,1.5])\n",
    "g1.axes[1,0].set_xticks([0,0.5,1,1.5])\n",
    "g1.axes[1,0].set_yticks([0,0.5,1])\n",
    "g1.axes[2,0].set_yticks([-np.pi,-np.pi/2,0,np.pi/2,np.pi])\n",
    "g1.axes[2,0].set_xticks([0,0.5,1,1.5])\n",
    "g1.axes[3,0].set_yticks([-np.pi,-np.pi/2,0,np.pi/2,np.pi])\n",
    "g1.axes[3,0].set_xticks([0,0.5,1,1.5])\n",
    "g1.axes[1,1].set_xticks([0,0.5,1])\n",
    "g1.axes[1,1].set_yticks([0,0.5,1])\n",
    "g1.axes[2,1].set_xticks([0,0.5,1])\n",
    "g1.axes[2,1].set_yticks([-np.pi,-np.pi/2,0,np.pi/2,np.pi])\n",
    "g1.axes[2,2].set_xticks([-np.pi,-np.pi/2,0,np.pi/2,np.pi])\n",
    "g1.axes[2,2].set_yticks([-np.pi,-np.pi/2,0,np.pi/2,np.pi])\n",
    "g1.axes[3,1].set_xticks([0,0.5,1])\n",
    "g1.axes[3,1].set_yticks([-np.pi,-np.pi/2,0,np.pi/2,np.pi])\n",
    "g1.axes[3,2].set_xticks([-np.pi,-np.pi/2,0,np.pi/2,np.pi])\n",
    "g1.axes[3,2].set_yticks([-np.pi,-np.pi/2,0,np.pi/2,np.pi])\n",
    "g1.axes[3,3].set_xticks([-np.pi,-np.pi/2,0,np.pi/2,np.pi])\n",
    "g1.axes[3,3].set_yticks([-np.pi,-np.pi/2,0,np.pi/2,np.pi])\n",
    "g1.axes[0,0].set_yticklabels([\"0\",\"0.5\",\"1.0\",\"1.5\"])\n",
    "g1.axes[1,0].set_yticklabels([\"0\",\"0.5\",\"1.0\"])\n",
    "g1.axes[2,0].set_yticklabels([r\"-$\\pi$\",r\"-$\\pi/2$\",\"0\",r\"$\\pi/2$\",\"$\\pi$\"])\n",
    "g1.axes[3,0].set_yticklabels([r\"-$\\pi$\",r\"-$\\pi/2$\",\"0\",r\"$\\pi/2$\",\"$\\pi$\"])\n",
    "g1.axes[3,0].set_xticklabels([\"0\",\"0.5\",\"1\",\"1.5\"])\n",
    "g1.axes[3,1].set_xticklabels([\"0\",\"0.5\",\"1\"])\n",
    "g1.axes[3,2].set_xticklabels([r\"-$\\pi$\",r\"-$\\pi/2$\",\"0\",r\"$\\pi/2$\",\"$\\pi$\"])\n",
    "g1.axes[3,3].set_xticklabels([r\"-$\\pi$\",r\"-$\\pi/2$\",\"0\",r\"$\\pi/2$\",\"$\\pi$\"])\n",
    "g1.axes[0,1].set_visible(False)\n",
    "g1.axes[0,2].set_visible(False)\n",
    "g1.axes[0,3].set_visible(False)\n",
    "g1.axes[1,2].set_visible(False)\n",
    "g1.axes[1,3].set_visible(False)\n",
    "g1.axes[2,3].set_visible(False)\n",
    "plt.savefig(\"Fig/Macrocycle/poly_two_seven.pdf\",dpi=150, bbox_inches=\"tight\")\n",
    "plt.show()"
   ]
  },
  {
   "cell_type": "code",
   "execution_count": null,
   "metadata": {},
   "outputs": [],
   "source": [
    "# Eight\n",
    "eight = pd.read_csv(\"eight.csv\")"
   ]
  },
  {
   "cell_type": "code",
   "execution_count": null,
   "metadata": {},
   "outputs": [],
   "source": [
    "eight[[\"q2\",\"q3\",\"q4\",\"phi2\",\"phi3\"]]"
   ]
  },
  {
   "cell_type": "code",
   "execution_count": null,
   "metadata": {
    "scrolled": false
   },
   "outputs": [],
   "source": [
    "g1 = sns.pairplot(six1.iloc[a2][[\"q3\",\"phi2\"]], plot_kws=dict(s=15),diag_kws=dict(bins=50))\n",
    "g1.axes[0,0].set_ylabel(r\"$q_{3}$\",rotation=0,size=15)\n",
    "g1.axes[1,0].set_xlabel(r\"$q_{3}$\",rotation=0,size=15)\n",
    "g1.axes[1,0].set_ylabel(r\"$\\phi_{2}$\",rotation=0,size=15)\n",
    "g1.axes[1,1].set_xlabel(r\"$\\phi_{2}$\",rotation=0,size=15)\n",
    "g1.axes[0,0].set_xlim(-0.6,0.6)\n",
    "g1.axes[0,0].set_xticks([-0.6,-0.4,-0.2,0,0.2,0.4,0.6])\n",
    "g1.axes[0,0].set_ylim(-0.6,0.6)\n",
    "g1.axes[0,1].set_ylim(-0.6,0.6)\n",
    "g1.axes[1,0].set_yticks([-0.6,-0.4,-0.2,0,0.2,0.4,0.6])\n",
    "g1.axes[0,1].set_xlim(-np.pi,np.pi)\n",
    "g1.axes[1,0].set_xlim(-0.6,0.6)\n",
    "g1.axes[1,0].set_ylim(-np.pi,np.pi)\n",
    "g1.axes[1,0].set_xticks([-0.6,-0.4,-0.2,0,0.2,0.4,0.6])\n",
    "g1.axes[1,0].set_yticks([-np.pi,-np.pi/2,0,np.pi/2,np.pi])\n",
    "g1.axes[1,0].set_yticklabels([r\"-$\\pi$\",r\"-$\\pi/2$\",\"0\",r\"$\\pi/2$\",\"$\\pi$\"])\n",
    "g1.axes[1,1].set_xlim(-np.pi,np.pi)\n",
    "g1.axes[1,1].set_ylim(-np.pi,np.pi)\n",
    "g1.axes[1,1].set_xticks([-np.pi,-np.pi/2,0,np.pi/2,np.pi])\n",
    "g1.axes[1,1].set_xticklabels([r\"-$\\pi$\",r\"-$\\pi/2$\",\"0\",r\"$\\pi/2$\",\"$\\pi$\"])\n",
    "g1.axes[0,1].set_visible(False)\n",
    "plt.savefig(\"Fig/Macrocycle/six_one_M_db.pdf\",dpi=150, bbox_inches=\"tight\")\n",
    "plt.show()"
   ]
  },
  {
   "cell_type": "code",
   "execution_count": null,
   "metadata": {
    "scrolled": false
   },
   "outputs": [],
   "source": [
    "g1 = sns.pairplot(six2.iloc[b2][[\"q3\",\"phi2\"]], plot_kws=dict(s=15),diag_kws=dict(bins=50))\n",
    "g1.axes[0,0].set_ylabel(r\"$q_{3}$\",rotation=0,size=15)\n",
    "g1.axes[1,0].set_xlabel(r\"$q_{3}$\",rotation=0,size=15)\n",
    "g1.axes[1,0].set_ylabel(r\"$\\phi_{2}$\",rotation=0,size=15)\n",
    "g1.axes[1,1].set_xlabel(r\"$\\phi_{2}$\",rotation=0,size=15)\n",
    "g1.axes[0,0].set_xlim(-0.6,0.6)\n",
    "g1.axes[0,0].set_xticks([-0.6,-0.4,-0.2,0,0.2,0.4,0.6])\n",
    "g1.axes[0,0].set_ylim(-0.6,0.6)\n",
    "g1.axes[0,1].set_ylim(-0.6,0.6)\n",
    "g1.axes[1,0].set_yticks([-0.6,-0.4,-0.2,0,0.2,0.4,0.6])\n",
    "g1.axes[0,1].set_xlim(-np.pi,np.pi)\n",
    "g1.axes[1,0].set_xlim(-0.6,0.6)\n",
    "g1.axes[1,0].set_ylim(-np.pi,np.pi)\n",
    "g1.axes[1,0].set_xticks([-0.6,-0.4,-0.2,0,0.2,0.4,0.6])\n",
    "g1.axes[1,0].set_yticks([-np.pi,-np.pi/2,0,np.pi/2,np.pi])\n",
    "g1.axes[1,0].set_yticklabels([r\"-$\\pi$\",r\"-$\\pi/2$\",\"0\",r\"$\\pi/2$\",\"$\\pi$\"])\n",
    "g1.axes[1,1].set_xlim(-np.pi,np.pi)\n",
    "g1.axes[1,1].set_ylim(-np.pi,np.pi)\n",
    "g1.axes[1,1].set_xticks([-np.pi,-np.pi/2,0,np.pi/2,np.pi])\n",
    "g1.axes[1,1].set_xticklabels([r\"-$\\pi$\",r\"-$\\pi/2$\",\"0\",r\"$\\pi/2$\",\"$\\pi$\"])\n",
    "g1.axes[0,1].set_visible(False)\n",
    "plt.savefig(\"Fig/Macrocycle/six_one_BP_db.pdf\",dpi=150, bbox_inches=\"tight\")\n",
    "plt.show()"
   ]
  },
  {
   "cell_type": "code",
   "execution_count": null,
   "metadata": {},
   "outputs": [],
   "source": [
    "qq1 = six1.iloc[a2][np.abs(six1.iloc[a2][\"q3\"])<0.03].reset_index()\n",
    "qq2 = six2.iloc[b2][np.abs(six2.iloc[b2][\"q3\"])<0.03].reset_index()"
   ]
  },
  {
   "cell_type": "code",
   "execution_count": null,
   "metadata": {},
   "outputs": [],
   "source": [
    "q = six2.iloc[b2].reset_index()"
   ]
  },
  {
   "cell_type": "code",
   "execution_count": null,
   "metadata": {},
   "outputs": [],
   "source": [
    "k = []\n",
    "for item in q[[\"B0\",\"B1\",\"B2\",\"B3\",\"B4\",\"B5\"]].values:\n",
    "    k.append(sum([x==1.5 for x in item])!=2)\n",
    "     "
   ]
  },
  {
   "cell_type": "code",
   "execution_count": null,
   "metadata": {},
   "outputs": [],
   "source": [
    "five"
   ]
  },
  {
   "cell_type": "code",
   "execution_count": null,
   "metadata": {},
   "outputs": [],
   "source": [
    "g1 = sns.pairplot(q.iloc[k][[\"q3\",\"phi2\"]],plot_kws=dict(s=15), diag_kws=dict(bins=50))\n",
    "g1.axes[0,0].set_ylabel(r\"$q_{3}$\",rotation=0,size=15)\n",
    "g1.axes[1,0].set_xlabel(r\"$q_{3}$\",rotation=0,size=15)\n",
    "g1.axes[1,0].set_ylabel(r\"$\\phi_{2}$\",rotation=0,size=15)\n",
    "g1.axes[1,1].set_xlabel(r\"$\\phi_{2}$\",rotation=0,size=15)\n",
    "g1.axes[0,0].set_xlim(-0.6,0.6)\n",
    "g1.axes[0,0].set_xticks([-0.6,-0.4,-0.2,0,0.2,0.4,0.6])\n",
    "g1.axes[0,0].set_ylim(-0.6,0.6)\n",
    "g1.axes[0,1].set_ylim(-0.6,0.6)\n",
    "g1.axes[1,0].set_yticks([-0.6,-0.4,-0.2,0,0.2,0.4,0.6])\n",
    "g1.axes[0,1].set_xlim(-np.pi,np.pi)\n",
    "g1.axes[1,0].set_xlim(-0.6,0.6)\n",
    "g1.axes[1,0].set_ylim(-np.pi,np.pi)\n",
    "g1.axes[1,0].set_xticks([-0.6,-0.4,-0.2,0,0.2,0.4,0.6])\n",
    "g1.axes[1,0].set_yticks([-np.pi,-np.pi/2,0,np.pi/2,np.pi])\n",
    "g1.axes[1,0].set_yticklabels([r\"-$\\pi$\",r\"-$\\pi/2$\",\"0\",r\"$\\pi/2$\",\"$\\pi$\"])\n",
    "g1.axes[1,1].set_xlim(-np.pi,np.pi)\n",
    "g1.axes[1,1].set_ylim(-np.pi,np.pi)\n",
    "g1.axes[1,1].set_xticks([-np.pi,-np.pi/2,0,np.pi/2,np.pi])\n",
    "g1.axes[1,1].set_xticklabels([r\"-$\\pi$\",r\"-$\\pi/2$\",\"0\",r\"$\\pi/2$\",\"$\\pi$\"])\n",
    "g1.axes[0,1].set_visible(False)\n",
    "plt.show()"
   ]
  },
  {
   "cell_type": "code",
   "execution_count": null,
   "metadata": {},
   "outputs": [],
   "source": [
    "ss = []\n",
    "for idx, item in enumerate(qq[[\"B0\",\"B1\",\"B2\",\"B3\",\"B4\",\"B5\"]].values):\n",
    "    if sum([x==1.5 for x in item])!=2:\n",
    "        ss.append(idx)\n",
    "        "
   ]
  },
  {
   "cell_type": "code",
   "execution_count": null,
   "metadata": {},
   "outputs": [],
   "source": [
    "sns.pairplot(qq.iloc[ss][[\"q2\",\"q3\",\"phi2\"]])"
   ]
  },
  {
   "cell_type": "code",
   "execution_count": null,
   "metadata": {},
   "outputs": [],
   "source": [
    "qq.iloc[ss]"
   ]
  },
  {
   "cell_type": "code",
   "execution_count": null,
   "metadata": {},
   "outputs": [],
   "source": []
  },
  {
   "cell_type": "code",
   "execution_count": null,
   "metadata": {},
   "outputs": [],
   "source": [
    "np.unique(five[\"idx\"]).shape"
   ]
  },
  {
   "cell_type": "code",
   "execution_count": null,
   "metadata": {},
   "outputs": [],
   "source": [
    "mol = Chem.MolFromSmiles(\"C1CCCCC12CCCCCC2\")"
   ]
  },
  {
   "cell_type": "code",
   "execution_count": null,
   "metadata": {},
   "outputs": [],
   "source": [
    "RA.GetRingElement(mol, [5,4,3,2,1])"
   ]
  },
  {
   "cell_type": "code",
   "execution_count": null,
   "metadata": {},
   "outputs": [],
   "source": [
    "ringatom = Chem.MolFromSmarts(\"[r]\")"
   ]
  },
  {
   "cell_type": "code",
   "execution_count": null,
   "metadata": {},
   "outputs": [],
   "source": [
    "def GetRingAtomType(mol, ringidx):\n",
    "    \"\"\"\n",
    "    Input:\n",
    "    \n",
    "    mol: rdMol\n",
    "    \n",
    "    ringidx: list\n",
    "    \n",
    "    Return:\n",
    "    \n",
    "    outcome: list\n",
    "    \n",
    "    \"\"\"\n",
    "    ringatom = Chem.MolFromSmarts(\"[R]\")\n",
    "    monocyclicatom = Chem.MolFromSmarts(\"[R1]\")\n",
    "    bicyclicatom = Chem.MolFromSmarts(\"[R2]\")\n",
    "    ringatom_match = [a for x in mol.GetSubstructMatches(ringatom) for a in x]\n",
    "    monocyclic_match = [a for x in mol.GetSubstructMatches(monocyclicatom) for a in x]\n",
    "    bicyclic_match = [a for x in mol.GetSubstructMatches(bicyclicatom) for a in x]\n",
    "    outcome = []\n",
    "    for i in ringidx:\n",
    "        if (i in ringatom_match) and (i in monocyclic_match):\n",
    "            outcome.append(\"M\")\n",
    "        elif (i in ringatom_match) and (i in bicyclic_match):\n",
    "            outcome.append(\"B\")\n",
    "        elif (i in ringatom_match) and (i not in monocyclic_match) and (i not in bicyclic_match):\n",
    "            outcome.append(\"P\")\n",
    "        else:\n",
    "            outcome.append(\"NA\")\n",
    "    return outcome"
   ]
  },
  {
   "cell_type": "code",
   "execution_count": null,
   "metadata": {},
   "outputs": [],
   "source": [
    "list(range(2,2))"
   ]
  },
  {
   "cell_type": "code",
   "execution_count": null,
   "metadata": {},
   "outputs": [],
   "source": [
    "[item[1] for item in RA.GetRingBonds(mol, range(6))]"
   ]
  },
  {
   "cell_type": "code",
   "execution_count": null,
   "metadata": {},
   "outputs": [],
   "source": [
    "GetRingAtomType(mol, list(range(8)))"
   ]
  },
  {
   "cell_type": "code",
   "execution_count": null,
   "metadata": {},
   "outputs": [],
   "source": [
    "mol.GetSubstructMatches(ringatom)"
   ]
  },
  {
   "cell_type": "code",
   "execution_count": null,
   "metadata": {},
   "outputs": [],
   "source": [
    "mol.GetSubstructMatches(monocyclicatom)"
   ]
  },
  {
   "cell_type": "code",
   "execution_count": null,
   "metadata": {},
   "outputs": [],
   "source": [
    "mol.GetSubstructMatches(bicyclicatom)"
   ]
  },
  {
   "cell_type": "code",
   "execution_count": null,
   "metadata": {},
   "outputs": [],
   "source": []
  },
  {
   "cell_type": "code",
   "execution_count": null,
   "metadata": {},
   "outputs": [],
   "source": [
    "aromatic = []\n",
    "aliphatic = []\n",
    "for row in five.iterrows():\n",
    "    check = [x==1.5 for x in eval(row[1][2])]\n",
    "    if all(check):\n",
    "        aromatic.append(row[1])\n",
    "    else:\n",
    "        aliphatic.append(row[1])"
   ]
  },
  {
   "cell_type": "code",
   "execution_count": null,
   "metadata": {},
   "outputs": [],
   "source": [
    "s1 = []\n",
    "s2 = []\n",
    "s3 = []\n",
    "for item in aliphatic:\n",
    "    check = sum(eval(item[2]))\n",
    "    if check==5.5:\n",
    "        tmp = eval(item[1])\n",
    "        s1.append((tmp[0][0],tmp[1][0]))\n",
    "    elif check==6:\n",
    "        tmp = eval(item[1])\n",
    "        s2.append((tmp[0][0],tmp[1][0]))\n",
    "    elif check==5:\n",
    "        tmp = eval(item[1])\n",
    "        s3.append((tmp[0][0],tmp[1][0]))"
   ]
  },
  {
   "cell_type": "code",
   "execution_count": null,
   "metadata": {},
   "outputs": [],
   "source": [
    "pd.DataFrame(s1)[0].hist(bins=50)\n",
    "pd.DataFrame(s2)[0].hist(bins=50)\n",
    "pd.DataFrame(s3)[0].hist(bins=50,alpha=.2)"
   ]
  },
  {
   "cell_type": "code",
   "execution_count": null,
   "metadata": {},
   "outputs": [],
   "source": [
    "#pd.DataFrame(s1)[1].hist(bins=50)\n",
    "#pd.DataFrame(s2)[1].hist(bins=50)\n",
    "pd.DataFrame(s3)[0].hist(bins=100)"
   ]
  },
  {
   "cell_type": "code",
   "execution_count": null,
   "metadata": {},
   "outputs": [],
   "source": [
    "sns.pairplot(pd.DataFrame(s1),plot_kws=dict(s=5), diag_kws=dict(bins=50))"
   ]
  },
  {
   "cell_type": "code",
   "execution_count": null,
   "metadata": {},
   "outputs": [],
   "source": [
    "sns.pairplot(pd.DataFrame(single),plot_kws=dict(s=5), diag_kws=dict(bins=50))"
   ]
  },
  {
   "cell_type": "code",
   "execution_count": null,
   "metadata": {},
   "outputs": [],
   "source": [
    "single"
   ]
  },
  {
   "cell_type": "markdown",
   "metadata": {},
   "source": [
    "# Substituents Orientation"
   ]
  },
  {
   "cell_type": "code",
   "execution_count": null,
   "metadata": {},
   "outputs": [],
   "source": []
  },
  {
   "cell_type": "code",
   "execution_count": null,
   "metadata": {},
   "outputs": [],
   "source": [
    "fluorine = pd.read_csv(\"data/halogen_f.csv\")\n",
    "chlorine = pd.read_csv(\"data/halogen_cl.csv\")\n",
    "bromine = pd.read_csv(\"data/halogen_br.csv\")\n",
    "iodine = pd.read_csv(\"data/halogen_i.csv\")\n",
    "amine0 = pd.read_csv(\"data/amine_0.csv\")\n",
    "amine1 = pd.read_csv(\"data/amine_1.csv\")\n",
    "amine2 = pd.read_csv(\"data/amine_2.csv\")\n",
    "alkoxy = pd.read_csv(\"data/alkoxy.csv\")\n",
    "hydroxyl = pd.read_csv(\"data/hydroxyl.csv\")\n",
    "methyl = pd.read_csv(\"data/methyl.csv\")\n",
    "ketone = pd.read_csv(\"data/ketone.csv\")\n",
    "carboxylicacid_0 = pd.read_csv(\"data/carboxylicacid_0.csv\")\n",
    "carboxylicacid_1 = pd.read_csv(\"data/carboxylicacid_1.csv\")\n",
    "carboxylicacid_2 = pd.read_csv(\"data/carboxylicacid_2.csv\")\n",
    "carbonyl = pd.read_csv(\"data/carbonyl.csv\")"
   ]
  },
  {
   "cell_type": "code",
   "execution_count": null,
   "metadata": {},
   "outputs": [],
   "source": [
    "# Substituents\n",
    "aliphatic = [len(aliphatic_fluorine),len(aliphatic_chlorine),len(aliphatic_bromine), len(aliphatic_iodine), \n",
    "             len(aliphatic_alkoxy), len(aliphatic_hydroxyl), len(aliphatic_amine0),len(aliphatic_amine1)\n",
    "             ,len(aliphatic_amine2), len(aliphatic_methyl), len(aliphatic_ketone), len(aliphatic_carbonyl), len(aliphatic_carboxylicacid0),\n",
    "            len(aliphatic_carboxylicacid1)]\n",
    "aromatic = [len(aromatic_fluorine),len(aromatic_chlorine),len(aromatic_bromine), len(aromatic_iodine), \n",
    "           len(aromatic_alkoxy), len(aromatic_hydroxyl), len(aromatic_amine0), len(aromatic_amine1),\n",
    "            len(aromatic_amine2), len(aromatic_methyl), len(aromatic_ketone), len(aromatic_carbonyl), len(aromatic_carboxylicacid0),\n",
    "           len(aromatic_carboxylicacid1)]\n",
    "types = [\"aliphatic\"]*len(aliphatic) + [\"aromatic\"]*len(aromatic)\n",
    "name = [\"Fluorine\",\"Chlorine\",\"Bromine\",\"Iodine\",\"Alkoxy\",\"Hydroxyl\",\"Tertiary Amine\",\"Secondary Amine\",\"Primary Amine\", \n",
    "        \"Methyl\", \"Ketone\", \"Carbonyl\",\"Carboxylic Acid\", \"Carboxylic\"]\n",
    "\n",
    "dataframe = pd.DataFrame({\"Types\":types,\"Count\":aliphatic+aromatic, \"Name\":name*2})\n",
    "\n",
    "sns.barplot(x=\"Name\",y=\"Count\", data=dataframe, hue=\"Types\")\n",
    "plt.yscale(\"log\")\n",
    "plt.xticks(range(len(name)), name, rotation='vertical')\n",
    "plt.xlabel(\"Substituents\",size=15)\n",
    "plt.ylabel(\"Count\",size=15)\n",
    "plt.legend()\n",
    "plt.show()"
   ]
  },
  {
   "cell_type": "code",
   "execution_count": null,
   "metadata": {},
   "outputs": [],
   "source": [
    "aromatic_fluorine = fluorine[fluorine[\"aromatic\"]==True]\n",
    "aliphatic_fluorine = fluorine[fluorine[\"aromatic\"]==False]\n",
    "\n",
    "aromatic_chlorine = chlorine[chlorine[\"aromatic\"]==True]\n",
    "aliphatic_chlorine = chlorine[chlorine[\"aromatic\"]==False]\n",
    "\n",
    "aromatic_bromine = bromine[bromine[\"aromatic\"]==True]\n",
    "aliphatic_bromine = bromine[bromine[\"aromatic\"]==False]\n",
    "\n",
    "aromatic_iodine = iodine[iodine[\"aromatic\"]==True]\n",
    "aliphatic_iodine = iodine[iodine[\"aromatic\"]==False]\n",
    "\n",
    "aromatic_methyl = methyl[methyl[\"aromatic\"]==True]\n",
    "aliphatic_methyl = methyl[methyl[\"aromatic\"]==False]\n",
    "\n",
    "aromatic_alkoxy = alkoxy[alkoxy[\"aromatic\"]==True]\n",
    "aliphatic_alkoxy = alkoxy[alkoxy[\"aromatic\"]==False]\n",
    "\n",
    "aromatic_hydroxyl = hydroxyl[hydroxyl[\"aromatic\"]==True]\n",
    "aliphatic_hydroxyl = hydroxyl[hydroxyl[\"aromatic\"]==False]\n",
    "\n",
    "aromatic_amine0 = amine0[amine0[\"aromatic\"]==True]\n",
    "aliphatic_amine0 = amine0[amine0[\"aromatic\"]==False]\n",
    "\n",
    "aromatic_amine1 = amine1[amine1[\"aromatic\"]==True]\n",
    "aliphatic_amine1 = amine1[amine1[\"aromatic\"]==False]\n",
    "\n",
    "aromatic_amine2 = amine2[amine2[\"aromatic\"]==True]\n",
    "aliphatic_amine2 = amine2[amine2[\"aromatic\"]==False]\n",
    "\n",
    "aromatic_ketone = ketone[ketone[\"aromatic\"]==True]\n",
    "aliphatic_ketone = ketone[ketone[\"aromatic\"]==False]\n",
    "\n",
    "aromatic_carbonyl = carbonyl[carbonyl[\"aromatic\"]==True]\n",
    "aliphatic_carbonyl = carbonyl[carbonyl[\"aromatic\"]==False]\n",
    "\n",
    "aromatic_carboxylicacid0 = carboxylicacid_0[carboxylicacid_0[\"aromatic\"]==True]\n",
    "aliphatic_carboxylicacid0 = carboxylicacid_0[carboxylicacid_0[\"aromatic\"]==False]\n",
    "\n",
    "aromatic_carboxylicacid1 = carboxylicacid_1[carboxylicacid_1[\"aromatic\"]==True]\n",
    "aliphatic_carboxylicacid1 = carboxylicacid_1[carboxylicacid_1[\"aromatic\"]==False]"
   ]
  },
  {
   "cell_type": "code",
   "execution_count": null,
   "metadata": {},
   "outputs": [],
   "source": [
    "plt.hist(aromatic_fluorine[\"alpha\"],bins=50)\n",
    "plt.xlim(0,np.pi)\n",
    "plt.xticks([0,np.pi/4, np.pi/2, 3*np.pi/4,np.pi],labels=[r\"0\",r\"$\\pi/4$\",r\"$\\pi/2$\",r\"$3\\pi/4$\",r\"$\\pi$\"])\n",
    "plt.ylim(0,1800)\n",
    "plt.xlabel(r\"$\\alpha$\",size=15)\n",
    "plt.ylabel(\"Count\",size=15)\n",
    "plt.savefig(\"aromatic_flurine_alpha.pdf\",dpi=150,bbox_inches=\"tight\")\n",
    "plt.show()\n",
    "\n",
    "plt.hist(aromatic_chlorine[\"alpha\"],bins=50)\n",
    "plt.xlim(0,np.pi)\n",
    "plt.xticks([0,np.pi/4, np.pi/2, 3*np.pi/4,np.pi],labels=[r\"0\",r\"$\\pi/4$\",r\"$\\pi/2$\",r\"$3\\pi/4$\",r\"$\\pi$\"])\n",
    "plt.ylim(0,6000)\n",
    "plt.xlabel(r\"$\\alpha$\",size=15)\n",
    "plt.ylabel(\"Count\",size=15)\n",
    "plt.savefig(\"aromatic_chlorine_alpha.pdf\",dpi=150,bbox_inches=\"tight\")\n",
    "plt.show()\n",
    "\n",
    "plt.hist(aromatic_bromine[\"alpha\"],bins=50)\n",
    "plt.xlim(0,np.pi)\n",
    "plt.xticks([0,np.pi/4, np.pi/2, 3*np.pi/4,np.pi],labels=[r\"0\",r\"$\\pi/4$\",r\"$\\pi/2$\",r\"$3\\pi/4$\",r\"$\\pi$\"])\n",
    "plt.ylim(0,3000)\n",
    "plt.xlabel(r\"$\\alpha$\",size=15)\n",
    "plt.ylabel(\"Count\",size=15)\n",
    "plt.savefig(\"aromatic_bromine_alpha.pdf\",dpi=150,bbox_inches=\"tight\")\n",
    "plt.show()\n",
    "\n",
    "plt.hist(aromatic_iodine[\"alpha\"],bins=50)\n",
    "plt.xlim(0,np.pi)\n",
    "plt.xticks([0,np.pi/4, np.pi/2, 3*np.pi/4,np.pi],labels=[r\"0\",r\"$\\pi/4$\",r\"$\\pi/2$\",r\"$3\\pi/4$\",r\"$\\pi$\"])\n",
    "plt.ylim(0,600)\n",
    "plt.xlabel(r\"$\\alpha$\",size=15)\n",
    "plt.ylabel(\"Count\",size=15)\n",
    "plt.savefig(\"aromatic_iodine_alpha.pdf\",dpi=150,bbox_inches=\"tight\")\n",
    "plt.show()"
   ]
  },
  {
   "cell_type": "code",
   "execution_count": null,
   "metadata": {},
   "outputs": [],
   "source": [
    "plt.hist(aromatic_fluorine[\"beta\"],bins=30)\n",
    "plt.xlim(-np.pi,np.pi)\n",
    "plt.xticks([-np.pi, -np.pi/2, 0, np.pi/2, np.pi],labels=[r\"$-\\pi$\",r\"$-\\pi/2$\",r\"$0$\",r\"$\\pi/2$\",r\"$\\pi$\"])\n",
    "plt.ylim(0,1250)\n",
    "plt.xlabel(r\"$\\beta$\",size=15)\n",
    "plt.ylabel(\"Count\",size=15)\n",
    "plt.savefig(\"aromatic_fluorine_beta.pdf\",dpi=150,bbox_inches=\"tight\")\n",
    "plt.show()\n",
    "\n",
    "plt.hist(aromatic_chlorine[\"beta\"],bins=30)\n",
    "plt.xlim(-np.pi,np.pi)\n",
    "plt.xticks([-np.pi, -np.pi/2, 0, np.pi/2, np.pi],labels=[r\"$-\\pi$\",r\"$-\\pi/2$\",r\"$0$\",r\"$\\pi/2$\",r\"$\\pi$\"])\n",
    "plt.ylim(0,1200)\n",
    "plt.xlabel(r\"$\\beta$\",size=15)\n",
    "plt.ylabel(\"Count\",size=15)\n",
    "plt.savefig(\"aromatic_chlorine_beta.pdf\",dpi=150,bbox_inches=\"tight\")\n",
    "plt.show()\n",
    "\n",
    "plt.hist(aromatic_bromine[\"beta\"],bins=30)\n",
    "plt.xlim(-np.pi,np.pi)\n",
    "plt.xticks([-np.pi, -np.pi/2, 0, np.pi/2, np.pi],labels=[r\"$-\\pi$\",r\"$-\\pi/2$\",r\"$0$\",r\"$\\pi/2$\",r\"$\\pi$\"])\n",
    "plt.ylim(0,1200)\n",
    "plt.xlabel(r\"$\\beta$\",size=15)\n",
    "plt.ylabel(\"Count\",size=15)\n",
    "plt.savefig(\"aromatic_bromine_beta.pdf\",dpi=150,bbox_inches=\"tight\")\n",
    "plt.show()\n",
    "\n",
    "plt.hist(aromatic_iodine[\"beta\"],bins=30)\n",
    "plt.xlim(-np.pi,np.pi)\n",
    "plt.xticks([-np.pi, -np.pi/2, 0, np.pi/2, np.pi],labels=[r\"$-\\pi$\",r\"$-\\pi/2$\",r\"$0$\",r\"$\\pi/2$\",r\"$\\pi$\"])\n",
    "plt.ylim(0,500)\n",
    "plt.xlabel(r\"$\\beta$\",size=15)\n",
    "plt.ylabel(\"Count\",size=15)\n",
    "plt.savefig(\"aromatic_iodine_beta.pdf\",dpi=150,bbox_inches=\"tight\")\n",
    "plt.show()"
   ]
  },
  {
   "cell_type": "code",
   "execution_count": null,
   "metadata": {},
   "outputs": [],
   "source": [
    "plt.hist(aliphatic_fluorine[\"alpha\"],bins=50)\n",
    "plt.xlim(0,np.pi)\n",
    "plt.xticks([0,np.pi/4, np.pi/2, 3*np.pi/4,np.pi],labels=[r\"0\",r\"$\\pi/4$\",r\"$\\pi/2$\",r\"$3\\pi/4$\",r\"$\\pi$\"])\n",
    "plt.ylim(0,100)\n",
    "plt.xlabel(r\"$\\alpha$\",size=15)\n",
    "plt.ylabel(\"Count\",size=15)\n",
    "plt.savefig(\"aliphatic_fluorine_alpha.pdf\",dpi=150,bbox_inches=\"tight\")\n",
    "plt.show()\n",
    "\n",
    "plt.hist(aliphatic_chlorine[\"alpha\"],bins=50)\n",
    "plt.xlim(0,np.pi)\n",
    "plt.xticks([0,np.pi/4, np.pi/2, 3*np.pi/4,np.pi],labels=[r\"0\",r\"$\\pi/4$\",r\"$\\pi/2$\",r\"$3\\pi/4$\",r\"$\\pi$\"])\n",
    "plt.ylim(0,200)\n",
    "plt.xlabel(r\"$\\alpha$\",size=15)\n",
    "plt.ylabel(\"Count\",size=15)\n",
    "plt.savefig(\"aliphatic_chlorine_alpha.pdf\",dpi=150,bbox_inches=\"tight\")\n",
    "plt.show()\n",
    "\n",
    "plt.hist(aliphatic_bromine[\"alpha\"],bins=50)\n",
    "plt.xlim(0,np.pi)\n",
    "plt.xticks([0,np.pi/4, np.pi/2, 3*np.pi/4,np.pi],labels=[r\"0\",r\"$\\pi/4$\",r\"$\\pi/2$\",r\"$3\\pi/4$\",r\"$\\pi$\"])\n",
    "plt.ylim(0,100)\n",
    "plt.xlabel(r\"$\\alpha$\",size=15)\n",
    "plt.ylabel(\"Count\",size=15)\n",
    "plt.savefig(\"aliphatic_bromine_alpha.pdf\",dpi=150,bbox_inches=\"tight\")\n",
    "plt.show()\n",
    "\n",
    "plt.hist(aliphatic_iodine[\"alpha\"],bins=50)\n",
    "plt.xlim(0,np.pi)\n",
    "plt.xticks([0,np.pi/4, np.pi/2, 3*np.pi/4,np.pi],labels=[r\"0\",r\"$\\pi/4$\",r\"$\\pi/2$\",r\"$3\\pi/4$\",r\"$\\pi$\"])\n",
    "plt.ylim(0,50)\n",
    "plt.xlabel(r\"$\\alpha$\",size=15)\n",
    "plt.ylabel(\"Count\",size=15)\n",
    "plt.savefig(\"aliphatic_iodine_alpha.pdf\",dpi=150,bbox_inches=\"tight\")\n",
    "plt.show()"
   ]
  },
  {
   "cell_type": "code",
   "execution_count": null,
   "metadata": {},
   "outputs": [],
   "source": [
    "plt.hist(aliphatic_fluorine[\"beta\"],bins=100)\n",
    "plt.xlim(-np.pi,np.pi)\n",
    "plt.xticks([-np.pi, -np.pi/2, 0, np.pi/2, np.pi],labels=[r\"$-\\pi$\",r\"$-\\pi/2$\",r\"$0$\",r\"$\\pi/2$\",r\"$\\pi$\"])\n",
    "plt.ylim(0,500)\n",
    "plt.xlabel(r\"$\\beta$\",size=15)\n",
    "plt.ylabel(\"Count\",size=15)\n",
    "plt.savefig(\"aliphatic_fluorine_beta.pdf\",dpi=150,bbox_inches=\"tight\")\n",
    "plt.show()\n",
    "\n",
    "plt.hist(aliphatic_chlorine[\"beta\"],bins=100)\n",
    "plt.xlim(-np.pi,np.pi)\n",
    "plt.xticks([-np.pi, -np.pi/2, 0, np.pi/2, np.pi],labels=[r\"$-\\pi$\",r\"$-\\pi/2$\",r\"$0$\",r\"$\\pi/2$\",r\"$\\pi$\"])\n",
    "plt.ylim(0,400)\n",
    "plt.xlabel(r\"$\\beta$\",size=15)\n",
    "plt.ylabel(\"Count\",size=15)\n",
    "plt.savefig(\"aliphatic_chlorine_beta.pdf\",dpi=150,bbox_inches=\"tight\")\n",
    "plt.show()\n",
    "\n",
    "plt.hist(aliphatic_bromine[\"beta\"],bins=100)\n",
    "plt.xlim(-np.pi,np.pi)\n",
    "plt.xticks([-np.pi, -np.pi/2, 0, np.pi/2, np.pi],labels=[r\"-$\\pi$\",r\"$-\\pi/2$\",r\"$0$\",r\"$\\pi/2$\",r\"$\\pi$\"])\n",
    "plt.ylim(0,200)\n",
    "plt.xlabel(r\"$\\beta$\",size=15)\n",
    "plt.ylabel(\"Count\",size=15)\n",
    "plt.savefig(\"aliphatic_bromine_beta.pdf\",dpi=150,bbox_inches=\"tight\")\n",
    "plt.show()\n",
    "\n",
    "plt.hist(aliphatic_iodine[\"beta\"],bins=100)\n",
    "plt.xlim(-np.pi,np.pi)\n",
    "plt.xticks([-np.pi, -np.pi/2, 0, np.pi/2, np.pi],labels=[r\"-$\\pi$\",r\"$-\\pi/2$\",r\"$0$\",r\"$\\pi/2$\",r\"$\\pi$\"])\n",
    "plt.ylim(0,50)\n",
    "plt.xlabel(r\"$\\beta$\",size=15)\n",
    "plt.ylabel(\"Count\",size=15)\n",
    "plt.savefig(\"aliphatic_iodine_beta.pdf\",dpi=150,bbox_inches=\"tight\")\n",
    "plt.show()"
   ]
  },
  {
   "cell_type": "markdown",
   "metadata": {},
   "source": [
    "# Methyl"
   ]
  },
  {
   "cell_type": "code",
   "execution_count": null,
   "metadata": {
    "scrolled": false
   },
   "outputs": [],
   "source": [
    "plt.hist(aliphatic_methyl[\"alpha\"],bins=100)\n",
    "plt.xlim(0,np.pi)\n",
    "plt.xticks([0,np.pi/4, np.pi/2, 3*np.pi/4,np.pi],labels=[r\"0\",r\"$\\pi/4$\",r\"$\\pi/2$\",r\"$3\\pi/4$\",r\"$\\pi$\"])\n",
    "plt.ylim(0,5000)\n",
    "plt.xlabel(r\"$\\alpha$\",size=15)\n",
    "plt.ylabel(\"Count\",size=15)\n",
    "plt.savefig(\"aliphatic_methyl_alpha.pdf\",dpi=150,bbox_inches=\"tight\")\n",
    "plt.show()\n",
    "\n",
    "plt.hist(aromatic_methyl[\"alpha\"],bins=100)\n",
    "plt.xlim(0,np.pi)\n",
    "plt.xticks([0,np.pi/4, np.pi/2, 3*np.pi/4,np.pi],labels=[r\"0\",r\"$\\pi/4$\",r\"$\\pi/2$\",r\"$3\\pi/4$\",r\"$\\pi$\"])\n",
    "plt.ylim(0,25000)\n",
    "plt.xlabel(r\"$\\alpha$\",size=15)\n",
    "plt.ylabel(\"Count\",size=15)\n",
    "plt.savefig(\"aromatic_methyl_alpha.pdf\",dpi=150,bbox_inches=\"tight\")\n",
    "plt.show()\n",
    "\n",
    "plt.hist(aliphatic_methyl[\"beta\"],bins=100)\n",
    "plt.xlim(-np.pi,np.pi)\n",
    "plt.xticks([-np.pi, -np.pi/2, 0, np.pi/2, np.pi],labels=[r\"$-\\pi$\",r\"$-\\pi/2$\",r\"$0$\",r\"$\\pi/2$\",r\"$\\pi$\"])\n",
    "plt.ylim(0,18000)\n",
    "plt.xlabel(r\"$\\beta$\",size=15)\n",
    "plt.ylabel(\"Count\",size=15)\n",
    "plt.savefig(\"aliphatic_methyl_beta.pdf\",dpi=150,bbox_inches=\"tight\")\n",
    "plt.show()\n",
    "\n",
    "plt.hist(aromatic_methyl[\"beta\"],bins=100)\n",
    "plt.xlim(-np.pi,np.pi)\n",
    "plt.xticks([-np.pi, -np.pi/2, 0, np.pi/2, np.pi],labels=[r\"$-\\pi$\",r\"$-\\pi/2$\",r\"$0$\",r\"$\\pi/2$\",r\"$\\pi$\"])\n",
    "plt.ylim(0,4000)\n",
    "plt.xlabel(r\"$\\beta$\",size=15)\n",
    "plt.ylabel(\"Count\",size=15)\n",
    "plt.savefig(\"aromatic_methyl_beta.pdf\",dpi=150,bbox_inches=\"tight\")\n",
    "plt.show()"
   ]
  },
  {
   "cell_type": "markdown",
   "metadata": {},
   "source": [
    "# Alkoxy and Hydroxyl"
   ]
  },
  {
   "cell_type": "code",
   "execution_count": null,
   "metadata": {},
   "outputs": [],
   "source": [
    "plt.hist(aliphatic_alkoxy[\"alpha\"],bins=100)\n",
    "plt.xlim(0,np.pi)\n",
    "plt.xticks([0,np.pi/4, np.pi/2, 3*np.pi/4,np.pi],labels=[r\"0\",r\"$\\pi/4$\",r\"$\\pi/2$\",r\"$3\\pi/4$\",r\"$\\pi$\"])\n",
    "plt.ylim(0,800)\n",
    "plt.xlabel(r\"$\\alpha$\",size=15)\n",
    "plt.ylabel(\"Count\",size=15)\n",
    "plt.savefig(\"aliphatic_alkoxy_alpha.pdf\",dpi=150,bbox_inches=\"tight\")\n",
    "plt.show()\n",
    "\n",
    "plt.hist(aromatic_alkoxy[\"alpha\"],bins=100)\n",
    "plt.xlim(0,np.pi)\n",
    "plt.xticks([0,np.pi/4, np.pi/2, 3*np.pi/4,np.pi],labels=[r\"0\",r\"$\\pi/4$\",r\"$\\pi/2$\",r\"$3\\pi/4$\",r\"$\\pi$\"])\n",
    "plt.ylim(0,14000)\n",
    "plt.xlabel(r\"$\\alpha$\",size=15)\n",
    "plt.ylabel(\"Count\",size=15)\n",
    "plt.savefig(\"aromatic_alkoxy_alpha.pdf\",dpi=150,bbox_inches=\"tight\")\n",
    "plt.show()\n",
    "\n",
    "plt.hist(aliphatic_hydroxyl[\"alpha\"],bins=100)\n",
    "plt.xlim(0,np.pi)\n",
    "plt.xticks([0,np.pi/4, np.pi/2, 3*np.pi/4,np.pi],labels=[r\"0\",r\"$\\pi/4$\",r\"$\\pi/2$\",r\"$3\\pi/4$\",r\"$\\pi$\"])\n",
    "plt.ylim(0,2000)\n",
    "plt.xlabel(r\"$\\alpha$\",size=15)\n",
    "plt.ylabel(\"Count\",size=15)\n",
    "plt.savefig(\"aliphatic_hydroxyl_alpha.pdf\",dpi=150,bbox_inches=\"tight\")\n",
    "plt.show()\n",
    "\n",
    "plt.hist(aromatic_hydroxyl[\"alpha\"],bins=100)\n",
    "plt.xlim(0,np.pi)\n",
    "plt.xticks([0,np.pi/4, np.pi/2, 3*np.pi/4,np.pi],labels=[r\"0\",r\"$\\pi/4$\",r\"$\\pi/2$\",r\"$3\\pi/4$\",r\"$\\pi$\"])\n",
    "plt.ylim(0,8000)\n",
    "plt.xlabel(r\"$\\alpha$\",size=15)\n",
    "plt.ylabel(\"Count\",size=15)\n",
    "plt.savefig(\"aromatic_hydroxyl_alpha.pdf\",dpi=150,bbox_inches=\"tight\")\n",
    "plt.show()\n"
   ]
  },
  {
   "cell_type": "code",
   "execution_count": null,
   "metadata": {
    "scrolled": false
   },
   "outputs": [],
   "source": [
    "plt.hist(aliphatic_alkoxy[\"beta\"],bins=100)\n",
    "plt.xlim(-np.pi,np.pi)\n",
    "plt.xticks([-np.pi, -np.pi/2, 0, np.pi/2, np.pi],labels=[r\"$-\\pi$\",r\"$-\\pi/2$\",r\"$0$\",r\"$\\pi/2$\",r\"$\\pi$\"])\n",
    "plt.ylim(0,2500)\n",
    "plt.xlabel(r\"$\\beta$\",size=15)\n",
    "plt.ylabel(\"Count\",size=15)\n",
    "plt.savefig(\"aliphatic_alkoxy_beta.pdf\",dpi=150,bbox_inches=\"tight\")\n",
    "plt.show()\n",
    "\n",
    "plt.hist(aromatic_alkoxy[\"beta\"],bins=100)\n",
    "plt.xlim(-np.pi,np.pi)\n",
    "plt.xticks([-np.pi, -np.pi/2, 0, np.pi/2, np.pi],labels=[r\"$-\\pi$\",r\"$-\\pi/2$\",r\"$0$\",r\"$\\pi/2$\",r\"$\\pi$\"])\n",
    "plt.ylim(0,4500)\n",
    "plt.xlabel(r\"$\\beta$\",size=15)\n",
    "plt.ylabel(\"Count\",size=15)\n",
    "plt.savefig(\"aromatic_alkoxy_beta.pdf\",dpi=150,bbox_inches=\"tight\")\n",
    "plt.show()\n",
    "\n",
    "plt.hist(aliphatic_hydroxyl[\"beta\"],bins=100)\n",
    "plt.xlim(-np.pi,np.pi)\n",
    "plt.xticks([-np.pi, -np.pi/2, 0, np.pi/2, np.pi],labels=[r\"$-\\pi$\",r\"$-\\pi/2$\",r\"$0$\",r\"$\\pi/2$\",r\"$\\pi$\"])\n",
    "plt.ylim(0,13000)\n",
    "plt.xlabel(r\"$\\beta$\",size=15)\n",
    "plt.ylabel(\"Count\",size=15)\n",
    "plt.savefig(\"aliphatic_hydroxyl_beta.pdf\",dpi=150,bbox_inches=\"tight\")\n",
    "plt.show()\n",
    "\n",
    "plt.hist(aromatic_hydroxyl[\"beta\"],bins=100)\n",
    "plt.xlim(-np.pi,np.pi)\n",
    "plt.xticks([-np.pi, -np.pi/2, 0, np.pi/2, np.pi],labels=[r\"$-\\pi$\",r\"$-\\pi/2$\",r\"$0$\",r\"$\\pi/2$\",r\"$\\pi$\"])\n",
    "plt.ylim(0,1500)\n",
    "plt.xlabel(r\"$\\beta$\",size=15)\n",
    "plt.ylabel(\"Count\",size=15)\n",
    "plt.savefig(\"aromatic_hydroxyl_beta.pdf\",dpi=150,bbox_inches=\"tight\")\n",
    "plt.show()"
   ]
  },
  {
   "cell_type": "markdown",
   "metadata": {},
   "source": [
    "# Amine"
   ]
  },
  {
   "cell_type": "code",
   "execution_count": null,
   "metadata": {
    "scrolled": false
   },
   "outputs": [],
   "source": [
    "## Aromatic\n",
    "plt.hist(aromatic_amine0[\"alpha\"],bins=100)\n",
    "plt.xlim(0,np.pi)\n",
    "plt.xticks([0,np.pi/4, np.pi/2, 3*np.pi/4,np.pi],labels=[r\"0\",r\"$\\pi/4$\",r\"$\\pi/2$\",r\"$3\\pi/4$\",r\"$\\pi$\"])\n",
    "plt.ylim(0,7000)\n",
    "plt.xlabel(r\"$\\alpha$\",size=15)\n",
    "plt.ylabel(\"Count\",size=15)\n",
    "plt.savefig(\"aromatic_amine0_alpha.pdf\",dpi=150,bbox_inches=\"tight\")\n",
    "plt.show()\n",
    "\n",
    "plt.hist(aromatic_amine1[\"alpha\"],bins=100)\n",
    "plt.xlim(0,np.pi)\n",
    "plt.xticks([0,np.pi/4, np.pi/2, 3*np.pi/4,np.pi],labels=[r\"0\",r\"$\\pi/4$\",r\"$\\pi/2$\",r\"$3\\pi/4$\",r\"$\\pi$\"])\n",
    "plt.ylim(0,2000)\n",
    "plt.xlabel(r\"$\\alpha$\",size=15)\n",
    "plt.ylabel(\"Count\",size=15)\n",
    "plt.savefig(\"aromatic_amine1_alpha.pdf\",dpi=150,bbox_inches=\"tight\")\n",
    "plt.show()\n",
    "\n",
    "plt.hist(aromatic_amine2[\"alpha\"],bins=100)\n",
    "plt.xlim(0,np.pi)\n",
    "plt.xticks([0,np.pi/4, np.pi/2, 3*np.pi/4,np.pi],labels=[r\"0\",r\"$\\pi/4$\",r\"$\\pi/2$\",r\"$3\\pi/4$\",r\"$\\pi$\"])\n",
    "plt.ylim(0,150)\n",
    "plt.xlabel(r\"$\\alpha$\",size=15)\n",
    "plt.ylabel(\"Count\",size=15)\n",
    "plt.savefig(\"aromatic_amine2_alpha.pdf\",dpi=150,bbox_inches=\"tight\")\n",
    "plt.show()\n",
    "\n",
    "\n",
    "plt.hist(aliphatic_amine0[\"alpha\"],bins=100)\n",
    "plt.xlim(0,np.pi)\n",
    "plt.xticks([0,np.pi/4, np.pi/2, 3*np.pi/4,np.pi],labels=[r\"0\",r\"$\\pi/4$\",r\"$\\pi/2$\",r\"$3\\pi/4$\",r\"$\\pi$\"])\n",
    "plt.ylim(0,100)\n",
    "plt.xlabel(r\"$\\alpha$\",size=15)\n",
    "plt.ylabel(\"Count\",size=15)\n",
    "plt.savefig(\"aliphatic_amine0_alpha.pdf\",dpi=150,bbox_inches=\"tight\")\n",
    "plt.show()\n",
    "\n",
    "plt.hist(aliphatic_amine1[\"alpha\"],bins=100)\n",
    "plt.xlim(0,np.pi)\n",
    "plt.xticks([0,np.pi/4, np.pi/2, 3*np.pi/4,np.pi],labels=[r\"0\",r\"$\\pi/4$\",r\"$\\pi/2$\",r\"$3\\pi/4$\",r\"$\\pi$\"])\n",
    "plt.ylim(0,250)\n",
    "plt.xlabel(r\"$\\alpha$\",size=15)\n",
    "plt.ylabel(\"Count\",size=15)\n",
    "plt.savefig(\"aliphatic_amine1_alpha.pdf\",dpi=150,bbox_inches=\"tight\")\n",
    "plt.show()\n",
    "\n",
    "plt.hist(aliphatic_amine2[\"alpha\"],bins=100)\n",
    "plt.xlim(0,np.pi)\n",
    "plt.xticks([0,np.pi/4, np.pi/2, 3*np.pi/4,np.pi],labels=[r\"0\",r\"$\\pi/4$\",r\"$\\pi/2$\",r\"$3\\pi/4$\",r\"$\\pi$\"])\n",
    "plt.ylim(0,150)\n",
    "plt.xlabel(r\"$\\alpha$\",size=15)\n",
    "plt.ylabel(\"Count\",size=15)\n",
    "plt.savefig(\"aliphatic_amine2_alpha.pdf\",dpi=150,bbox_inches=\"tight\")\n",
    "plt.show()\n",
    "\n"
   ]
  },
  {
   "cell_type": "code",
   "execution_count": null,
   "metadata": {
    "scrolled": true
   },
   "outputs": [],
   "source": [
    "## Aromatic\n",
    "plt.hist(aromatic_amine0[\"beta\"],bins=100)\n",
    "plt.xlim(-np.pi,np.pi)\n",
    "plt.xticks([-np.pi, -np.pi/2, 0, np.pi/2, np.pi],labels=[r\"$-\\pi$\",r\"$-\\pi/2$\",r\"$0$\",r\"$\\pi/2$\",r\"$\\pi$\"])\n",
    "plt.ylim(0,5500)\n",
    "plt.xlabel(r\"$\\beta$\",size=15)\n",
    "plt.ylabel(\"Count\",size=15)\n",
    "plt.savefig(\"aromatic_amine0_beta.pdf\",dpi=150,bbox_inches=\"tight\")\n",
    "plt.show()\n",
    "\n",
    "plt.hist(aromatic_amine1[\"beta\"],bins=100)\n",
    "plt.xlim(-np.pi,np.pi)\n",
    "plt.xticks([-np.pi, -np.pi/2, 0, np.pi/2, np.pi],labels=[r\"$-\\pi$\",r\"$-\\pi/2$\",r\"$0$\",r\"$\\pi/2$\",r\"$\\pi$\"])\n",
    "plt.ylim(0,600)\n",
    "plt.xlabel(r\"$\\beta$\",size=15)\n",
    "plt.ylabel(\"Count\",size=15)\n",
    "plt.savefig(\"aromatic_amine1_beta.pdf\",dpi=150,bbox_inches=\"tight\")\n",
    "plt.show()\n",
    "\n",
    "plt.hist(aromatic_amine2[\"beta\"],bins=100)\n",
    "plt.xlim(-np.pi,np.pi)\n",
    "plt.xticks([-np.pi, -np.pi/2, 0, np.pi/2, np.pi],labels=[r\"$-\\pi$\",r\"$-\\pi/2$\",r\"$0$\",r\"$\\pi/2$\",r\"$\\pi$\"])\n",
    "plt.ylim(0,300)\n",
    "plt.xlabel(r\"$\\beta$\",size=15)\n",
    "plt.ylabel(\"Count\",size=15)\n",
    "plt.savefig(\"aromatic_amine2_beta.pdf\",dpi=150,bbox_inches=\"tight\")\n",
    "plt.show()\n",
    "\n",
    "## Aliphatic\n",
    "plt.hist(aliphatic_amine0[\"beta\"],bins=100)\n",
    "plt.xlim(-np.pi,np.pi)\n",
    "plt.xticks([-np.pi, -np.pi/2, 0, np.pi/2, np.pi],labels=[r\"$-\\pi$\",r\"$-\\pi/2$\",r\"$0$\",r\"$\\pi/2$\",r\"$\\pi$\"])\n",
    "plt.ylim(0,600)\n",
    "plt.xlabel(r\"$\\beta$\",size=15)\n",
    "plt.ylabel(\"Count\",size=15)\n",
    "plt.savefig(\"aliphatic_amine0_beta.pdf\",dpi=150,bbox_inches=\"tight\")\n",
    "plt.show()\n",
    "\n",
    "plt.hist(aliphatic_amine1[\"beta\"],bins=100)\n",
    "plt.xlim(-np.pi,np.pi)\n",
    "plt.xticks([-np.pi, -np.pi/2, 0, np.pi/2, np.pi],labels=[r\"$-\\pi$\",r\"$-\\pi/2$\",r\"$0$\",r\"$\\pi/2$\",r\"$\\pi$\"])\n",
    "plt.ylim(0,1500)\n",
    "plt.xlabel(r\"$\\beta$\",size=15)\n",
    "plt.ylabel(\"Count\",size=15)\n",
    "plt.savefig(\"aliphatic_amine1_beta.pdf\",dpi=150,bbox_inches=\"tight\")\n",
    "plt.show()\n",
    "\n",
    "plt.hist(aliphatic_amine2[\"beta\"],bins=100)\n",
    "plt.xlim(-np.pi,np.pi)\n",
    "plt.xticks([-np.pi, -np.pi/2, 0, np.pi/2, np.pi],labels=[r\"$-\\pi$\",r\"$-\\pi/2$\",r\"$0$\",r\"$\\pi/2$\",r\"$\\pi$\"])\n",
    "plt.ylim(0,300)\n",
    "plt.xlabel(r\"$\\beta$\",size=15)\n",
    "plt.ylabel(\"Count\",size=15)\n",
    "plt.savefig(\"aliphatic_amine2_beta.pdf\",dpi=150,bbox_inches=\"tight\")\n",
    "plt.show()"
   ]
  },
  {
   "cell_type": "markdown",
   "metadata": {},
   "source": [
    "# Ketone"
   ]
  },
  {
   "cell_type": "code",
   "execution_count": null,
   "metadata": {},
   "outputs": [],
   "source": [
    "plt.hist(aliphatic_ketone[\"alpha\"],bins=100)\n",
    "plt.xlim(0,np.pi)\n",
    "plt.xticks([0,np.pi/4, np.pi/2, 3*np.pi/4,np.pi],labels=[r\"0\",r\"$\\pi/4$\",r\"$\\pi/2$\",r\"$3\\pi/4$\",r\"$\\pi$\"])\n",
    "plt.ylim(0,800)\n",
    "plt.xlabel(r\"$\\alpha$\",size=15)\n",
    "plt.ylabel(\"Count\",size=15)\n",
    "plt.savefig(\"aliphatic_ketone_alpha.pdf\",dpi=150,bbox_inches=\"tight\")\n",
    "plt.show()\n",
    "\n",
    "plt.hist(aromatic_ketone[\"alpha\"],bins=100)\n",
    "plt.xlim(0,np.pi)\n",
    "plt.xticks([0,np.pi/4, np.pi/2, 3*np.pi/4,np.pi],labels=[r\"0\",r\"$\\pi/4$\",r\"$\\pi/2$\",r\"$3\\pi/4$\",r\"$\\pi$\"])\n",
    "plt.ylim(0,9000)\n",
    "plt.xlabel(r\"$\\alpha$\",size=15)\n",
    "plt.ylabel(\"Count\",size=15)\n",
    "plt.savefig(\"aromatic_ketone_alpha.pdf\",dpi=150,bbox_inches=\"tight\")\n",
    "plt.show()"
   ]
  },
  {
   "cell_type": "code",
   "execution_count": null,
   "metadata": {
    "scrolled": true
   },
   "outputs": [],
   "source": [
    "plt.hist(aliphatic_ketone[\"beta\"],bins=100)\n",
    "plt.xlim(-np.pi,np.pi)\n",
    "plt.xticks([-np.pi, -np.pi/2, 0, np.pi/2, np.pi],labels=[r\"$-\\pi$\",r\"$-\\pi/2$\",r\"$0$\",r\"$\\pi/2$\",r\"$\\pi$\"])\n",
    "plt.ylim(0,5500)\n",
    "plt.xlabel(r\"$\\beta$\",size=15)\n",
    "plt.ylabel(\"Count\",size=15)\n",
    "plt.savefig(\"aliphatic_ketone_beta.pdf\",dpi=150,bbox_inches=\"tight\")\n",
    "plt.show()\n",
    "\n",
    "plt.hist(aromatic_ketone[\"beta\"],bins=100)\n",
    "plt.xlim(-np.pi,np.pi)\n",
    "plt.xticks([-np.pi, -np.pi/2, 0, np.pi/2, np.pi],labels=[r\"$-\\pi$\",r\"$-\\pi/2$\",r\"$0$\",r\"$\\pi/2$\",r\"$\\pi$\"])\n",
    "plt.ylim(0,1500)\n",
    "plt.xlabel(r\"$\\beta$\",size=15)\n",
    "plt.ylabel(\"Count\",size=15)\n",
    "plt.savefig(\"aromatic_ketone_beta.pdf\",dpi=150,bbox_inches=\"tight\")\n",
    "plt.show()"
   ]
  },
  {
   "cell_type": "markdown",
   "metadata": {},
   "source": [
    "# Carbonyl"
   ]
  },
  {
   "cell_type": "code",
   "execution_count": null,
   "metadata": {},
   "outputs": [],
   "source": [
    "plt.hist(aliphatic_carbonyl[\"alpha\"],bins=100)\n",
    "plt.xlim(0,np.pi)\n",
    "plt.xticks([0,np.pi/4, np.pi/2, 3*np.pi/4,np.pi],labels=[r\"0\",r\"$\\pi/4$\",r\"$\\pi/2$\",r\"$3\\pi/4$\",r\"$\\pi$\"])\n",
    "plt.ylim(0,10000)\n",
    "plt.xlabel(r\"$\\alpha$\",size=15)\n",
    "plt.ylabel(\"Count\",size=15)\n",
    "plt.savefig(\"aliphatic_carbonyl_alpha.pdf\",dpi=150,bbox_inches=\"tight\")\n",
    "plt.show()"
   ]
  },
  {
   "cell_type": "code",
   "execution_count": null,
   "metadata": {},
   "outputs": [],
   "source": [
    "plt.hist(aliphatic_carbonyl[\"beta\"],bins=100)\n",
    "plt.xlim(-np.pi,np.pi)\n",
    "plt.xticks([-np.pi, -np.pi/2, 0, np.pi/2, np.pi],labels=[r\"$-\\pi$\",r\"$-\\pi/2$\",r\"$0$\",r\"$\\pi/2$\",r\"$\\pi$\"])\n",
    "plt.ylim(0,35000)\n",
    "plt.xlabel(r\"$\\beta$\",size=15)\n",
    "plt.ylabel(\"Count\",size=15)\n",
    "#plt.savefig(\"aliphatic_carbonyl_beta.pdf\",dpi=150,bbox_inches=\"tight\")\n",
    "plt.show()\n"
   ]
  },
  {
   "cell_type": "code",
   "execution_count": null,
   "metadata": {},
   "outputs": [],
   "source": [
    "alkoxy = Chem.SDMolSupplier(\"molecule/f.sdf\")\n",
    "alkoxy_smarts = \"[R][F&!R]\"\n",
    "c1 = []\n",
    "for idx, mol in enumerate(alkoxy):\n",
    "    bonds = []\n",
    "    for bond in mol.GetBonds():\n",
    "        bonds.append((bond.GetBeginAtom().GetIdx(),bond.GetEndAtom().GetIdx()))\n",
    "    data = py_rdl.Calculator.get_calculated_result(bonds)\n",
    "    for urf in data.urfs:\n",
    "        rcs = data.get_relevant_cycles_for_urf(urf)\n",
    "        for rc in rcs:\n",
    "            if (len(list(rc.nodes))<20) and (len(list(rc.nodes))>4):\n",
    "                ringloop = RA.Rearrangement(mol, list(rc.nodes))\n",
    "                coord = np.array([mol.GetConformer().GetAtomPosition(atom) for atom in ringloop])\n",
    "                ox = RA.GetSubstituent(mol, list(rc.nodes), alkoxy_smarts)\n",
    "                if any(ox):\n",
    "                    for i in ox:\n",
    "                        ccoord = RA.Translate(coord)\n",
    "                        cptmp = RA.GetRingPuckerCoords(ccoord)\n",
    "                        ohpos = RA.GetRingSubstituentPosition(mol, ringloop, i)\n",
    "                        b = RA.GetRingBonds(mol, ringloop)\n",
    "                        c1.append((idx,cptmp,ohpos,b))\n"
   ]
  },
  {
   "cell_type": "code",
   "execution_count": null,
   "metadata": {},
   "outputs": [],
   "source": [
    "RA.GetRingBonds(mol)"
   ]
  },
  {
   "cell_type": "code",
   "execution_count": null,
   "metadata": {},
   "outputs": [],
   "source": [
    "mol = Chem.MolFromSmiles(\"c1ccccc1\")"
   ]
  },
  {
   "cell_type": "code",
   "execution_count": null,
   "metadata": {},
   "outputs": [],
   "source": [
    "RA.GetRingBonds(mol,list(range(6)))"
   ]
  },
  {
   "cell_type": "code",
   "execution_count": null,
   "metadata": {},
   "outputs": [],
   "source": [
    "plt.hist(mono_five.iloc[mono_single][\"q2\"],bins=50)\n",
    "plt.ylabel(\"Count\",size=15)\n",
    "plt.xlabel(r\"$q_{2}$\",size=15)\n",
    "plt.xlim(0,1)\n",
    "plt.ylim(0,1200)\n",
    "#plt.savefig(\"Fig/Macrocycle/mono_single_five_q2.pdf\",dpi=150,bbox_inches=\"tight\")\n",
    "plt.show()\n",
    "\n",
    "plt.hist(poly_five.iloc[poly_single][\"q2\"],bins=50)\n",
    "plt.ylabel(\"Count\",size=15)\n",
    "plt.xlabel(r\"$q_{2}$\",size=15)\n",
    "plt.xlim(0,1)\n",
    "plt.ylim(0,2500)\n",
    "#plt.savefig(\"Fig/Macrocycle/poly_single_five_q2.pdf\",dpi=150,bbox_inches=\"tight\")\n",
    "plt.show()\n",
    "\n",
    "plt.hist(mono_five.iloc[mono_single][\"phi2\"],bins=50)\n",
    "plt.ylabel(\"Count\",size=15)\n",
    "plt.xlabel(r\"$\\phi_{2}$\",size=15)\n",
    "plt.xlim(-np.pi,np.pi)\n",
    "plt.xticks([-np.pi,-np.pi/2,0,np.pi/2,np.pi],\n",
    "           labels=[r\"$-\\pi$\",r\"$-\\pi/2$\",r\"0\",r\"$\\pi/2$\",r\"$\\pi$\"])\n",
    "plt.ylim(0,600)\n",
    "#plt.savefig(\"Fig/Macrocycle/mono_single_five_phi2.pdf\",dpi=150,bbox_inches=\"tight\")\n",
    "plt.show()\n",
    "\n",
    "plt.hist(poly_five.iloc[poly_single][\"phi2\"],bins=50)\n",
    "plt.ylabel(\"Count\",size=15)\n",
    "plt.xlabel(r\"$\\phi_{2}$\",size=15)\n",
    "plt.xlim(-np.pi,np.pi)\n",
    "plt.xticks([-np.pi,-np.pi/2,0,np.pi/2,np.pi],\n",
    "           labels=[r\"$-\\pi$\",r\"$-\\pi/2$\",r\"0\",r\"$\\pi/2$\",r\"$\\pi$\"])\n",
    "plt.ylim(0,1400)\n",
    "#plt.savefig(\"Fig/Macrocycle/poly_single_five_phi2.pdf\",dpi=150,bbox_inches=\"tight\")\n",
    "plt.show()\n",
    "\n",
    "plt.hist(mono_five.iloc[mono_one][\"q2\"],bins=50)\n",
    "plt.ylabel(\"Count\",size=15)\n",
    "plt.xlabel(r\"$q_{2}$\",size=15)\n",
    "plt.xlim(0,1)\n",
    "plt.ylim(0,1200)\n",
    "#plt.savefig(\"Fig/Macrocycle/mono_one_five_q2.pdf\",dpi=150,bbox_inches=\"tight\")\n",
    "plt.show()\n",
    "\n",
    "plt.hist(poly_five.iloc[poly_one][\"q2\"],bins=50)\n",
    "plt.ylabel(\"Count\",size=15)\n",
    "plt.xlabel(r\"$q_{2}$\",size=15)\n",
    "plt.xlim(0,1)\n",
    "plt.ylim(0,7000)\n",
    "#plt.savefig(\"Fig/Macrocycle/poly_one_five_q2.pdf\",dpi=150,bbox_inches=\"tight\")\n",
    "plt.show()\n",
    "\n",
    "plt.hist(mono_five.iloc[mono_one][\"phi2\"],bins=50)\n",
    "plt.ylabel(\"Count\",size=15)\n",
    "plt.xlabel(r\"$\\phi_{2}$\",size=15)\n",
    "plt.xlim(-np.pi,np.pi)\n",
    "plt.xticks([-np.pi,-np.pi/2,0,np.pi/2,np.pi],\n",
    "           labels=[r\"$-\\pi$\",r\"$-\\pi/2$\",r\"0\",r\"$\\pi/2$\",r\"$\\pi$\"])\n",
    "plt.ylim(0,350)\n",
    "#plt.savefig(\"Fig/Macrocycle/mono_one_five_phi2.pdf\",dpi=150,bbox_inches=\"tight\")\n",
    "plt.show()\n",
    "\n",
    "plt.hist(poly_five.iloc[poly_one][\"phi2\"],bins=50)\n",
    "plt.ylabel(\"Count\",size=15)\n",
    "plt.xlabel(r\"$\\phi_{2}$\",size=15)\n",
    "plt.xlim(-np.pi,np.pi)\n",
    "plt.xticks([-np.pi,-np.pi/2,0,np.pi/2,np.pi],\n",
    "           labels=[r\"$-\\pi$\",r\"$-\\pi/2$\",r\"0\",r\"$\\pi/2$\",r\"$\\pi$\"])\n",
    "plt.ylim(0,3000)\n",
    "#plt.savefig(\"Fig/Macrocycle/poly_one_five_phi2.pdf\",dpi=150,bbox_inches=\"tight\")\n",
    "plt.show()\n",
    "\n",
    "plt.hist(mono_five.iloc[mono_two][\"q2\"],bins=50)\n",
    "plt.ylabel(\"Count\",size=15)\n",
    "plt.xlabel(r\"$q_{2}$\",size=15)\n",
    "plt.xlim(0,1)\n",
    "plt.ylim(0,15000)\n",
    "#plt.savefig(\"Fig/Macrocycle/mono_two_five_q2.pdf\",dpi=150,bbox_inches=\"tight\")\n",
    "plt.show()\n",
    "\n",
    "plt.hist(poly_five.iloc[poly_two][\"q2\"],bins=50)\n",
    "plt.ylabel(\"Count\",size=15)\n",
    "plt.xlabel(r\"$q_{2}$\",size=15)\n",
    "plt.xlim(0,1)\n",
    "plt.ylim(0,15000)\n",
    "#plt.savefig(\"Fig/Macrocycle/poly_two_five_q2.pdf\",dpi=150,bbox_inches=\"tight\")\n",
    "plt.show()\n",
    "\n",
    "plt.hist(mono_five.iloc[mono_two][\"phi2\"],bins=50)\n",
    "plt.ylabel(\"Count\",size=15)\n",
    "plt.xlabel(r\"$\\phi_{2}$\",size=15)\n",
    "plt.xlim(-np.pi,np.pi)\n",
    "plt.xticks([-np.pi,-np.pi/2,0,np.pi/2,np.pi],\n",
    "           labels=[r\"$-\\pi$\",r\"$-\\pi/2$\",r\"0\",r\"$\\pi/2$\",r\"$\\pi$\"])\n",
    "plt.ylim(0,450)\n",
    "#plt.savefig(\"Fig/Macrocycle/mono_two_five_phi2.pdf\",dpi=150,bbox_inches=\"tight\")\n",
    "plt.show()\n",
    "\n",
    "plt.hist(poly_five.iloc[poly_two][\"phi2\"],bins=50)\n",
    "plt.ylabel(\"Count\",size=15)\n",
    "plt.xlabel(r\"$\\phi_{2}$\",size=15)\n",
    "plt.xlim(-np.pi,np.pi)\n",
    "plt.xticks([-np.pi,-np.pi/2,0,np.pi/2,np.pi],\n",
    "           labels=[r\"$-\\pi$\",r\"$-\\pi/2$\",r\"0\",r\"$\\pi/2$\",r\"$\\pi$\"])\n",
    "plt.ylim(0,1300)\n",
    "#plt.savefig(\"Fig/Macrocycle/poly_two_five_phi2.pdf\",dpi=150,bbox_inches=\"tight\")\n",
    "plt.show()"
   ]
  }
 ],
 "metadata": {
  "kernelspec": {
   "display_name": "Python 3",
   "language": "python",
   "name": "python3"
  },
  "language_info": {
   "codemirror_mode": {
    "name": "ipython",
    "version": 3
   },
   "file_extension": ".py",
   "mimetype": "text/x-python",
   "name": "python",
   "nbconvert_exporter": "python",
   "pygments_lexer": "ipython3",
   "version": "3.5.6"
  }
 },
 "nbformat": 4,
 "nbformat_minor": 2
}
