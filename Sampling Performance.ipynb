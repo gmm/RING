{
 "cells": [
  {
   "cell_type": "code",
   "execution_count": 1,
   "metadata": {},
   "outputs": [],
   "source": [
    "import numpy as np\n",
    "from rdkit import Chem\n",
    "from rdkit.Chem.rdMolAlign import GetBestRMS\n",
    "from rdkit.Chem.TorsionFingerprints import GetTFDBetweenMolecules"
   ]
  },
  {
   "cell_type": "code",
   "execution_count": 2,
   "metadata": {},
   "outputs": [],
   "source": [
    "# Reference conformation for 20 test molecules\n",
    "ref = [Chem.SDMolSupplier(\"molecule/mol_{}/gfn2.sdf\".format(x)) for x in range(1,21)]\n",
    "# Best sample for 20 test molecules\n",
    "sample = [Chem.SDMolSupplier(\"molecule/mol_{}/best_sample.sdf\".format(x)) for x in range(1,21)]"
   ]
  },
  {
   "cell_type": "code",
   "execution_count": 3,
   "metadata": {},
   "outputs": [
    {
     "name": "stdout",
     "output_type": "stream",
     "text": [
      "RMSD:0.02  TFD:0.058\n",
      "RMSD:0.075  TFD:0.167\n",
      "RMSD:0.053  TFD:0.039\n",
      "RMSD:0.069  TFD:0.013\n",
      "RMSD:0.072  TFD:0.031\n",
      "RMSD:0.057  TFD:0.063\n",
      "RMSD:0.111  TFD:0.029\n",
      "RMSD:0.165  TFD:0.049\n",
      "RMSD:0.073  TFD:0.012\n",
      "RMSD:0.066  TFD:0.067\n",
      "RMSD:0.079  TFD:0.048\n",
      "RMSD:0.088  TFD:0.015\n",
      "RMSD:0.085  TFD:0.013\n",
      "RMSD:0.115  TFD:0.055\n",
      "RMSD:0.13  TFD:0.007\n",
      "RMSD:0.053  TFD:0.003\n",
      "RMSD:0.166  TFD:0.099\n",
      "RMSD:0.09  TFD:0.09\n",
      "RMSD:0.104  TFD:0.044\n",
      "RMSD:0.168  TFD:0.05\n"
     ]
    }
   ],
   "source": [
    "rmsd = []\n",
    "tfd = []\n",
    "for i in range(20):\n",
    "    rmsdval = GetBestRMS(sample[i][0], ref[i][0])\n",
    "    tfdval = GetTFDBetweenMolecules(sample[i][0], ref[i][0])\n",
    "    rmsd.append(rmsdval)\n",
    "    tfd.append(tfdval)\n",
    "    print(\"RMSD:{}  TFD:{}\".format(round(rmsdval,3), round(tfdval,3)))"
   ]
  },
  {
   "cell_type": "code",
   "execution_count": 4,
   "metadata": {},
   "outputs": [
    {
     "name": "stdout",
     "output_type": "stream",
     "text": [
      "Avg. RMSD:0.09196316588528862\n",
      "Avg. TFD:0.047625028689387575\n"
     ]
    }
   ],
   "source": [
    "print(\"Avg. RMSD:{}\".format(np.mean(rmsd)))\n",
    "print(\"Avg. TFD:{}\".format(np.mean(tfd)))"
   ]
  }
 ],
 "metadata": {
  "kernelspec": {
   "display_name": "Python 3",
   "language": "python",
   "name": "python3"
  },
  "language_info": {
   "codemirror_mode": {
    "name": "ipython",
    "version": 3
   },
   "file_extension": ".py",
   "mimetype": "text/x-python",
   "name": "python",
   "nbconvert_exporter": "python",
   "pygments_lexer": "ipython3",
   "version": "3.5.6"
  }
 },
 "nbformat": 4,
 "nbformat_minor": 2
}
